{
 "cells": [
  {
   "cell_type": "markdown",
   "metadata": {},
   "source": [
    "\n",
    "# **Práctica 3: Transformers**\n",
    "\n",
    "- Rubén Gil Martínez\n"
   ]
  },
  {
   "cell_type": "markdown",
   "metadata": {},
   "source": [
    "**CODIFICACIÓN.**\n",
    "\n",
    "- Integer: se construye una tabla con todos los tokens considerados y se le asigna un índice entero a cada token. Luego a cada token de la secuencia se le asigna el índice correspondiente. Como las secuencias tienen tamaños diferentes, se suele configurar para que los vectores de salida tengan el tamaño de la secuencia más larga asignándose un 0 a los valores de relleno (*padding*).\n",
    "\n",
    "- Multi-hot: la codificación de salida es un vector binario cuyo tamaño es el número de tokens considerados, si un token aparece en la secuencia codificada el vector tendrá un 1 en la posición correspondiente a ese token, si no un 0. Independientemente del tamaño de la secuencia a codificar, la salida será un vector cuyo tamaño se corresponde con la longitud del vocabulario. # |V| TAMAÑO DEL VECTOR PARA CADA TOKEN\n",
    "\n",
    "- TF-IDF: es una extensión de multi-hot que en lugar de valores binarios asigna la frecuencia de aparición de un token en un conjunto de datos.\n",
    "\n",
    "\n",
    "---\n",
    "\n",
    "\n",
    "La librería Keras proporciona la clase [TextVectorization](https://keras.io/api/layers/preprocessing_layers/text/text_vectorization/) que implementa una capa para la codificación de texto.\n",
    "\n",
    "### El problema: clasificación de péptidos\n",
    "<a class='anchor' id='problema'></a>\n",
    "\n",
    "Durante esta práctica abordaremos el problema de la clasificación de fragmentos de texto. En concreto, nos centraremos en la clasificación de péptidos, secuencias de AAs, codificadas mediante caracteres de texto. Los péptidos se pueden agrupar en dos clases según presenten o no actividad antimicrobiana (AMP). Los CSV de entrada están separados entre los AMP y los no AMP, así que deberán fusionarse para construir un dataset que permita un entrenamiento supervisado.\n",
    "\n",
    "En las diferentes sesiones de esta práctica construiremos diferentes modelos para resolver este problema. El punto de partida será la arquitectura genérica MLP, utilizaremos también redes neuronales recurrentes (RNN) para estudiar la ventaja de procesar datos en forma de secuencia y finalmente implementaremos un Transformer que se ha convertido en el modelo de referencia para este tipo de datos.\n",
    "\n",
    "\n"
   ]
  },
  {
   "cell_type": "code",
   "execution_count": 1,
   "metadata": {},
   "outputs": [],
   "source": [
    "import pandas as pd\n",
    "import numpy as np\n",
    "import matplotlib.pyplot as plt\n",
    "from sklearn.model_selection import train_test_split\n",
    "import keras\n",
    "from keras import layers, Sequential, optimizers\n",
    "# CONJUNTO DE ENTRENAMIENTO DE LA CODIFICACIÓN: TODOS LAS CADENAS DE AMINOACIDOS, UTILIZAR ADAPT Y EMPLEAR PARA CODIFICAR CORRECTAMENTE CADA CARÁCTER DENTRO DE LA CADENA"
   ]
  },
  {
   "cell_type": "markdown",
   "metadata": {},
   "source": [
    "**E1:** Carga las tablas almacenadas en los CSV utilizando la librería Pandas y fusiónalas en un solo Dataframe. Después construye una lista con todos los péptidos y otra cuyos elementos sean booleanos identificando si son AMP. ¿Cuál es la secuencia más larga? ¿Cuántos AAs diferentes hay? ¿Cuál es el vocabulario del lenguaje?"
   ]
  },
  {
   "cell_type": "code",
   "execution_count": 2,
   "metadata": {},
   "outputs": [
    {
     "name": "stdout",
     "output_type": "stream",
     "text": [
      "Secuencia de aminoácidos más larga: LGKFSQTCYNSAIQGSVLTSTCERTNGGYNTSSIDLNSVIENVDGSLKWQPSNFIETCRNTQLAGSSELAAECKTRAQQFVSTKINLDDHIANIDGTLKYE\n",
      "Número de aminoácidos diferentes: 25\n",
      "Vocabulario de aminoácidos: ['A', 'B', 'C', 'D', 'E', 'F', 'G', 'H', 'I', 'K', 'L', 'M', 'N', 'O', 'P', 'Q', 'R', 'S', 'T', 'U', 'V', 'W', 'X', 'Y', 'Z']\n"
     ]
    }
   ],
   "source": [
    "# Cargamos los datasets de péptidos antimicrobianos y péptidos sin efecto antimicrobiano en dataframes\n",
    "peptidos_AM = pd.read_csv('../data/dataset_p3/veltri_dramp_cdhit_90.csv', sep=',')\n",
    "perptidos_sin_efecto_AM =  pd.read_csv('../data/dataset_p3/non_amp_ampep_cdhit90.csv', sep=',')\n",
    "\n",
    "\n",
    "\n",
    "# Fusionamos los dataframes para tener todos los péptidos en un único dataframe\n",
    "peptidos = pd.concat([peptidos_AM, perptidos_sin_efecto_AM], ignore_index=True)\n",
    "\n",
    "\n",
    "\n",
    "# Preprocesamiento y preparación de las cadenas de aminoácidos para su posterior codificación\n",
    "# Eliminación de columnas innecesarias y conversión de las secuencias de aminoácidos a mayúsculas\n",
    "peptidos.drop(columns=['Unnamed: 0'], inplace=True)\n",
    "peptidos['aa_seq'] = peptidos['aa_seq'].str.upper()\n",
    "\n",
    "\n",
    "\n",
    "# Listas con todos los péptidos y su respectiva clasificación\n",
    "PEPTIDOS =list(peptidos['aa_seq'])\n",
    "AMP = list(peptidos['AMP'])\n",
    "\n",
    "\n",
    "\n",
    "# Análisis de los péptidos\n",
    "print(f\"Secuencia de aminoácidos más larga: {PEPTIDOS[np.argmax(peptidos['aa_len'])]}\")\n",
    "AAs = \"\".join(set(\"\".join(PEPTIDOS)))\n",
    "print(f\"Número de aminoácidos diferentes: {len(AAs)}\")\n",
    "print(f\"Vocabulario de aminoácidos: {sorted(AAs)}\")"
   ]
  },
  {
   "cell_type": "markdown",
   "metadata": {},
   "source": [
    "**E2:** Divide los conjuntos de datos del E1 en dos. Uno que contenga el 80% de las secuencias para el entrenamiento supervisado y otro que contenga al resto para testear los modelos entrenados. Asegúrate que en ambos conjuntos hay una selección representativos de péptidos.\n",
    "\n",
    "**E3:** Codifica los péptidos empleando la codificación multi-hot. ¿Qué longitud tiene cada péptido codificado? **Cada péptido codificado tiene una longitud de 25, es decir, la longitud del vocabulario ya que se asocia un 1 en el índice del vector de codificación en caso de que el carácter asociado a ese índice aparezca en la secuencia y un 0 en caso contrario.**"
   ]
  },
  {
   "cell_type": "markdown",
   "metadata": {},
   "source": [
    "**DIVISIÓN DEL DATASET EN ENTRENAMIENTO Y TEST (80/20):**"
   ]
  },
  {
   "cell_type": "code",
   "execution_count": 19,
   "metadata": {},
   "outputs": [
    {
     "name": "stdout",
     "output_type": "stream",
     "text": [
      "Número de aminoácidos diferentes Entrenamiento: 25\n",
      "Vocabulario de aminoácidos Entrenamiento: ['A', 'B', 'C', 'D', 'E', 'F', 'G', 'H', 'I', 'K', 'L', 'M', 'N', 'O', 'P', 'Q', 'R', 'S', 'T', 'U', 'V', 'W', 'X', 'Y', 'Z']\n",
      "Número de aminoácidos diferentes Test: 22\n",
      "Vocabulario de aminoácidos Test: ['A', 'C', 'D', 'E', 'F', 'G', 'H', 'I', 'K', 'L', 'M', 'N', 'O', 'P', 'Q', 'R', 'S', 'T', 'V', 'W', 'X', 'Y']\n",
      "\n",
      "Partición estratificada de los datos mediante la variable objetivo:\n",
      "(array([False,  True]), array([1526, 1652]))\n",
      "(array([False,  True]), array([382, 413]))\n"
     ]
    }
   ],
   "source": [
    "X_train, X_test, y_train, y_test = train_test_split(PEPTIDOS, AMP, test_size=0.2, random_state=76, stratify=AMP)\n",
    "\n",
    "# Análisis de los péptidos para asegurarnos que se ha realizado una partición donde ambos conjuntos sean representativos\n",
    "AAs_X_train = \"\".join(set(\"\".join(X_train)))\n",
    "AAs_X_test = \"\".join(set(\"\".join(X_test)))\n",
    "\n",
    "\n",
    "print(f\"Número de aminoácidos diferentes Entrenamiento: {len(AAs_X_train)}\")\n",
    "print(f\"Vocabulario de aminoácidos Entrenamiento: {sorted(AAs_X_train)}\")\n",
    "print(f\"Número de aminoácidos diferentes Test: {len(AAs_X_test)}\")\n",
    "print(f\"Vocabulario de aminoácidos Test: {sorted(AAs_X_test)}\")\n",
    "print()\n",
    "print('Partición estratificada de los datos mediante la variable objetivo:')\n",
    "print(np.unique(y_train, return_counts=True))\n",
    "print(np.unique(y_test, return_counts=True))"
   ]
  },
  {
   "cell_type": "markdown",
   "metadata": {},
   "source": [
    "**CODIFICACIÓN MULTI-HOT DE LAS SECUENCIAS DE CARÁCTERES QUE REPRESENTAN A LOS PÉPTIDOS**"
   ]
  },
  {
   "cell_type": "code",
   "execution_count": 51,
   "metadata": {},
   "outputs": [],
   "source": [
    "from keras.layers import TextVectorization\n",
    "\n",
    "# Inicializar el vectorizador\n",
    "vectorizer = TextVectorization(\n",
    "    max_tokens=25,  # Número de aminoácidos únicos\n",
    "    output_mode='multi_hot',  # Modo de salida \n",
    "    standardize=None,  # No estandarizamos\n",
    "    split='character'  # Dividimos por caracteres(aminoácidos)\n",
    ")\n",
    "\n",
    "# Ajustar el vectorizador a las secuencias, nos ajustamos solo al conjunto de entrenamiento para evitar la exposición a datos de test\n",
    "vectorizer.adapt(X_train)\n",
    "\n",
    "# Transformamos los péptidos mediante la codificación multi-hot\n",
    "X_train_encoded = vectorizer(X_train)\n",
    "X_test_encoded = vectorizer(X_test)"
   ]
  },
  {
   "cell_type": "code",
   "execution_count": 52,
   "metadata": {},
   "outputs": [],
   "source": [
    "peptidos['Multi-Hot'] = peptidos['aa_seq'].apply(lambda x: vectorizer(x).numpy())"
   ]
  },
  {
   "cell_type": "code",
   "execution_count": 57,
   "metadata": {},
   "outputs": [
    {
     "data": {
      "text/html": [
       "<div>\n",
       "<style scoped>\n",
       "    .dataframe tbody tr th:only-of-type {\n",
       "        vertical-align: middle;\n",
       "    }\n",
       "\n",
       "    .dataframe tbody tr th {\n",
       "        vertical-align: top;\n",
       "    }\n",
       "\n",
       "    .dataframe thead th {\n",
       "        text-align: right;\n",
       "    }\n",
       "</style>\n",
       "<table border=\"1\" class=\"dataframe\">\n",
       "  <thead>\n",
       "    <tr style=\"text-align: right;\">\n",
       "      <th></th>\n",
       "      <th>aa_seq</th>\n",
       "      <th>aa_len</th>\n",
       "      <th>AMP</th>\n",
       "      <th>Multi-Hot</th>\n",
       "    </tr>\n",
       "  </thead>\n",
       "  <tbody>\n",
       "    <tr>\n",
       "      <th>0</th>\n",
       "      <td>GNGVLKTISHECNMNTWQFLFTCC</td>\n",
       "      <td>24</td>\n",
       "      <td>True</td>\n",
       "      <td>[0, 1, 1, 1, 0, 0, 1, 1, 1, 1, 1, 1, 0, 1, 1, ...</td>\n",
       "    </tr>\n",
       "    <tr>\n",
       "      <th>1</th>\n",
       "      <td>TTKNYGNGVCNSVNWCQCGNVWASCNLATGCAAWLCKLA</td>\n",
       "      <td>39</td>\n",
       "      <td>True</td>\n",
       "      <td>[0, 1, 1, 1, 1, 0, 1, 1, 0, 1, 0, 1, 0, 1, 0, ...</td>\n",
       "    </tr>\n",
       "    <tr>\n",
       "      <th>2</th>\n",
       "      <td>SNDSLWYGVGQFMGKQANCITNHPVKHMIIPGYCLSKILG</td>\n",
       "      <td>40</td>\n",
       "      <td>True</td>\n",
       "      <td>[0, 1, 1, 1, 1, 0, 1, 1, 1, 1, 0, 1, 1, 1, 1, ...</td>\n",
       "    </tr>\n",
       "    <tr>\n",
       "      <th>3</th>\n",
       "      <td>IAPIIVAGLGYLVKDAWDHSDQIISGFKKGWNGGRRK</td>\n",
       "      <td>37</td>\n",
       "      <td>True</td>\n",
       "      <td>[0, 1, 1, 1, 1, 1, 1, 1, 1, 0, 0, 0, 1, 1, 1, ...</td>\n",
       "    </tr>\n",
       "    <tr>\n",
       "      <th>4</th>\n",
       "      <td>FNRGGYNFGKSVRHVVDAIGSVAGIRGILKSIR</td>\n",
       "      <td>33</td>\n",
       "      <td>True</td>\n",
       "      <td>[0, 1, 1, 1, 1, 1, 1, 1, 1, 0, 0, 0, 0, 1, 1, ...</td>\n",
       "    </tr>\n",
       "    <tr>\n",
       "      <th>5</th>\n",
       "      <td>VFHAYSARGVRNNYKSAVGPADWVISAVRGFIHG</td>\n",
       "      <td>34</td>\n",
       "      <td>True</td>\n",
       "      <td>[0, 1, 0, 1, 1, 1, 1, 1, 1, 0, 0, 0, 1, 1, 1, ...</td>\n",
       "    </tr>\n",
       "    <tr>\n",
       "      <th>6</th>\n",
       "      <td>RRSRKNGIGYAIGYAFGAVERAVLGGSRDYNK</td>\n",
       "      <td>32</td>\n",
       "      <td>True</td>\n",
       "      <td>[0, 1, 1, 1, 1, 1, 1, 1, 1, 0, 1, 0, 0, 1, 1, ...</td>\n",
       "    </tr>\n",
       "    <tr>\n",
       "      <th>7</th>\n",
       "      <td>KGLGKLIGIDWLLGQAKDAVKQYKKDYKRWH</td>\n",
       "      <td>31</td>\n",
       "      <td>True</td>\n",
       "      <td>[0, 1, 1, 1, 1, 1, 0, 1, 1, 0, 0, 0, 0, 0, 0, ...</td>\n",
       "    </tr>\n",
       "  </tbody>\n",
       "</table>\n",
       "</div>"
      ],
      "text/plain": [
       "                                     aa_seq  aa_len   AMP  \\\n",
       "0                  GNGVLKTISHECNMNTWQFLFTCC      24  True   \n",
       "1   TTKNYGNGVCNSVNWCQCGNVWASCNLATGCAAWLCKLA      39  True   \n",
       "2  SNDSLWYGVGQFMGKQANCITNHPVKHMIIPGYCLSKILG      40  True   \n",
       "3     IAPIIVAGLGYLVKDAWDHSDQIISGFKKGWNGGRRK      37  True   \n",
       "4         FNRGGYNFGKSVRHVVDAIGSVAGIRGILKSIR      33  True   \n",
       "5        VFHAYSARGVRNNYKSAVGPADWVISAVRGFIHG      34  True   \n",
       "6          RRSRKNGIGYAIGYAFGAVERAVLGGSRDYNK      32  True   \n",
       "7           KGLGKLIGIDWLLGQAKDAVKQYKKDYKRWH      31  True   \n",
       "\n",
       "                                           Multi-Hot  \n",
       "0  [0, 1, 1, 1, 0, 0, 1, 1, 1, 1, 1, 1, 0, 1, 1, ...  \n",
       "1  [0, 1, 1, 1, 1, 0, 1, 1, 0, 1, 0, 1, 0, 1, 0, ...  \n",
       "2  [0, 1, 1, 1, 1, 0, 1, 1, 1, 1, 0, 1, 1, 1, 1, ...  \n",
       "3  [0, 1, 1, 1, 1, 1, 1, 1, 1, 0, 0, 0, 1, 1, 1, ...  \n",
       "4  [0, 1, 1, 1, 1, 1, 1, 1, 1, 0, 0, 0, 0, 1, 1, ...  \n",
       "5  [0, 1, 0, 1, 1, 1, 1, 1, 1, 0, 0, 0, 1, 1, 1, ...  \n",
       "6  [0, 1, 1, 1, 1, 1, 1, 1, 1, 0, 1, 0, 0, 1, 1, ...  \n",
       "7  [0, 1, 1, 1, 1, 1, 0, 1, 1, 0, 0, 0, 0, 0, 0, ...  "
      ]
     },
     "execution_count": 57,
     "metadata": {},
     "output_type": "execute_result"
    }
   ],
   "source": [
    "# Muestra de la correcta codificación de los péptidos \n",
    "peptidos.head(8)"
   ]
  },
  {
   "cell_type": "code",
   "execution_count": 24,
   "metadata": {},
   "outputs": [
    {
     "name": "stdout",
     "output_type": "stream",
     "text": [
      "Vocabulario de carácteres e índices asociados a cada uno: \n",
      "  {'[UNK]': 0, np.str_('K'): 1, np.str_('L'): 2, np.str_('G'): 3, np.str_('A'): 4, np.str_('R'): 5, np.str_('S'): 6, np.str_('V'): 7, np.str_('I'): 8, np.str_('C'): 9, np.str_('E'): 10, np.str_('T'): 11, np.str_('P'): 12, np.str_('N'): 13, np.str_('F'): 14, np.str_('D'): 15, np.str_('Q'): 16, np.str_('Y'): 17, np.str_('M'): 18, np.str_('H'): 19, np.str_('W'): 20, np.str_('X'): 21, np.str_('U'): 22, np.str_('O'): 23, np.str_('Z'): 24} \n",
      "\n",
      "Longitud de los péptidos codificados/longitud vectores multi-hot: 25\n"
     ]
    }
   ],
   "source": [
    "# Vocabulario de codificación\n",
    "vocab = vectorizer.get_vocabulary()\n",
    "char_indices = {char: idx for idx, char in enumerate(vocab)}\n",
    "print(\"Vocabulario de carácteres e índices asociados a cada uno: \\n \" , char_indices, \"\\n\")\n",
    "print(\"Longitud de los péptidos codificados/longitud vectores multi-hot:\", X_train_encoded.shape[1])\n"
   ]
  },
  {
   "cell_type": "markdown",
   "metadata": {},
   "source": [
    "**E4:** Basándote en la arquitectura del E4 de la Sesión 1 de la Práctica 2 (Redes Convolucionales), construye un MLP para clasificar los péptidos. ¿Cuántos parámetros a entrenar tiene? **Siguiendo la misma arquitectura, tenemos 185.857 parámetros entrenables.**\n",
    "\n",
    "**E5:** Entrena el modelo del E4 utilizando el 20% de los datos de entrenamiento para validación durante el entrenamiento. Utiliza una cantidad de épocas que produzca sobreajuste, además añade un *callback* para guardar el modelo que tenga una mayor precisión en la validación.\n",
    "\n",
    "**E6:** Testea la precisión del modelo entrenado en el E5 empleando el conjunto de test obtenido en el E2. Recuerda cargar el modelo para la mejor época. ¿Qué precisión se alcanza? **SE ALCANZA UNA PRECISIÓN DE 0.7139, NO ES MUY BUENA PERO CON LA IMPLEMENTACIÓN DE OTRAS CODIFICACIONES Y OTRAS ARQUITECTURAS QUE CAPTEN MEJOR EL CARÁCTER SECUENCIAL QUE PRESENTA ESTE PROBLEMA, CONSEGUIREMOS MEJORAR EN PRESTACIONES.**"
   ]
  },
  {
   "cell_type": "code",
   "execution_count": 44,
   "metadata": {},
   "outputs": [],
   "source": [
    "# Definimos un earling stopping para detener el entrenamiento de los modelos cuando ya no mejoren la precisión de la validación\n",
    "early_stopping = keras.callbacks.EarlyStopping(\n",
    "    monitor='val_accuracy',  # Métrica a monitorear \n",
    "    patience=50,  # Número de epochs sin mejora antes de parar\n",
    "    min_delta=0.0001,  # Pequeña mejora mínima requerida\n",
    "    restore_best_weights=True,  # Restaura los mejores pesos en lugar de los últimos\n",
    "    verbose=1  # Muestra mensaje en la consola con la época que contiene los mejores pesos\n",
    ")"
   ]
  },
  {
   "cell_type": "code",
   "execution_count": 26,
   "metadata": {},
   "outputs": [],
   "source": [
    "# Obtención del 20% de los datos de entrenamiento para validación del modelo durante el proceso de entrenamiento\n",
    "X_train_f, X_val_f, y_train_f, y_val_f = train_test_split(np.array(X_train_encoded), y_train, test_size=0.2, random_state=2025, stratify=y_train)"
   ]
  },
  {
   "cell_type": "code",
   "execution_count": null,
   "metadata": {},
   "outputs": [],
   "source": [
    "# Conversión de las etiquetas a arrays de numpy para su uso en la red neuronal\n",
    "y_train_f = np.array(y_train_f)\n",
    "y_val_f = np.array(y_val_f)\n",
    "y_test = np.array(y_test)"
   ]
  },
  {
   "cell_type": "code",
   "execution_count": null,
   "metadata": {},
   "outputs": [
    {
     "data": {
      "text/html": [
       "<pre style=\"white-space:pre;overflow-x:auto;line-height:normal;font-family:Menlo,'DejaVu Sans Mono',consolas,'Courier New',monospace\"><span style=\"font-weight: bold\">Model: \"sequential_4\"</span>\n",
       "</pre>\n"
      ],
      "text/plain": [
       "\u001b[1mModel: \"sequential_4\"\u001b[0m\n"
      ]
     },
     "metadata": {},
     "output_type": "display_data"
    },
    {
     "data": {
      "text/html": [
       "<pre style=\"white-space:pre;overflow-x:auto;line-height:normal;font-family:Menlo,'DejaVu Sans Mono',consolas,'Courier New',monospace\">┏━━━━━━━━━━━━━━━━━━━━━━━━━━━━━━━━━┳━━━━━━━━━━━━━━━━━━━━━━━━┳━━━━━━━━━━━━━━━┓\n",
       "┃<span style=\"font-weight: bold\"> Layer (type)                    </span>┃<span style=\"font-weight: bold\"> Output Shape           </span>┃<span style=\"font-weight: bold\">       Param # </span>┃\n",
       "┡━━━━━━━━━━━━━━━━━━━━━━━━━━━━━━━━━╇━━━━━━━━━━━━━━━━━━━━━━━━╇━━━━━━━━━━━━━━━┩\n",
       "│ dense_20 (<span style=\"color: #0087ff; text-decoration-color: #0087ff\">Dense</span>)                │ (<span style=\"color: #00d7ff; text-decoration-color: #00d7ff\">None</span>, <span style=\"color: #00af00; text-decoration-color: #00af00\">512</span>)            │        <span style=\"color: #00af00; text-decoration-color: #00af00\">13,312</span> │\n",
       "├─────────────────────────────────┼────────────────────────┼───────────────┤\n",
       "│ dense_21 (<span style=\"color: #0087ff; text-decoration-color: #0087ff\">Dense</span>)                │ (<span style=\"color: #00d7ff; text-decoration-color: #00d7ff\">None</span>, <span style=\"color: #00af00; text-decoration-color: #00af00\">256</span>)            │       <span style=\"color: #00af00; text-decoration-color: #00af00\">131,328</span> │\n",
       "├─────────────────────────────────┼────────────────────────┼───────────────┤\n",
       "│ dense_22 (<span style=\"color: #0087ff; text-decoration-color: #0087ff\">Dense</span>)                │ (<span style=\"color: #00d7ff; text-decoration-color: #00d7ff\">None</span>, <span style=\"color: #00af00; text-decoration-color: #00af00\">128</span>)            │        <span style=\"color: #00af00; text-decoration-color: #00af00\">32,896</span> │\n",
       "├─────────────────────────────────┼────────────────────────┼───────────────┤\n",
       "│ dense_23 (<span style=\"color: #0087ff; text-decoration-color: #0087ff\">Dense</span>)                │ (<span style=\"color: #00d7ff; text-decoration-color: #00d7ff\">None</span>, <span style=\"color: #00af00; text-decoration-color: #00af00\">64</span>)             │         <span style=\"color: #00af00; text-decoration-color: #00af00\">8,256</span> │\n",
       "├─────────────────────────────────┼────────────────────────┼───────────────┤\n",
       "│ dense_24 (<span style=\"color: #0087ff; text-decoration-color: #0087ff\">Dense</span>)                │ (<span style=\"color: #00d7ff; text-decoration-color: #00d7ff\">None</span>, <span style=\"color: #00af00; text-decoration-color: #00af00\">1</span>)              │            <span style=\"color: #00af00; text-decoration-color: #00af00\">65</span> │\n",
       "└─────────────────────────────────┴────────────────────────┴───────────────┘\n",
       "</pre>\n"
      ],
      "text/plain": [
       "┏━━━━━━━━━━━━━━━━━━━━━━━━━━━━━━━━━┳━━━━━━━━━━━━━━━━━━━━━━━━┳━━━━━━━━━━━━━━━┓\n",
       "┃\u001b[1m \u001b[0m\u001b[1mLayer (type)                   \u001b[0m\u001b[1m \u001b[0m┃\u001b[1m \u001b[0m\u001b[1mOutput Shape          \u001b[0m\u001b[1m \u001b[0m┃\u001b[1m \u001b[0m\u001b[1m      Param #\u001b[0m\u001b[1m \u001b[0m┃\n",
       "┡━━━━━━━━━━━━━━━━━━━━━━━━━━━━━━━━━╇━━━━━━━━━━━━━━━━━━━━━━━━╇━━━━━━━━━━━━━━━┩\n",
       "│ dense_20 (\u001b[38;5;33mDense\u001b[0m)                │ (\u001b[38;5;45mNone\u001b[0m, \u001b[38;5;34m512\u001b[0m)            │        \u001b[38;5;34m13,312\u001b[0m │\n",
       "├─────────────────────────────────┼────────────────────────┼───────────────┤\n",
       "│ dense_21 (\u001b[38;5;33mDense\u001b[0m)                │ (\u001b[38;5;45mNone\u001b[0m, \u001b[38;5;34m256\u001b[0m)            │       \u001b[38;5;34m131,328\u001b[0m │\n",
       "├─────────────────────────────────┼────────────────────────┼───────────────┤\n",
       "│ dense_22 (\u001b[38;5;33mDense\u001b[0m)                │ (\u001b[38;5;45mNone\u001b[0m, \u001b[38;5;34m128\u001b[0m)            │        \u001b[38;5;34m32,896\u001b[0m │\n",
       "├─────────────────────────────────┼────────────────────────┼───────────────┤\n",
       "│ dense_23 (\u001b[38;5;33mDense\u001b[0m)                │ (\u001b[38;5;45mNone\u001b[0m, \u001b[38;5;34m64\u001b[0m)             │         \u001b[38;5;34m8,256\u001b[0m │\n",
       "├─────────────────────────────────┼────────────────────────┼───────────────┤\n",
       "│ dense_24 (\u001b[38;5;33mDense\u001b[0m)                │ (\u001b[38;5;45mNone\u001b[0m, \u001b[38;5;34m1\u001b[0m)              │            \u001b[38;5;34m65\u001b[0m │\n",
       "└─────────────────────────────────┴────────────────────────┴───────────────┘\n"
      ]
     },
     "metadata": {},
     "output_type": "display_data"
    },
    {
     "data": {
      "text/html": [
       "<pre style=\"white-space:pre;overflow-x:auto;line-height:normal;font-family:Menlo,'DejaVu Sans Mono',consolas,'Courier New',monospace\"><span style=\"font-weight: bold\"> Total params: </span><span style=\"color: #00af00; text-decoration-color: #00af00\">185,857</span> (726.00 KB)\n",
       "</pre>\n"
      ],
      "text/plain": [
       "\u001b[1m Total params: \u001b[0m\u001b[38;5;34m185,857\u001b[0m (726.00 KB)\n"
      ]
     },
     "metadata": {},
     "output_type": "display_data"
    },
    {
     "data": {
      "text/html": [
       "<pre style=\"white-space:pre;overflow-x:auto;line-height:normal;font-family:Menlo,'DejaVu Sans Mono',consolas,'Courier New',monospace\"><span style=\"font-weight: bold\"> Trainable params: </span><span style=\"color: #00af00; text-decoration-color: #00af00\">185,857</span> (726.00 KB)\n",
       "</pre>\n"
      ],
      "text/plain": [
       "\u001b[1m Trainable params: \u001b[0m\u001b[38;5;34m185,857\u001b[0m (726.00 KB)\n"
      ]
     },
     "metadata": {},
     "output_type": "display_data"
    },
    {
     "data": {
      "text/html": [
       "<pre style=\"white-space:pre;overflow-x:auto;line-height:normal;font-family:Menlo,'DejaVu Sans Mono',consolas,'Courier New',monospace\"><span style=\"font-weight: bold\"> Non-trainable params: </span><span style=\"color: #00af00; text-decoration-color: #00af00\">0</span> (0.00 B)\n",
       "</pre>\n"
      ],
      "text/plain": [
       "\u001b[1m Non-trainable params: \u001b[0m\u001b[38;5;34m0\u001b[0m (0.00 B)\n"
      ]
     },
     "metadata": {},
     "output_type": "display_data"
    }
   ],
   "source": [
    "model = Sequential([ \n",
    "    layers.Input(shape=(X_train_f.shape[1],)),\n",
    "    layers.Dense(512, activation='leaky_relu'),\n",
    "    layers.Dense(256, activation='leaky_relu'),\n",
    "    layers.Dense(128, activation='relu'),\n",
    "    layers.Dense(64, activation='relu'),\n",
    "    layers.Dense(1, activation='sigmoid')])\n",
    "\n",
    "model.summary()"
   ]
  },
  {
   "cell_type": "code",
   "execution_count": null,
   "metadata": {},
   "outputs": [
    {
     "name": "stdout",
     "output_type": "stream",
     "text": [
      "Epoch 1/150\n",
      "\u001b[1m80/80\u001b[0m \u001b[32m━━━━━━━━━━━━━━━━━━━━\u001b[0m\u001b[37m\u001b[0m \u001b[1m2s\u001b[0m 8ms/step - accuracy: 0.6311 - loss: 0.6739 - val_accuracy: 0.6997 - val_loss: 0.6150\n",
      "Epoch 2/150\n",
      "\u001b[1m80/80\u001b[0m \u001b[32m━━━━━━━━━━━━━━━━━━━━\u001b[0m\u001b[37m\u001b[0m \u001b[1m1s\u001b[0m 6ms/step - accuracy: 0.7178 - loss: 0.5898 - val_accuracy: 0.7028 - val_loss: 0.5692\n",
      "Epoch 3/150\n",
      "\u001b[1m80/80\u001b[0m \u001b[32m━━━━━━━━━━━━━━━━━━━━\u001b[0m\u001b[37m\u001b[0m \u001b[1m0s\u001b[0m 4ms/step - accuracy: 0.7213 - loss: 0.5559 - val_accuracy: 0.7154 - val_loss: 0.5498\n",
      "Epoch 4/150\n",
      "\u001b[1m80/80\u001b[0m \u001b[32m━━━━━━━━━━━━━━━━━━━━\u001b[0m\u001b[37m\u001b[0m \u001b[1m0s\u001b[0m 4ms/step - accuracy: 0.7385 - loss: 0.5284 - val_accuracy: 0.7170 - val_loss: 0.5448\n",
      "Epoch 5/150\n",
      "\u001b[1m80/80\u001b[0m \u001b[32m━━━━━━━━━━━━━━━━━━━━\u001b[0m\u001b[37m\u001b[0m \u001b[1m0s\u001b[0m 4ms/step - accuracy: 0.7247 - loss: 0.5295 - val_accuracy: 0.7201 - val_loss: 0.5391\n",
      "Epoch 6/150\n",
      "\u001b[1m80/80\u001b[0m \u001b[32m━━━━━━━━━━━━━━━━━━━━\u001b[0m\u001b[37m\u001b[0m \u001b[1m0s\u001b[0m 5ms/step - accuracy: 0.7667 - loss: 0.4967 - val_accuracy: 0.7280 - val_loss: 0.5375\n",
      "Epoch 7/150\n",
      "\u001b[1m80/80\u001b[0m \u001b[32m━━━━━━━━━━━━━━━━━━━━\u001b[0m\u001b[37m\u001b[0m \u001b[1m0s\u001b[0m 5ms/step - accuracy: 0.7375 - loss: 0.5178 - val_accuracy: 0.7327 - val_loss: 0.5389\n",
      "Epoch 8/150\n",
      "\u001b[1m80/80\u001b[0m \u001b[32m━━━━━━━━━━━━━━━━━━━━\u001b[0m\u001b[37m\u001b[0m \u001b[1m0s\u001b[0m 5ms/step - accuracy: 0.7427 - loss: 0.4963 - val_accuracy: 0.7280 - val_loss: 0.5301\n",
      "Epoch 9/150\n",
      "\u001b[1m80/80\u001b[0m \u001b[32m━━━━━━━━━━━━━━━━━━━━\u001b[0m\u001b[37m\u001b[0m \u001b[1m0s\u001b[0m 5ms/step - accuracy: 0.7538 - loss: 0.4979 - val_accuracy: 0.7358 - val_loss: 0.5270\n",
      "Epoch 10/150\n",
      "\u001b[1m80/80\u001b[0m \u001b[32m━━━━━━━━━━━━━━━━━━━━\u001b[0m\u001b[37m\u001b[0m \u001b[1m0s\u001b[0m 4ms/step - accuracy: 0.7604 - loss: 0.4745 - val_accuracy: 0.7280 - val_loss: 0.5266\n",
      "Epoch 11/150\n",
      "\u001b[1m80/80\u001b[0m \u001b[32m━━━━━━━━━━━━━━━━━━━━\u001b[0m\u001b[37m\u001b[0m \u001b[1m1s\u001b[0m 5ms/step - accuracy: 0.7695 - loss: 0.4813 - val_accuracy: 0.7296 - val_loss: 0.5266\n",
      "Epoch 12/150\n",
      "\u001b[1m80/80\u001b[0m \u001b[32m━━━━━━━━━━━━━━━━━━━━\u001b[0m\u001b[37m\u001b[0m \u001b[1m0s\u001b[0m 5ms/step - accuracy: 0.7759 - loss: 0.4678 - val_accuracy: 0.7248 - val_loss: 0.5198\n",
      "Epoch 13/150\n",
      "\u001b[1m80/80\u001b[0m \u001b[32m━━━━━━━━━━━━━━━━━━━━\u001b[0m\u001b[37m\u001b[0m \u001b[1m0s\u001b[0m 5ms/step - accuracy: 0.7656 - loss: 0.4684 - val_accuracy: 0.7233 - val_loss: 0.5221\n",
      "Epoch 14/150\n",
      "\u001b[1m80/80\u001b[0m \u001b[32m━━━━━━━━━━━━━━━━━━━━\u001b[0m\u001b[37m\u001b[0m \u001b[1m0s\u001b[0m 5ms/step - accuracy: 0.7725 - loss: 0.4616 - val_accuracy: 0.7296 - val_loss: 0.5180\n",
      "Epoch 15/150\n",
      "\u001b[1m80/80\u001b[0m \u001b[32m━━━━━━━━━━━━━━━━━━━━\u001b[0m\u001b[37m\u001b[0m \u001b[1m1s\u001b[0m 6ms/step - accuracy: 0.7795 - loss: 0.4644 - val_accuracy: 0.7343 - val_loss: 0.5223\n",
      "Epoch 16/150\n",
      "\u001b[1m80/80\u001b[0m \u001b[32m━━━━━━━━━━━━━━━━━━━━\u001b[0m\u001b[37m\u001b[0m \u001b[1m0s\u001b[0m 5ms/step - accuracy: 0.7783 - loss: 0.4638 - val_accuracy: 0.7123 - val_loss: 0.5257\n",
      "Epoch 17/150\n",
      "\u001b[1m80/80\u001b[0m \u001b[32m━━━━━━━━━━━━━━━━━━━━\u001b[0m\u001b[37m\u001b[0m \u001b[1m0s\u001b[0m 5ms/step - accuracy: 0.7654 - loss: 0.4543 - val_accuracy: 0.7264 - val_loss: 0.5334\n",
      "Epoch 18/150\n",
      "\u001b[1m80/80\u001b[0m \u001b[32m━━━━━━━━━━━━━━━━━━━━\u001b[0m\u001b[37m\u001b[0m \u001b[1m0s\u001b[0m 5ms/step - accuracy: 0.7850 - loss: 0.4474 - val_accuracy: 0.7296 - val_loss: 0.5172\n",
      "Epoch 19/150\n",
      "\u001b[1m80/80\u001b[0m \u001b[32m━━━━━━━━━━━━━━━━━━━━\u001b[0m\u001b[37m\u001b[0m \u001b[1m0s\u001b[0m 5ms/step - accuracy: 0.7828 - loss: 0.4485 - val_accuracy: 0.7421 - val_loss: 0.5166\n",
      "Epoch 20/150\n",
      "\u001b[1m80/80\u001b[0m \u001b[32m━━━━━━━━━━━━━━━━━━━━\u001b[0m\u001b[37m\u001b[0m \u001b[1m0s\u001b[0m 5ms/step - accuracy: 0.7891 - loss: 0.4318 - val_accuracy: 0.7186 - val_loss: 0.5273\n",
      "Epoch 21/150\n",
      "\u001b[1m80/80\u001b[0m \u001b[32m━━━━━━━━━━━━━━━━━━━━\u001b[0m\u001b[37m\u001b[0m \u001b[1m0s\u001b[0m 5ms/step - accuracy: 0.7782 - loss: 0.4391 - val_accuracy: 0.7280 - val_loss: 0.5196\n",
      "Epoch 22/150\n",
      "\u001b[1m80/80\u001b[0m \u001b[32m━━━━━━━━━━━━━━━━━━━━\u001b[0m\u001b[37m\u001b[0m \u001b[1m0s\u001b[0m 5ms/step - accuracy: 0.7947 - loss: 0.4284 - val_accuracy: 0.7280 - val_loss: 0.5192\n",
      "Epoch 23/150\n",
      "\u001b[1m80/80\u001b[0m \u001b[32m━━━━━━━━━━━━━━━━━━━━\u001b[0m\u001b[37m\u001b[0m \u001b[1m0s\u001b[0m 4ms/step - accuracy: 0.8090 - loss: 0.4223 - val_accuracy: 0.7374 - val_loss: 0.5263\n",
      "Epoch 24/150\n",
      "\u001b[1m80/80\u001b[0m \u001b[32m━━━━━━━━━━━━━━━━━━━━\u001b[0m\u001b[37m\u001b[0m \u001b[1m0s\u001b[0m 5ms/step - accuracy: 0.7965 - loss: 0.4260 - val_accuracy: 0.7343 - val_loss: 0.5399\n",
      "Epoch 25/150\n",
      "\u001b[1m80/80\u001b[0m \u001b[32m━━━━━━━━━━━━━━━━━━━━\u001b[0m\u001b[37m\u001b[0m \u001b[1m0s\u001b[0m 4ms/step - accuracy: 0.7895 - loss: 0.4265 - val_accuracy: 0.7186 - val_loss: 0.5353\n",
      "Epoch 26/150\n",
      "\u001b[1m80/80\u001b[0m \u001b[32m━━━━━━━━━━━━━━━━━━━━\u001b[0m\u001b[37m\u001b[0m \u001b[1m0s\u001b[0m 4ms/step - accuracy: 0.8126 - loss: 0.4088 - val_accuracy: 0.7296 - val_loss: 0.5276\n",
      "Epoch 27/150\n",
      "\u001b[1m80/80\u001b[0m \u001b[32m━━━━━━━━━━━━━━━━━━━━\u001b[0m\u001b[37m\u001b[0m \u001b[1m0s\u001b[0m 5ms/step - accuracy: 0.8114 - loss: 0.4110 - val_accuracy: 0.7311 - val_loss: 0.5208\n",
      "Epoch 28/150\n",
      "\u001b[1m80/80\u001b[0m \u001b[32m━━━━━━━━━━━━━━━━━━━━\u001b[0m\u001b[37m\u001b[0m \u001b[1m0s\u001b[0m 4ms/step - accuracy: 0.8099 - loss: 0.4060 - val_accuracy: 0.7233 - val_loss: 0.5356\n",
      "Epoch 29/150\n",
      "\u001b[1m80/80\u001b[0m \u001b[32m━━━━━━━━━━━━━━━━━━━━\u001b[0m\u001b[37m\u001b[0m \u001b[1m0s\u001b[0m 4ms/step - accuracy: 0.7999 - loss: 0.4122 - val_accuracy: 0.7343 - val_loss: 0.5346\n",
      "Epoch 30/150\n",
      "\u001b[1m80/80\u001b[0m \u001b[32m━━━━━━━━━━━━━━━━━━━━\u001b[0m\u001b[37m\u001b[0m \u001b[1m0s\u001b[0m 4ms/step - accuracy: 0.8048 - loss: 0.4230 - val_accuracy: 0.7311 - val_loss: 0.5345\n",
      "Epoch 31/150\n",
      "\u001b[1m80/80\u001b[0m \u001b[32m━━━━━━━━━━━━━━━━━━━━\u001b[0m\u001b[37m\u001b[0m \u001b[1m0s\u001b[0m 4ms/step - accuracy: 0.8151 - loss: 0.3936 - val_accuracy: 0.7311 - val_loss: 0.5382\n",
      "Epoch 32/150\n",
      "\u001b[1m80/80\u001b[0m \u001b[32m━━━━━━━━━━━━━━━━━━━━\u001b[0m\u001b[37m\u001b[0m \u001b[1m1s\u001b[0m 6ms/step - accuracy: 0.8261 - loss: 0.3819 - val_accuracy: 0.7170 - val_loss: 0.5382\n",
      "Epoch 33/150\n",
      "\u001b[1m80/80\u001b[0m \u001b[32m━━━━━━━━━━━━━━━━━━━━\u001b[0m\u001b[37m\u001b[0m \u001b[1m0s\u001b[0m 4ms/step - accuracy: 0.8325 - loss: 0.3754 - val_accuracy: 0.7280 - val_loss: 0.5421\n",
      "Epoch 34/150\n",
      "\u001b[1m80/80\u001b[0m \u001b[32m━━━━━━━━━━━━━━━━━━━━\u001b[0m\u001b[37m\u001b[0m \u001b[1m1s\u001b[0m 6ms/step - accuracy: 0.8287 - loss: 0.3737 - val_accuracy: 0.7201 - val_loss: 0.5527\n",
      "Epoch 35/150\n",
      "\u001b[1m80/80\u001b[0m \u001b[32m━━━━━━━━━━━━━━━━━━━━\u001b[0m\u001b[37m\u001b[0m \u001b[1m0s\u001b[0m 5ms/step - accuracy: 0.8336 - loss: 0.3727 - val_accuracy: 0.7233 - val_loss: 0.5702\n",
      "Epoch 36/150\n",
      "\u001b[1m80/80\u001b[0m \u001b[32m━━━━━━━━━━━━━━━━━━━━\u001b[0m\u001b[37m\u001b[0m \u001b[1m0s\u001b[0m 5ms/step - accuracy: 0.8322 - loss: 0.3718 - val_accuracy: 0.7091 - val_loss: 0.6049\n",
      "Epoch 37/150\n",
      "\u001b[1m80/80\u001b[0m \u001b[32m━━━━━━━━━━━━━━━━━━━━\u001b[0m\u001b[37m\u001b[0m \u001b[1m0s\u001b[0m 4ms/step - accuracy: 0.8020 - loss: 0.4000 - val_accuracy: 0.7343 - val_loss: 0.5451\n",
      "Epoch 38/150\n",
      "\u001b[1m80/80\u001b[0m \u001b[32m━━━━━━━━━━━━━━━━━━━━\u001b[0m\u001b[37m\u001b[0m \u001b[1m0s\u001b[0m 5ms/step - accuracy: 0.8343 - loss: 0.3641 - val_accuracy: 0.7201 - val_loss: 0.5595\n",
      "Epoch 39/150\n",
      "\u001b[1m80/80\u001b[0m \u001b[32m━━━━━━━━━━━━━━━━━━━━\u001b[0m\u001b[37m\u001b[0m \u001b[1m0s\u001b[0m 4ms/step - accuracy: 0.8432 - loss: 0.3561 - val_accuracy: 0.7296 - val_loss: 0.5601\n",
      "Epoch 40/150\n",
      "\u001b[1m80/80\u001b[0m \u001b[32m━━━━━━━━━━━━━━━━━━━━\u001b[0m\u001b[37m\u001b[0m \u001b[1m0s\u001b[0m 4ms/step - accuracy: 0.8254 - loss: 0.3883 - val_accuracy: 0.7343 - val_loss: 0.5568\n",
      "Epoch 41/150\n",
      "\u001b[1m80/80\u001b[0m \u001b[32m━━━━━━━━━━━━━━━━━━━━\u001b[0m\u001b[37m\u001b[0m \u001b[1m0s\u001b[0m 4ms/step - accuracy: 0.8574 - loss: 0.3435 - val_accuracy: 0.7343 - val_loss: 0.5539\n",
      "Epoch 42/150\n",
      "\u001b[1m80/80\u001b[0m \u001b[32m━━━━━━━━━━━━━━━━━━━━\u001b[0m\u001b[37m\u001b[0m \u001b[1m1s\u001b[0m 6ms/step - accuracy: 0.8273 - loss: 0.3509 - val_accuracy: 0.7296 - val_loss: 0.5576\n",
      "Epoch 43/150\n",
      "\u001b[1m80/80\u001b[0m \u001b[32m━━━━━━━━━━━━━━━━━━━━\u001b[0m\u001b[37m\u001b[0m \u001b[1m0s\u001b[0m 5ms/step - accuracy: 0.8573 - loss: 0.3235 - val_accuracy: 0.7280 - val_loss: 0.5497\n",
      "Epoch 44/150\n",
      "\u001b[1m80/80\u001b[0m \u001b[32m━━━━━━━━━━━━━━━━━━━━\u001b[0m\u001b[37m\u001b[0m \u001b[1m0s\u001b[0m 4ms/step - accuracy: 0.8411 - loss: 0.3387 - val_accuracy: 0.7233 - val_loss: 0.5744\n",
      "Epoch 45/150\n",
      "\u001b[1m80/80\u001b[0m \u001b[32m━━━━━━━━━━━━━━━━━━━━\u001b[0m\u001b[37m\u001b[0m \u001b[1m0s\u001b[0m 4ms/step - accuracy: 0.8472 - loss: 0.3369 - val_accuracy: 0.7123 - val_loss: 0.5757\n",
      "Epoch 46/150\n",
      "\u001b[1m80/80\u001b[0m \u001b[32m━━━━━━━━━━━━━━━━━━━━\u001b[0m\u001b[37m\u001b[0m \u001b[1m0s\u001b[0m 4ms/step - accuracy: 0.8478 - loss: 0.3248 - val_accuracy: 0.7233 - val_loss: 0.5724\n",
      "Epoch 47/150\n",
      "\u001b[1m80/80\u001b[0m \u001b[32m━━━━━━━━━━━━━━━━━━━━\u001b[0m\u001b[37m\u001b[0m \u001b[1m0s\u001b[0m 4ms/step - accuracy: 0.8659 - loss: 0.3162 - val_accuracy: 0.7327 - val_loss: 0.5791\n",
      "Epoch 48/150\n",
      "\u001b[1m80/80\u001b[0m \u001b[32m━━━━━━━━━━━━━━━━━━━━\u001b[0m\u001b[37m\u001b[0m \u001b[1m0s\u001b[0m 5ms/step - accuracy: 0.8609 - loss: 0.3251 - val_accuracy: 0.7327 - val_loss: 0.5830\n",
      "Epoch 49/150\n",
      "\u001b[1m80/80\u001b[0m \u001b[32m━━━━━━━━━━━━━━━━━━━━\u001b[0m\u001b[37m\u001b[0m \u001b[1m0s\u001b[0m 4ms/step - accuracy: 0.8501 - loss: 0.3182 - val_accuracy: 0.7358 - val_loss: 0.5826\n",
      "Epoch 50/150\n",
      "\u001b[1m80/80\u001b[0m \u001b[32m━━━━━━━━━━━━━━━━━━━━\u001b[0m\u001b[37m\u001b[0m \u001b[1m0s\u001b[0m 4ms/step - accuracy: 0.8565 - loss: 0.3183 - val_accuracy: 0.7280 - val_loss: 0.5836\n",
      "Epoch 51/150\n",
      "\u001b[1m80/80\u001b[0m \u001b[32m━━━━━━━━━━━━━━━━━━━━\u001b[0m\u001b[37m\u001b[0m \u001b[1m0s\u001b[0m 5ms/step - accuracy: 0.8530 - loss: 0.3356 - val_accuracy: 0.7233 - val_loss: 0.5921\n",
      "Epoch 52/150\n",
      "\u001b[1m80/80\u001b[0m \u001b[32m━━━━━━━━━━━━━━━━━━━━\u001b[0m\u001b[37m\u001b[0m \u001b[1m0s\u001b[0m 5ms/step - accuracy: 0.8634 - loss: 0.3111 - val_accuracy: 0.7421 - val_loss: 0.5890\n",
      "Epoch 53/150\n",
      "\u001b[1m80/80\u001b[0m \u001b[32m━━━━━━━━━━━━━━━━━━━━\u001b[0m\u001b[37m\u001b[0m \u001b[1m0s\u001b[0m 5ms/step - accuracy: 0.8683 - loss: 0.3004 - val_accuracy: 0.7217 - val_loss: 0.6298\n",
      "Epoch 54/150\n",
      "\u001b[1m80/80\u001b[0m \u001b[32m━━━━━━━━━━━━━━━━━━━━\u001b[0m\u001b[37m\u001b[0m \u001b[1m0s\u001b[0m 5ms/step - accuracy: 0.8680 - loss: 0.2980 - val_accuracy: 0.7374 - val_loss: 0.5943\n",
      "Epoch 55/150\n",
      "\u001b[1m80/80\u001b[0m \u001b[32m━━━━━━━━━━━━━━━━━━━━\u001b[0m\u001b[37m\u001b[0m \u001b[1m0s\u001b[0m 5ms/step - accuracy: 0.8770 - loss: 0.2909 - val_accuracy: 0.7311 - val_loss: 0.6125\n",
      "Epoch 56/150\n",
      "\u001b[1m80/80\u001b[0m \u001b[32m━━━━━━━━━━━━━━━━━━━━\u001b[0m\u001b[37m\u001b[0m \u001b[1m0s\u001b[0m 6ms/step - accuracy: 0.8737 - loss: 0.2912 - val_accuracy: 0.7311 - val_loss: 0.6141\n",
      "Epoch 57/150\n",
      "\u001b[1m80/80\u001b[0m \u001b[32m━━━━━━━━━━━━━━━━━━━━\u001b[0m\u001b[37m\u001b[0m \u001b[1m0s\u001b[0m 4ms/step - accuracy: 0.8738 - loss: 0.2809 - val_accuracy: 0.7406 - val_loss: 0.6083\n",
      "Epoch 58/150\n",
      "\u001b[1m80/80\u001b[0m \u001b[32m━━━━━━━━━━━━━━━━━━━━\u001b[0m\u001b[37m\u001b[0m \u001b[1m0s\u001b[0m 5ms/step - accuracy: 0.8820 - loss: 0.2843 - val_accuracy: 0.7264 - val_loss: 0.6499\n",
      "Epoch 59/150\n",
      "\u001b[1m80/80\u001b[0m \u001b[32m━━━━━━━━━━━━━━━━━━━━\u001b[0m\u001b[37m\u001b[0m \u001b[1m0s\u001b[0m 4ms/step - accuracy: 0.8736 - loss: 0.2807 - val_accuracy: 0.7374 - val_loss: 0.6135\n",
      "Epoch 60/150\n",
      "\u001b[1m80/80\u001b[0m \u001b[32m━━━━━━━━━━━━━━━━━━━━\u001b[0m\u001b[37m\u001b[0m \u001b[1m0s\u001b[0m 4ms/step - accuracy: 0.8801 - loss: 0.2764 - val_accuracy: 0.7343 - val_loss: 0.6281\n",
      "Epoch 61/150\n",
      "\u001b[1m80/80\u001b[0m \u001b[32m━━━━━━━━━━━━━━━━━━━━\u001b[0m\u001b[37m\u001b[0m \u001b[1m0s\u001b[0m 4ms/step - accuracy: 0.8837 - loss: 0.2751 - val_accuracy: 0.7374 - val_loss: 0.6121\n",
      "Epoch 62/150\n",
      "\u001b[1m80/80\u001b[0m \u001b[32m━━━━━━━━━━━━━━━━━━━━\u001b[0m\u001b[37m\u001b[0m \u001b[1m0s\u001b[0m 5ms/step - accuracy: 0.8818 - loss: 0.2720 - val_accuracy: 0.7201 - val_loss: 0.6279\n",
      "Epoch 63/150\n",
      "\u001b[1m80/80\u001b[0m \u001b[32m━━━━━━━━━━━━━━━━━━━━\u001b[0m\u001b[37m\u001b[0m \u001b[1m0s\u001b[0m 5ms/step - accuracy: 0.8612 - loss: 0.2873 - val_accuracy: 0.7343 - val_loss: 0.6462\n",
      "Epoch 64/150\n",
      "\u001b[1m80/80\u001b[0m \u001b[32m━━━━━━━━━━━━━━━━━━━━\u001b[0m\u001b[37m\u001b[0m \u001b[1m0s\u001b[0m 4ms/step - accuracy: 0.8784 - loss: 0.2780 - val_accuracy: 0.7327 - val_loss: 0.6415\n",
      "Epoch 65/150\n",
      "\u001b[1m80/80\u001b[0m \u001b[32m━━━━━━━━━━━━━━━━━━━━\u001b[0m\u001b[37m\u001b[0m \u001b[1m0s\u001b[0m 5ms/step - accuracy: 0.8961 - loss: 0.2519 - val_accuracy: 0.7296 - val_loss: 0.6468\n",
      "Epoch 66/150\n",
      "\u001b[1m80/80\u001b[0m \u001b[32m━━━━━━━━━━━━━━━━━━━━\u001b[0m\u001b[37m\u001b[0m \u001b[1m0s\u001b[0m 5ms/step - accuracy: 0.8877 - loss: 0.2556 - val_accuracy: 0.7170 - val_loss: 0.6557\n",
      "Epoch 67/150\n",
      "\u001b[1m80/80\u001b[0m \u001b[32m━━━━━━━━━━━━━━━━━━━━\u001b[0m\u001b[37m\u001b[0m \u001b[1m0s\u001b[0m 4ms/step - accuracy: 0.8881 - loss: 0.2566 - val_accuracy: 0.7217 - val_loss: 0.6778\n",
      "Epoch 68/150\n",
      "\u001b[1m80/80\u001b[0m \u001b[32m━━━━━━━━━━━━━━━━━━━━\u001b[0m\u001b[37m\u001b[0m \u001b[1m0s\u001b[0m 5ms/step - accuracy: 0.8787 - loss: 0.2661 - val_accuracy: 0.7311 - val_loss: 0.6531\n",
      "Epoch 69/150\n",
      "\u001b[1m80/80\u001b[0m \u001b[32m━━━━━━━━━━━━━━━━━━━━\u001b[0m\u001b[37m\u001b[0m \u001b[1m0s\u001b[0m 5ms/step - accuracy: 0.8933 - loss: 0.2481 - val_accuracy: 0.7170 - val_loss: 0.6880\n",
      "Epoch 69: early stopping\n",
      "Restoring model weights from the end of the best epoch: 19.\n"
     ]
    }
   ],
   "source": [
    "# Compilación del modelo previa a entrenamiento\n",
    "model.compile(optimizer=optimizers.Adam(learning_rate=0.0001), loss='binary_crossentropy', metrics=['accuracy'])\n",
    "\n",
    "# Entrenamiento del modelo\n",
    "history = model.fit(X_train_f, y_train_f, epochs=150, batch_size=32, validation_data=(X_val_f, y_val_f), callbacks=[early_stopping])"
   ]
  },
  {
   "cell_type": "code",
   "execution_count": 47,
   "metadata": {},
   "outputs": [
    {
     "data": {
      "image/png": "[encoded data removed]",
      "text/plain": [
       "<Figure size 1000x600 with 1 Axes>"
      ]
     },
     "metadata": {},
     "output_type": "display_data"
    }
   ],
   "source": [
    "plt.figure(figsize=(10, 6))\n",
    "plt.plot(history.history['val_accuracy'], label='Precisión de validación')\n",
    "plt.plot(history.history['val_loss'], label= 'Función de pérdida en validación')\n",
    "\n",
    "plt.axvline(x=np.argmax(history.history['val_accuracy']), color='r', linestyle='-', linewidth=1, label='Early Stopping Mejor modelo')\n",
    "plt.xlabel('Épocas')\n",
    "plt.ylabel('Precisión y Pérdida')\n",
    "plt.legend()\n",
    "plt.show()"
   ]
  },
  {
   "cell_type": "markdown",
   "metadata": {},
   "source": [
    "**PODEMOS OBSERVAR EN LA SIGUIENTE GRÁFICA COMO SE SELECCIONA EL MODELO DE MAYOR PRECISIÓN A PARTIR DEL EARLY STOPPING PREVIAMENTE DEFINIDO, OBSERVAR QUE EL INCREMENTO DE LA FUNCIÓN DE PÉRDIDA EN VALIDACIÓN ES UNA CLARA SEÑAL DEL SOBREAJUSTE DEL MODELO.**"
   ]
  },
  {
   "cell_type": "code",
   "execution_count": 48,
   "metadata": {},
   "outputs": [
    {
     "name": "stdout",
     "output_type": "stream",
     "text": [
      "\u001b[1m25/25\u001b[0m \u001b[32m━━━━━━━━━━━━━━━━━━━━\u001b[0m\u001b[37m\u001b[0m \u001b[1m0s\u001b[0m 3ms/step - accuracy: 0.7139 - loss: 0.5144 \n",
      "Test Accuracy: 0.7371069192886353\n",
      "Test Loss: 0.5032005906105042\n"
     ]
    }
   ],
   "source": [
    "# Testeo, predicción y evaluación del modelo\n",
    "test_loss, test_acc = model.evaluate(X_test_encoded, y_test)\n",
    "print(f\"Test Accuracy: {test_acc}\")\n",
    "print(f\"Test Loss: {test_loss}\")\n"
   ]
  },
  {
   "cell_type": "code",
   "execution_count": 49,
   "metadata": {},
   "outputs": [
    {
     "name": "stdout",
     "output_type": "stream",
     "text": [
      "\u001b[1m1/1\u001b[0m \u001b[32m━━━━━━━━━━━━━━━━━━━━\u001b[0m\u001b[37m\u001b[0m \u001b[1m0s\u001b[0m 105ms/step\n",
      "Predicciones del modelo:  [[ True  True  True  True False  True  True  True  True False]]\n",
      "Clases reales: [ True False  True  True False  True False  True False False]\n"
     ]
    }
   ],
   "source": [
    "predictions = model.predict(X_test_encoded[0:10])\n",
    "predictions = np.where(predictions > 0.5, True, False)\n",
    "print(f\"Predicciones del modelo:  {predictions.T}\")\n",
    "print(f\"Clases reales: {y_test[0:10]}\")"
   ]
  },
  {
   "cell_type": "markdown",
   "metadata": {},
   "source": [
    "**E7:** Repite los ejercicios E3-6 pero esta vez empleando codificación TF-IDF. ¿Ha mejorado la precisión? ¿por qué?\n",
    "\n",
    "**SE ALCANZA UNA PRECISIÓN DE 0.8275, SE CONSIGUE UNA CONSIDERABLE MEJORA EN LA PRECISIÓN.**\n",
    "**ESTA SE DA POR EL CAMBIO DE CODIFICACIÓN REALIZADO, CON TF-IDF BRINDAMOS A LA RED DE MUCHA MÁS INFORMACIÓN SOBRE LA DISTRIBUCIÓN/APARICIÓN DE LOS AMINOÁCIDOS EN LOS DISTINTOS PÉPTIDOS, COMO POSTERIORMENTE SERÁ COMENTADO, ESTA CODIFICACIÓN BRINDA LA SIGUIENTE INFORMACIÓN A NIVEL DE AMINOÁCIDO:** \n",
    "\n",
    "- NÚMERO DE VECES QUE APARECE EN EL PROPIO PÉPTIDO\n",
    "- IMPORTANCIA DE ESTE MEDIDA A PARTIR DE LA CANTIDAD DE PÉPTIDOS EN LOS QUE APARECE\n"
   ]
  },
  {
   "cell_type": "code",
   "execution_count": null,
   "metadata": {},
   "outputs": [],
   "source": [
    "# Inicializar el vectorizador\n",
    "vectorizer = TextVectorization(\n",
    "    max_tokens=25,  # Número de aminoácidos únicos\n",
    "    output_mode='tf-idf',  # Modo de salida \n",
    "    standardize=None,  # No estandarizamos\n",
    "    split='character'  # Dividimos por caracteres(aminoácidos)\n",
    ")\n",
    "\n",
    "# Ajustar el vectorizador a las secuencias, nos ajustamos solo al conjunto de entrenamiento para evitar la exposición a datos de test\n",
    "vectorizer.adapt(X_train)\n",
    "\n",
    "# Transformamos los péptidos mediante la codificación TF-IDF\n",
    "X_train_encoded = vectorizer(X_train)\n",
    "X_test_encoded = vectorizer(X_test)"
   ]
  },
  {
   "cell_type": "code",
   "execution_count": null,
   "metadata": {},
   "outputs": [],
   "source": [
    "peptidos['TF-IDF'] = peptidos['aa_seq'].apply(lambda x: vectorizer(x).numpy())"
   ]
  },
  {
   "cell_type": "code",
   "execution_count": 60,
   "metadata": {},
   "outputs": [
    {
     "data": {
      "text/html": [
       "<div>\n",
       "<style scoped>\n",
       "    .dataframe tbody tr th:only-of-type {\n",
       "        vertical-align: middle;\n",
       "    }\n",
       "\n",
       "    .dataframe tbody tr th {\n",
       "        vertical-align: top;\n",
       "    }\n",
       "\n",
       "    .dataframe thead th {\n",
       "        text-align: right;\n",
       "    }\n",
       "</style>\n",
       "<table border=\"1\" class=\"dataframe\">\n",
       "  <thead>\n",
       "    <tr style=\"text-align: right;\">\n",
       "      <th></th>\n",
       "      <th>aa_seq</th>\n",
       "      <th>aa_len</th>\n",
       "      <th>AMP</th>\n",
       "      <th>Multi-Hot</th>\n",
       "      <th>TF-IDF</th>\n",
       "    </tr>\n",
       "  </thead>\n",
       "  <tbody>\n",
       "    <tr>\n",
       "      <th>0</th>\n",
       "      <td>GNGVLKTISHECNMNTWQFLFTCC</td>\n",
       "      <td>24</td>\n",
       "      <td>True</td>\n",
       "      <td>[0, 1, 1, 1, 0, 0, 1, 1, 1, 1, 1, 1, 0, 1, 1, ...</td>\n",
       "      <td>[0.0, 0.79246056, 1.5467752, 1.56601, 0.0, 0.0...</td>\n",
       "    </tr>\n",
       "    <tr>\n",
       "      <th>1</th>\n",
       "      <td>TTKNYGNGVCNSVNWCQCGNVWASCNLATGCAAWLCKLA</td>\n",
       "      <td>39</td>\n",
       "      <td>True</td>\n",
       "      <td>[0, 1, 1, 1, 1, 0, 1, 1, 0, 1, 0, 1, 0, 1, 0, ...</td>\n",
       "      <td>[0.0, 1.5849211, 2.3201628, 3.13202, 4.0539956...</td>\n",
       "    </tr>\n",
       "    <tr>\n",
       "      <th>2</th>\n",
       "      <td>SNDSLWYGVGQFMGKQANCITNHPVKHMIIPGYCLSKILG</td>\n",
       "      <td>40</td>\n",
       "      <td>True</td>\n",
       "      <td>[0, 1, 1, 1, 1, 0, 1, 1, 1, 1, 0, 1, 1, 1, 1, ...</td>\n",
       "      <td>[0.0, 2.3773818, 2.3201628, 3.915025, 0.810799...</td>\n",
       "    </tr>\n",
       "    <tr>\n",
       "      <th>3</th>\n",
       "      <td>IAPIIVAGLGYLVKDAWDHSDQIISGFKKGWNGGRRK</td>\n",
       "      <td>37</td>\n",
       "      <td>True</td>\n",
       "      <td>[0, 1, 1, 1, 1, 1, 1, 1, 1, 0, 0, 0, 1, 1, 1, ...</td>\n",
       "      <td>[0.0, 3.1698422, 1.5467752, 4.69803, 2.4323974...</td>\n",
       "    </tr>\n",
       "    <tr>\n",
       "      <th>4</th>\n",
       "      <td>FNRGGYNFGKSVRHVVDAIGSVAGIRGILKSIR</td>\n",
       "      <td>33</td>\n",
       "      <td>True</td>\n",
       "      <td>[0, 1, 1, 1, 1, 1, 1, 1, 1, 0, 0, 0, 0, 1, 1, ...</td>\n",
       "      <td>[0.0, 1.5849211, 0.7733876, 4.69803, 1.6215982...</td>\n",
       "    </tr>\n",
       "    <tr>\n",
       "      <th>5</th>\n",
       "      <td>VFHAYSARGVRNNYKSAVGPADWVISAVRGFIHG</td>\n",
       "      <td>34</td>\n",
       "      <td>True</td>\n",
       "      <td>[0, 1, 0, 1, 1, 1, 1, 1, 1, 0, 0, 0, 1, 1, 1, ...</td>\n",
       "      <td>[0.0, 0.79246056, 0.0, 3.13202, 4.0539956, 2.6...</td>\n",
       "    </tr>\n",
       "    <tr>\n",
       "      <th>6</th>\n",
       "      <td>RRSRKNGIGYAIGYAFGAVERAVLGGSRDYNK</td>\n",
       "      <td>32</td>\n",
       "      <td>True</td>\n",
       "      <td>[0, 1, 1, 1, 1, 1, 1, 1, 1, 0, 1, 0, 0, 1, 1, ...</td>\n",
       "      <td>[0.0, 1.5849211, 0.7733876, 4.69803, 3.2431965...</td>\n",
       "    </tr>\n",
       "    <tr>\n",
       "      <th>7</th>\n",
       "      <td>KGLGKLIGIDWLLGQAKDAVKQYKKDYKRWH</td>\n",
       "      <td>31</td>\n",
       "      <td>True</td>\n",
       "      <td>[0, 1, 1, 1, 1, 1, 0, 1, 1, 0, 0, 0, 0, 0, 0, ...</td>\n",
       "      <td>[0.0, 5.547224, 3.0935504, 3.13202, 1.6215982,...</td>\n",
       "    </tr>\n",
       "  </tbody>\n",
       "</table>\n",
       "</div>"
      ],
      "text/plain": [
       "                                     aa_seq  aa_len   AMP  \\\n",
       "0                  GNGVLKTISHECNMNTWQFLFTCC      24  True   \n",
       "1   TTKNYGNGVCNSVNWCQCGNVWASCNLATGCAAWLCKLA      39  True   \n",
       "2  SNDSLWYGVGQFMGKQANCITNHPVKHMIIPGYCLSKILG      40  True   \n",
       "3     IAPIIVAGLGYLVKDAWDHSDQIISGFKKGWNGGRRK      37  True   \n",
       "4         FNRGGYNFGKSVRHVVDAIGSVAGIRGILKSIR      33  True   \n",
       "5        VFHAYSARGVRNNYKSAVGPADWVISAVRGFIHG      34  True   \n",
       "6          RRSRKNGIGYAIGYAFGAVERAVLGGSRDYNK      32  True   \n",
       "7           KGLGKLIGIDWLLGQAKDAVKQYKKDYKRWH      31  True   \n",
       "\n",
       "                                           Multi-Hot  \\\n",
       "0  [0, 1, 1, 1, 0, 0, 1, 1, 1, 1, 1, 1, 0, 1, 1, ...   \n",
       "1  [0, 1, 1, 1, 1, 0, 1, 1, 0, 1, 0, 1, 0, 1, 0, ...   \n",
       "2  [0, 1, 1, 1, 1, 0, 1, 1, 1, 1, 0, 1, 1, 1, 1, ...   \n",
       "3  [0, 1, 1, 1, 1, 1, 1, 1, 1, 0, 0, 0, 1, 1, 1, ...   \n",
       "4  [0, 1, 1, 1, 1, 1, 1, 1, 1, 0, 0, 0, 0, 1, 1, ...   \n",
       "5  [0, 1, 0, 1, 1, 1, 1, 1, 1, 0, 0, 0, 1, 1, 1, ...   \n",
       "6  [0, 1, 1, 1, 1, 1, 1, 1, 1, 0, 1, 0, 0, 1, 1, ...   \n",
       "7  [0, 1, 1, 1, 1, 1, 0, 1, 1, 0, 0, 0, 0, 0, 0, ...   \n",
       "\n",
       "                                              TF-IDF  \n",
       "0  [0.0, 0.79246056, 1.5467752, 1.56601, 0.0, 0.0...  \n",
       "1  [0.0, 1.5849211, 2.3201628, 3.13202, 4.0539956...  \n",
       "2  [0.0, 2.3773818, 2.3201628, 3.915025, 0.810799...  \n",
       "3  [0.0, 3.1698422, 1.5467752, 4.69803, 2.4323974...  \n",
       "4  [0.0, 1.5849211, 0.7733876, 4.69803, 1.6215982...  \n",
       "5  [0.0, 0.79246056, 0.0, 3.13202, 4.0539956, 2.6...  \n",
       "6  [0.0, 1.5849211, 0.7733876, 4.69803, 3.2431965...  \n",
       "7  [0.0, 5.547224, 3.0935504, 3.13202, 1.6215982,...  "
      ]
     },
     "execution_count": 60,
     "metadata": {},
     "output_type": "execute_result"
    }
   ],
   "source": [
    "# Mostramos la correcta codificación de los péptidos mediante TF-IDF\n",
    "peptidos.head(8)"
   ]
  },
  {
   "cell_type": "code",
   "execution_count": null,
   "metadata": {},
   "outputs": [
    {
     "name": "stdout",
     "output_type": "stream",
     "text": [
      "Vocabulario de carácteres e índices asociados a cada uno: \n",
      "  {'[UNK]': 0, np.str_('K'): 1, np.str_('L'): 2, np.str_('G'): 3, np.str_('A'): 4, np.str_('R'): 5, np.str_('S'): 6, np.str_('V'): 7, np.str_('I'): 8, np.str_('C'): 9, np.str_('E'): 10, np.str_('T'): 11, np.str_('P'): 12, np.str_('N'): 13, np.str_('F'): 14, np.str_('D'): 15, np.str_('Q'): 16, np.str_('Y'): 17, np.str_('M'): 18, np.str_('H'): 19, np.str_('W'): 20, np.str_('X'): 21, np.str_('U'): 22, np.str_('O'): 23, np.str_('Z'): 24} \n",
      "\n",
      "Longitud de los péptidos codificados/longitud vectores multi-hot: 25\n"
     ]
    }
   ],
   "source": [
    "# Vocabulario de codificación\n",
    "vocab = vectorizer.get_vocabulary()\n",
    "char_indices = {char: idx for idx, char in enumerate(vocab)}\n",
    "print(\"Vocabulario de carácteres e índices asociados a cada uno: \\n \" , char_indices, \"\\n\")\n",
    "print(\"Longitud de los péptidos codificados/longitud vectores multi-hot:\", X_train_encoded.shape[1])"
   ]
  },
  {
   "cell_type": "markdown",
   "metadata": {},
   "source": [
    "**Cada péptido codificado sigue teniendo una longitud de 25, es decir, la longitud del vocabulario de aminoácidos pero en este caso no realizamos una codificación binaria sino que seguimos el modelo de codificación basado en la normalización por frecuencia de token(aminoácido) en el propio péptido junto a la frecuencia de aparición de este en las diversas muestras de péptidos.**\n",
    "\n",
    "La frecuencia de término mide cuántas veces aparece un token en un péptido, se usa la variante logarítmica para evitar que los aminoácidos muy frecuentes dominen.\n",
    "\n",
    "$$\n",
    "TF(t, d) = 1 + \\log_{10} (f_{t,d}) \\quad \\text{si } f_{t,d} > 0\n",
    "$$\n",
    "\n",
    "Si el token **no aparece** en el péptido, se define como:\n",
    "\n",
    "$$\n",
    "TF(t, d) = 0 \\quad \\text{si } f_{t,d} = 0\n",
    "$$\n",
    "\n",
    "---\n",
    "La **IDF** mide la importancia de un aminoácido considerando en cuántos péptidos aparece, si aparece en todos su importancia se reduce pero si no es my frecuente puede ser que le de a la red información fundamental para tomar una decisión:\n",
    "\n",
    "\n",
    "$$\n",
    "IDF(t) = \\log \\left( \\frac{N}{DF_t + 1} \\right)\n",
    "$$\n",
    "\n",
    "\n",
    "---\n",
    "\n",
    "**Cálculo del TF-IDF**\n",
    "\n",
    "El **TF-IDF** se calcula multiplicando **TF** por **IDF**:\n",
    "\n",
    "$$\n",
    "TF\\text{-}IDF(t, d) = TF(t, d) \\times IDF(t)\n",
    "$$\n",
    "\n",
    "Así es como se obtiene la codificación de cada aminoácido de los diferentes péptidos del conjunto de datos.\n"
   ]
  },
  {
   "cell_type": "code",
   "execution_count": null,
   "metadata": {},
   "outputs": [],
   "source": [
    "# Obtención del 20% de los datos de entrenamiento para validación del modelo durante el proceso de entrenamiento\n",
    "X_train_f, X_val_f, y_train_f, y_val_f = train_test_split(np.array(X_train_encoded), y_train, test_size=0.2, random_state=2025, stratify=y_train)\n",
    "\n",
    "# Conversión de las etiquetas a arrays de numpy para su uso en la red neuronal\n",
    "y_train_f = np.array(y_train_f)\n",
    "y_val_f = np.array(y_val_f)\n",
    "y_test = np.array(y_test)"
   ]
  },
  {
   "cell_type": "code",
   "execution_count": 77,
   "metadata": {},
   "outputs": [
    {
     "data": {
      "text/html": [
       "<pre style=\"white-space:pre;overflow-x:auto;line-height:normal;font-family:Menlo,'DejaVu Sans Mono',consolas,'Courier New',monospace\"><span style=\"font-weight: bold\">Model: \"sequential_8\"</span>\n",
       "</pre>\n"
      ],
      "text/plain": [
       "\u001b[1mModel: \"sequential_8\"\u001b[0m\n"
      ]
     },
     "metadata": {},
     "output_type": "display_data"
    },
    {
     "data": {
      "text/html": [
       "<pre style=\"white-space:pre;overflow-x:auto;line-height:normal;font-family:Menlo,'DejaVu Sans Mono',consolas,'Courier New',monospace\">┏━━━━━━━━━━━━━━━━━━━━━━━━━━━━━━━━━┳━━━━━━━━━━━━━━━━━━━━━━━━┳━━━━━━━━━━━━━━━┓\n",
       "┃<span style=\"font-weight: bold\"> Layer (type)                    </span>┃<span style=\"font-weight: bold\"> Output Shape           </span>┃<span style=\"font-weight: bold\">       Param # </span>┃\n",
       "┡━━━━━━━━━━━━━━━━━━━━━━━━━━━━━━━━━╇━━━━━━━━━━━━━━━━━━━━━━━━╇━━━━━━━━━━━━━━━┩\n",
       "│ dense_40 (<span style=\"color: #0087ff; text-decoration-color: #0087ff\">Dense</span>)                │ (<span style=\"color: #00d7ff; text-decoration-color: #00d7ff\">None</span>, <span style=\"color: #00af00; text-decoration-color: #00af00\">512</span>)            │       <span style=\"color: #00af00; text-decoration-color: #00af00\">249,344</span> │\n",
       "├─────────────────────────────────┼────────────────────────┼───────────────┤\n",
       "│ dense_41 (<span style=\"color: #0087ff; text-decoration-color: #0087ff\">Dense</span>)                │ (<span style=\"color: #00d7ff; text-decoration-color: #00d7ff\">None</span>, <span style=\"color: #00af00; text-decoration-color: #00af00\">256</span>)            │       <span style=\"color: #00af00; text-decoration-color: #00af00\">131,328</span> │\n",
       "├─────────────────────────────────┼────────────────────────┼───────────────┤\n",
       "│ dense_42 (<span style=\"color: #0087ff; text-decoration-color: #0087ff\">Dense</span>)                │ (<span style=\"color: #00d7ff; text-decoration-color: #00d7ff\">None</span>, <span style=\"color: #00af00; text-decoration-color: #00af00\">128</span>)            │        <span style=\"color: #00af00; text-decoration-color: #00af00\">32,896</span> │\n",
       "├─────────────────────────────────┼────────────────────────┼───────────────┤\n",
       "│ dense_43 (<span style=\"color: #0087ff; text-decoration-color: #0087ff\">Dense</span>)                │ (<span style=\"color: #00d7ff; text-decoration-color: #00d7ff\">None</span>, <span style=\"color: #00af00; text-decoration-color: #00af00\">64</span>)             │         <span style=\"color: #00af00; text-decoration-color: #00af00\">8,256</span> │\n",
       "├─────────────────────────────────┼────────────────────────┼───────────────┤\n",
       "│ dense_44 (<span style=\"color: #0087ff; text-decoration-color: #0087ff\">Dense</span>)                │ (<span style=\"color: #00d7ff; text-decoration-color: #00d7ff\">None</span>, <span style=\"color: #00af00; text-decoration-color: #00af00\">1</span>)              │            <span style=\"color: #00af00; text-decoration-color: #00af00\">65</span> │\n",
       "└─────────────────────────────────┴────────────────────────┴───────────────┘\n",
       "</pre>\n"
      ],
      "text/plain": [
       "┏━━━━━━━━━━━━━━━━━━━━━━━━━━━━━━━━━┳━━━━━━━━━━━━━━━━━━━━━━━━┳━━━━━━━━━━━━━━━┓\n",
       "┃\u001b[1m \u001b[0m\u001b[1mLayer (type)                   \u001b[0m\u001b[1m \u001b[0m┃\u001b[1m \u001b[0m\u001b[1mOutput Shape          \u001b[0m\u001b[1m \u001b[0m┃\u001b[1m \u001b[0m\u001b[1m      Param #\u001b[0m\u001b[1m \u001b[0m┃\n",
       "┡━━━━━━━━━━━━━━━━━━━━━━━━━━━━━━━━━╇━━━━━━━━━━━━━━━━━━━━━━━━╇━━━━━━━━━━━━━━━┩\n",
       "│ dense_40 (\u001b[38;5;33mDense\u001b[0m)                │ (\u001b[38;5;45mNone\u001b[0m, \u001b[38;5;34m512\u001b[0m)            │       \u001b[38;5;34m249,344\u001b[0m │\n",
       "├─────────────────────────────────┼────────────────────────┼───────────────┤\n",
       "│ dense_41 (\u001b[38;5;33mDense\u001b[0m)                │ (\u001b[38;5;45mNone\u001b[0m, \u001b[38;5;34m256\u001b[0m)            │       \u001b[38;5;34m131,328\u001b[0m │\n",
       "├─────────────────────────────────┼────────────────────────┼───────────────┤\n",
       "│ dense_42 (\u001b[38;5;33mDense\u001b[0m)                │ (\u001b[38;5;45mNone\u001b[0m, \u001b[38;5;34m128\u001b[0m)            │        \u001b[38;5;34m32,896\u001b[0m │\n",
       "├─────────────────────────────────┼────────────────────────┼───────────────┤\n",
       "│ dense_43 (\u001b[38;5;33mDense\u001b[0m)                │ (\u001b[38;5;45mNone\u001b[0m, \u001b[38;5;34m64\u001b[0m)             │         \u001b[38;5;34m8,256\u001b[0m │\n",
       "├─────────────────────────────────┼────────────────────────┼───────────────┤\n",
       "│ dense_44 (\u001b[38;5;33mDense\u001b[0m)                │ (\u001b[38;5;45mNone\u001b[0m, \u001b[38;5;34m1\u001b[0m)              │            \u001b[38;5;34m65\u001b[0m │\n",
       "└─────────────────────────────────┴────────────────────────┴───────────────┘\n"
      ]
     },
     "metadata": {},
     "output_type": "display_data"
    },
    {
     "data": {
      "text/html": [
       "<pre style=\"white-space:pre;overflow-x:auto;line-height:normal;font-family:Menlo,'DejaVu Sans Mono',consolas,'Courier New',monospace\"><span style=\"font-weight: bold\"> Total params: </span><span style=\"color: #00af00; text-decoration-color: #00af00\">421,889</span> (1.61 MB)\n",
       "</pre>\n"
      ],
      "text/plain": [
       "\u001b[1m Total params: \u001b[0m\u001b[38;5;34m421,889\u001b[0m (1.61 MB)\n"
      ]
     },
     "metadata": {},
     "output_type": "display_data"
    },
    {
     "data": {
      "text/html": [
       "<pre style=\"white-space:pre;overflow-x:auto;line-height:normal;font-family:Menlo,'DejaVu Sans Mono',consolas,'Courier New',monospace\"><span style=\"font-weight: bold\"> Trainable params: </span><span style=\"color: #00af00; text-decoration-color: #00af00\">421,889</span> (1.61 MB)\n",
       "</pre>\n"
      ],
      "text/plain": [
       "\u001b[1m Trainable params: \u001b[0m\u001b[38;5;34m421,889\u001b[0m (1.61 MB)\n"
      ]
     },
     "metadata": {},
     "output_type": "display_data"
    },
    {
     "data": {
      "text/html": [
       "<pre style=\"white-space:pre;overflow-x:auto;line-height:normal;font-family:Menlo,'DejaVu Sans Mono',consolas,'Courier New',monospace\"><span style=\"font-weight: bold\"> Non-trainable params: </span><span style=\"color: #00af00; text-decoration-color: #00af00\">0</span> (0.00 B)\n",
       "</pre>\n"
      ],
      "text/plain": [
       "\u001b[1m Non-trainable params: \u001b[0m\u001b[38;5;34m0\u001b[0m (0.00 B)\n"
      ]
     },
     "metadata": {},
     "output_type": "display_data"
    }
   ],
   "source": [
    "model_tfidf = Sequential([ \n",
    "    layers.Input(shape=(X_train_f.shape[1],)),\n",
    "    layers.Dense(512, activation='leaky_relu'),\n",
    "    layers.Dense(256, activation='leaky_relu'),\n",
    "    layers.Dense(128, activation='relu'),\n",
    "    layers.Dense(64, activation='relu'),\n",
    "    layers.Dense(1, activation='sigmoid')])\n",
    "\n",
    "model_tfidf.summary()"
   ]
  },
  {
   "cell_type": "code",
   "execution_count": null,
   "metadata": {},
   "outputs": [
    {
     "name": "stdout",
     "output_type": "stream",
     "text": [
      "Epoch 1/150\n",
      "\u001b[1m80/80\u001b[0m \u001b[32m━━━━━━━━━━━━━━━━━━━━\u001b[0m\u001b[37m\u001b[0m \u001b[1m1s\u001b[0m 5ms/step - accuracy: 0.6374 - loss: 0.6181 - val_accuracy: 0.7469 - val_loss: 0.5341\n",
      "Epoch 2/150\n",
      "\u001b[1m80/80\u001b[0m \u001b[32m━━━━━━━━━━━━━━━━━━━━\u001b[0m\u001b[37m\u001b[0m \u001b[1m0s\u001b[0m 3ms/step - accuracy: 0.7678 - loss: 0.5107 - val_accuracy: 0.7704 - val_loss: 0.5015\n",
      "Epoch 3/150\n",
      "\u001b[1m80/80\u001b[0m \u001b[32m━━━━━━━━━━━━━━━━━━━━\u001b[0m\u001b[37m\u001b[0m \u001b[1m0s\u001b[0m 4ms/step - accuracy: 0.7816 - loss: 0.4907 - val_accuracy: 0.7830 - val_loss: 0.4753\n",
      "Epoch 4/150\n",
      "\u001b[1m80/80\u001b[0m \u001b[32m━━━━━━━━━━━━━━━━━━━━\u001b[0m\u001b[37m\u001b[0m \u001b[1m0s\u001b[0m 4ms/step - accuracy: 0.7973 - loss: 0.4480 - val_accuracy: 0.8019 - val_loss: 0.4599\n",
      "Epoch 5/150\n",
      "\u001b[1m80/80\u001b[0m \u001b[32m━━━━━━━━━━━━━━━━━━━━\u001b[0m\u001b[37m\u001b[0m \u001b[1m0s\u001b[0m 3ms/step - accuracy: 0.8084 - loss: 0.4353 - val_accuracy: 0.7893 - val_loss: 0.4494\n",
      "Epoch 6/150\n",
      "\u001b[1m80/80\u001b[0m \u001b[32m━━━━━━━━━━━━━━━━━━━━\u001b[0m\u001b[37m\u001b[0m \u001b[1m0s\u001b[0m 3ms/step - accuracy: 0.8183 - loss: 0.3979 - val_accuracy: 0.8082 - val_loss: 0.4353\n",
      "Epoch 7/150\n",
      "\u001b[1m80/80\u001b[0m \u001b[32m━━━━━━━━━━━━━━━━━━━━\u001b[0m\u001b[37m\u001b[0m \u001b[1m0s\u001b[0m 4ms/step - accuracy: 0.8157 - loss: 0.3916 - val_accuracy: 0.7925 - val_loss: 0.4344\n",
      "Epoch 8/150\n",
      "\u001b[1m80/80\u001b[0m \u001b[32m━━━━━━━━━━━━━━━━━━━━\u001b[0m\u001b[37m\u001b[0m \u001b[1m0s\u001b[0m 4ms/step - accuracy: 0.8262 - loss: 0.3747 - val_accuracy: 0.8035 - val_loss: 0.4339\n",
      "Epoch 9/150\n",
      "\u001b[1m80/80\u001b[0m \u001b[32m━━━━━━━━━━━━━━━━━━━━\u001b[0m\u001b[37m\u001b[0m \u001b[1m0s\u001b[0m 4ms/step - accuracy: 0.8535 - loss: 0.3426 - val_accuracy: 0.7987 - val_loss: 0.4308\n",
      "Epoch 10/150\n",
      "\u001b[1m80/80\u001b[0m \u001b[32m━━━━━━━━━━━━━━━━━━━━\u001b[0m\u001b[37m\u001b[0m \u001b[1m0s\u001b[0m 4ms/step - accuracy: 0.8461 - loss: 0.3476 - val_accuracy: 0.8050 - val_loss: 0.4203\n",
      "Epoch 11/150\n",
      "\u001b[1m80/80\u001b[0m \u001b[32m━━━━━━━━━━━━━━━━━━━━\u001b[0m\u001b[37m\u001b[0m \u001b[1m0s\u001b[0m 4ms/step - accuracy: 0.8536 - loss: 0.3237 - val_accuracy: 0.8003 - val_loss: 0.4503\n",
      "Epoch 12/150\n",
      "\u001b[1m80/80\u001b[0m \u001b[32m━━━━━━━━━━━━━━━━━━━━\u001b[0m\u001b[37m\u001b[0m \u001b[1m0s\u001b[0m 3ms/step - accuracy: 0.8390 - loss: 0.3476 - val_accuracy: 0.7972 - val_loss: 0.4222\n",
      "Epoch 13/150\n",
      "\u001b[1m80/80\u001b[0m \u001b[32m━━━━━━━━━━━━━━━━━━━━\u001b[0m\u001b[37m\u001b[0m \u001b[1m0s\u001b[0m 3ms/step - accuracy: 0.8576 - loss: 0.3168 - val_accuracy: 0.7987 - val_loss: 0.4234\n",
      "Epoch 14/150\n",
      "\u001b[1m80/80\u001b[0m \u001b[32m━━━━━━━━━━━━━━━━━━━━\u001b[0m\u001b[37m\u001b[0m \u001b[1m0s\u001b[0m 3ms/step - accuracy: 0.8570 - loss: 0.3173 - val_accuracy: 0.8097 - val_loss: 0.4309\n",
      "Epoch 15/150\n",
      "\u001b[1m80/80\u001b[0m \u001b[32m━━━━━━━━━━━━━━━━━━━━\u001b[0m\u001b[37m\u001b[0m \u001b[1m0s\u001b[0m 4ms/step - accuracy: 0.8707 - loss: 0.3022 - val_accuracy: 0.8097 - val_loss: 0.4196\n",
      "Epoch 16/150\n",
      "\u001b[1m80/80\u001b[0m \u001b[32m━━━━━━━━━━━━━━━━━━━━\u001b[0m\u001b[37m\u001b[0m \u001b[1m0s\u001b[0m 4ms/step - accuracy: 0.8681 - loss: 0.3008 - val_accuracy: 0.8066 - val_loss: 0.4247\n",
      "Epoch 17/150\n",
      "\u001b[1m80/80\u001b[0m \u001b[32m━━━━━━━━━━━━━━━━━━━━\u001b[0m\u001b[37m\u001b[0m \u001b[1m0s\u001b[0m 4ms/step - accuracy: 0.8663 - loss: 0.2926 - val_accuracy: 0.8050 - val_loss: 0.4233\n",
      "Epoch 18/150\n",
      "\u001b[1m80/80\u001b[0m \u001b[32m━━━━━━━━━━━━━━━━━━━━\u001b[0m\u001b[37m\u001b[0m \u001b[1m0s\u001b[0m 3ms/step - accuracy: 0.8823 - loss: 0.2917 - val_accuracy: 0.8082 - val_loss: 0.4302\n",
      "Epoch 19/150\n",
      "\u001b[1m80/80\u001b[0m \u001b[32m━━━━━━━━━━━━━━━━━━━━\u001b[0m\u001b[37m\u001b[0m \u001b[1m0s\u001b[0m 4ms/step - accuracy: 0.8823 - loss: 0.2780 - val_accuracy: 0.8145 - val_loss: 0.4271\n",
      "Epoch 20/150\n",
      "\u001b[1m80/80\u001b[0m \u001b[32m━━━━━━━━━━━━━━━━━━━━\u001b[0m\u001b[37m\u001b[0m \u001b[1m0s\u001b[0m 4ms/step - accuracy: 0.8807 - loss: 0.2710 - val_accuracy: 0.8082 - val_loss: 0.4286\n",
      "Epoch 21/150\n",
      "\u001b[1m80/80\u001b[0m \u001b[32m━━━━━━━━━━━━━━━━━━━━\u001b[0m\u001b[37m\u001b[0m \u001b[1m0s\u001b[0m 3ms/step - accuracy: 0.9011 - loss: 0.2499 - val_accuracy: 0.8066 - val_loss: 0.4314\n",
      "Epoch 22/150\n",
      "\u001b[1m80/80\u001b[0m \u001b[32m━━━━━━━━━━━━━━━━━━━━\u001b[0m\u001b[37m\u001b[0m \u001b[1m0s\u001b[0m 4ms/step - accuracy: 0.8941 - loss: 0.2581 - val_accuracy: 0.8019 - val_loss: 0.4250\n",
      "Epoch 23/150\n",
      "\u001b[1m80/80\u001b[0m \u001b[32m━━━━━━━━━━━━━━━━━━━━\u001b[0m\u001b[37m\u001b[0m \u001b[1m0s\u001b[0m 3ms/step - accuracy: 0.9039 - loss: 0.2443 - val_accuracy: 0.8035 - val_loss: 0.4331\n",
      "Epoch 24/150\n",
      "\u001b[1m80/80\u001b[0m \u001b[32m━━━━━━━━━━━━━━━━━━━━\u001b[0m\u001b[37m\u001b[0m \u001b[1m0s\u001b[0m 4ms/step - accuracy: 0.8946 - loss: 0.2641 - val_accuracy: 0.7940 - val_loss: 0.4672\n",
      "Epoch 25/150\n",
      "\u001b[1m80/80\u001b[0m \u001b[32m━━━━━━━━━━━━━━━━━━━━\u001b[0m\u001b[37m\u001b[0m \u001b[1m0s\u001b[0m 3ms/step - accuracy: 0.8945 - loss: 0.2483 - val_accuracy: 0.8145 - val_loss: 0.4372\n",
      "Epoch 26/150\n",
      "\u001b[1m80/80\u001b[0m \u001b[32m━━━━━━━━━━━━━━━━━━━━\u001b[0m\u001b[37m\u001b[0m \u001b[1m0s\u001b[0m 4ms/step - accuracy: 0.9117 - loss: 0.2174 - val_accuracy: 0.8019 - val_loss: 0.4445\n",
      "Epoch 27/150\n",
      "\u001b[1m80/80\u001b[0m \u001b[32m━━━━━━━━━━━━━━━━━━━━\u001b[0m\u001b[37m\u001b[0m \u001b[1m0s\u001b[0m 4ms/step - accuracy: 0.9157 - loss: 0.2229 - val_accuracy: 0.8003 - val_loss: 0.4788\n",
      "Epoch 28/150\n",
      "\u001b[1m80/80\u001b[0m \u001b[32m━━━━━━━━━━━━━━━━━━━━\u001b[0m\u001b[37m\u001b[0m \u001b[1m0s\u001b[0m 3ms/step - accuracy: 0.8982 - loss: 0.2211 - val_accuracy: 0.7972 - val_loss: 0.4464\n",
      "Epoch 29/150\n",
      "\u001b[1m80/80\u001b[0m \u001b[32m━━━━━━━━━━━━━━━━━━━━\u001b[0m\u001b[37m\u001b[0m \u001b[1m0s\u001b[0m 4ms/step - accuracy: 0.9150 - loss: 0.2141 - val_accuracy: 0.8113 - val_loss: 0.4492\n",
      "Epoch 30/150\n",
      "\u001b[1m80/80\u001b[0m \u001b[32m━━━━━━━━━━━━━━━━━━━━\u001b[0m\u001b[37m\u001b[0m \u001b[1m0s\u001b[0m 3ms/step - accuracy: 0.9265 - loss: 0.2031 - val_accuracy: 0.8003 - val_loss: 0.4890\n",
      "Epoch 31/150\n",
      "\u001b[1m80/80\u001b[0m \u001b[32m━━━━━━━━━━━━━━━━━━━━\u001b[0m\u001b[37m\u001b[0m \u001b[1m0s\u001b[0m 3ms/step - accuracy: 0.9128 - loss: 0.2078 - val_accuracy: 0.7893 - val_loss: 0.4718\n",
      "Epoch 32/150\n",
      "\u001b[1m80/80\u001b[0m \u001b[32m━━━━━━━━━━━━━━━━━━━━\u001b[0m\u001b[37m\u001b[0m \u001b[1m0s\u001b[0m 3ms/step - accuracy: 0.9175 - loss: 0.2051 - val_accuracy: 0.7987 - val_loss: 0.4679\n",
      "Epoch 33/150\n",
      "\u001b[1m80/80\u001b[0m \u001b[32m━━━━━━━━━━━━━━━━━━━━\u001b[0m\u001b[37m\u001b[0m \u001b[1m0s\u001b[0m 4ms/step - accuracy: 0.9123 - loss: 0.1998 - val_accuracy: 0.8003 - val_loss: 0.4703\n",
      "Epoch 34/150\n",
      "\u001b[1m80/80\u001b[0m \u001b[32m━━━━━━━━━━━━━━━━━━━━\u001b[0m\u001b[37m\u001b[0m \u001b[1m0s\u001b[0m 4ms/step - accuracy: 0.9249 - loss: 0.1850 - val_accuracy: 0.8019 - val_loss: 0.4745\n",
      "Epoch 35/150\n",
      "\u001b[1m80/80\u001b[0m \u001b[32m━━━━━━━━━━━━━━━━━━━━\u001b[0m\u001b[37m\u001b[0m \u001b[1m0s\u001b[0m 4ms/step - accuracy: 0.9334 - loss: 0.1887 - val_accuracy: 0.7925 - val_loss: 0.4863\n",
      "Epoch 36/150\n",
      "\u001b[1m80/80\u001b[0m \u001b[32m━━━━━━━━━━━━━━━━━━━━\u001b[0m\u001b[37m\u001b[0m \u001b[1m0s\u001b[0m 4ms/step - accuracy: 0.9368 - loss: 0.1707 - val_accuracy: 0.8003 - val_loss: 0.4881\n",
      "Epoch 37/150\n",
      "\u001b[1m80/80\u001b[0m \u001b[32m━━━━━━━━━━━━━━━━━━━━\u001b[0m\u001b[37m\u001b[0m \u001b[1m0s\u001b[0m 4ms/step - accuracy: 0.9357 - loss: 0.1701 - val_accuracy: 0.7925 - val_loss: 0.5072\n",
      "Epoch 38/150\n",
      "\u001b[1m80/80\u001b[0m \u001b[32m━━━━━━━━━━━━━━━━━━━━\u001b[0m\u001b[37m\u001b[0m \u001b[1m0s\u001b[0m 3ms/step - accuracy: 0.9366 - loss: 0.1631 - val_accuracy: 0.7956 - val_loss: 0.5113\n",
      "Epoch 39/150\n",
      "\u001b[1m80/80\u001b[0m \u001b[32m━━━━━━━━━━━━━━━━━━━━\u001b[0m\u001b[37m\u001b[0m \u001b[1m0s\u001b[0m 3ms/step - accuracy: 0.9380 - loss: 0.1724 - val_accuracy: 0.7909 - val_loss: 0.5022\n",
      "Epoch 40/150\n",
      "\u001b[1m80/80\u001b[0m \u001b[32m━━━━━━━━━━━━━━━━━━━━\u001b[0m\u001b[37m\u001b[0m \u001b[1m0s\u001b[0m 4ms/step - accuracy: 0.9343 - loss: 0.1663 - val_accuracy: 0.7893 - val_loss: 0.5165\n",
      "Epoch 41/150\n",
      "\u001b[1m80/80\u001b[0m \u001b[32m━━━━━━━━━━━━━━━━━━━━\u001b[0m\u001b[37m\u001b[0m \u001b[1m0s\u001b[0m 3ms/step - accuracy: 0.9450 - loss: 0.1525 - val_accuracy: 0.7940 - val_loss: 0.5064\n",
      "Epoch 42/150\n",
      "\u001b[1m80/80\u001b[0m \u001b[32m━━━━━━━━━━━━━━━━━━━━\u001b[0m\u001b[37m\u001b[0m \u001b[1m0s\u001b[0m 4ms/step - accuracy: 0.9378 - loss: 0.1523 - val_accuracy: 0.7956 - val_loss: 0.5143\n",
      "Epoch 43/150\n",
      "\u001b[1m80/80\u001b[0m \u001b[32m━━━━━━━━━━━━━━━━━━━━\u001b[0m\u001b[37m\u001b[0m \u001b[1m0s\u001b[0m 3ms/step - accuracy: 0.9412 - loss: 0.1478 - val_accuracy: 0.7862 - val_loss: 0.5139\n",
      "Epoch 44/150\n",
      "\u001b[1m80/80\u001b[0m \u001b[32m━━━━━━━━━━━━━━━━━━━━\u001b[0m\u001b[37m\u001b[0m \u001b[1m0s\u001b[0m 4ms/step - accuracy: 0.9472 - loss: 0.1386 - val_accuracy: 0.7940 - val_loss: 0.5134\n",
      "Epoch 45/150\n",
      "\u001b[1m80/80\u001b[0m \u001b[32m━━━━━━━━━━━━━━━━━━━━\u001b[0m\u001b[37m\u001b[0m \u001b[1m0s\u001b[0m 3ms/step - accuracy: 0.9561 - loss: 0.1308 - val_accuracy: 0.7893 - val_loss: 0.5371\n",
      "Epoch 46/150\n",
      "\u001b[1m80/80\u001b[0m \u001b[32m━━━━━━━━━━━━━━━━━━━━\u001b[0m\u001b[37m\u001b[0m \u001b[1m0s\u001b[0m 4ms/step - accuracy: 0.9634 - loss: 0.1235 - val_accuracy: 0.7830 - val_loss: 0.5404\n",
      "Epoch 47/150\n",
      "\u001b[1m80/80\u001b[0m \u001b[32m━━━━━━━━━━━━━━━━━━━━\u001b[0m\u001b[37m\u001b[0m \u001b[1m0s\u001b[0m 3ms/step - accuracy: 0.9563 - loss: 0.1213 - val_accuracy: 0.8035 - val_loss: 0.5411\n",
      "Epoch 48/150\n",
      "\u001b[1m80/80\u001b[0m \u001b[32m━━━━━━━━━━━━━━━━━━━━\u001b[0m\u001b[37m\u001b[0m \u001b[1m0s\u001b[0m 4ms/step - accuracy: 0.9526 - loss: 0.1249 - val_accuracy: 0.7893 - val_loss: 0.5586\n",
      "Epoch 49/150\n",
      "\u001b[1m80/80\u001b[0m \u001b[32m━━━━━━━━━━━━━━━━━━━━\u001b[0m\u001b[37m\u001b[0m \u001b[1m0s\u001b[0m 3ms/step - accuracy: 0.9634 - loss: 0.1197 - val_accuracy: 0.7846 - val_loss: 0.5672\n",
      "Epoch 50/150\n",
      "\u001b[1m80/80\u001b[0m \u001b[32m━━━━━━━━━━━━━━━━━━━━\u001b[0m\u001b[37m\u001b[0m \u001b[1m0s\u001b[0m 4ms/step - accuracy: 0.9649 - loss: 0.1173 - val_accuracy: 0.7877 - val_loss: 0.5764\n",
      "Epoch 51/150\n",
      "\u001b[1m80/80\u001b[0m \u001b[32m━━━━━━━━━━━━━━━━━━━━\u001b[0m\u001b[37m\u001b[0m \u001b[1m0s\u001b[0m 4ms/step - accuracy: 0.9641 - loss: 0.1150 - val_accuracy: 0.8019 - val_loss: 0.5645\n",
      "Epoch 52/150\n",
      "\u001b[1m80/80\u001b[0m \u001b[32m━━━━━━━━━━━━━━━━━━━━\u001b[0m\u001b[37m\u001b[0m \u001b[1m0s\u001b[0m 3ms/step - accuracy: 0.9644 - loss: 0.1041 - val_accuracy: 0.7752 - val_loss: 0.6434\n",
      "Epoch 53/150\n",
      "\u001b[1m80/80\u001b[0m \u001b[32m━━━━━━━━━━━━━━━━━━━━\u001b[0m\u001b[37m\u001b[0m \u001b[1m0s\u001b[0m 4ms/step - accuracy: 0.9650 - loss: 0.1108 - val_accuracy: 0.8003 - val_loss: 0.5745\n",
      "Epoch 54/150\n",
      "\u001b[1m80/80\u001b[0m \u001b[32m━━━━━━━━━━━━━━━━━━━━\u001b[0m\u001b[37m\u001b[0m \u001b[1m0s\u001b[0m 4ms/step - accuracy: 0.9687 - loss: 0.1020 - val_accuracy: 0.7925 - val_loss: 0.5938\n",
      "Epoch 55/150\n",
      "\u001b[1m80/80\u001b[0m \u001b[32m━━━━━━━━━━━━━━━━━━━━\u001b[0m\u001b[37m\u001b[0m \u001b[1m0s\u001b[0m 4ms/step - accuracy: 0.9702 - loss: 0.0935 - val_accuracy: 0.7846 - val_loss: 0.6204\n",
      "Epoch 56/150\n",
      "\u001b[1m80/80\u001b[0m \u001b[32m━━━━━━━━━━━━━━━━━━━━\u001b[0m\u001b[37m\u001b[0m \u001b[1m0s\u001b[0m 3ms/step - accuracy: 0.9746 - loss: 0.0913 - val_accuracy: 0.7862 - val_loss: 0.6305\n",
      "Epoch 57/150\n",
      "\u001b[1m80/80\u001b[0m \u001b[32m━━━━━━━━━━━━━━━━━━━━\u001b[0m\u001b[37m\u001b[0m \u001b[1m0s\u001b[0m 3ms/step - accuracy: 0.9674 - loss: 0.0990 - val_accuracy: 0.7972 - val_loss: 0.6180\n",
      "Epoch 58/150\n",
      "\u001b[1m80/80\u001b[0m \u001b[32m━━━━━━━━━━━━━━━━━━━━\u001b[0m\u001b[37m\u001b[0m \u001b[1m0s\u001b[0m 3ms/step - accuracy: 0.9743 - loss: 0.0807 - val_accuracy: 0.7846 - val_loss: 0.6752\n",
      "Epoch 59/150\n",
      "\u001b[1m80/80\u001b[0m \u001b[32m━━━━━━━━━━━━━━━━━━━━\u001b[0m\u001b[37m\u001b[0m \u001b[1m0s\u001b[0m 3ms/step - accuracy: 0.9701 - loss: 0.0867 - val_accuracy: 0.7909 - val_loss: 0.6391\n",
      "Epoch 60/150\n",
      "\u001b[1m80/80\u001b[0m \u001b[32m━━━━━━━━━━━━━━━━━━━━\u001b[0m\u001b[37m\u001b[0m \u001b[1m0s\u001b[0m 4ms/step - accuracy: 0.9756 - loss: 0.0815 - val_accuracy: 0.7862 - val_loss: 0.7071\n",
      "Epoch 61/150\n",
      "\u001b[1m80/80\u001b[0m \u001b[32m━━━━━━━━━━━━━━━━━━━━\u001b[0m\u001b[37m\u001b[0m \u001b[1m0s\u001b[0m 4ms/step - accuracy: 0.9729 - loss: 0.0810 - val_accuracy: 0.7846 - val_loss: 0.6682\n",
      "Epoch 62/150\n",
      "\u001b[1m80/80\u001b[0m \u001b[32m━━━━━━━━━━━━━━━━━━━━\u001b[0m\u001b[37m\u001b[0m \u001b[1m0s\u001b[0m 4ms/step - accuracy: 0.9677 - loss: 0.0878 - val_accuracy: 0.7909 - val_loss: 0.6631\n",
      "Epoch 63/150\n",
      "\u001b[1m80/80\u001b[0m \u001b[32m━━━━━━━━━━━━━━━━━━━━\u001b[0m\u001b[37m\u001b[0m \u001b[1m0s\u001b[0m 4ms/step - accuracy: 0.9749 - loss: 0.0771 - val_accuracy: 0.7909 - val_loss: 0.6950\n",
      "Epoch 64/150\n",
      "\u001b[1m80/80\u001b[0m \u001b[32m━━━━━━━━━━━━━━━━━━━━\u001b[0m\u001b[37m\u001b[0m \u001b[1m0s\u001b[0m 4ms/step - accuracy: 0.9798 - loss: 0.0719 - val_accuracy: 0.7987 - val_loss: 0.6680\n",
      "Epoch 65/150\n",
      "\u001b[1m80/80\u001b[0m \u001b[32m━━━━━━━━━━━━━━━━━━━━\u001b[0m\u001b[37m\u001b[0m \u001b[1m0s\u001b[0m 4ms/step - accuracy: 0.9836 - loss: 0.0633 - val_accuracy: 0.7862 - val_loss: 0.6883\n",
      "Epoch 66/150\n",
      "\u001b[1m80/80\u001b[0m \u001b[32m━━━━━━━━━━━━━━━━━━━━\u001b[0m\u001b[37m\u001b[0m \u001b[1m0s\u001b[0m 3ms/step - accuracy: 0.9819 - loss: 0.0688 - val_accuracy: 0.7909 - val_loss: 0.7092\n",
      "Epoch 67/150\n",
      "\u001b[1m80/80\u001b[0m \u001b[32m━━━━━━━━━━━━━━━━━━━━\u001b[0m\u001b[37m\u001b[0m \u001b[1m0s\u001b[0m 3ms/step - accuracy: 0.9801 - loss: 0.0613 - val_accuracy: 0.7862 - val_loss: 0.7148\n",
      "Epoch 68/150\n",
      "\u001b[1m80/80\u001b[0m \u001b[32m━━━━━━━━━━━━━━━━━━━━\u001b[0m\u001b[37m\u001b[0m \u001b[1m0s\u001b[0m 4ms/step - accuracy: 0.9835 - loss: 0.0641 - val_accuracy: 0.7925 - val_loss: 0.7091\n",
      "Epoch 69/150\n",
      "\u001b[1m80/80\u001b[0m \u001b[32m━━━━━━━━━━━━━━━━━━━━\u001b[0m\u001b[37m\u001b[0m \u001b[1m0s\u001b[0m 4ms/step - accuracy: 0.9758 - loss: 0.0694 - val_accuracy: 0.7987 - val_loss: 0.7221\n",
      "Epoch 69: early stopping\n",
      "Restoring model weights from the end of the best epoch: 19.\n"
     ]
    }
   ],
   "source": [
    "# Compilación del modelo previa a entrenamiento\n",
    "model_tfidf.compile(optimizer=optimizers.Adam(learning_rate=0.0001), loss='binary_crossentropy', metrics=['accuracy'])\n",
    "\n",
    "# Entrenamiento del modelo\n",
    "history = model_tfidf.fit(X_train_f, y_train_f, epochs=150, batch_size=32, validation_data=(X_val_f, y_val_f), callbacks=[early_stopping])"
   ]
  },
  {
   "cell_type": "code",
   "execution_count": 66,
   "metadata": {},
   "outputs": [
    {
     "data": {
      "image/png": "[encoded data removed]",
      "text/plain": [
       "<Figure size 1000x600 with 1 Axes>"
      ]
     },
     "metadata": {},
     "output_type": "display_data"
    }
   ],
   "source": [
    "plt.figure(figsize=(10, 6))\n",
    "plt.plot(history.history['val_accuracy'], label='Precisión de validación')\n",
    "plt.plot(history.history['val_loss'], label= 'Función de pérdida en validación')\n",
    "\n",
    "plt.axvline(x=np.argmax(history.history['val_accuracy']), color='r', linestyle='-', linewidth=1, label='Early Stopping Mejor modelo')\n",
    "plt.xlabel('Épocas')\n",
    "plt.ylabel('Precisión y Pérdida')\n",
    "plt.legend()\n",
    "plt.show()"
   ]
  },
  {
   "cell_type": "code",
   "execution_count": 67,
   "metadata": {},
   "outputs": [
    {
     "name": "stdout",
     "output_type": "stream",
     "text": [
      "\u001b[1m25/25\u001b[0m \u001b[32m━━━━━━━━━━━━━━━━━━━━\u001b[0m\u001b[37m\u001b[0m \u001b[1m0s\u001b[0m 1ms/step - accuracy: 0.8275 - loss: 0.4043 \n",
      "Test Accuracy: 0.8251572251319885\n",
      "Test Loss: 0.42199262976646423\n"
     ]
    }
   ],
   "source": [
    "# Testeo, predicción y evaluación del modelo\n",
    "test_loss, test_acc = model_tfidf.evaluate(X_test_encoded, y_test)\n",
    "print(f\"Test Accuracy: {test_acc}\")\n",
    "print(f\"Test Loss: {test_loss}\")"
   ]
  },
  {
   "cell_type": "markdown",
   "metadata": {},
   "source": [
    "**E8:** Hasta ahora hemos trabajado solo con unigramas, los tokens están compuesto por AAs aislados. También es posible construir tokens con combinaciones de AAs (n-gramas). Repite el ejercicio E7 pero esta vez empleando bigramas. ¿Qué tamaño tiene el vocabulario ahora? ¿Por qué MLP ha aumentado considerablemente el número de parámetros a entrenar? ¿Qué ventaja podría aportar el trabajar con n-gramas (n > 1) en comparación de unigramas?"
   ]
  },
  {
   "cell_type": "markdown",
   "metadata": {},
   "source": [
    "**Ahora el vocabulario tiene un tamaño de 486 tokens diferentes, a los 25 únicos se les añade todas las distintas combinaciones de parejas de aminoácidos.**\n",
    "\n",
    "**Porque ahora, la entrada del modelo no es un vector de tamaño 25, sino que se da un input mucho mayor, esto lleva a que en la primera capa del modelo hayan muchos más parámetros a ajustar. Se puede observar claramente en el resumen de la construcción de la arquitectura, en los modelos anteriores la primera capa contiene 13.312 parámetros entrenables y este nuevo modelo contiene 249.344 parámetros entrenable solamente en la primera capa.**\n",
    "\n",
    "**El uso de bigramas nos podría ayudar a mejorar la precisión del modelo ya que este va a ser capaz de capturar:**\n",
    "- Interacciones locales entre residuos\n",
    "- Información primordial que proporcionan parejas de aminoácidos sobre la función biológica del péptido\n",
    "- Similitudes en secuencias cortas"
   ]
  },
  {
   "cell_type": "code",
   "execution_count": 69,
   "metadata": {},
   "outputs": [],
   "source": [
    "# Inicializar el vectorizador\n",
    "vectorizer = TextVectorization(\n",
    "    max_tokens=None,  # Número de aminoácidos únicos\n",
    "    output_mode='tf-idf',  # Modo de salida \n",
    "    standardize=None,  # No estandarizamos\n",
    "    split='character',  # Dividimos por caracteres(aminoácidos)\n",
    "    ngrams=(1, 2)  # Incluimos n-gramas de 1 y 2 caracteres\n",
    ")\n",
    "\n",
    "# Ajustar el vectorizador a las secuencias, nos ajustamos solo al conjunto de entrenamiento para evitar la exposición a datos de test\n",
    "vectorizer.adapt(X_train)\n",
    "\n",
    "# Transformamos los péptidos mediante la codificación TF-IDF con el uso de bigramas\n",
    "X_train_encoded = vectorizer(X_train)\n",
    "X_test_encoded = vectorizer(X_test)"
   ]
  },
  {
   "cell_type": "code",
   "execution_count": 70,
   "metadata": {},
   "outputs": [
    {
     "data": {
      "text/html": [
       "<div>\n",
       "<style scoped>\n",
       "    .dataframe tbody tr th:only-of-type {\n",
       "        vertical-align: middle;\n",
       "    }\n",
       "\n",
       "    .dataframe tbody tr th {\n",
       "        vertical-align: top;\n",
       "    }\n",
       "\n",
       "    .dataframe thead th {\n",
       "        text-align: right;\n",
       "    }\n",
       "</style>\n",
       "<table border=\"1\" class=\"dataframe\">\n",
       "  <thead>\n",
       "    <tr style=\"text-align: right;\">\n",
       "      <th></th>\n",
       "      <th>aa_seq</th>\n",
       "      <th>aa_len</th>\n",
       "      <th>AMP</th>\n",
       "      <th>Multi-Hot</th>\n",
       "      <th>TF-IDF</th>\n",
       "      <th>TF-IDF_with_bigrams</th>\n",
       "    </tr>\n",
       "  </thead>\n",
       "  <tbody>\n",
       "    <tr>\n",
       "      <th>0</th>\n",
       "      <td>GNGVLKTISHECNMNTWQFLFTCC</td>\n",
       "      <td>24</td>\n",
       "      <td>True</td>\n",
       "      <td>[0, 1, 1, 1, 0, 0, 1, 1, 1, 1, 1, 1, 0, 1, 1, ...</td>\n",
       "      <td>[0.0, 0.79246056, 1.5467752, 1.56601, 0.0, 0.0...</td>\n",
       "      <td>[0.0, 0.79246056, 1.5467752, 1.56601, 0.0, 0.0...</td>\n",
       "    </tr>\n",
       "    <tr>\n",
       "      <th>1</th>\n",
       "      <td>TTKNYGNGVCNSVNWCQCGNVWASCNLATGCAAWLCKLA</td>\n",
       "      <td>39</td>\n",
       "      <td>True</td>\n",
       "      <td>[0, 1, 1, 1, 1, 0, 1, 1, 0, 1, 0, 1, 0, 1, 0, ...</td>\n",
       "      <td>[0.0, 1.5849211, 2.3201628, 3.13202, 4.0539956...</td>\n",
       "      <td>[0.0, 1.5849211, 2.3201628, 3.13202, 4.0539956...</td>\n",
       "    </tr>\n",
       "    <tr>\n",
       "      <th>2</th>\n",
       "      <td>SNDSLWYGVGQFMGKQANCITNHPVKHMIIPGYCLSKILG</td>\n",
       "      <td>40</td>\n",
       "      <td>True</td>\n",
       "      <td>[0, 1, 1, 1, 1, 0, 1, 1, 1, 1, 0, 1, 1, 1, 1, ...</td>\n",
       "      <td>[0.0, 2.3773818, 2.3201628, 3.915025, 0.810799...</td>\n",
       "      <td>[0.0, 2.3773818, 2.3201628, 3.915025, 0.810799...</td>\n",
       "    </tr>\n",
       "    <tr>\n",
       "      <th>3</th>\n",
       "      <td>IAPIIVAGLGYLVKDAWDHSDQIISGFKKGWNGGRRK</td>\n",
       "      <td>37</td>\n",
       "      <td>True</td>\n",
       "      <td>[0, 1, 1, 1, 1, 1, 1, 1, 1, 0, 0, 0, 1, 1, 1, ...</td>\n",
       "      <td>[0.0, 3.1698422, 1.5467752, 4.69803, 2.4323974...</td>\n",
       "      <td>[0.0, 3.1698422, 1.5467752, 4.69803, 2.4323974...</td>\n",
       "    </tr>\n",
       "    <tr>\n",
       "      <th>4</th>\n",
       "      <td>FNRGGYNFGKSVRHVVDAIGSVAGIRGILKSIR</td>\n",
       "      <td>33</td>\n",
       "      <td>True</td>\n",
       "      <td>[0, 1, 1, 1, 1, 1, 1, 1, 1, 0, 0, 0, 0, 1, 1, ...</td>\n",
       "      <td>[0.0, 1.5849211, 0.7733876, 4.69803, 1.6215982...</td>\n",
       "      <td>[0.0, 1.5849211, 0.7733876, 4.69803, 1.6215982...</td>\n",
       "    </tr>\n",
       "    <tr>\n",
       "      <th>5</th>\n",
       "      <td>VFHAYSARGVRNNYKSAVGPADWVISAVRGFIHG</td>\n",
       "      <td>34</td>\n",
       "      <td>True</td>\n",
       "      <td>[0, 1, 0, 1, 1, 1, 1, 1, 1, 0, 0, 0, 1, 1, 1, ...</td>\n",
       "      <td>[0.0, 0.79246056, 0.0, 3.13202, 4.0539956, 2.6...</td>\n",
       "      <td>[0.0, 0.79246056, 0.0, 3.13202, 4.0539956, 2.6...</td>\n",
       "    </tr>\n",
       "    <tr>\n",
       "      <th>6</th>\n",
       "      <td>RRSRKNGIGYAIGYAFGAVERAVLGGSRDYNK</td>\n",
       "      <td>32</td>\n",
       "      <td>True</td>\n",
       "      <td>[0, 1, 1, 1, 1, 1, 1, 1, 1, 0, 1, 0, 0, 1, 1, ...</td>\n",
       "      <td>[0.0, 1.5849211, 0.7733876, 4.69803, 3.2431965...</td>\n",
       "      <td>[0.0, 1.5849211, 0.7733876, 4.69803, 3.2431965...</td>\n",
       "    </tr>\n",
       "    <tr>\n",
       "      <th>7</th>\n",
       "      <td>KGLGKLIGIDWLLGQAKDAVKQYKKDYKRWH</td>\n",
       "      <td>31</td>\n",
       "      <td>True</td>\n",
       "      <td>[0, 1, 1, 1, 1, 1, 0, 1, 1, 0, 0, 0, 0, 0, 0, ...</td>\n",
       "      <td>[0.0, 5.547224, 3.0935504, 3.13202, 1.6215982,...</td>\n",
       "      <td>[0.0, 5.547224, 3.0935504, 3.13202, 1.6215982,...</td>\n",
       "    </tr>\n",
       "  </tbody>\n",
       "</table>\n",
       "</div>"
      ],
      "text/plain": [
       "                                     aa_seq  aa_len   AMP  \\\n",
       "0                  GNGVLKTISHECNMNTWQFLFTCC      24  True   \n",
       "1   TTKNYGNGVCNSVNWCQCGNVWASCNLATGCAAWLCKLA      39  True   \n",
       "2  SNDSLWYGVGQFMGKQANCITNHPVKHMIIPGYCLSKILG      40  True   \n",
       "3     IAPIIVAGLGYLVKDAWDHSDQIISGFKKGWNGGRRK      37  True   \n",
       "4         FNRGGYNFGKSVRHVVDAIGSVAGIRGILKSIR      33  True   \n",
       "5        VFHAYSARGVRNNYKSAVGPADWVISAVRGFIHG      34  True   \n",
       "6          RRSRKNGIGYAIGYAFGAVERAVLGGSRDYNK      32  True   \n",
       "7           KGLGKLIGIDWLLGQAKDAVKQYKKDYKRWH      31  True   \n",
       "\n",
       "                                           Multi-Hot  \\\n",
       "0  [0, 1, 1, 1, 0, 0, 1, 1, 1, 1, 1, 1, 0, 1, 1, ...   \n",
       "1  [0, 1, 1, 1, 1, 0, 1, 1, 0, 1, 0, 1, 0, 1, 0, ...   \n",
       "2  [0, 1, 1, 1, 1, 0, 1, 1, 1, 1, 0, 1, 1, 1, 1, ...   \n",
       "3  [0, 1, 1, 1, 1, 1, 1, 1, 1, 0, 0, 0, 1, 1, 1, ...   \n",
       "4  [0, 1, 1, 1, 1, 1, 1, 1, 1, 0, 0, 0, 0, 1, 1, ...   \n",
       "5  [0, 1, 0, 1, 1, 1, 1, 1, 1, 0, 0, 0, 1, 1, 1, ...   \n",
       "6  [0, 1, 1, 1, 1, 1, 1, 1, 1, 0, 1, 0, 0, 1, 1, ...   \n",
       "7  [0, 1, 1, 1, 1, 1, 0, 1, 1, 0, 0, 0, 0, 0, 0, ...   \n",
       "\n",
       "                                              TF-IDF  \\\n",
       "0  [0.0, 0.79246056, 1.5467752, 1.56601, 0.0, 0.0...   \n",
       "1  [0.0, 1.5849211, 2.3201628, 3.13202, 4.0539956...   \n",
       "2  [0.0, 2.3773818, 2.3201628, 3.915025, 0.810799...   \n",
       "3  [0.0, 3.1698422, 1.5467752, 4.69803, 2.4323974...   \n",
       "4  [0.0, 1.5849211, 0.7733876, 4.69803, 1.6215982...   \n",
       "5  [0.0, 0.79246056, 0.0, 3.13202, 4.0539956, 2.6...   \n",
       "6  [0.0, 1.5849211, 0.7733876, 4.69803, 3.2431965...   \n",
       "7  [0.0, 5.547224, 3.0935504, 3.13202, 1.6215982,...   \n",
       "\n",
       "                                 TF-IDF_with_bigrams  \n",
       "0  [0.0, 0.79246056, 1.5467752, 1.56601, 0.0, 0.0...  \n",
       "1  [0.0, 1.5849211, 2.3201628, 3.13202, 4.0539956...  \n",
       "2  [0.0, 2.3773818, 2.3201628, 3.915025, 0.810799...  \n",
       "3  [0.0, 3.1698422, 1.5467752, 4.69803, 2.4323974...  \n",
       "4  [0.0, 1.5849211, 0.7733876, 4.69803, 1.6215982...  \n",
       "5  [0.0, 0.79246056, 0.0, 3.13202, 4.0539956, 2.6...  \n",
       "6  [0.0, 1.5849211, 0.7733876, 4.69803, 3.2431965...  \n",
       "7  [0.0, 5.547224, 3.0935504, 3.13202, 1.6215982,...  "
      ]
     },
     "execution_count": 70,
     "metadata": {},
     "output_type": "execute_result"
    }
   ],
   "source": [
    "peptidos['TF-IDF_with_bigrams'] = peptidos['aa_seq'].apply(lambda x: vectorizer(x).numpy())\n",
    "peptidos.head(8)"
   ]
  },
  {
   "cell_type": "code",
   "execution_count": 71,
   "metadata": {},
   "outputs": [
    {
     "name": "stdout",
     "output_type": "stream",
     "text": [
      "Vocabulario de carácteres e índices asociados a cada uno: \n",
      "  {'[UNK]': 0, np.str_('K'): 1, np.str_('L'): 2, np.str_('G'): 3, np.str_('A'): 4, np.str_('R'): 5, np.str_('S'): 6, np.str_('V'): 7, np.str_('I'): 8, np.str_('C'): 9, np.str_('E'): 10, np.str_('T'): 11, np.str_('P'): 12, np.str_('N'): 13, np.str_('F'): 14, np.str_('D'): 15, np.str_('Q'): 16, np.str_('Y'): 17, np.str_('M'): 18, np.str_('H'): 19, np.str_('W'): 20, np.str_('K K'): 21, np.str_('R R'): 22, np.str_('L L'): 23, np.str_('G G'): 24, np.str_('L K'): 25, np.str_('A A'): 26, np.str_('A K'): 27, np.str_('K L'): 28, np.str_('G K'): 29, np.str_('G L'): 30, np.str_('L A'): 31, np.str_('L G'): 32, np.str_('K R'): 33, np.str_('A L'): 34, np.str_('K A'): 35, np.str_('K G'): 36, np.str_('K I'): 37, np.str_('S L'): 38, np.str_('L S'): 39, np.str_('A G'): 40, np.str_('R K'): 41, np.str_('S G'): 42, np.str_('V L'): 43, np.str_('V K'): 44, np.str_('I K'): 45, np.str_('F L'): 46, np.str_('K V'): 47, np.str_('R L'): 48, np.str_('I L'): 49, np.str_('V A'): 50, np.str_('K S'): 51, np.str_('S K'): 52, np.str_('G R'): 53, np.str_('A V'): 54, np.str_('G A'): 55, np.str_('C R'): 56, np.str_('L R'): 57, np.str_('L V'): 58, np.str_('L I'): 59, np.str_('E E'): 60, np.str_('G I'): 61, np.str_('G V'): 62, np.str_('K C'): 63, np.str_('C K'): 64, np.str_('G S'): 65, np.str_('E K'): 66, np.str_('I G'): 67, np.str_('R G'): 68, np.str_('A R'): 69, np.str_('V S'): 70, np.str_('L P'): 71, np.str_('S S'): 72, np.str_('V G'): 73, np.str_('V V'): 74, np.str_('K T'): 75, np.str_('K N'): 76, np.str_('A S'): 77, np.str_('V R'): 78, np.str_('A I'): 79, np.str_('S V'): 80, np.str_('R V'): 81, np.str_('K E'): 82, np.str_('R I'): 83, np.str_('T L'): 84, np.str_('I S'): 85, np.str_('I A'): 86, np.str_('R C'): 87, np.str_('G F'): 88, np.str_('T A'): 89, np.str_('C C'): 90, np.str_('G T'): 91, np.str_('S A'): 92, np.str_('S C'): 93, np.str_('L F'): 94, np.str_('L T'): 95, np.str_('T K'): 96, np.str_('T C'): 97, np.str_('T G'): 98, np.str_('E L'): 99, np.str_('S R'): 100, np.str_('G E'): 101, np.str_('N K'): 102, np.str_('C G'): 103, np.str_('R S'): 104, np.str_('V I'): 105, np.str_('V C'): 106, np.str_('P K'): 107, np.str_('L E'): 108, np.str_('R A'): 109, np.str_('L C'): 110, np.str_('P S'): 111, np.str_('I V'): 112, np.str_('I I'): 113, np.str_('G Y'): 114, np.str_('P G'): 115, np.str_('E G'): 116, np.str_('T V'): 117, np.str_('I R'): 118, np.str_('G P'): 119, np.str_('F K'): 120, np.str_('N L'): 121, np.str_('C S'): 122, np.str_('A T'): 123, np.str_('C L'): 124, np.str_('R T'): 125, np.str_('K F'): 126, np.str_('F G'): 127, np.str_('E A'): 128, np.str_('A E'): 129, np.str_('N G'): 130, np.str_('L D'): 131, np.str_('G N'): 132, np.str_('D L'): 133, np.str_('V E'): 134, np.str_('I C'): 135, np.str_('V T'): 136, np.str_('S I'): 137, np.str_('K P'): 138, np.str_('I P'): 139, np.str_('R E'): 140, np.str_('G C'): 141, np.str_('K Q'): 142, np.str_('P V'): 143, np.str_('L N'): 144, np.str_('T S'): 145, np.str_('K D'): 146, np.str_('T I'): 147, np.str_('A D'): 148, np.str_('E R'): 149, np.str_('P R'): 150, np.str_('P A'): 151, np.str_('I T'): 152, np.str_('Y G'): 153, np.str_('E V'): 154, np.str_('P L'): 155, np.str_('D G'): 156, np.str_('D E'): 157, np.str_('C P'): 158, np.str_('R N'): 159, np.str_('F R'): 160, np.str_('P P'): 161, np.str_('S T'): 162, np.str_('C N'): 163, np.str_('N A'): 164, np.str_('E S'): 165, np.str_('R P'): 166, np.str_('S P'): 167, np.str_('S D'): 168, np.str_('D D'): 169, np.str_('V P'): 170, np.str_('T R'): 171, np.str_('C V'): 172, np.str_('Q R'): 173, np.str_('D V'): 174, np.str_('D K'): 175, np.str_('I N'): 176, np.str_('T T'): 177, np.str_('E I'): 178, np.str_('S E'): 179, np.str_('N V'): 180, np.str_('D I'): 181, np.str_('D A'): 182, np.str_('C T'): 183, np.str_('V N'): 184, np.str_('E C'): 185, np.str_('R D'): 186, np.str_('M A'): 187, np.str_('Y C'): 188, np.str_('G Q'): 189, np.str_('Q K'): 190, np.str_('C I'): 191, np.str_('R F'): 192, np.str_('F V'): 193, np.str_('A N'): 194, np.str_('S N'): 195, np.str_('I F'): 196, np.str_('M K'): 197, np.str_('D C'): 198, np.str_('S F'): 199, np.str_('E T'): 200, np.str_('K Y'): 201, np.str_('A P'): 202, np.str_('Q L'): 203, np.str_('P I'): 204, np.str_('N R'): 205, np.str_('I E'): 206, np.str_('G D'): 207, np.str_('E D'): 208, np.str_('C A'): 209, np.str_('A Q'): 210, np.str_('A C'): 211, np.str_('Q A'): 212, np.str_('V D'): 213, np.str_('Q G'): 214, np.str_('F S'): 215, np.str_('T P'): 216, np.str_('F F'): 217, np.str_('P C'): 218, np.str_('N S'): 219, np.str_('N N'): 220, np.str_('L Q'): 221, np.str_('C F'): 222, np.str_('R Q'): 223, np.str_('P E'): 224, np.str_('A F'): 225, np.str_('P T'): 226, np.str_('N C'): 227, np.str_('C E'): 228, np.str_('D S'): 229, np.str_('N P'): 230, np.str_('N T'): 231, np.str_('I D'): 232, np.str_('D P'): 233, np.str_('W K'): 234, np.str_('T E'): 235, np.str_('F T'): 236, np.str_('C D'): 237, np.str_('P F'): 238, np.str_('C Y'): 239, np.str_('E N'): 240, np.str_('Q E'): 241, np.str_('F C'): 242, np.str_('V F'): 243, np.str_('N E'): 244, np.str_('Y R'): 245, np.str_('F I'): 246, np.str_('D T'): 247, np.str_('S Q'): 248, np.str_('F A'): 249, np.str_('Y L'): 250, np.str_('E Q'): 251, np.str_('P D'): 252, np.str_('H G'): 253, np.str_('D R'): 254, np.str_('V Q'): 255, np.str_('T D'): 256, np.str_('N I'): 257, np.str_('H C'): 258, np.str_('Q C'): 259, np.str_('Q S'): 260, np.str_('P N'): 261, np.str_('K H'): 262, np.str_('G H'): 263, np.str_('T F'): 264, np.str_('T N'): 265, np.str_('F P'): 266, np.str_('H L'): 267, np.str_('Q Q'): 268, np.str_('F E'): 269, np.str_('Q V'): 270, np.str_('Y K'): 271, np.str_('Y D'): 272, np.str_('V Y'): 273, np.str_('R Y'): 274, np.str_('N D'): 275, np.str_('F D'): 276, np.str_('D N'): 277, np.str_('C Q'): 278, np.str_('S Y'): 279, np.str_('S H'): 280, np.str_('Q P'): 281, np.str_('A Y'): 282, np.str_('N F'): 283, np.str_('E P'): 284, np.str_('Y T'): 285, np.str_('Q I'): 286, np.str_('M G'): 287, np.str_('Y S'): 288, np.str_('R H'): 289, np.str_('M S'): 290, np.str_('Q T'): 291, np.str_('K W'): 292, np.str_('H K'): 293, np.str_('D F'): 294, np.str_('P Q'): 295, np.str_('L Y'): 296, np.str_('I Q'): 297, np.str_('E F'): 298, np.str_('C H'): 299, np.str_('Y A'): 300, np.str_('G M'): 301, np.str_('M V'): 302, np.str_('I Y'): 303, np.str_('Y V'): 304, np.str_('P Y'): 305, np.str_('M R'): 306, np.str_('M L'): 307, np.str_('T Y'): 308, np.str_('H V'): 309, np.str_('R W'): 310, np.str_('Y I'): 311, np.str_('N Q'): 312, np.str_('Y P'): 313, np.str_('F Y'): 314, np.str_('D Y'): 315, np.str_('M P'): 316, np.str_('H I'): 317, np.str_('W L'): 318, np.str_('R M'): 319, np.str_('Y N'): 320, np.str_('Y E'): 321, np.str_('L H'): 322, np.str_('N Y'): 323, np.str_('F N'): 324, np.str_('D Q'): 325, np.str_('I H'): 326, np.str_('E H'): 327, np.str_('Q N'): 328, np.str_('Q D'): 329, np.str_('H S'): 330, np.str_('T Q'): 331, np.str_('M I'): 332, np.str_('E Y'): 333, np.str_('M E'): 334, np.str_('L W'): 335, np.str_('A H'): 336, np.str_('W R'): 337, np.str_('K M'): 338, np.str_('G W'): 339, np.str_('H P'): 340, np.str_('P H'): 341, np.str_('M T'): 342, np.str_('H A'): 343, np.str_('W G'): 344, np.str_('Q F'): 345, np.str_('H R'): 346, np.str_('F Q'): 347, np.str_('V H'): 348, np.str_('S M'): 349, np.str_('L M'): 350, np.str_('E M'): 351, np.str_('Y Y'): 352, np.str_('M N'): 353, np.str_('M D'): 354, np.str_('T H'): 355, np.str_('H E'): 356, np.str_('A M'): 357, np.str_('W S'): 358, np.str_('H H'): 359, np.str_('W A'): 360, np.str_('H T'): 361, np.str_('Y Q'): 362, np.str_('V W'): 363, np.str_('H D'): 364, np.str_('P W'): 365, np.str_('H F'): 366, np.str_('V M'): 367, np.str_('D H'): 368, np.str_('N M'): 369, np.str_('M F'): 370, np.str_('X'): 371, np.str_('Q Y'): 372, np.str_('W V'): 373, np.str_('W C'): 374, np.str_('N H'): 375, np.str_('C W'): 376, np.str_('Y F'): 377, np.str_('T W'): 378, np.str_('H N'): 379, np.str_('T M'): 380, np.str_('M C'): 381, np.str_('I M'): 382, np.str_('Q H'): 383, np.str_('F H'): 384, np.str_('A W'): 385, np.str_('C M'): 386, np.str_('W P'): 387, np.str_('M Q'): 388, np.str_('H Q'): 389, np.str_('S W'): 390, np.str_('N W'): 391, np.str_('Q M'): 392, np.str_('D M'): 393, np.str_('Y H'): 394, np.str_('W F'): 395, np.str_('D W'): 396, np.str_('W T'): 397, np.str_('P M'): 398, np.str_('W I'): 399, np.str_('I W'): 400, np.str_('W W'): 401, np.str_('F M'): 402, np.str_('H Y'): 403, np.str_('W N'): 404, np.str_('W E'): 405, np.str_('Q W'): 406, np.str_('M M'): 407, np.str_('F W'): 408, np.str_('E W'): 409, np.str_('Y M'): 410, np.str_('M Y'): 411, np.str_('W Q'): 412, np.str_('M H'): 413, np.str_('W D'): 414, np.str_('M W'): 415, np.str_('H M'): 416, np.str_('Y W'): 417, np.str_('H W'): 418, np.str_('W Y'): 419, np.str_('W H'): 420, np.str_('W M'): 421, np.str_('X A'): 422, np.str_('G X'): 423, np.str_('X X'): 424, np.str_('U'): 425, np.str_('S X'): 426, np.str_('O'): 427, np.str_('X T'): 428, np.str_('X N'): 429, np.str_('X K'): 430, np.str_('X G'): 431, np.str_('V X'): 432, np.str_('X V'): 433, np.str_('R X'): 434, np.str_('N X'): 435, np.str_('X S'): 436, np.str_('X P'): 437, np.str_('K X'): 438, np.str_('A X'): 439, np.str_('X R'): 440, np.str_('X Q'): 441, np.str_('U R'): 442, np.str_('T X'): 443, np.str_('I X'): 444, np.str_('H X'): 445, np.str_('Y U'): 446, np.str_('X L'): 447, np.str_('X I'): 448, np.str_('X F'): 449, np.str_('X E'): 450, np.str_('W X'): 451, np.str_('W O'): 452, np.str_('O W'): 453, np.str_('Y X'): 454, np.str_('X W'): 455, np.str_('U Y'): 456, np.str_('U V'): 457, np.str_('R U'): 458, np.str_('P X'): 459, np.str_('O P'): 460, np.str_('L U'): 461, np.str_('F X'): 462, np.str_('E X'): 463, np.str_('C X'): 464, np.str_('Z'): 465, np.str_('Y O'): 466, np.str_('X Y'): 467, np.str_('X H'): 468, np.str_('U L'): 469, np.str_('S O'): 470, np.str_('R O'): 471, np.str_('Q X'): 472, np.str_('O S'): 473, np.str_('O R'): 474, np.str_('O N'): 475, np.str_('O A'): 476, np.str_('L X'): 477, np.str_('K U'): 478, np.str_('K O'): 479, np.str_('I Z'): 480, np.str_('G U'): 481, np.str_('G B'): 482, np.str_('D X'): 483, np.str_('B S'): 484, np.str_('B'): 485} \n",
      "\n",
      "Longitud de los péptidos codificados/longitud vectores multi-hot: 486\n"
     ]
    }
   ],
   "source": [
    "vocab = vectorizer.get_vocabulary()\n",
    "char_indices = {char: idx for idx, char in enumerate(vocab)}\n",
    "print(\"Vocabulario de carácteres e índices asociados a cada uno: \\n \" , char_indices, \"\\n\")\n",
    "print(\"Longitud de los péptidos codificados/longitud vectores multi-hot:\", X_train_encoded.shape[1])"
   ]
  },
  {
   "cell_type": "code",
   "execution_count": 72,
   "metadata": {},
   "outputs": [],
   "source": [
    "# Obtención del 20% de los datos de entrenamiento para validación del modelo durante el proceso de entrenamiento\n",
    "X_train_f, X_val_f, y_train_f, y_val_f = train_test_split(np.array(X_train_encoded), y_train, test_size=0.2, random_state=2025, stratify=y_train)\n",
    "\n",
    "# Conversión de las etiquetas a arrays de numpy para su uso en la red neuronal\n",
    "y_train_f = np.array(y_train_f)\n",
    "y_val_f = np.array(y_val_f)\n",
    "y_test = np.array(y_test)"
   ]
  },
  {
   "cell_type": "code",
   "execution_count": 86,
   "metadata": {},
   "outputs": [],
   "source": [
    "# Definimos un earling stopping para detener el entrenamiento de los modelos cuando ya no mejoren la precisión de la validación\n",
    "early_stopping = keras.callbacks.EarlyStopping(\n",
    "    monitor='val_accuracy',  # Métrica a monitorear \n",
    "    patience=80,  # Número de epochs sin mejora antes de parar\n",
    "    min_delta=0.00001,  # Pequeña mejora mínima requerida\n",
    "    restore_best_weights=True,  # Restaura los mejores pesos en lugar de los últimos\n",
    "    verbose=1  # Muestra mensaje en la consola con la época que contiene los mejores pesos\n",
    ")"
   ]
  },
  {
   "cell_type": "code",
   "execution_count": 85,
   "metadata": {},
   "outputs": [
    {
     "data": {
      "text/html": [
       "<pre style=\"white-space:pre;overflow-x:auto;line-height:normal;font-family:Menlo,'DejaVu Sans Mono',consolas,'Courier New',monospace\"><span style=\"font-weight: bold\">Model: \"sequential_12\"</span>\n",
       "</pre>\n"
      ],
      "text/plain": [
       "\u001b[1mModel: \"sequential_12\"\u001b[0m\n"
      ]
     },
     "metadata": {},
     "output_type": "display_data"
    },
    {
     "data": {
      "text/html": [
       "<pre style=\"white-space:pre;overflow-x:auto;line-height:normal;font-family:Menlo,'DejaVu Sans Mono',consolas,'Courier New',monospace\">┏━━━━━━━━━━━━━━━━━━━━━━━━━━━━━━━━━┳━━━━━━━━━━━━━━━━━━━━━━━━┳━━━━━━━━━━━━━━━┓\n",
       "┃<span style=\"font-weight: bold\"> Layer (type)                    </span>┃<span style=\"font-weight: bold\"> Output Shape           </span>┃<span style=\"font-weight: bold\">       Param # </span>┃\n",
       "┡━━━━━━━━━━━━━━━━━━━━━━━━━━━━━━━━━╇━━━━━━━━━━━━━━━━━━━━━━━━╇━━━━━━━━━━━━━━━┩\n",
       "│ dense_60 (<span style=\"color: #0087ff; text-decoration-color: #0087ff\">Dense</span>)                │ (<span style=\"color: #00d7ff; text-decoration-color: #00d7ff\">None</span>, <span style=\"color: #00af00; text-decoration-color: #00af00\">512</span>)            │       <span style=\"color: #00af00; text-decoration-color: #00af00\">249,344</span> │\n",
       "├─────────────────────────────────┼────────────────────────┼───────────────┤\n",
       "│ batch_normalization_1           │ (<span style=\"color: #00d7ff; text-decoration-color: #00d7ff\">None</span>, <span style=\"color: #00af00; text-decoration-color: #00af00\">512</span>)            │         <span style=\"color: #00af00; text-decoration-color: #00af00\">2,048</span> │\n",
       "│ (<span style=\"color: #0087ff; text-decoration-color: #0087ff\">BatchNormalization</span>)            │                        │               │\n",
       "├─────────────────────────────────┼────────────────────────┼───────────────┤\n",
       "│ dense_61 (<span style=\"color: #0087ff; text-decoration-color: #0087ff\">Dense</span>)                │ (<span style=\"color: #00d7ff; text-decoration-color: #00d7ff\">None</span>, <span style=\"color: #00af00; text-decoration-color: #00af00\">256</span>)            │       <span style=\"color: #00af00; text-decoration-color: #00af00\">131,328</span> │\n",
       "├─────────────────────────────────┼────────────────────────┼───────────────┤\n",
       "│ batch_normalization_2           │ (<span style=\"color: #00d7ff; text-decoration-color: #00d7ff\">None</span>, <span style=\"color: #00af00; text-decoration-color: #00af00\">256</span>)            │         <span style=\"color: #00af00; text-decoration-color: #00af00\">1,024</span> │\n",
       "│ (<span style=\"color: #0087ff; text-decoration-color: #0087ff\">BatchNormalization</span>)            │                        │               │\n",
       "├─────────────────────────────────┼────────────────────────┼───────────────┤\n",
       "│ dense_62 (<span style=\"color: #0087ff; text-decoration-color: #0087ff\">Dense</span>)                │ (<span style=\"color: #00d7ff; text-decoration-color: #00d7ff\">None</span>, <span style=\"color: #00af00; text-decoration-color: #00af00\">128</span>)            │        <span style=\"color: #00af00; text-decoration-color: #00af00\">32,896</span> │\n",
       "├─────────────────────────────────┼────────────────────────┼───────────────┤\n",
       "│ batch_normalization_3           │ (<span style=\"color: #00d7ff; text-decoration-color: #00d7ff\">None</span>, <span style=\"color: #00af00; text-decoration-color: #00af00\">128</span>)            │           <span style=\"color: #00af00; text-decoration-color: #00af00\">512</span> │\n",
       "│ (<span style=\"color: #0087ff; text-decoration-color: #0087ff\">BatchNormalization</span>)            │                        │               │\n",
       "├─────────────────────────────────┼────────────────────────┼───────────────┤\n",
       "│ dense_63 (<span style=\"color: #0087ff; text-decoration-color: #0087ff\">Dense</span>)                │ (<span style=\"color: #00d7ff; text-decoration-color: #00d7ff\">None</span>, <span style=\"color: #00af00; text-decoration-color: #00af00\">64</span>)             │         <span style=\"color: #00af00; text-decoration-color: #00af00\">8,256</span> │\n",
       "├─────────────────────────────────┼────────────────────────┼───────────────┤\n",
       "│ dense_64 (<span style=\"color: #0087ff; text-decoration-color: #0087ff\">Dense</span>)                │ (<span style=\"color: #00d7ff; text-decoration-color: #00d7ff\">None</span>, <span style=\"color: #00af00; text-decoration-color: #00af00\">1</span>)              │            <span style=\"color: #00af00; text-decoration-color: #00af00\">65</span> │\n",
       "└─────────────────────────────────┴────────────────────────┴───────────────┘\n",
       "</pre>\n"
      ],
      "text/plain": [
       "┏━━━━━━━━━━━━━━━━━━━━━━━━━━━━━━━━━┳━━━━━━━━━━━━━━━━━━━━━━━━┳━━━━━━━━━━━━━━━┓\n",
       "┃\u001b[1m \u001b[0m\u001b[1mLayer (type)                   \u001b[0m\u001b[1m \u001b[0m┃\u001b[1m \u001b[0m\u001b[1mOutput Shape          \u001b[0m\u001b[1m \u001b[0m┃\u001b[1m \u001b[0m\u001b[1m      Param #\u001b[0m\u001b[1m \u001b[0m┃\n",
       "┡━━━━━━━━━━━━━━━━━━━━━━━━━━━━━━━━━╇━━━━━━━━━━━━━━━━━━━━━━━━╇━━━━━━━━━━━━━━━┩\n",
       "│ dense_60 (\u001b[38;5;33mDense\u001b[0m)                │ (\u001b[38;5;45mNone\u001b[0m, \u001b[38;5;34m512\u001b[0m)            │       \u001b[38;5;34m249,344\u001b[0m │\n",
       "├─────────────────────────────────┼────────────────────────┼───────────────┤\n",
       "│ batch_normalization_1           │ (\u001b[38;5;45mNone\u001b[0m, \u001b[38;5;34m512\u001b[0m)            │         \u001b[38;5;34m2,048\u001b[0m │\n",
       "│ (\u001b[38;5;33mBatchNormalization\u001b[0m)            │                        │               │\n",
       "├─────────────────────────────────┼────────────────────────┼───────────────┤\n",
       "│ dense_61 (\u001b[38;5;33mDense\u001b[0m)                │ (\u001b[38;5;45mNone\u001b[0m, \u001b[38;5;34m256\u001b[0m)            │       \u001b[38;5;34m131,328\u001b[0m │\n",
       "├─────────────────────────────────┼────────────────────────┼───────────────┤\n",
       "│ batch_normalization_2           │ (\u001b[38;5;45mNone\u001b[0m, \u001b[38;5;34m256\u001b[0m)            │         \u001b[38;5;34m1,024\u001b[0m │\n",
       "│ (\u001b[38;5;33mBatchNormalization\u001b[0m)            │                        │               │\n",
       "├─────────────────────────────────┼────────────────────────┼───────────────┤\n",
       "│ dense_62 (\u001b[38;5;33mDense\u001b[0m)                │ (\u001b[38;5;45mNone\u001b[0m, \u001b[38;5;34m128\u001b[0m)            │        \u001b[38;5;34m32,896\u001b[0m │\n",
       "├─────────────────────────────────┼────────────────────────┼───────────────┤\n",
       "│ batch_normalization_3           │ (\u001b[38;5;45mNone\u001b[0m, \u001b[38;5;34m128\u001b[0m)            │           \u001b[38;5;34m512\u001b[0m │\n",
       "│ (\u001b[38;5;33mBatchNormalization\u001b[0m)            │                        │               │\n",
       "├─────────────────────────────────┼────────────────────────┼───────────────┤\n",
       "│ dense_63 (\u001b[38;5;33mDense\u001b[0m)                │ (\u001b[38;5;45mNone\u001b[0m, \u001b[38;5;34m64\u001b[0m)             │         \u001b[38;5;34m8,256\u001b[0m │\n",
       "├─────────────────────────────────┼────────────────────────┼───────────────┤\n",
       "│ dense_64 (\u001b[38;5;33mDense\u001b[0m)                │ (\u001b[38;5;45mNone\u001b[0m, \u001b[38;5;34m1\u001b[0m)              │            \u001b[38;5;34m65\u001b[0m │\n",
       "└─────────────────────────────────┴────────────────────────┴───────────────┘\n"
      ]
     },
     "metadata": {},
     "output_type": "display_data"
    },
    {
     "data": {
      "text/html": [
       "<pre style=\"white-space:pre;overflow-x:auto;line-height:normal;font-family:Menlo,'DejaVu Sans Mono',consolas,'Courier New',monospace\"><span style=\"font-weight: bold\"> Total params: </span><span style=\"color: #00af00; text-decoration-color: #00af00\">425,473</span> (1.62 MB)\n",
       "</pre>\n"
      ],
      "text/plain": [
       "\u001b[1m Total params: \u001b[0m\u001b[38;5;34m425,473\u001b[0m (1.62 MB)\n"
      ]
     },
     "metadata": {},
     "output_type": "display_data"
    },
    {
     "data": {
      "text/html": [
       "<pre style=\"white-space:pre;overflow-x:auto;line-height:normal;font-family:Menlo,'DejaVu Sans Mono',consolas,'Courier New',monospace\"><span style=\"font-weight: bold\"> Trainable params: </span><span style=\"color: #00af00; text-decoration-color: #00af00\">423,681</span> (1.62 MB)\n",
       "</pre>\n"
      ],
      "text/plain": [
       "\u001b[1m Trainable params: \u001b[0m\u001b[38;5;34m423,681\u001b[0m (1.62 MB)\n"
      ]
     },
     "metadata": {},
     "output_type": "display_data"
    },
    {
     "data": {
      "text/html": [
       "<pre style=\"white-space:pre;overflow-x:auto;line-height:normal;font-family:Menlo,'DejaVu Sans Mono',consolas,'Courier New',monospace\"><span style=\"font-weight: bold\"> Non-trainable params: </span><span style=\"color: #00af00; text-decoration-color: #00af00\">1,792</span> (7.00 KB)\n",
       "</pre>\n"
      ],
      "text/plain": [
       "\u001b[1m Non-trainable params: \u001b[0m\u001b[38;5;34m1,792\u001b[0m (7.00 KB)\n"
      ]
     },
     "metadata": {},
     "output_type": "display_data"
    }
   ],
   "source": [
    "model_tfidf_bigram = Sequential([ \n",
    "    layers.Input(shape=(X_train_f.shape[1],)),\n",
    "    layers.Dense(512, activation='leaky_relu'),\n",
    "    layers.BatchNormalization(),\n",
    "    layers.Dense(256, activation='leaky_relu'),\n",
    "    layers.BatchNormalization(),\n",
    "    layers.Dense(128, activation='leaky_relu'),\n",
    "    layers.BatchNormalization(),\n",
    "    layers.Dense(64, activation='leaky_relu'),\n",
    "    layers.Dense(1, activation='sigmoid')])\n",
    "model_tfidf_bigram.summary()"
   ]
  },
  {
   "cell_type": "code",
   "execution_count": 87,
   "metadata": {},
   "outputs": [
    {
     "name": "stdout",
     "output_type": "stream",
     "text": [
      "Epoch 1/200\n",
      "\u001b[1m40/40\u001b[0m \u001b[32m━━━━━━━━━━━━━━━━━━━━\u001b[0m\u001b[37m\u001b[0m \u001b[1m2s\u001b[0m 8ms/step - accuracy: 0.4925 - loss: 0.8678 - val_accuracy: 0.5299 - val_loss: 0.7016\n",
      "Epoch 2/200\n",
      "\u001b[1m40/40\u001b[0m \u001b[32m━━━━━━━━━━━━━━━━━━━━\u001b[0m\u001b[37m\u001b[0m \u001b[1m0s\u001b[0m 4ms/step - accuracy: 0.5632 - loss: 0.7508 - val_accuracy: 0.5708 - val_loss: 0.6791\n",
      "Epoch 3/200\n",
      "\u001b[1m40/40\u001b[0m \u001b[32m━━━━━━━━━━━━━━━━━━━━\u001b[0m\u001b[37m\u001b[0m \u001b[1m0s\u001b[0m 4ms/step - accuracy: 0.5933 - loss: 0.7081 - val_accuracy: 0.6006 - val_loss: 0.6585\n",
      "Epoch 4/200\n",
      "\u001b[1m40/40\u001b[0m \u001b[32m━━━━━━━━━━━━━━━━━━━━\u001b[0m\u001b[37m\u001b[0m \u001b[1m0s\u001b[0m 4ms/step - accuracy: 0.6128 - loss: 0.6660 - val_accuracy: 0.6242 - val_loss: 0.6399\n",
      "Epoch 5/200\n",
      "\u001b[1m40/40\u001b[0m \u001b[32m━━━━━━━━━━━━━━━━━━━━\u001b[0m\u001b[37m\u001b[0m \u001b[1m0s\u001b[0m 6ms/step - accuracy: 0.6491 - loss: 0.6263 - val_accuracy: 0.6478 - val_loss: 0.6222\n",
      "Epoch 6/200\n",
      "\u001b[1m40/40\u001b[0m \u001b[32m━━━━━━━━━━━━━━━━━━━━\u001b[0m\u001b[37m\u001b[0m \u001b[1m0s\u001b[0m 5ms/step - accuracy: 0.6561 - loss: 0.6156 - val_accuracy: 0.6745 - val_loss: 0.6068\n",
      "Epoch 7/200\n",
      "\u001b[1m40/40\u001b[0m \u001b[32m━━━━━━━━━━━━━━━━━━━━\u001b[0m\u001b[37m\u001b[0m \u001b[1m0s\u001b[0m 4ms/step - accuracy: 0.7096 - loss: 0.5758 - val_accuracy: 0.6965 - val_loss: 0.5922\n",
      "Epoch 8/200\n",
      "\u001b[1m40/40\u001b[0m \u001b[32m━━━━━━━━━━━━━━━━━━━━\u001b[0m\u001b[37m\u001b[0m \u001b[1m0s\u001b[0m 4ms/step - accuracy: 0.7283 - loss: 0.5542 - val_accuracy: 0.6981 - val_loss: 0.5802\n",
      "Epoch 9/200\n",
      "\u001b[1m40/40\u001b[0m \u001b[32m━━━━━━━━━━━━━━━━━━━━\u001b[0m\u001b[37m\u001b[0m \u001b[1m0s\u001b[0m 4ms/step - accuracy: 0.7275 - loss: 0.5441 - val_accuracy: 0.7186 - val_loss: 0.5687\n",
      "Epoch 10/200\n",
      "\u001b[1m40/40\u001b[0m \u001b[32m━━━━━━━━━━━━━━━━━━━━\u001b[0m\u001b[37m\u001b[0m \u001b[1m0s\u001b[0m 4ms/step - accuracy: 0.7464 - loss: 0.5076 - val_accuracy: 0.7280 - val_loss: 0.5585\n",
      "Epoch 11/200\n",
      "\u001b[1m40/40\u001b[0m \u001b[32m━━━━━━━━━━━━━━━━━━━━\u001b[0m\u001b[37m\u001b[0m \u001b[1m0s\u001b[0m 4ms/step - accuracy: 0.7739 - loss: 0.4922 - val_accuracy: 0.7390 - val_loss: 0.5489\n",
      "Epoch 12/200\n",
      "\u001b[1m40/40\u001b[0m \u001b[32m━━━━━━━━━━━━━━━━━━━━\u001b[0m\u001b[37m\u001b[0m \u001b[1m0s\u001b[0m 4ms/step - accuracy: 0.7886 - loss: 0.4631 - val_accuracy: 0.7406 - val_loss: 0.5403\n",
      "Epoch 13/200\n",
      "\u001b[1m40/40\u001b[0m \u001b[32m━━━━━━━━━━━━━━━━━━━━\u001b[0m\u001b[37m\u001b[0m \u001b[1m0s\u001b[0m 5ms/step - accuracy: 0.7902 - loss: 0.4575 - val_accuracy: 0.7500 - val_loss: 0.5326\n",
      "Epoch 14/200\n",
      "\u001b[1m40/40\u001b[0m \u001b[32m━━━━━━━━━━━━━━━━━━━━\u001b[0m\u001b[37m\u001b[0m \u001b[1m0s\u001b[0m 4ms/step - accuracy: 0.7996 - loss: 0.4582 - val_accuracy: 0.7547 - val_loss: 0.5257\n",
      "Epoch 15/200\n",
      "\u001b[1m40/40\u001b[0m \u001b[32m━━━━━━━━━━━━━━━━━━━━\u001b[0m\u001b[37m\u001b[0m \u001b[1m0s\u001b[0m 5ms/step - accuracy: 0.8029 - loss: 0.4420 - val_accuracy: 0.7594 - val_loss: 0.5194\n",
      "Epoch 16/200\n",
      "\u001b[1m40/40\u001b[0m \u001b[32m━━━━━━━━━━━━━━━━━━━━\u001b[0m\u001b[37m\u001b[0m \u001b[1m0s\u001b[0m 5ms/step - accuracy: 0.8078 - loss: 0.4328 - val_accuracy: 0.7642 - val_loss: 0.5138\n",
      "Epoch 17/200\n",
      "\u001b[1m40/40\u001b[0m \u001b[32m━━━━━━━━━━━━━━━━━━━━\u001b[0m\u001b[37m\u001b[0m \u001b[1m0s\u001b[0m 4ms/step - accuracy: 0.8262 - loss: 0.4102 - val_accuracy: 0.7704 - val_loss: 0.5081\n",
      "Epoch 18/200\n",
      "\u001b[1m40/40\u001b[0m \u001b[32m━━━━━━━━━━━━━━━━━━━━\u001b[0m\u001b[37m\u001b[0m \u001b[1m0s\u001b[0m 4ms/step - accuracy: 0.8318 - loss: 0.4006 - val_accuracy: 0.7736 - val_loss: 0.5034\n",
      "Epoch 19/200\n",
      "\u001b[1m40/40\u001b[0m \u001b[32m━━━━━━━━━━━━━━━━━━━━\u001b[0m\u001b[37m\u001b[0m \u001b[1m0s\u001b[0m 5ms/step - accuracy: 0.8245 - loss: 0.4016 - val_accuracy: 0.7704 - val_loss: 0.4988\n",
      "Epoch 20/200\n",
      "\u001b[1m40/40\u001b[0m \u001b[32m━━━━━━━━━━━━━━━━━━━━\u001b[0m\u001b[37m\u001b[0m \u001b[1m0s\u001b[0m 5ms/step - accuracy: 0.8437 - loss: 0.3735 - val_accuracy: 0.7720 - val_loss: 0.4942\n",
      "Epoch 21/200\n",
      "\u001b[1m40/40\u001b[0m \u001b[32m━━━━━━━━━━━━━━━━━━━━\u001b[0m\u001b[37m\u001b[0m \u001b[1m0s\u001b[0m 5ms/step - accuracy: 0.8431 - loss: 0.3809 - val_accuracy: 0.7720 - val_loss: 0.4908\n",
      "Epoch 22/200\n",
      "\u001b[1m40/40\u001b[0m \u001b[32m━━━━━━━━━━━━━━━━━━━━\u001b[0m\u001b[37m\u001b[0m \u001b[1m0s\u001b[0m 4ms/step - accuracy: 0.8466 - loss: 0.3751 - val_accuracy: 0.7736 - val_loss: 0.4876\n",
      "Epoch 23/200\n",
      "\u001b[1m40/40\u001b[0m \u001b[32m━━━━━━━━━━━━━━━━━━━━\u001b[0m\u001b[37m\u001b[0m \u001b[1m0s\u001b[0m 4ms/step - accuracy: 0.8602 - loss: 0.3547 - val_accuracy: 0.7736 - val_loss: 0.4844\n",
      "Epoch 24/200\n",
      "\u001b[1m40/40\u001b[0m \u001b[32m━━━━━━━━━━━━━━━━━━━━\u001b[0m\u001b[37m\u001b[0m \u001b[1m0s\u001b[0m 5ms/step - accuracy: 0.8474 - loss: 0.3688 - val_accuracy: 0.7752 - val_loss: 0.4812\n",
      "Epoch 25/200\n",
      "\u001b[1m40/40\u001b[0m \u001b[32m━━━━━━━━━━━━━━━━━━━━\u001b[0m\u001b[37m\u001b[0m \u001b[1m0s\u001b[0m 4ms/step - accuracy: 0.8601 - loss: 0.3484 - val_accuracy: 0.7799 - val_loss: 0.4783\n",
      "Epoch 26/200\n",
      "\u001b[1m40/40\u001b[0m \u001b[32m━━━━━━━━━━━━━━━━━━━━\u001b[0m\u001b[37m\u001b[0m \u001b[1m0s\u001b[0m 4ms/step - accuracy: 0.8552 - loss: 0.3409 - val_accuracy: 0.7814 - val_loss: 0.4761\n",
      "Epoch 27/200\n",
      "\u001b[1m40/40\u001b[0m \u001b[32m━━━━━━━━━━━━━━━━━━━━\u001b[0m\u001b[37m\u001b[0m \u001b[1m0s\u001b[0m 5ms/step - accuracy: 0.8624 - loss: 0.3470 - val_accuracy: 0.7814 - val_loss: 0.4739\n",
      "Epoch 28/200\n",
      "\u001b[1m40/40\u001b[0m \u001b[32m━━━━━━━━━━━━━━━━━━━━\u001b[0m\u001b[37m\u001b[0m \u001b[1m0s\u001b[0m 4ms/step - accuracy: 0.8714 - loss: 0.3321 - val_accuracy: 0.7830 - val_loss: 0.4713\n",
      "Epoch 29/200\n",
      "\u001b[1m40/40\u001b[0m \u001b[32m━━━━━━━━━━━━━━━━━━━━\u001b[0m\u001b[37m\u001b[0m \u001b[1m0s\u001b[0m 4ms/step - accuracy: 0.8838 - loss: 0.3117 - val_accuracy: 0.7862 - val_loss: 0.4690\n",
      "Epoch 30/200\n",
      "\u001b[1m40/40\u001b[0m \u001b[32m━━━━━━━━━━━━━━━━━━━━\u001b[0m\u001b[37m\u001b[0m \u001b[1m0s\u001b[0m 4ms/step - accuracy: 0.8791 - loss: 0.3093 - val_accuracy: 0.7862 - val_loss: 0.4669\n",
      "Epoch 31/200\n",
      "\u001b[1m40/40\u001b[0m \u001b[32m━━━━━━━━━━━━━━━━━━━━\u001b[0m\u001b[37m\u001b[0m \u001b[1m0s\u001b[0m 4ms/step - accuracy: 0.8741 - loss: 0.3186 - val_accuracy: 0.7925 - val_loss: 0.4656\n",
      "Epoch 32/200\n",
      "\u001b[1m40/40\u001b[0m \u001b[32m━━━━━━━━━━━━━━━━━━━━\u001b[0m\u001b[37m\u001b[0m \u001b[1m0s\u001b[0m 5ms/step - accuracy: 0.8785 - loss: 0.3027 - val_accuracy: 0.7925 - val_loss: 0.4638\n",
      "Epoch 33/200\n",
      "\u001b[1m40/40\u001b[0m \u001b[32m━━━━━━━━━━━━━━━━━━━━\u001b[0m\u001b[37m\u001b[0m \u001b[1m0s\u001b[0m 5ms/step - accuracy: 0.9012 - loss: 0.2881 - val_accuracy: 0.7972 - val_loss: 0.4625\n",
      "Epoch 34/200\n",
      "\u001b[1m40/40\u001b[0m \u001b[32m━━━━━━━━━━━━━━━━━━━━\u001b[0m\u001b[37m\u001b[0m \u001b[1m0s\u001b[0m 4ms/step - accuracy: 0.8888 - loss: 0.3042 - val_accuracy: 0.7972 - val_loss: 0.4608\n",
      "Epoch 35/200\n",
      "\u001b[1m40/40\u001b[0m \u001b[32m━━━━━━━━━━━━━━━━━━━━\u001b[0m\u001b[37m\u001b[0m \u001b[1m0s\u001b[0m 5ms/step - accuracy: 0.8807 - loss: 0.3011 - val_accuracy: 0.7987 - val_loss: 0.4594\n",
      "Epoch 36/200\n",
      "\u001b[1m40/40\u001b[0m \u001b[32m━━━━━━━━━━━━━━━━━━━━\u001b[0m\u001b[37m\u001b[0m \u001b[1m0s\u001b[0m 4ms/step - accuracy: 0.9094 - loss: 0.2720 - val_accuracy: 0.8003 - val_loss: 0.4582\n",
      "Epoch 37/200\n",
      "\u001b[1m40/40\u001b[0m \u001b[32m━━━━━━━━━━━━━━━━━━━━\u001b[0m\u001b[37m\u001b[0m \u001b[1m0s\u001b[0m 4ms/step - accuracy: 0.8916 - loss: 0.2784 - val_accuracy: 0.8003 - val_loss: 0.4574\n",
      "Epoch 38/200\n",
      "\u001b[1m40/40\u001b[0m \u001b[32m━━━━━━━━━━━━━━━━━━━━\u001b[0m\u001b[37m\u001b[0m \u001b[1m0s\u001b[0m 4ms/step - accuracy: 0.9021 - loss: 0.2820 - val_accuracy: 0.8003 - val_loss: 0.4562\n",
      "Epoch 39/200\n",
      "\u001b[1m40/40\u001b[0m \u001b[32m━━━━━━━━━━━━━━━━━━━━\u001b[0m\u001b[37m\u001b[0m \u001b[1m0s\u001b[0m 5ms/step - accuracy: 0.9110 - loss: 0.2658 - val_accuracy: 0.8003 - val_loss: 0.4552\n",
      "Epoch 40/200\n",
      "\u001b[1m40/40\u001b[0m \u001b[32m━━━━━━━━━━━━━━━━━━━━\u001b[0m\u001b[37m\u001b[0m \u001b[1m0s\u001b[0m 5ms/step - accuracy: 0.9115 - loss: 0.2529 - val_accuracy: 0.8003 - val_loss: 0.4540\n",
      "Epoch 41/200\n",
      "\u001b[1m40/40\u001b[0m \u001b[32m━━━━━━━━━━━━━━━━━━━━\u001b[0m\u001b[37m\u001b[0m \u001b[1m0s\u001b[0m 4ms/step - accuracy: 0.9180 - loss: 0.2549 - val_accuracy: 0.7987 - val_loss: 0.4528\n",
      "Epoch 42/200\n",
      "\u001b[1m40/40\u001b[0m \u001b[32m━━━━━━━━━━━━━━━━━━━━\u001b[0m\u001b[37m\u001b[0m \u001b[1m0s\u001b[0m 4ms/step - accuracy: 0.9068 - loss: 0.2556 - val_accuracy: 0.7987 - val_loss: 0.4526\n",
      "Epoch 43/200\n",
      "\u001b[1m40/40\u001b[0m \u001b[32m━━━━━━━━━━━━━━━━━━━━\u001b[0m\u001b[37m\u001b[0m \u001b[1m0s\u001b[0m 4ms/step - accuracy: 0.9179 - loss: 0.2511 - val_accuracy: 0.7972 - val_loss: 0.4522\n",
      "Epoch 44/200\n",
      "\u001b[1m40/40\u001b[0m \u001b[32m━━━━━━━━━━━━━━━━━━━━\u001b[0m\u001b[37m\u001b[0m \u001b[1m0s\u001b[0m 4ms/step - accuracy: 0.9132 - loss: 0.2468 - val_accuracy: 0.7987 - val_loss: 0.4516\n",
      "Epoch 45/200\n",
      "\u001b[1m40/40\u001b[0m \u001b[32m━━━━━━━━━━━━━━━━━━━━\u001b[0m\u001b[37m\u001b[0m \u001b[1m0s\u001b[0m 4ms/step - accuracy: 0.9243 - loss: 0.2342 - val_accuracy: 0.7987 - val_loss: 0.4512\n",
      "Epoch 46/200\n",
      "\u001b[1m40/40\u001b[0m \u001b[32m━━━━━━━━━━━━━━━━━━━━\u001b[0m\u001b[37m\u001b[0m \u001b[1m0s\u001b[0m 5ms/step - accuracy: 0.9297 - loss: 0.2279 - val_accuracy: 0.8019 - val_loss: 0.4510\n",
      "Epoch 47/200\n",
      "\u001b[1m40/40\u001b[0m \u001b[32m━━━━━━━━━━━━━━━━━━━━\u001b[0m\u001b[37m\u001b[0m \u001b[1m0s\u001b[0m 4ms/step - accuracy: 0.9258 - loss: 0.2309 - val_accuracy: 0.8019 - val_loss: 0.4504\n",
      "Epoch 48/200\n",
      "\u001b[1m40/40\u001b[0m \u001b[32m━━━━━━━━━━━━━━━━━━━━\u001b[0m\u001b[37m\u001b[0m \u001b[1m0s\u001b[0m 5ms/step - accuracy: 0.9296 - loss: 0.2289 - val_accuracy: 0.8019 - val_loss: 0.4497\n",
      "Epoch 49/200\n",
      "\u001b[1m40/40\u001b[0m \u001b[32m━━━━━━━━━━━━━━━━━━━━\u001b[0m\u001b[37m\u001b[0m \u001b[1m0s\u001b[0m 4ms/step - accuracy: 0.9219 - loss: 0.2296 - val_accuracy: 0.8035 - val_loss: 0.4497\n",
      "Epoch 50/200\n",
      "\u001b[1m40/40\u001b[0m \u001b[32m━━━━━━━━━━━━━━━━━━━━\u001b[0m\u001b[37m\u001b[0m \u001b[1m0s\u001b[0m 4ms/step - accuracy: 0.9363 - loss: 0.2167 - val_accuracy: 0.8019 - val_loss: 0.4491\n",
      "Epoch 51/200\n",
      "\u001b[1m40/40\u001b[0m \u001b[32m━━━━━━━━━━━━━━━━━━━━\u001b[0m\u001b[37m\u001b[0m \u001b[1m0s\u001b[0m 4ms/step - accuracy: 0.9238 - loss: 0.2248 - val_accuracy: 0.8019 - val_loss: 0.4494\n",
      "Epoch 52/200\n",
      "\u001b[1m40/40\u001b[0m \u001b[32m━━━━━━━━━━━━━━━━━━━━\u001b[0m\u001b[37m\u001b[0m \u001b[1m0s\u001b[0m 5ms/step - accuracy: 0.9261 - loss: 0.2171 - val_accuracy: 0.8019 - val_loss: 0.4487\n",
      "Epoch 53/200\n",
      "\u001b[1m40/40\u001b[0m \u001b[32m━━━━━━━━━━━━━━━━━━━━\u001b[0m\u001b[37m\u001b[0m \u001b[1m0s\u001b[0m 4ms/step - accuracy: 0.9296 - loss: 0.2137 - val_accuracy: 0.8003 - val_loss: 0.4494\n",
      "Epoch 54/200\n",
      "\u001b[1m40/40\u001b[0m \u001b[32m━━━━━━━━━━━━━━━━━━━━\u001b[0m\u001b[37m\u001b[0m \u001b[1m0s\u001b[0m 4ms/step - accuracy: 0.9286 - loss: 0.2113 - val_accuracy: 0.8003 - val_loss: 0.4489\n",
      "Epoch 55/200\n",
      "\u001b[1m40/40\u001b[0m \u001b[32m━━━━━━━━━━━━━━━━━━━━\u001b[0m\u001b[37m\u001b[0m \u001b[1m0s\u001b[0m 4ms/step - accuracy: 0.9428 - loss: 0.1988 - val_accuracy: 0.8019 - val_loss: 0.4491\n",
      "Epoch 56/200\n",
      "\u001b[1m40/40\u001b[0m \u001b[32m━━━━━━━━━━━━━━━━━━━━\u001b[0m\u001b[37m\u001b[0m \u001b[1m0s\u001b[0m 4ms/step - accuracy: 0.9422 - loss: 0.1953 - val_accuracy: 0.8019 - val_loss: 0.4491\n",
      "Epoch 57/200\n",
      "\u001b[1m40/40\u001b[0m \u001b[32m━━━━━━━━━━━━━━━━━━━━\u001b[0m\u001b[37m\u001b[0m \u001b[1m0s\u001b[0m 4ms/step - accuracy: 0.9389 - loss: 0.1963 - val_accuracy: 0.8035 - val_loss: 0.4496\n",
      "Epoch 58/200\n",
      "\u001b[1m40/40\u001b[0m \u001b[32m━━━━━━━━━━━━━━━━━━━━\u001b[0m\u001b[37m\u001b[0m \u001b[1m0s\u001b[0m 5ms/step - accuracy: 0.9423 - loss: 0.1923 - val_accuracy: 0.8066 - val_loss: 0.4503\n",
      "Epoch 59/200\n",
      "\u001b[1m40/40\u001b[0m \u001b[32m━━━━━━━━━━━━━━━━━━━━\u001b[0m\u001b[37m\u001b[0m \u001b[1m0s\u001b[0m 4ms/step - accuracy: 0.9488 - loss: 0.1774 - val_accuracy: 0.8035 - val_loss: 0.4506\n",
      "Epoch 60/200\n",
      "\u001b[1m40/40\u001b[0m \u001b[32m━━━━━━━━━━━━━━━━━━━━\u001b[0m\u001b[37m\u001b[0m \u001b[1m0s\u001b[0m 4ms/step - accuracy: 0.9332 - loss: 0.1958 - val_accuracy: 0.8050 - val_loss: 0.4509\n",
      "Epoch 61/200\n",
      "\u001b[1m40/40\u001b[0m \u001b[32m━━━━━━━━━━━━━━━━━━━━\u001b[0m\u001b[37m\u001b[0m \u001b[1m0s\u001b[0m 4ms/step - accuracy: 0.9405 - loss: 0.1861 - val_accuracy: 0.8066 - val_loss: 0.4508\n",
      "Epoch 62/200\n",
      "\u001b[1m40/40\u001b[0m \u001b[32m━━━━━━━━━━━━━━━━━━━━\u001b[0m\u001b[37m\u001b[0m \u001b[1m0s\u001b[0m 4ms/step - accuracy: 0.9445 - loss: 0.1814 - val_accuracy: 0.8035 - val_loss: 0.4509\n",
      "Epoch 63/200\n",
      "\u001b[1m40/40\u001b[0m \u001b[32m━━━━━━━━━━━━━━━━━━━━\u001b[0m\u001b[37m\u001b[0m \u001b[1m0s\u001b[0m 4ms/step - accuracy: 0.9404 - loss: 0.1837 - val_accuracy: 0.8050 - val_loss: 0.4513\n",
      "Epoch 64/200\n",
      "\u001b[1m40/40\u001b[0m \u001b[32m━━━━━━━━━━━━━━━━━━━━\u001b[0m\u001b[37m\u001b[0m \u001b[1m0s\u001b[0m 4ms/step - accuracy: 0.9445 - loss: 0.1775 - val_accuracy: 0.8066 - val_loss: 0.4521\n",
      "Epoch 65/200\n",
      "\u001b[1m40/40\u001b[0m \u001b[32m━━━━━━━━━━━━━━━━━━━━\u001b[0m\u001b[37m\u001b[0m \u001b[1m0s\u001b[0m 5ms/step - accuracy: 0.9457 - loss: 0.1705 - val_accuracy: 0.8066 - val_loss: 0.4523\n",
      "Epoch 66/200\n",
      "\u001b[1m40/40\u001b[0m \u001b[32m━━━━━━━━━━━━━━━━━━━━\u001b[0m\u001b[37m\u001b[0m \u001b[1m0s\u001b[0m 4ms/step - accuracy: 0.9600 - loss: 0.1670 - val_accuracy: 0.8082 - val_loss: 0.4529\n",
      "Epoch 67/200\n",
      "\u001b[1m40/40\u001b[0m \u001b[32m━━━━━━━━━━━━━━━━━━━━\u001b[0m\u001b[37m\u001b[0m \u001b[1m0s\u001b[0m 4ms/step - accuracy: 0.9479 - loss: 0.1684 - val_accuracy: 0.8082 - val_loss: 0.4537\n",
      "Epoch 68/200\n",
      "\u001b[1m40/40\u001b[0m \u001b[32m━━━━━━━━━━━━━━━━━━━━\u001b[0m\u001b[37m\u001b[0m \u001b[1m0s\u001b[0m 4ms/step - accuracy: 0.9566 - loss: 0.1604 - val_accuracy: 0.8050 - val_loss: 0.4537\n",
      "Epoch 69/200\n",
      "\u001b[1m40/40\u001b[0m \u001b[32m━━━━━━━━━━━━━━━━━━━━\u001b[0m\u001b[37m\u001b[0m \u001b[1m0s\u001b[0m 5ms/step - accuracy: 0.9552 - loss: 0.1553 - val_accuracy: 0.8035 - val_loss: 0.4549\n",
      "Epoch 70/200\n",
      "\u001b[1m40/40\u001b[0m \u001b[32m━━━━━━━━━━━━━━━━━━━━\u001b[0m\u001b[37m\u001b[0m \u001b[1m0s\u001b[0m 4ms/step - accuracy: 0.9635 - loss: 0.1504 - val_accuracy: 0.8050 - val_loss: 0.4558\n",
      "Epoch 71/200\n",
      "\u001b[1m40/40\u001b[0m \u001b[32m━━━━━━━━━━━━━━━━━━━━\u001b[0m\u001b[37m\u001b[0m \u001b[1m0s\u001b[0m 5ms/step - accuracy: 0.9648 - loss: 0.1464 - val_accuracy: 0.8082 - val_loss: 0.4571\n",
      "Epoch 72/200\n",
      "\u001b[1m40/40\u001b[0m \u001b[32m━━━━━━━━━━━━━━━━━━━━\u001b[0m\u001b[37m\u001b[0m \u001b[1m0s\u001b[0m 4ms/step - accuracy: 0.9511 - loss: 0.1600 - val_accuracy: 0.8050 - val_loss: 0.4583\n",
      "Epoch 73/200\n",
      "\u001b[1m40/40\u001b[0m \u001b[32m━━━━━━━━━━━━━━━━━━━━\u001b[0m\u001b[37m\u001b[0m \u001b[1m0s\u001b[0m 4ms/step - accuracy: 0.9637 - loss: 0.1470 - val_accuracy: 0.8066 - val_loss: 0.4586\n",
      "Epoch 74/200\n",
      "\u001b[1m40/40\u001b[0m \u001b[32m━━━━━━━━━━━━━━━━━━━━\u001b[0m\u001b[37m\u001b[0m \u001b[1m0s\u001b[0m 4ms/step - accuracy: 0.9594 - loss: 0.1474 - val_accuracy: 0.8082 - val_loss: 0.4594\n",
      "Epoch 75/200\n",
      "\u001b[1m40/40\u001b[0m \u001b[32m━━━━━━━━━━━━━━━━━━━━\u001b[0m\u001b[37m\u001b[0m \u001b[1m0s\u001b[0m 5ms/step - accuracy: 0.9632 - loss: 0.1355 - val_accuracy: 0.8097 - val_loss: 0.4598\n",
      "Epoch 76/200\n",
      "\u001b[1m40/40\u001b[0m \u001b[32m━━━━━━━━━━━━━━━━━━━━\u001b[0m\u001b[37m\u001b[0m \u001b[1m0s\u001b[0m 4ms/step - accuracy: 0.9677 - loss: 0.1360 - val_accuracy: 0.8066 - val_loss: 0.4605\n",
      "Epoch 77/200\n",
      "\u001b[1m40/40\u001b[0m \u001b[32m━━━━━━━━━━━━━━━━━━━━\u001b[0m\u001b[37m\u001b[0m \u001b[1m0s\u001b[0m 5ms/step - accuracy: 0.9684 - loss: 0.1318 - val_accuracy: 0.8082 - val_loss: 0.4612\n",
      "Epoch 78/200\n",
      "\u001b[1m40/40\u001b[0m \u001b[32m━━━━━━━━━━━━━━━━━━━━\u001b[0m\u001b[37m\u001b[0m \u001b[1m0s\u001b[0m 4ms/step - accuracy: 0.9713 - loss: 0.1279 - val_accuracy: 0.8113 - val_loss: 0.4621\n",
      "Epoch 79/200\n",
      "\u001b[1m40/40\u001b[0m \u001b[32m━━━━━━━━━━━━━━━━━━━━\u001b[0m\u001b[37m\u001b[0m \u001b[1m0s\u001b[0m 4ms/step - accuracy: 0.9648 - loss: 0.1317 - val_accuracy: 0.8113 - val_loss: 0.4634\n",
      "Epoch 80/200\n",
      "\u001b[1m40/40\u001b[0m \u001b[32m━━━━━━━━━━━━━━━━━━━━\u001b[0m\u001b[37m\u001b[0m \u001b[1m0s\u001b[0m 4ms/step - accuracy: 0.9607 - loss: 0.1323 - val_accuracy: 0.8082 - val_loss: 0.4650\n",
      "Epoch 81/200\n",
      "\u001b[1m40/40\u001b[0m \u001b[32m━━━━━━━━━━━━━━━━━━━━\u001b[0m\u001b[37m\u001b[0m \u001b[1m0s\u001b[0m 4ms/step - accuracy: 0.9720 - loss: 0.1244 - val_accuracy: 0.8097 - val_loss: 0.4657\n",
      "Epoch 82/200\n",
      "\u001b[1m40/40\u001b[0m \u001b[32m━━━━━━━━━━━━━━━━━━━━\u001b[0m\u001b[37m\u001b[0m \u001b[1m0s\u001b[0m 4ms/step - accuracy: 0.9678 - loss: 0.1245 - val_accuracy: 0.8097 - val_loss: 0.4663\n",
      "Epoch 83/200\n",
      "\u001b[1m40/40\u001b[0m \u001b[32m━━━━━━━━━━━━━━━━━━━━\u001b[0m\u001b[37m\u001b[0m \u001b[1m0s\u001b[0m 5ms/step - accuracy: 0.9623 - loss: 0.1240 - val_accuracy: 0.8097 - val_loss: 0.4677\n",
      "Epoch 84/200\n",
      "\u001b[1m40/40\u001b[0m \u001b[32m━━━━━━━━━━━━━━━━━━━━\u001b[0m\u001b[37m\u001b[0m \u001b[1m0s\u001b[0m 5ms/step - accuracy: 0.9686 - loss: 0.1201 - val_accuracy: 0.8113 - val_loss: 0.4694\n",
      "Epoch 85/200\n",
      "\u001b[1m40/40\u001b[0m \u001b[32m━━━━━━━━━━━━━━━━━━━━\u001b[0m\u001b[37m\u001b[0m \u001b[1m0s\u001b[0m 6ms/step - accuracy: 0.9780 - loss: 0.1141 - val_accuracy: 0.8097 - val_loss: 0.4708\n",
      "Epoch 86/200\n",
      "\u001b[1m40/40\u001b[0m \u001b[32m━━━━━━━━━━━━━━━━━━━━\u001b[0m\u001b[37m\u001b[0m \u001b[1m0s\u001b[0m 4ms/step - accuracy: 0.9693 - loss: 0.1193 - val_accuracy: 0.8097 - val_loss: 0.4714\n",
      "Epoch 87/200\n",
      "\u001b[1m40/40\u001b[0m \u001b[32m━━━━━━━━━━━━━━━━━━━━\u001b[0m\u001b[37m\u001b[0m \u001b[1m0s\u001b[0m 4ms/step - accuracy: 0.9658 - loss: 0.1157 - val_accuracy: 0.8113 - val_loss: 0.4726\n",
      "Epoch 88/200\n",
      "\u001b[1m40/40\u001b[0m \u001b[32m━━━━━━━━━━━━━━━━━━━━\u001b[0m\u001b[37m\u001b[0m \u001b[1m0s\u001b[0m 4ms/step - accuracy: 0.9741 - loss: 0.1079 - val_accuracy: 0.8113 - val_loss: 0.4750\n",
      "Epoch 89/200\n",
      "\u001b[1m40/40\u001b[0m \u001b[32m━━━━━━━━━━━━━━━━━━━━\u001b[0m\u001b[37m\u001b[0m \u001b[1m0s\u001b[0m 5ms/step - accuracy: 0.9744 - loss: 0.1072 - val_accuracy: 0.8113 - val_loss: 0.4754\n",
      "Epoch 90/200\n",
      "\u001b[1m40/40\u001b[0m \u001b[32m━━━━━━━━━━━━━━━━━━━━\u001b[0m\u001b[37m\u001b[0m \u001b[1m0s\u001b[0m 4ms/step - accuracy: 0.9748 - loss: 0.1044 - val_accuracy: 0.8097 - val_loss: 0.4764\n",
      "Epoch 91/200\n",
      "\u001b[1m40/40\u001b[0m \u001b[32m━━━━━━━━━━━━━━━━━━━━\u001b[0m\u001b[37m\u001b[0m \u001b[1m0s\u001b[0m 4ms/step - accuracy: 0.9806 - loss: 0.0988 - val_accuracy: 0.8113 - val_loss: 0.4771\n",
      "Epoch 92/200\n",
      "\u001b[1m40/40\u001b[0m \u001b[32m━━━━━━━━━━━━━━━━━━━━\u001b[0m\u001b[37m\u001b[0m \u001b[1m0s\u001b[0m 4ms/step - accuracy: 0.9702 - loss: 0.1065 - val_accuracy: 0.8066 - val_loss: 0.4788\n",
      "Epoch 93/200\n",
      "\u001b[1m40/40\u001b[0m \u001b[32m━━━━━━━━━━━━━━━━━━━━\u001b[0m\u001b[37m\u001b[0m \u001b[1m0s\u001b[0m 4ms/step - accuracy: 0.9730 - loss: 0.1035 - val_accuracy: 0.8066 - val_loss: 0.4810\n",
      "Epoch 94/200\n",
      "\u001b[1m40/40\u001b[0m \u001b[32m━━━━━━━━━━━━━━━━━━━━\u001b[0m\u001b[37m\u001b[0m \u001b[1m0s\u001b[0m 5ms/step - accuracy: 0.9765 - loss: 0.1081 - val_accuracy: 0.8050 - val_loss: 0.4830\n",
      "Epoch 95/200\n",
      "\u001b[1m40/40\u001b[0m \u001b[32m━━━━━━━━━━━━━━━━━━━━\u001b[0m\u001b[37m\u001b[0m \u001b[1m0s\u001b[0m 4ms/step - accuracy: 0.9736 - loss: 0.0996 - val_accuracy: 0.8082 - val_loss: 0.4848\n",
      "Epoch 96/200\n",
      "\u001b[1m40/40\u001b[0m \u001b[32m━━━━━━━━━━━━━━━━━━━━\u001b[0m\u001b[37m\u001b[0m \u001b[1m0s\u001b[0m 5ms/step - accuracy: 0.9844 - loss: 0.0887 - val_accuracy: 0.8097 - val_loss: 0.4855\n",
      "Epoch 97/200\n",
      "\u001b[1m40/40\u001b[0m \u001b[32m━━━━━━━━━━━━━━━━━━━━\u001b[0m\u001b[37m\u001b[0m \u001b[1m0s\u001b[0m 4ms/step - accuracy: 0.9806 - loss: 0.0939 - val_accuracy: 0.8082 - val_loss: 0.4878\n",
      "Epoch 98/200\n",
      "\u001b[1m40/40\u001b[0m \u001b[32m━━━━━━━━━━━━━━━━━━━━\u001b[0m\u001b[37m\u001b[0m \u001b[1m0s\u001b[0m 4ms/step - accuracy: 0.9817 - loss: 0.0886 - val_accuracy: 0.8082 - val_loss: 0.4885\n",
      "Epoch 99/200\n",
      "\u001b[1m40/40\u001b[0m \u001b[32m━━━━━━━━━━━━━━━━━━━━\u001b[0m\u001b[37m\u001b[0m \u001b[1m0s\u001b[0m 4ms/step - accuracy: 0.9732 - loss: 0.0965 - val_accuracy: 0.8082 - val_loss: 0.4888\n",
      "Epoch 100/200\n",
      "\u001b[1m40/40\u001b[0m \u001b[32m━━━━━━━━━━━━━━━━━━━━\u001b[0m\u001b[37m\u001b[0m \u001b[1m0s\u001b[0m 4ms/step - accuracy: 0.9806 - loss: 0.0900 - val_accuracy: 0.8082 - val_loss: 0.4913\n",
      "Epoch 101/200\n",
      "\u001b[1m40/40\u001b[0m \u001b[32m━━━━━━━━━━━━━━━━━━━━\u001b[0m\u001b[37m\u001b[0m \u001b[1m0s\u001b[0m 4ms/step - accuracy: 0.9805 - loss: 0.0845 - val_accuracy: 0.8050 - val_loss: 0.4928\n",
      "Epoch 102/200\n",
      "\u001b[1m40/40\u001b[0m \u001b[32m━━━━━━━━━━━━━━━━━━━━\u001b[0m\u001b[37m\u001b[0m \u001b[1m0s\u001b[0m 4ms/step - accuracy: 0.9793 - loss: 0.0875 - val_accuracy: 0.8066 - val_loss: 0.4928\n",
      "Epoch 103/200\n",
      "\u001b[1m40/40\u001b[0m \u001b[32m━━━━━━━━━━━━━━━━━━━━\u001b[0m\u001b[37m\u001b[0m \u001b[1m0s\u001b[0m 5ms/step - accuracy: 0.9857 - loss: 0.0809 - val_accuracy: 0.8050 - val_loss: 0.4947\n",
      "Epoch 104/200\n",
      "\u001b[1m40/40\u001b[0m \u001b[32m━━━━━━━━━━━━━━━━━━━━\u001b[0m\u001b[37m\u001b[0m \u001b[1m0s\u001b[0m 4ms/step - accuracy: 0.9808 - loss: 0.0816 - val_accuracy: 0.8035 - val_loss: 0.4974\n",
      "Epoch 105/200\n",
      "\u001b[1m40/40\u001b[0m \u001b[32m━━━━━━━━━━━━━━━━━━━━\u001b[0m\u001b[37m\u001b[0m \u001b[1m0s\u001b[0m 4ms/step - accuracy: 0.9830 - loss: 0.0804 - val_accuracy: 0.8050 - val_loss: 0.4988\n",
      "Epoch 106/200\n",
      "\u001b[1m40/40\u001b[0m \u001b[32m━━━━━━━━━━━━━━━━━━━━\u001b[0m\u001b[37m\u001b[0m \u001b[1m0s\u001b[0m 4ms/step - accuracy: 0.9866 - loss: 0.0805 - val_accuracy: 0.8050 - val_loss: 0.4996\n",
      "Epoch 107/200\n",
      "\u001b[1m40/40\u001b[0m \u001b[32m━━━━━━━━━━━━━━━━━━━━\u001b[0m\u001b[37m\u001b[0m \u001b[1m0s\u001b[0m 4ms/step - accuracy: 0.9840 - loss: 0.0798 - val_accuracy: 0.8050 - val_loss: 0.5010\n",
      "Epoch 108/200\n",
      "\u001b[1m40/40\u001b[0m \u001b[32m━━━━━━━━━━━━━━━━━━━━\u001b[0m\u001b[37m\u001b[0m \u001b[1m0s\u001b[0m 4ms/step - accuracy: 0.9768 - loss: 0.0860 - val_accuracy: 0.8066 - val_loss: 0.5034\n",
      "Epoch 109/200\n",
      "\u001b[1m40/40\u001b[0m \u001b[32m━━━━━━━━━━━━━━━━━━━━\u001b[0m\u001b[37m\u001b[0m \u001b[1m0s\u001b[0m 5ms/step - accuracy: 0.9811 - loss: 0.0753 - val_accuracy: 0.8050 - val_loss: 0.5057\n",
      "Epoch 110/200\n",
      "\u001b[1m40/40\u001b[0m \u001b[32m━━━━━━━━━━━━━━━━━━━━\u001b[0m\u001b[37m\u001b[0m \u001b[1m0s\u001b[0m 4ms/step - accuracy: 0.9874 - loss: 0.0654 - val_accuracy: 0.8035 - val_loss: 0.5069\n",
      "Epoch 111/200\n",
      "\u001b[1m40/40\u001b[0m \u001b[32m━━━━━━━━━━━━━━━━━━━━\u001b[0m\u001b[37m\u001b[0m \u001b[1m0s\u001b[0m 6ms/step - accuracy: 0.9854 - loss: 0.0686 - val_accuracy: 0.8050 - val_loss: 0.5083\n",
      "Epoch 112/200\n",
      "\u001b[1m40/40\u001b[0m \u001b[32m━━━━━━━━━━━━━━━━━━━━\u001b[0m\u001b[37m\u001b[0m \u001b[1m0s\u001b[0m 5ms/step - accuracy: 0.9869 - loss: 0.0712 - val_accuracy: 0.8050 - val_loss: 0.5098\n",
      "Epoch 113/200\n",
      "\u001b[1m40/40\u001b[0m \u001b[32m━━━━━━━━━━━━━━━━━━━━\u001b[0m\u001b[37m\u001b[0m \u001b[1m0s\u001b[0m 4ms/step - accuracy: 0.9830 - loss: 0.0729 - val_accuracy: 0.8050 - val_loss: 0.5111\n",
      "Epoch 114/200\n",
      "\u001b[1m40/40\u001b[0m \u001b[32m━━━━━━━━━━━━━━━━━━━━\u001b[0m\u001b[37m\u001b[0m \u001b[1m0s\u001b[0m 5ms/step - accuracy: 0.9904 - loss: 0.0634 - val_accuracy: 0.8050 - val_loss: 0.5138\n",
      "Epoch 115/200\n",
      "\u001b[1m40/40\u001b[0m \u001b[32m━━━━━━━━━━━━━━━━━━━━\u001b[0m\u001b[37m\u001b[0m \u001b[1m0s\u001b[0m 4ms/step - accuracy: 0.9819 - loss: 0.0711 - val_accuracy: 0.8050 - val_loss: 0.5151\n",
      "Epoch 116/200\n",
      "\u001b[1m40/40\u001b[0m \u001b[32m━━━━━━━━━━━━━━━━━━━━\u001b[0m\u001b[37m\u001b[0m \u001b[1m0s\u001b[0m 4ms/step - accuracy: 0.9847 - loss: 0.0695 - val_accuracy: 0.8035 - val_loss: 0.5167\n",
      "Epoch 117/200\n",
      "\u001b[1m40/40\u001b[0m \u001b[32m━━━━━━━━━━━━━━━━━━━━\u001b[0m\u001b[37m\u001b[0m \u001b[1m0s\u001b[0m 4ms/step - accuracy: 0.9909 - loss: 0.0656 - val_accuracy: 0.8050 - val_loss: 0.5186\n",
      "Epoch 118/200\n",
      "\u001b[1m40/40\u001b[0m \u001b[32m━━━━━━━━━━━━━━━━━━━━\u001b[0m\u001b[37m\u001b[0m \u001b[1m0s\u001b[0m 5ms/step - accuracy: 0.9883 - loss: 0.0582 - val_accuracy: 0.8050 - val_loss: 0.5197\n",
      "Epoch 119/200\n",
      "\u001b[1m40/40\u001b[0m \u001b[32m━━━━━━━━━━━━━━━━━━━━\u001b[0m\u001b[37m\u001b[0m \u001b[1m0s\u001b[0m 4ms/step - accuracy: 0.9876 - loss: 0.0623 - val_accuracy: 0.8050 - val_loss: 0.5219\n",
      "Epoch 120/200\n",
      "\u001b[1m40/40\u001b[0m \u001b[32m━━━━━━━━━━━━━━━━━━━━\u001b[0m\u001b[37m\u001b[0m \u001b[1m0s\u001b[0m 4ms/step - accuracy: 0.9899 - loss: 0.0588 - val_accuracy: 0.8050 - val_loss: 0.5241\n",
      "Epoch 121/200\n",
      "\u001b[1m40/40\u001b[0m \u001b[32m━━━━━━━━━━━━━━━━━━━━\u001b[0m\u001b[37m\u001b[0m \u001b[1m0s\u001b[0m 4ms/step - accuracy: 0.9840 - loss: 0.0650 - val_accuracy: 0.8019 - val_loss: 0.5256\n",
      "Epoch 122/200\n",
      "\u001b[1m40/40\u001b[0m \u001b[32m━━━━━━━━━━━━━━━━━━━━\u001b[0m\u001b[37m\u001b[0m \u001b[1m0s\u001b[0m 4ms/step - accuracy: 0.9912 - loss: 0.0583 - val_accuracy: 0.8050 - val_loss: 0.5278\n",
      "Epoch 123/200\n",
      "\u001b[1m40/40\u001b[0m \u001b[32m━━━━━━━━━━━━━━━━━━━━\u001b[0m\u001b[37m\u001b[0m \u001b[1m0s\u001b[0m 4ms/step - accuracy: 0.9877 - loss: 0.0587 - val_accuracy: 0.8035 - val_loss: 0.5305\n",
      "Epoch 124/200\n",
      "\u001b[1m40/40\u001b[0m \u001b[32m━━━━━━━━━━━━━━━━━━━━\u001b[0m\u001b[37m\u001b[0m \u001b[1m0s\u001b[0m 4ms/step - accuracy: 0.9902 - loss: 0.0526 - val_accuracy: 0.8066 - val_loss: 0.5325\n",
      "Epoch 125/200\n",
      "\u001b[1m40/40\u001b[0m \u001b[32m━━━━━━━━━━━━━━━━━━━━\u001b[0m\u001b[37m\u001b[0m \u001b[1m0s\u001b[0m 4ms/step - accuracy: 0.9882 - loss: 0.0542 - val_accuracy: 0.8050 - val_loss: 0.5345\n",
      "Epoch 126/200\n",
      "\u001b[1m40/40\u001b[0m \u001b[32m━━━━━━━━━━━━━━━━━━━━\u001b[0m\u001b[37m\u001b[0m \u001b[1m0s\u001b[0m 4ms/step - accuracy: 0.9929 - loss: 0.0546 - val_accuracy: 0.8050 - val_loss: 0.5359\n",
      "Epoch 127/200\n",
      "\u001b[1m40/40\u001b[0m \u001b[32m━━━━━━━━━━━━━━━━━━━━\u001b[0m\u001b[37m\u001b[0m \u001b[1m0s\u001b[0m 4ms/step - accuracy: 0.9897 - loss: 0.0543 - val_accuracy: 0.8050 - val_loss: 0.5377\n",
      "Epoch 128/200\n",
      "\u001b[1m40/40\u001b[0m \u001b[32m━━━━━━━━━━━━━━━━━━━━\u001b[0m\u001b[37m\u001b[0m \u001b[1m0s\u001b[0m 4ms/step - accuracy: 0.9893 - loss: 0.0495 - val_accuracy: 0.8050 - val_loss: 0.5392\n",
      "Epoch 129/200\n",
      "\u001b[1m40/40\u001b[0m \u001b[32m━━━━━━━━━━━━━━━━━━━━\u001b[0m\u001b[37m\u001b[0m \u001b[1m0s\u001b[0m 5ms/step - accuracy: 0.9865 - loss: 0.0559 - val_accuracy: 0.8066 - val_loss: 0.5408\n",
      "Epoch 130/200\n",
      "\u001b[1m40/40\u001b[0m \u001b[32m━━━━━━━━━━━━━━━━━━━━\u001b[0m\u001b[37m\u001b[0m \u001b[1m0s\u001b[0m 4ms/step - accuracy: 0.9904 - loss: 0.0520 - val_accuracy: 0.8050 - val_loss: 0.5424\n",
      "Epoch 131/200\n",
      "\u001b[1m40/40\u001b[0m \u001b[32m━━━━━━━━━━━━━━━━━━━━\u001b[0m\u001b[37m\u001b[0m \u001b[1m0s\u001b[0m 4ms/step - accuracy: 0.9886 - loss: 0.0501 - val_accuracy: 0.8050 - val_loss: 0.5458\n",
      "Epoch 132/200\n",
      "\u001b[1m40/40\u001b[0m \u001b[32m━━━━━━━━━━━━━━━━━━━━\u001b[0m\u001b[37m\u001b[0m \u001b[1m0s\u001b[0m 5ms/step - accuracy: 0.9890 - loss: 0.0503 - val_accuracy: 0.8066 - val_loss: 0.5475\n",
      "Epoch 133/200\n",
      "\u001b[1m40/40\u001b[0m \u001b[32m━━━━━━━━━━━━━━━━━━━━\u001b[0m\u001b[37m\u001b[0m \u001b[1m0s\u001b[0m 4ms/step - accuracy: 0.9851 - loss: 0.0576 - val_accuracy: 0.8050 - val_loss: 0.5487\n",
      "Epoch 134/200\n",
      "\u001b[1m40/40\u001b[0m \u001b[32m━━━━━━━━━━━━━━━━━━━━\u001b[0m\u001b[37m\u001b[0m \u001b[1m0s\u001b[0m 4ms/step - accuracy: 0.9871 - loss: 0.0528 - val_accuracy: 0.8097 - val_loss: 0.5508\n",
      "Epoch 135/200\n",
      "\u001b[1m40/40\u001b[0m \u001b[32m━━━━━━━━━━━━━━━━━━━━\u001b[0m\u001b[37m\u001b[0m \u001b[1m0s\u001b[0m 5ms/step - accuracy: 0.9897 - loss: 0.0515 - val_accuracy: 0.8066 - val_loss: 0.5528\n",
      "Epoch 136/200\n",
      "\u001b[1m40/40\u001b[0m \u001b[32m━━━━━━━━━━━━━━━━━━━━\u001b[0m\u001b[37m\u001b[0m \u001b[1m0s\u001b[0m 5ms/step - accuracy: 0.9921 - loss: 0.0449 - val_accuracy: 0.8082 - val_loss: 0.5552\n",
      "Epoch 137/200\n",
      "\u001b[1m40/40\u001b[0m \u001b[32m━━━━━━━━━━━━━━━━━━━━\u001b[0m\u001b[37m\u001b[0m \u001b[1m0s\u001b[0m 5ms/step - accuracy: 0.9869 - loss: 0.0530 - val_accuracy: 0.8082 - val_loss: 0.5570\n",
      "Epoch 138/200\n",
      "\u001b[1m40/40\u001b[0m \u001b[32m━━━━━━━━━━━━━━━━━━━━\u001b[0m\u001b[37m\u001b[0m \u001b[1m0s\u001b[0m 4ms/step - accuracy: 0.9863 - loss: 0.0467 - val_accuracy: 0.8066 - val_loss: 0.5581\n",
      "Epoch 139/200\n",
      "\u001b[1m40/40\u001b[0m \u001b[32m━━━━━━━━━━━━━━━━━━━━\u001b[0m\u001b[37m\u001b[0m \u001b[1m0s\u001b[0m 4ms/step - accuracy: 0.9924 - loss: 0.0416 - val_accuracy: 0.8082 - val_loss: 0.5594\n",
      "Epoch 140/200\n",
      "\u001b[1m40/40\u001b[0m \u001b[32m━━━━━━━━━━━━━━━━━━━━\u001b[0m\u001b[37m\u001b[0m \u001b[1m0s\u001b[0m 4ms/step - accuracy: 0.9916 - loss: 0.0418 - val_accuracy: 0.8082 - val_loss: 0.5615\n",
      "Epoch 141/200\n",
      "\u001b[1m40/40\u001b[0m \u001b[32m━━━━━━━━━━━━━━━━━━━━\u001b[0m\u001b[37m\u001b[0m \u001b[1m0s\u001b[0m 4ms/step - accuracy: 0.9878 - loss: 0.0456 - val_accuracy: 0.8082 - val_loss: 0.5637\n",
      "Epoch 142/200\n",
      "\u001b[1m40/40\u001b[0m \u001b[32m━━━━━━━━━━━━━━━━━━━━\u001b[0m\u001b[37m\u001b[0m \u001b[1m0s\u001b[0m 5ms/step - accuracy: 0.9886 - loss: 0.0473 - val_accuracy: 0.8082 - val_loss: 0.5649\n",
      "Epoch 143/200\n",
      "\u001b[1m40/40\u001b[0m \u001b[32m━━━━━━━━━━━━━━━━━━━━\u001b[0m\u001b[37m\u001b[0m \u001b[1m0s\u001b[0m 4ms/step - accuracy: 0.9895 - loss: 0.0417 - val_accuracy: 0.8082 - val_loss: 0.5664\n",
      "Epoch 144/200\n",
      "\u001b[1m40/40\u001b[0m \u001b[32m━━━━━━━━━━━━━━━━━━━━\u001b[0m\u001b[37m\u001b[0m \u001b[1m0s\u001b[0m 4ms/step - accuracy: 0.9908 - loss: 0.0418 - val_accuracy: 0.8113 - val_loss: 0.5683\n",
      "Epoch 145/200\n",
      "\u001b[1m40/40\u001b[0m \u001b[32m━━━━━━━━━━━━━━━━━━━━\u001b[0m\u001b[37m\u001b[0m \u001b[1m0s\u001b[0m 4ms/step - accuracy: 0.9878 - loss: 0.0448 - val_accuracy: 0.8066 - val_loss: 0.5718\n",
      "Epoch 146/200\n",
      "\u001b[1m40/40\u001b[0m \u001b[32m━━━━━━━━━━━━━━━━━━━━\u001b[0m\u001b[37m\u001b[0m \u001b[1m0s\u001b[0m 4ms/step - accuracy: 0.9911 - loss: 0.0450 - val_accuracy: 0.8082 - val_loss: 0.5709\n",
      "Epoch 147/200\n",
      "\u001b[1m40/40\u001b[0m \u001b[32m━━━━━━━━━━━━━━━━━━━━\u001b[0m\u001b[37m\u001b[0m \u001b[1m0s\u001b[0m 4ms/step - accuracy: 0.9875 - loss: 0.0457 - val_accuracy: 0.8082 - val_loss: 0.5733\n",
      "Epoch 148/200\n",
      "\u001b[1m40/40\u001b[0m \u001b[32m━━━━━━━━━━━━━━━━━━━━\u001b[0m\u001b[37m\u001b[0m \u001b[1m0s\u001b[0m 4ms/step - accuracy: 0.9891 - loss: 0.0433 - val_accuracy: 0.8050 - val_loss: 0.5752\n",
      "Epoch 149/200\n",
      "\u001b[1m40/40\u001b[0m \u001b[32m━━━━━━━━━━━━━━━━━━━━\u001b[0m\u001b[37m\u001b[0m \u001b[1m0s\u001b[0m 4ms/step - accuracy: 0.9862 - loss: 0.0484 - val_accuracy: 0.8113 - val_loss: 0.5773\n",
      "Epoch 150/200\n",
      "\u001b[1m40/40\u001b[0m \u001b[32m━━━━━━━━━━━━━━━━━━━━\u001b[0m\u001b[37m\u001b[0m \u001b[1m0s\u001b[0m 5ms/step - accuracy: 0.9906 - loss: 0.0411 - val_accuracy: 0.8082 - val_loss: 0.5796\n",
      "Epoch 151/200\n",
      "\u001b[1m40/40\u001b[0m \u001b[32m━━━━━━━━━━━━━━━━━━━━\u001b[0m\u001b[37m\u001b[0m \u001b[1m0s\u001b[0m 5ms/step - accuracy: 0.9916 - loss: 0.0395 - val_accuracy: 0.8082 - val_loss: 0.5819\n",
      "Epoch 152/200\n",
      "\u001b[1m40/40\u001b[0m \u001b[32m━━━━━━━━━━━━━━━━━━━━\u001b[0m\u001b[37m\u001b[0m \u001b[1m0s\u001b[0m 5ms/step - accuracy: 0.9912 - loss: 0.0361 - val_accuracy: 0.8082 - val_loss: 0.5845\n",
      "Epoch 153/200\n",
      "\u001b[1m40/40\u001b[0m \u001b[32m━━━━━━━━━━━━━━━━━━━━\u001b[0m\u001b[37m\u001b[0m \u001b[1m0s\u001b[0m 5ms/step - accuracy: 0.9906 - loss: 0.0390 - val_accuracy: 0.8082 - val_loss: 0.5859\n",
      "Epoch 154/200\n",
      "\u001b[1m40/40\u001b[0m \u001b[32m━━━━━━━━━━━━━━━━━━━━\u001b[0m\u001b[37m\u001b[0m \u001b[1m0s\u001b[0m 6ms/step - accuracy: 0.9901 - loss: 0.0436 - val_accuracy: 0.8113 - val_loss: 0.5890\n",
      "Epoch 155/200\n",
      "\u001b[1m40/40\u001b[0m \u001b[32m━━━━━━━━━━━━━━━━━━━━\u001b[0m\u001b[37m\u001b[0m \u001b[1m0s\u001b[0m 5ms/step - accuracy: 0.9909 - loss: 0.0380 - val_accuracy: 0.8066 - val_loss: 0.5909\n",
      "Epoch 156/200\n",
      "\u001b[1m40/40\u001b[0m \u001b[32m━━━━━━━━━━━━━━━━━━━━\u001b[0m\u001b[37m\u001b[0m \u001b[1m0s\u001b[0m 5ms/step - accuracy: 0.9848 - loss: 0.0458 - val_accuracy: 0.8066 - val_loss: 0.5929\n",
      "Epoch 157/200\n",
      "\u001b[1m40/40\u001b[0m \u001b[32m━━━━━━━━━━━━━━━━━━━━\u001b[0m\u001b[37m\u001b[0m \u001b[1m0s\u001b[0m 4ms/step - accuracy: 0.9937 - loss: 0.0360 - val_accuracy: 0.8082 - val_loss: 0.5936\n",
      "Epoch 158/200\n",
      "\u001b[1m40/40\u001b[0m \u001b[32m━━━━━━━━━━━━━━━━━━━━\u001b[0m\u001b[37m\u001b[0m \u001b[1m0s\u001b[0m 4ms/step - accuracy: 0.9925 - loss: 0.0331 - val_accuracy: 0.8082 - val_loss: 0.5976\n",
      "Epoch 158: early stopping\n",
      "Restoring model weights from the end of the best epoch: 78.\n"
     ]
    }
   ],
   "source": [
    "# Compilación del modelo previa a entrenamiento\n",
    "model_tfidf_bigram.compile(optimizer=optimizers.Adam(learning_rate=0.00001), loss='binary_crossentropy', metrics=['accuracy'])\n",
    "\n",
    "# Entrenamiento del modelo\n",
    "history = model_tfidf_bigram.fit(X_train_f, y_train_f, epochs=200, batch_size=64, validation_data=(X_val_f, y_val_f), callbacks=[early_stopping])"
   ]
  },
  {
   "cell_type": "code",
   "execution_count": 88,
   "metadata": {},
   "outputs": [
    {
     "data": {
      "image/png": "[encoded data removed]",
      "text/plain": [
       "<Figure size 1000x600 with 1 Axes>"
      ]
     },
     "metadata": {},
     "output_type": "display_data"
    }
   ],
   "source": [
    "plt.figure(figsize=(10, 6))\n",
    "plt.plot(history.history['val_accuracy'], label='Precisión de validación')\n",
    "plt.plot(history.history['val_loss'], label= 'Función de pérdida en validación')\n",
    "\n",
    "plt.axvline(x=np.argmax(history.history['val_accuracy']), color='r', linestyle='-', linewidth=1, label='Early Stopping Mejor modelo')\n",
    "plt.xlabel('Épocas')\n",
    "plt.ylabel('Precisión y Pérdida')\n",
    "plt.legend()\n",
    "plt.show()"
   ]
  },
  {
   "cell_type": "code",
   "execution_count": 89,
   "metadata": {},
   "outputs": [
    {
     "name": "stdout",
     "output_type": "stream",
     "text": [
      "\u001b[1m25/25\u001b[0m \u001b[32m━━━━━━━━━━━━━━━━━━━━\u001b[0m\u001b[37m\u001b[0m \u001b[1m0s\u001b[0m 1ms/step - accuracy: 0.8051 - loss: 0.4871 \n",
      "Test Accuracy: 0.796226441860199\n",
      "Test Loss: 0.48771166801452637\n"
     ]
    }
   ],
   "source": [
    "# Testeo, predicción y evaluación del modelo\n",
    "test_loss, test_acc = model_tfidf_bigram.evaluate(X_test_encoded, y_test)\n",
    "print(f\"Test Accuracy: {test_acc}\")\n",
    "print(f\"Test Loss: {test_loss}\")"
   ]
  }
 ],
 "metadata": {
  "kernelspec": {
   "display_name": "dl_env",
   "language": "python",
   "name": "python3"
  },
  "language_info": {
   "codemirror_mode": {
    "name": "ipython",
    "version": 3
   },
   "file_extension": ".py",
   "mimetype": "text/x-python",
   "name": "python",
   "nbconvert_exporter": "python",
   "pygments_lexer": "ipython3",
   "version": "3.9.21"
  }
 },
 "nbformat": 4,
 "nbformat_minor": 2
}
