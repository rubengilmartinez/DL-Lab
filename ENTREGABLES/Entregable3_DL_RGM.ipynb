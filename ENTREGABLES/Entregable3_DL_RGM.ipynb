{
 "cells": [
  {
   "cell_type": "markdown",
   "metadata": {},
   "source": [
    "\n",
    "# **Práctica 3: Transformers**\n",
    "\n",
    "- Rubén Gil Martínez\n"
   ]
  },
  {
   "cell_type": "markdown",
   "metadata": {},
   "source": [
    "### **Sesión 1/3: Preprocesamiento de secuencias de caracteres**\n"
   ]
  },
  {
   "cell_type": "markdown",
   "metadata": {},
   "source": [
    "**CODIFICACIÓN.**\n",
    "\n",
    "- Integer: se construye una tabla con todos los tokens considerados y se le asigna un índice entero a cada token. Luego a cada token de la secuencia se le asigna el índice correspondiente. Como las secuencias tienen tamaños diferentes, se suele configurar para que los vectores de salida tengan el tamaño de la secuencia más larga asignándose un 0 a los valores de relleno (*padding*).\n",
    "\n",
    "- Multi-hot: la codificación de salida es un vector binario cuyo tamaño es el número de tokens considerados, si un token aparece en la secuencia codificada el vector tendrá un 1 en la posición correspondiente a ese token, si no un 0. Independientemente del tamaño de la secuencia a codificar, la salida será un vector cuyo tamaño se corresponde con la longitud del vocabulario. # |V| TAMAÑO DEL VECTOR PARA CADA TOKEN\n",
    "\n",
    "- TF-IDF: es una extensión de multi-hot que en lugar de valores binarios asigna la frecuencia de aparición de un token en un conjunto de datos.\n",
    "\n",
    "\n",
    "---\n",
    "\n",
    "\n",
    "La librería Keras proporciona la clase [TextVectorization](https://keras.io/api/layers/preprocessing_layers/text/text_vectorization/) que implementa una capa para la codificación de texto.\n",
    "\n",
    "### El problema: clasificación de péptidos\n",
    "<a class='anchor' id='problema'></a>\n",
    "\n",
    "Durante esta práctica abordaremos el problema de la clasificación de fragmentos de texto. En concreto, nos centraremos en la clasificación de péptidos, secuencias de AAs, codificadas mediante caracteres de texto. Los péptidos se pueden agrupar en dos clases según presenten o no actividad antimicrobiana (AMP). Los CSV de entrada están separados entre los AMP y los no AMP, así que deberán fusionarse para construir un dataset que permita un entrenamiento supervisado.\n",
    "\n",
    "En las diferentes sesiones de esta práctica construiremos diferentes modelos para resolver este problema. El punto de partida será la arquitectura genérica MLP, utilizaremos también redes neuronales recurrentes (RNN) para estudiar la ventaja de procesar datos en forma de secuencia y finalmente implementaremos un Transformer que se ha convertido en el modelo de referencia para este tipo de datos.\n",
    "\n",
    "\n"
   ]
  },
  {
   "cell_type": "code",
   "execution_count": 1,
   "metadata": {},
   "outputs": [],
   "source": [
    "import pandas as pd\n",
    "import numpy as np\n",
    "import matplotlib.pyplot as plt\n",
    "from sklearn.model_selection import train_test_split\n",
    "import keras\n",
    "from keras import layers, Sequential, optimizers\n",
    "# CONJUNTO DE ENTRENAMIENTO DE LA CODIFICACIÓN: TODOS LAS CADENAS DE AMINOACIDOS, UTILIZAR ADAPT Y EMPLEAR PARA CODIFICAR CORRECTAMENTE CADA CARÁCTER DENTRO DE LA CADENA"
   ]
  },
  {
   "cell_type": "markdown",
   "metadata": {},
   "source": [
    "**E1:** Carga las tablas almacenadas en los CSV utilizando la librería Pandas y fusiónalas en un solo Dataframe. Después construye una lista con todos los péptidos y otra cuyos elementos sean booleanos identificando si son AMP. ¿Cuál es la secuencia más larga? ¿Cuántos AAs diferentes hay? ¿Cuál es el vocabulario del lenguaje?"
   ]
  },
  {
   "cell_type": "code",
   "execution_count": 2,
   "metadata": {},
   "outputs": [
    {
     "name": "stdout",
     "output_type": "stream",
     "text": [
      "Secuencia de aminoácidos más larga: LGKFSQTCYNSAIQGSVLTSTCERTNGGYNTSSIDLNSVIENVDGSLKWQPSNFIETCRNTQLAGSSELAAECKTRAQQFVSTKINLDDHIANIDGTLKYE\n",
      "Número de aminoácidos diferentes: 25\n",
      "Vocabulario de aminoácidos: ['A', 'B', 'C', 'D', 'E', 'F', 'G', 'H', 'I', 'K', 'L', 'M', 'N', 'O', 'P', 'Q', 'R', 'S', 'T', 'U', 'V', 'W', 'X', 'Y', 'Z']\n"
     ]
    }
   ],
   "source": [
    "# Cargamos los datasets de péptidos antimicrobianos y péptidos sin efecto antimicrobiano en dataframes\n",
    "peptidos_AM = pd.read_csv('../data/dataset_p3/veltri_dramp_cdhit_90.csv', sep=',')\n",
    "perptidos_sin_efecto_AM =  pd.read_csv('../data/dataset_p3/non_amp_ampep_cdhit90.csv', sep=',')\n",
    "\n",
    "\n",
    "\n",
    "# Fusionamos los dataframes para tener todos los péptidos en un único dataframe\n",
    "peptidos = pd.concat([peptidos_AM, perptidos_sin_efecto_AM], ignore_index=True)\n",
    "\n",
    "\n",
    "\n",
    "# Preprocesamiento y preparación de las cadenas de aminoácidos para su posterior codificación\n",
    "# Eliminación de columnas innecesarias y conversión de las secuencias de aminoácidos a mayúsculas\n",
    "peptidos.drop(columns=['Unnamed: 0'], inplace=True)\n",
    "peptidos['aa_seq'] = peptidos['aa_seq'].str.upper()\n",
    "\n",
    "\n",
    "\n",
    "# Listas con todos los péptidos y su respectiva clasificación\n",
    "PEPTIDOS =list(peptidos['aa_seq'])\n",
    "AMP = list(peptidos['AMP'])\n",
    "\n",
    "\n",
    "\n",
    "# Análisis de los péptidos\n",
    "print(f\"Secuencia de aminoácidos más larga: {PEPTIDOS[np.argmax(peptidos['aa_len'])]}\")\n",
    "AAs = \"\".join(set(\"\".join(PEPTIDOS)))\n",
    "print(f\"Número de aminoácidos diferentes: {len(AAs)}\")\n",
    "print(f\"Vocabulario de aminoácidos: {sorted(AAs)}\")"
   ]
  },
  {
   "cell_type": "markdown",
   "metadata": {},
   "source": [
    "**E2:** Divide los conjuntos de datos del E1 en dos. Uno que contenga el 80% de las secuencias para el entrenamiento supervisado y otro que contenga al resto para testear los modelos entrenados. Asegúrate que en ambos conjuntos hay una selección representativos de péptidos.\n",
    "\n",
    "**E3:** Codifica los péptidos empleando la codificación multi-hot. ¿Qué longitud tiene cada péptido codificado? **Cada péptido codificado tiene una longitud de 25, es decir, la longitud del vocabulario ya que se asocia un 1 en el índice del vector de codificación en caso de que el carácter asociado a ese índice aparezca en la secuencia y un 0 en caso contrario.**"
   ]
  },
  {
   "cell_type": "markdown",
   "metadata": {},
   "source": [
    "**DIVISIÓN DEL DATASET EN ENTRENAMIENTO Y TEST (80/20):**"
   ]
  },
  {
   "cell_type": "code",
   "execution_count": 3,
   "metadata": {},
   "outputs": [
    {
     "name": "stdout",
     "output_type": "stream",
     "text": [
      "Número de aminoácidos diferentes Entrenamiento: 25\n",
      "Vocabulario de aminoácidos Entrenamiento: ['A', 'B', 'C', 'D', 'E', 'F', 'G', 'H', 'I', 'K', 'L', 'M', 'N', 'O', 'P', 'Q', 'R', 'S', 'T', 'U', 'V', 'W', 'X', 'Y', 'Z']\n",
      "Número de aminoácidos diferentes Test: 22\n",
      "Vocabulario de aminoácidos Test: ['A', 'C', 'D', 'E', 'F', 'G', 'H', 'I', 'K', 'L', 'M', 'N', 'O', 'P', 'Q', 'R', 'S', 'T', 'V', 'W', 'X', 'Y']\n",
      "\n",
      "Partición estratificada de los datos mediante la variable objetivo:\n",
      "(array([False,  True]), array([1526, 1652]))\n",
      "(array([False,  True]), array([382, 413]))\n"
     ]
    }
   ],
   "source": [
    "X_train, X_test, y_train, y_test = train_test_split(PEPTIDOS, AMP, test_size=0.2, random_state=76, stratify=AMP)\n",
    "\n",
    "# Análisis de los péptidos para asegurarnos que se ha realizado una partición donde ambos conjuntos sean representativos\n",
    "AAs_X_train = \"\".join(set(\"\".join(X_train)))\n",
    "AAs_X_test = \"\".join(set(\"\".join(X_test)))\n",
    "\n",
    "\n",
    "print(f\"Número de aminoácidos diferentes Entrenamiento: {len(AAs_X_train)}\")\n",
    "print(f\"Vocabulario de aminoácidos Entrenamiento: {sorted(AAs_X_train)}\")\n",
    "print(f\"Número de aminoácidos diferentes Test: {len(AAs_X_test)}\")\n",
    "print(f\"Vocabulario de aminoácidos Test: {sorted(AAs_X_test)}\")\n",
    "print()\n",
    "print('Partición estratificada de los datos mediante la variable objetivo:')\n",
    "print(np.unique(y_train, return_counts=True))\n",
    "print(np.unique(y_test, return_counts=True))"
   ]
  },
  {
   "cell_type": "markdown",
   "metadata": {},
   "source": [
    "**CODIFICACIÓN MULTI-HOT DE LAS SECUENCIAS DE CARÁCTERES QUE REPRESENTAN A LOS PÉPTIDOS**"
   ]
  },
  {
   "cell_type": "code",
   "execution_count": 4,
   "metadata": {},
   "outputs": [],
   "source": [
    "from keras.layers import TextVectorization\n",
    "\n",
    "# Inicializar el vectorizador\n",
    "vectorizer_hot = TextVectorization(\n",
    "    max_tokens=25,  # Número de aminoácidos únicos\n",
    "    output_mode='multi_hot',  # Modo de salida \n",
    "    standardize=None,  # No estandarizamos\n",
    "    split='character'  # Dividimos por caracteres(aminoácidos)\n",
    ")\n",
    "\n",
    "# Ajustar el vectorizador a las secuencias, nos ajustamos solo al conjunto de entrenamiento para evitar la exposición a datos de test\n",
    "vectorizer_hot.adapt(X_train)\n",
    "\n",
    "# Transformamos los péptidos mediante la codificación multi-hot\n",
    "X_train_encoded = vectorizer_hot(X_train)\n",
    "X_test_encoded = vectorizer_hot(X_test)"
   ]
  },
  {
   "cell_type": "code",
   "execution_count": 5,
   "metadata": {},
   "outputs": [],
   "source": [
    "peptidos['Multi-Hot'] = peptidos['aa_seq'].apply(lambda x: vectorizer_hot(x).numpy())"
   ]
  },
  {
   "cell_type": "code",
   "execution_count": 6,
   "metadata": {},
   "outputs": [
    {
     "data": {
      "text/html": [
       "<div>\n",
       "<style scoped>\n",
       "    .dataframe tbody tr th:only-of-type {\n",
       "        vertical-align: middle;\n",
       "    }\n",
       "\n",
       "    .dataframe tbody tr th {\n",
       "        vertical-align: top;\n",
       "    }\n",
       "\n",
       "    .dataframe thead th {\n",
       "        text-align: right;\n",
       "    }\n",
       "</style>\n",
       "<table border=\"1\" class=\"dataframe\">\n",
       "  <thead>\n",
       "    <tr style=\"text-align: right;\">\n",
       "      <th></th>\n",
       "      <th>aa_seq</th>\n",
       "      <th>aa_len</th>\n",
       "      <th>AMP</th>\n",
       "      <th>Multi-Hot</th>\n",
       "    </tr>\n",
       "  </thead>\n",
       "  <tbody>\n",
       "    <tr>\n",
       "      <th>0</th>\n",
       "      <td>GNGVLKTISHECNMNTWQFLFTCC</td>\n",
       "      <td>24</td>\n",
       "      <td>True</td>\n",
       "      <td>[0, 1, 1, 1, 0, 0, 1, 1, 1, 1, 1, 1, 0, 1, 1, ...</td>\n",
       "    </tr>\n",
       "    <tr>\n",
       "      <th>1</th>\n",
       "      <td>TTKNYGNGVCNSVNWCQCGNVWASCNLATGCAAWLCKLA</td>\n",
       "      <td>39</td>\n",
       "      <td>True</td>\n",
       "      <td>[0, 1, 1, 1, 1, 0, 1, 1, 0, 1, 0, 1, 0, 1, 0, ...</td>\n",
       "    </tr>\n",
       "    <tr>\n",
       "      <th>2</th>\n",
       "      <td>SNDSLWYGVGQFMGKQANCITNHPVKHMIIPGYCLSKILG</td>\n",
       "      <td>40</td>\n",
       "      <td>True</td>\n",
       "      <td>[0, 1, 1, 1, 1, 0, 1, 1, 1, 1, 0, 1, 1, 1, 1, ...</td>\n",
       "    </tr>\n",
       "    <tr>\n",
       "      <th>3</th>\n",
       "      <td>IAPIIVAGLGYLVKDAWDHSDQIISGFKKGWNGGRRK</td>\n",
       "      <td>37</td>\n",
       "      <td>True</td>\n",
       "      <td>[0, 1, 1, 1, 1, 1, 1, 1, 1, 0, 0, 0, 1, 1, 1, ...</td>\n",
       "    </tr>\n",
       "    <tr>\n",
       "      <th>4</th>\n",
       "      <td>FNRGGYNFGKSVRHVVDAIGSVAGIRGILKSIR</td>\n",
       "      <td>33</td>\n",
       "      <td>True</td>\n",
       "      <td>[0, 1, 1, 1, 1, 1, 1, 1, 1, 0, 0, 0, 0, 1, 1, ...</td>\n",
       "    </tr>\n",
       "    <tr>\n",
       "      <th>5</th>\n",
       "      <td>VFHAYSARGVRNNYKSAVGPADWVISAVRGFIHG</td>\n",
       "      <td>34</td>\n",
       "      <td>True</td>\n",
       "      <td>[0, 1, 0, 1, 1, 1, 1, 1, 1, 0, 0, 0, 1, 1, 1, ...</td>\n",
       "    </tr>\n",
       "    <tr>\n",
       "      <th>6</th>\n",
       "      <td>RRSRKNGIGYAIGYAFGAVERAVLGGSRDYNK</td>\n",
       "      <td>32</td>\n",
       "      <td>True</td>\n",
       "      <td>[0, 1, 1, 1, 1, 1, 1, 1, 1, 0, 1, 0, 0, 1, 1, ...</td>\n",
       "    </tr>\n",
       "    <tr>\n",
       "      <th>7</th>\n",
       "      <td>KGLGKLIGIDWLLGQAKDAVKQYKKDYKRWH</td>\n",
       "      <td>31</td>\n",
       "      <td>True</td>\n",
       "      <td>[0, 1, 1, 1, 1, 1, 0, 1, 1, 0, 0, 0, 0, 0, 0, ...</td>\n",
       "    </tr>\n",
       "  </tbody>\n",
       "</table>\n",
       "</div>"
      ],
      "text/plain": [
       "                                     aa_seq  aa_len   AMP  \\\n",
       "0                  GNGVLKTISHECNMNTWQFLFTCC      24  True   \n",
       "1   TTKNYGNGVCNSVNWCQCGNVWASCNLATGCAAWLCKLA      39  True   \n",
       "2  SNDSLWYGVGQFMGKQANCITNHPVKHMIIPGYCLSKILG      40  True   \n",
       "3     IAPIIVAGLGYLVKDAWDHSDQIISGFKKGWNGGRRK      37  True   \n",
       "4         FNRGGYNFGKSVRHVVDAIGSVAGIRGILKSIR      33  True   \n",
       "5        VFHAYSARGVRNNYKSAVGPADWVISAVRGFIHG      34  True   \n",
       "6          RRSRKNGIGYAIGYAFGAVERAVLGGSRDYNK      32  True   \n",
       "7           KGLGKLIGIDWLLGQAKDAVKQYKKDYKRWH      31  True   \n",
       "\n",
       "                                           Multi-Hot  \n",
       "0  [0, 1, 1, 1, 0, 0, 1, 1, 1, 1, 1, 1, 0, 1, 1, ...  \n",
       "1  [0, 1, 1, 1, 1, 0, 1, 1, 0, 1, 0, 1, 0, 1, 0, ...  \n",
       "2  [0, 1, 1, 1, 1, 0, 1, 1, 1, 1, 0, 1, 1, 1, 1, ...  \n",
       "3  [0, 1, 1, 1, 1, 1, 1, 1, 1, 0, 0, 0, 1, 1, 1, ...  \n",
       "4  [0, 1, 1, 1, 1, 1, 1, 1, 1, 0, 0, 0, 0, 1, 1, ...  \n",
       "5  [0, 1, 0, 1, 1, 1, 1, 1, 1, 0, 0, 0, 1, 1, 1, ...  \n",
       "6  [0, 1, 1, 1, 1, 1, 1, 1, 1, 0, 1, 0, 0, 1, 1, ...  \n",
       "7  [0, 1, 1, 1, 1, 1, 0, 1, 1, 0, 0, 0, 0, 0, 0, ...  "
      ]
     },
     "execution_count": 6,
     "metadata": {},
     "output_type": "execute_result"
    }
   ],
   "source": [
    "# Muestra de la correcta codificación de los péptidos \n",
    "peptidos.head(8)"
   ]
  },
  {
   "cell_type": "code",
   "execution_count": 7,
   "metadata": {},
   "outputs": [
    {
     "name": "stdout",
     "output_type": "stream",
     "text": [
      "Vocabulario de carácteres e índices asociados a cada uno: \n",
      "  {'[UNK]': 0, np.str_('K'): 1, np.str_('L'): 2, np.str_('G'): 3, np.str_('A'): 4, np.str_('R'): 5, np.str_('S'): 6, np.str_('V'): 7, np.str_('I'): 8, np.str_('C'): 9, np.str_('E'): 10, np.str_('T'): 11, np.str_('P'): 12, np.str_('N'): 13, np.str_('F'): 14, np.str_('D'): 15, np.str_('Q'): 16, np.str_('Y'): 17, np.str_('M'): 18, np.str_('H'): 19, np.str_('W'): 20, np.str_('X'): 21, np.str_('U'): 22, np.str_('O'): 23, np.str_('Z'): 24} \n",
      "\n",
      "Longitud de los péptidos codificados/longitud vectores multi-hot: 25\n"
     ]
    }
   ],
   "source": [
    "# Vocabulario de codificación\n",
    "vocab = vectorizer_hot.get_vocabulary()\n",
    "char_indices = {char: idx for idx, char in enumerate(vocab)}\n",
    "print(\"Vocabulario de carácteres e índices asociados a cada uno: \\n \" , char_indices, \"\\n\")\n",
    "print(\"Longitud de los péptidos codificados/longitud vectores multi-hot:\", X_train_encoded.shape[1])\n"
   ]
  },
  {
   "cell_type": "markdown",
   "metadata": {},
   "source": [
    "**E4:** Basándote en la arquitectura del E4 de la Sesión 1 de la Práctica 2 (Redes Convolucionales), construye un MLP para clasificar los péptidos. ¿Cuántos parámetros a entrenar tiene? **Siguiendo la misma arquitectura, tenemos 185.857 parámetros entrenables.**\n",
    "\n",
    "**E5:** Entrena el modelo del E4 utilizando el 20% de los datos de entrenamiento para validación durante el entrenamiento. Utiliza una cantidad de épocas que produzca sobreajuste, además añade un *callback* para guardar el modelo que tenga una mayor precisión en la validación.\n",
    "\n",
    "**E6:** Testea la precisión del modelo entrenado en el E5 empleando el conjunto de test obtenido en el E2. Recuerda cargar el modelo para la mejor época. ¿Qué precisión se alcanza? **SE ALCANZA UNA PRECISIÓN DE 0.7371, NO ES MUY BUENA PERO CON LA IMPLEMENTACIÓN DE OTRAS CODIFICACIONES Y OTRAS ARQUITECTURAS QUE CAPTEN MEJOR EL CARÁCTER SECUENCIAL QUE PRESENTA ESTE PROBLEMA, CONSEGUIREMOS MEJORAR EN PRESTACIONES.**"
   ]
  },
  {
   "cell_type": "code",
   "execution_count": 8,
   "metadata": {},
   "outputs": [],
   "source": [
    "# Definimos un earling stopping para detener el entrenamiento de los modelos cuando ya no mejoren la precisión de la validación\n",
    "early_stopping = keras.callbacks.EarlyStopping(\n",
    "    monitor='val_accuracy',  # Métrica a monitorear \n",
    "    patience=50,  # Número de epochs sin mejora antes de parar\n",
    "    min_delta=0.0001,  # Pequeña mejora mínima requerida\n",
    "    restore_best_weights=True,  # Restaura los mejores pesos en lugar de los últimos\n",
    "    verbose=1  # Muestra mensaje en la consola con la época que contiene los mejores pesos\n",
    ")"
   ]
  },
  {
   "cell_type": "code",
   "execution_count": 9,
   "metadata": {},
   "outputs": [],
   "source": [
    "# Obtención del 20% de los datos de entrenamiento para validación del modelo durante el proceso de entrenamiento\n",
    "X_train_f, X_val_f, y_train_f, y_val_f = train_test_split(np.array(X_train_encoded), y_train, test_size=0.2, random_state=2025, stratify=y_train)"
   ]
  },
  {
   "cell_type": "code",
   "execution_count": 10,
   "metadata": {},
   "outputs": [],
   "source": [
    "# Conversión de las etiquetas a arrays de numpy para su uso en la red neuronal\n",
    "y_train_f = np.array(y_train_f)\n",
    "y_val_f = np.array(y_val_f)\n",
    "y_test = np.array(y_test)"
   ]
  },
  {
   "cell_type": "code",
   "execution_count": 12,
   "metadata": {},
   "outputs": [
    {
     "data": {
      "text/html": [
       "<pre style=\"white-space:pre;overflow-x:auto;line-height:normal;font-family:Menlo,'DejaVu Sans Mono',consolas,'Courier New',monospace\"><span style=\"font-weight: bold\">Model: \"sequential\"</span>\n",
       "</pre>\n"
      ],
      "text/plain": [
       "\u001b[1mModel: \"sequential\"\u001b[0m\n"
      ]
     },
     "metadata": {},
     "output_type": "display_data"
    },
    {
     "data": {
      "text/html": [
       "<pre style=\"white-space:pre;overflow-x:auto;line-height:normal;font-family:Menlo,'DejaVu Sans Mono',consolas,'Courier New',monospace\">┏━━━━━━━━━━━━━━━━━━━━━━━━━━━━━━━━━┳━━━━━━━━━━━━━━━━━━━━━━━━┳━━━━━━━━━━━━━━━┓\n",
       "┃<span style=\"font-weight: bold\"> Layer (type)                    </span>┃<span style=\"font-weight: bold\"> Output Shape           </span>┃<span style=\"font-weight: bold\">       Param # </span>┃\n",
       "┡━━━━━━━━━━━━━━━━━━━━━━━━━━━━━━━━━╇━━━━━━━━━━━━━━━━━━━━━━━━╇━━━━━━━━━━━━━━━┩\n",
       "│ dense (<span style=\"color: #0087ff; text-decoration-color: #0087ff\">Dense</span>)                   │ (<span style=\"color: #00d7ff; text-decoration-color: #00d7ff\">None</span>, <span style=\"color: #00af00; text-decoration-color: #00af00\">512</span>)            │        <span style=\"color: #00af00; text-decoration-color: #00af00\">13,312</span> │\n",
       "├─────────────────────────────────┼────────────────────────┼───────────────┤\n",
       "│ dense_1 (<span style=\"color: #0087ff; text-decoration-color: #0087ff\">Dense</span>)                 │ (<span style=\"color: #00d7ff; text-decoration-color: #00d7ff\">None</span>, <span style=\"color: #00af00; text-decoration-color: #00af00\">256</span>)            │       <span style=\"color: #00af00; text-decoration-color: #00af00\">131,328</span> │\n",
       "├─────────────────────────────────┼────────────────────────┼───────────────┤\n",
       "│ dense_2 (<span style=\"color: #0087ff; text-decoration-color: #0087ff\">Dense</span>)                 │ (<span style=\"color: #00d7ff; text-decoration-color: #00d7ff\">None</span>, <span style=\"color: #00af00; text-decoration-color: #00af00\">128</span>)            │        <span style=\"color: #00af00; text-decoration-color: #00af00\">32,896</span> │\n",
       "├─────────────────────────────────┼────────────────────────┼───────────────┤\n",
       "│ dense_3 (<span style=\"color: #0087ff; text-decoration-color: #0087ff\">Dense</span>)                 │ (<span style=\"color: #00d7ff; text-decoration-color: #00d7ff\">None</span>, <span style=\"color: #00af00; text-decoration-color: #00af00\">64</span>)             │         <span style=\"color: #00af00; text-decoration-color: #00af00\">8,256</span> │\n",
       "├─────────────────────────────────┼────────────────────────┼───────────────┤\n",
       "│ dense_4 (<span style=\"color: #0087ff; text-decoration-color: #0087ff\">Dense</span>)                 │ (<span style=\"color: #00d7ff; text-decoration-color: #00d7ff\">None</span>, <span style=\"color: #00af00; text-decoration-color: #00af00\">1</span>)              │            <span style=\"color: #00af00; text-decoration-color: #00af00\">65</span> │\n",
       "└─────────────────────────────────┴────────────────────────┴───────────────┘\n",
       "</pre>\n"
      ],
      "text/plain": [
       "┏━━━━━━━━━━━━━━━━━━━━━━━━━━━━━━━━━┳━━━━━━━━━━━━━━━━━━━━━━━━┳━━━━━━━━━━━━━━━┓\n",
       "┃\u001b[1m \u001b[0m\u001b[1mLayer (type)                   \u001b[0m\u001b[1m \u001b[0m┃\u001b[1m \u001b[0m\u001b[1mOutput Shape          \u001b[0m\u001b[1m \u001b[0m┃\u001b[1m \u001b[0m\u001b[1m      Param #\u001b[0m\u001b[1m \u001b[0m┃\n",
       "┡━━━━━━━━━━━━━━━━━━━━━━━━━━━━━━━━━╇━━━━━━━━━━━━━━━━━━━━━━━━╇━━━━━━━━━━━━━━━┩\n",
       "│ dense (\u001b[38;5;33mDense\u001b[0m)                   │ (\u001b[38;5;45mNone\u001b[0m, \u001b[38;5;34m512\u001b[0m)            │        \u001b[38;5;34m13,312\u001b[0m │\n",
       "├─────────────────────────────────┼────────────────────────┼───────────────┤\n",
       "│ dense_1 (\u001b[38;5;33mDense\u001b[0m)                 │ (\u001b[38;5;45mNone\u001b[0m, \u001b[38;5;34m256\u001b[0m)            │       \u001b[38;5;34m131,328\u001b[0m │\n",
       "├─────────────────────────────────┼────────────────────────┼───────────────┤\n",
       "│ dense_2 (\u001b[38;5;33mDense\u001b[0m)                 │ (\u001b[38;5;45mNone\u001b[0m, \u001b[38;5;34m128\u001b[0m)            │        \u001b[38;5;34m32,896\u001b[0m │\n",
       "├─────────────────────────────────┼────────────────────────┼───────────────┤\n",
       "│ dense_3 (\u001b[38;5;33mDense\u001b[0m)                 │ (\u001b[38;5;45mNone\u001b[0m, \u001b[38;5;34m64\u001b[0m)             │         \u001b[38;5;34m8,256\u001b[0m │\n",
       "├─────────────────────────────────┼────────────────────────┼───────────────┤\n",
       "│ dense_4 (\u001b[38;5;33mDense\u001b[0m)                 │ (\u001b[38;5;45mNone\u001b[0m, \u001b[38;5;34m1\u001b[0m)              │            \u001b[38;5;34m65\u001b[0m │\n",
       "└─────────────────────────────────┴────────────────────────┴───────────────┘\n"
      ]
     },
     "metadata": {},
     "output_type": "display_data"
    },
    {
     "data": {
      "text/html": [
       "<pre style=\"white-space:pre;overflow-x:auto;line-height:normal;font-family:Menlo,'DejaVu Sans Mono',consolas,'Courier New',monospace\"><span style=\"font-weight: bold\"> Total params: </span><span style=\"color: #00af00; text-decoration-color: #00af00\">185,857</span> (726.00 KB)\n",
       "</pre>\n"
      ],
      "text/plain": [
       "\u001b[1m Total params: \u001b[0m\u001b[38;5;34m185,857\u001b[0m (726.00 KB)\n"
      ]
     },
     "metadata": {},
     "output_type": "display_data"
    },
    {
     "data": {
      "text/html": [
       "<pre style=\"white-space:pre;overflow-x:auto;line-height:normal;font-family:Menlo,'DejaVu Sans Mono',consolas,'Courier New',monospace\"><span style=\"font-weight: bold\"> Trainable params: </span><span style=\"color: #00af00; text-decoration-color: #00af00\">185,857</span> (726.00 KB)\n",
       "</pre>\n"
      ],
      "text/plain": [
       "\u001b[1m Trainable params: \u001b[0m\u001b[38;5;34m185,857\u001b[0m (726.00 KB)\n"
      ]
     },
     "metadata": {},
     "output_type": "display_data"
    },
    {
     "data": {
      "text/html": [
       "<pre style=\"white-space:pre;overflow-x:auto;line-height:normal;font-family:Menlo,'DejaVu Sans Mono',consolas,'Courier New',monospace\"><span style=\"font-weight: bold\"> Non-trainable params: </span><span style=\"color: #00af00; text-decoration-color: #00af00\">0</span> (0.00 B)\n",
       "</pre>\n"
      ],
      "text/plain": [
       "\u001b[1m Non-trainable params: \u001b[0m\u001b[38;5;34m0\u001b[0m (0.00 B)\n"
      ]
     },
     "metadata": {},
     "output_type": "display_data"
    }
   ],
   "source": [
    "model = Sequential([ \n",
    "    layers.Input(shape=(X_train_f.shape[1],)),\n",
    "    layers.Dense(512, activation='leaky_relu'),\n",
    "    layers.Dense(256, activation='leaky_relu'),\n",
    "    layers.Dense(128, activation='relu'),\n",
    "    layers.Dense(64, activation='relu'),\n",
    "    layers.Dense(1, activation='sigmoid')])\n",
    "\n",
    "model.summary()"
   ]
  },
  {
   "cell_type": "code",
   "execution_count": 13,
   "metadata": {},
   "outputs": [
    {
     "name": "stdout",
     "output_type": "stream",
     "text": [
      "Epoch 1/150\n",
      "\u001b[1m80/80\u001b[0m \u001b[32m━━━━━━━━━━━━━━━━━━━━\u001b[0m\u001b[37m\u001b[0m \u001b[1m2s\u001b[0m 8ms/step - accuracy: 0.5998 - loss: 0.6799 - val_accuracy: 0.6981 - val_loss: 0.6244\n",
      "Epoch 2/150\n",
      "\u001b[1m80/80\u001b[0m \u001b[32m━━━━━━━━━━━━━━━━━━━━\u001b[0m\u001b[37m\u001b[0m \u001b[1m0s\u001b[0m 5ms/step - accuracy: 0.7206 - loss: 0.5956 - val_accuracy: 0.7107 - val_loss: 0.5717\n",
      "Epoch 3/150\n",
      "\u001b[1m80/80\u001b[0m \u001b[32m━━━━━━━━━━━━━━━━━━━━\u001b[0m\u001b[37m\u001b[0m \u001b[1m0s\u001b[0m 5ms/step - accuracy: 0.7257 - loss: 0.5423 - val_accuracy: 0.7107 - val_loss: 0.5641\n",
      "Epoch 4/150\n",
      "\u001b[1m80/80\u001b[0m \u001b[32m━━━━━━━━━━━━━━━━━━━━\u001b[0m\u001b[37m\u001b[0m \u001b[1m0s\u001b[0m 5ms/step - accuracy: 0.7277 - loss: 0.5312 - val_accuracy: 0.7170 - val_loss: 0.5573\n",
      "Epoch 5/150\n",
      "\u001b[1m80/80\u001b[0m \u001b[32m━━━━━━━━━━━━━━━━━━━━\u001b[0m\u001b[37m\u001b[0m \u001b[1m0s\u001b[0m 5ms/step - accuracy: 0.7295 - loss: 0.5387 - val_accuracy: 0.7154 - val_loss: 0.5555\n",
      "Epoch 6/150\n",
      "\u001b[1m80/80\u001b[0m \u001b[32m━━━━━━━━━━━━━━━━━━━━\u001b[0m\u001b[37m\u001b[0m \u001b[1m0s\u001b[0m 4ms/step - accuracy: 0.7332 - loss: 0.5198 - val_accuracy: 0.7233 - val_loss: 0.5480\n",
      "Epoch 7/150\n",
      "\u001b[1m80/80\u001b[0m \u001b[32m━━━━━━━━━━━━━━━━━━━━\u001b[0m\u001b[37m\u001b[0m \u001b[1m0s\u001b[0m 5ms/step - accuracy: 0.7579 - loss: 0.4959 - val_accuracy: 0.7248 - val_loss: 0.5407\n",
      "Epoch 8/150\n",
      "\u001b[1m80/80\u001b[0m \u001b[32m━━━━━━━━━━━━━━━━━━━━\u001b[0m\u001b[37m\u001b[0m \u001b[1m0s\u001b[0m 5ms/step - accuracy: 0.7427 - loss: 0.5060 - val_accuracy: 0.7186 - val_loss: 0.5409\n",
      "Epoch 9/150\n",
      "\u001b[1m80/80\u001b[0m \u001b[32m━━━━━━━━━━━━━━━━━━━━\u001b[0m\u001b[37m\u001b[0m \u001b[1m0s\u001b[0m 5ms/step - accuracy: 0.7447 - loss: 0.4955 - val_accuracy: 0.7248 - val_loss: 0.5558\n",
      "Epoch 10/150\n",
      "\u001b[1m80/80\u001b[0m \u001b[32m━━━━━━━━━━━━━━━━━━━━\u001b[0m\u001b[37m\u001b[0m \u001b[1m0s\u001b[0m 5ms/step - accuracy: 0.7587 - loss: 0.4872 - val_accuracy: 0.7248 - val_loss: 0.5352\n",
      "Epoch 11/150\n",
      "\u001b[1m80/80\u001b[0m \u001b[32m━━━━━━━━━━━━━━━━━━━━\u001b[0m\u001b[37m\u001b[0m \u001b[1m0s\u001b[0m 4ms/step - accuracy: 0.7602 - loss: 0.4862 - val_accuracy: 0.7296 - val_loss: 0.5318\n",
      "Epoch 12/150\n",
      "\u001b[1m80/80\u001b[0m \u001b[32m━━━━━━━━━━━━━━━━━━━━\u001b[0m\u001b[37m\u001b[0m \u001b[1m0s\u001b[0m 4ms/step - accuracy: 0.7618 - loss: 0.4791 - val_accuracy: 0.7327 - val_loss: 0.5269\n",
      "Epoch 13/150\n",
      "\u001b[1m80/80\u001b[0m \u001b[32m━━━━━━━━━━━━━━━━━━━━\u001b[0m\u001b[37m\u001b[0m \u001b[1m0s\u001b[0m 4ms/step - accuracy: 0.7640 - loss: 0.4730 - val_accuracy: 0.7138 - val_loss: 0.5337\n",
      "Epoch 14/150\n",
      "\u001b[1m80/80\u001b[0m \u001b[32m━━━━━━━━━━━━━━━━━━━━\u001b[0m\u001b[37m\u001b[0m \u001b[1m0s\u001b[0m 5ms/step - accuracy: 0.7479 - loss: 0.4966 - val_accuracy: 0.7327 - val_loss: 0.5261\n",
      "Epoch 15/150\n",
      "\u001b[1m80/80\u001b[0m \u001b[32m━━━━━━━━━━━━━━━━━━━━\u001b[0m\u001b[37m\u001b[0m \u001b[1m0s\u001b[0m 5ms/step - accuracy: 0.7579 - loss: 0.4694 - val_accuracy: 0.7170 - val_loss: 0.5375\n",
      "Epoch 16/150\n",
      "\u001b[1m80/80\u001b[0m \u001b[32m━━━━━━━━━━━━━━━━━━━━\u001b[0m\u001b[37m\u001b[0m \u001b[1m0s\u001b[0m 5ms/step - accuracy: 0.7714 - loss: 0.4633 - val_accuracy: 0.7343 - val_loss: 0.5237\n",
      "Epoch 17/150\n",
      "\u001b[1m80/80\u001b[0m \u001b[32m━━━━━━━━━━━━━━━━━━━━\u001b[0m\u001b[37m\u001b[0m \u001b[1m1s\u001b[0m 5ms/step - accuracy: 0.7588 - loss: 0.4581 - val_accuracy: 0.7421 - val_loss: 0.5269\n",
      "Epoch 18/150\n",
      "\u001b[1m80/80\u001b[0m \u001b[32m━━━━━━━━━━━━━━━━━━━━\u001b[0m\u001b[37m\u001b[0m \u001b[1m0s\u001b[0m 4ms/step - accuracy: 0.7790 - loss: 0.4595 - val_accuracy: 0.7327 - val_loss: 0.5222\n",
      "Epoch 19/150\n",
      "\u001b[1m80/80\u001b[0m \u001b[32m━━━━━━━━━━━━━━━━━━━━\u001b[0m\u001b[37m\u001b[0m \u001b[1m0s\u001b[0m 4ms/step - accuracy: 0.7879 - loss: 0.4442 - val_accuracy: 0.7296 - val_loss: 0.5357\n",
      "Epoch 20/150\n",
      "\u001b[1m80/80\u001b[0m \u001b[32m━━━━━━━━━━━━━━━━━━━━\u001b[0m\u001b[37m\u001b[0m \u001b[1m0s\u001b[0m 4ms/step - accuracy: 0.7693 - loss: 0.4554 - val_accuracy: 0.7390 - val_loss: 0.5313\n",
      "Epoch 21/150\n",
      "\u001b[1m80/80\u001b[0m \u001b[32m━━━━━━━━━━━━━━━━━━━━\u001b[0m\u001b[37m\u001b[0m \u001b[1m0s\u001b[0m 5ms/step - accuracy: 0.7876 - loss: 0.4289 - val_accuracy: 0.7311 - val_loss: 0.5196\n",
      "Epoch 22/150\n",
      "\u001b[1m80/80\u001b[0m \u001b[32m━━━━━━━━━━━━━━━━━━━━\u001b[0m\u001b[37m\u001b[0m \u001b[1m0s\u001b[0m 4ms/step - accuracy: 0.7842 - loss: 0.4388 - val_accuracy: 0.7343 - val_loss: 0.5297\n",
      "Epoch 23/150\n",
      "\u001b[1m80/80\u001b[0m \u001b[32m━━━━━━━━━━━━━━━━━━━━\u001b[0m\u001b[37m\u001b[0m \u001b[1m0s\u001b[0m 4ms/step - accuracy: 0.7900 - loss: 0.4326 - val_accuracy: 0.7280 - val_loss: 0.5190\n",
      "Epoch 24/150\n",
      "\u001b[1m80/80\u001b[0m \u001b[32m━━━━━━━━━━━━━━━━━━━━\u001b[0m\u001b[37m\u001b[0m \u001b[1m0s\u001b[0m 4ms/step - accuracy: 0.7936 - loss: 0.4179 - val_accuracy: 0.7280 - val_loss: 0.5290\n",
      "Epoch 25/150\n",
      "\u001b[1m80/80\u001b[0m \u001b[32m━━━━━━━━━━━━━━━━━━━━\u001b[0m\u001b[37m\u001b[0m \u001b[1m0s\u001b[0m 4ms/step - accuracy: 0.7954 - loss: 0.4182 - val_accuracy: 0.7327 - val_loss: 0.5243\n",
      "Epoch 26/150\n",
      "\u001b[1m80/80\u001b[0m \u001b[32m━━━━━━━━━━━━━━━━━━━━\u001b[0m\u001b[37m\u001b[0m \u001b[1m0s\u001b[0m 4ms/step - accuracy: 0.8125 - loss: 0.4193 - val_accuracy: 0.7358 - val_loss: 0.5342\n",
      "Epoch 27/150\n",
      "\u001b[1m80/80\u001b[0m \u001b[32m━━━━━━━━━━━━━━━━━━━━\u001b[0m\u001b[37m\u001b[0m \u001b[1m0s\u001b[0m 5ms/step - accuracy: 0.7919 - loss: 0.4208 - val_accuracy: 0.7358 - val_loss: 0.5310\n",
      "Epoch 28/150\n",
      "\u001b[1m80/80\u001b[0m \u001b[32m━━━━━━━━━━━━━━━━━━━━\u001b[0m\u001b[37m\u001b[0m \u001b[1m0s\u001b[0m 5ms/step - accuracy: 0.8121 - loss: 0.4141 - val_accuracy: 0.7013 - val_loss: 0.5666\n",
      "Epoch 29/150\n",
      "\u001b[1m80/80\u001b[0m \u001b[32m━━━━━━━━━━━━━━━━━━━━\u001b[0m\u001b[37m\u001b[0m \u001b[1m0s\u001b[0m 5ms/step - accuracy: 0.7958 - loss: 0.4187 - val_accuracy: 0.7327 - val_loss: 0.5311\n",
      "Epoch 30/150\n",
      "\u001b[1m80/80\u001b[0m \u001b[32m━━━━━━━━━━━━━━━━━━━━\u001b[0m\u001b[37m\u001b[0m \u001b[1m0s\u001b[0m 5ms/step - accuracy: 0.8144 - loss: 0.4005 - val_accuracy: 0.7186 - val_loss: 0.5415\n",
      "Epoch 31/150\n",
      "\u001b[1m80/80\u001b[0m \u001b[32m━━━━━━━━━━━━━━━━━━━━\u001b[0m\u001b[37m\u001b[0m \u001b[1m0s\u001b[0m 4ms/step - accuracy: 0.8113 - loss: 0.4019 - val_accuracy: 0.7311 - val_loss: 0.5382\n",
      "Epoch 32/150\n",
      "\u001b[1m80/80\u001b[0m \u001b[32m━━━━━━━━━━━━━━━━━━━━\u001b[0m\u001b[37m\u001b[0m \u001b[1m0s\u001b[0m 4ms/step - accuracy: 0.8327 - loss: 0.3882 - val_accuracy: 0.7264 - val_loss: 0.5332\n",
      "Epoch 33/150\n",
      "\u001b[1m80/80\u001b[0m \u001b[32m━━━━━━━━━━━━━━━━━━━━\u001b[0m\u001b[37m\u001b[0m \u001b[1m0s\u001b[0m 4ms/step - accuracy: 0.8152 - loss: 0.3855 - val_accuracy: 0.7186 - val_loss: 0.5489\n",
      "Epoch 34/150\n",
      "\u001b[1m80/80\u001b[0m \u001b[32m━━━━━━━━━━━━━━━━━━━━\u001b[0m\u001b[37m\u001b[0m \u001b[1m0s\u001b[0m 4ms/step - accuracy: 0.8190 - loss: 0.3882 - val_accuracy: 0.7264 - val_loss: 0.5330\n",
      "Epoch 35/150\n",
      "\u001b[1m80/80\u001b[0m \u001b[32m━━━━━━━━━━━━━━━━━━━━\u001b[0m\u001b[37m\u001b[0m \u001b[1m0s\u001b[0m 4ms/step - accuracy: 0.8313 - loss: 0.3738 - val_accuracy: 0.7280 - val_loss: 0.5475\n",
      "Epoch 36/150\n",
      "\u001b[1m80/80\u001b[0m \u001b[32m━━━━━━━━━━━━━━━━━━━━\u001b[0m\u001b[37m\u001b[0m \u001b[1m0s\u001b[0m 4ms/step - accuracy: 0.8171 - loss: 0.3873 - val_accuracy: 0.7154 - val_loss: 0.5478\n",
      "Epoch 37/150\n",
      "\u001b[1m80/80\u001b[0m \u001b[32m━━━━━━━━━━━━━━━━━━━━\u001b[0m\u001b[37m\u001b[0m \u001b[1m0s\u001b[0m 4ms/step - accuracy: 0.8313 - loss: 0.3734 - val_accuracy: 0.7264 - val_loss: 0.5477\n",
      "Epoch 38/150\n",
      "\u001b[1m80/80\u001b[0m \u001b[32m━━━━━━━━━━━━━━━━━━━━\u001b[0m\u001b[37m\u001b[0m \u001b[1m0s\u001b[0m 4ms/step - accuracy: 0.8266 - loss: 0.3749 - val_accuracy: 0.7201 - val_loss: 0.5618\n",
      "Epoch 39/150\n",
      "\u001b[1m80/80\u001b[0m \u001b[32m━━━━━━━━━━━━━━━━━━━━\u001b[0m\u001b[37m\u001b[0m \u001b[1m0s\u001b[0m 4ms/step - accuracy: 0.8296 - loss: 0.3663 - val_accuracy: 0.7170 - val_loss: 0.5602\n",
      "Epoch 40/150\n",
      "\u001b[1m80/80\u001b[0m \u001b[32m━━━━━━━━━━━━━━━━━━━━\u001b[0m\u001b[37m\u001b[0m \u001b[1m0s\u001b[0m 4ms/step - accuracy: 0.8328 - loss: 0.3542 - val_accuracy: 0.7311 - val_loss: 0.5505\n",
      "Epoch 41/150\n",
      "\u001b[1m80/80\u001b[0m \u001b[32m━━━━━━━━━━━━━━━━━━━━\u001b[0m\u001b[37m\u001b[0m \u001b[1m0s\u001b[0m 4ms/step - accuracy: 0.8440 - loss: 0.3490 - val_accuracy: 0.7154 - val_loss: 0.5649\n",
      "Epoch 42/150\n",
      "\u001b[1m80/80\u001b[0m \u001b[32m━━━━━━━━━━━━━━━━━━━━\u001b[0m\u001b[37m\u001b[0m \u001b[1m0s\u001b[0m 5ms/step - accuracy: 0.8398 - loss: 0.3541 - val_accuracy: 0.7201 - val_loss: 0.5656\n",
      "Epoch 43/150\n",
      "\u001b[1m80/80\u001b[0m \u001b[32m━━━━━━━━━━━━━━━━━━━━\u001b[0m\u001b[37m\u001b[0m \u001b[1m0s\u001b[0m 4ms/step - accuracy: 0.8471 - loss: 0.3474 - val_accuracy: 0.7390 - val_loss: 0.5740\n",
      "Epoch 44/150\n",
      "\u001b[1m80/80\u001b[0m \u001b[32m━━━━━━━━━━━━━━━━━━━━\u001b[0m\u001b[37m\u001b[0m \u001b[1m0s\u001b[0m 4ms/step - accuracy: 0.8361 - loss: 0.3617 - val_accuracy: 0.6997 - val_loss: 0.5920\n",
      "Epoch 45/150\n",
      "\u001b[1m80/80\u001b[0m \u001b[32m━━━━━━━━━━━━━━━━━━━━\u001b[0m\u001b[37m\u001b[0m \u001b[1m0s\u001b[0m 4ms/step - accuracy: 0.8330 - loss: 0.3495 - val_accuracy: 0.7186 - val_loss: 0.5919\n",
      "Epoch 46/150\n",
      "\u001b[1m80/80\u001b[0m \u001b[32m━━━━━━━━━━━━━━━━━━━━\u001b[0m\u001b[37m\u001b[0m \u001b[1m0s\u001b[0m 4ms/step - accuracy: 0.8365 - loss: 0.3463 - val_accuracy: 0.7248 - val_loss: 0.5867\n",
      "Epoch 47/150\n",
      "\u001b[1m80/80\u001b[0m \u001b[32m━━━━━━━━━━━━━━━━━━━━\u001b[0m\u001b[37m\u001b[0m \u001b[1m0s\u001b[0m 4ms/step - accuracy: 0.8437 - loss: 0.3347 - val_accuracy: 0.7264 - val_loss: 0.5787\n",
      "Epoch 48/150\n",
      "\u001b[1m80/80\u001b[0m \u001b[32m━━━━━━━━━━━━━━━━━━━━\u001b[0m\u001b[37m\u001b[0m \u001b[1m0s\u001b[0m 4ms/step - accuracy: 0.8521 - loss: 0.3311 - val_accuracy: 0.7170 - val_loss: 0.5942\n",
      "Epoch 49/150\n",
      "\u001b[1m80/80\u001b[0m \u001b[32m━━━━━━━━━━━━━━━━━━━━\u001b[0m\u001b[37m\u001b[0m \u001b[1m0s\u001b[0m 5ms/step - accuracy: 0.8538 - loss: 0.3223 - val_accuracy: 0.7186 - val_loss: 0.6261\n",
      "Epoch 50/150\n",
      "\u001b[1m80/80\u001b[0m \u001b[32m━━━━━━━━━━━━━━━━━━━━\u001b[0m\u001b[37m\u001b[0m \u001b[1m0s\u001b[0m 4ms/step - accuracy: 0.8559 - loss: 0.3225 - val_accuracy: 0.7233 - val_loss: 0.5978\n",
      "Epoch 51/150\n",
      "\u001b[1m80/80\u001b[0m \u001b[32m━━━━━━━━━━━━━━━━━━━━\u001b[0m\u001b[37m\u001b[0m \u001b[1m0s\u001b[0m 5ms/step - accuracy: 0.8592 - loss: 0.3262 - val_accuracy: 0.7170 - val_loss: 0.5965\n",
      "Epoch 52/150\n",
      "\u001b[1m80/80\u001b[0m \u001b[32m━━━━━━━━━━━━━━━━━━━━\u001b[0m\u001b[37m\u001b[0m \u001b[1m0s\u001b[0m 5ms/step - accuracy: 0.8464 - loss: 0.3334 - val_accuracy: 0.7248 - val_loss: 0.5978\n",
      "Epoch 53/150\n",
      "\u001b[1m80/80\u001b[0m \u001b[32m━━━━━━━━━━━━━━━━━━━━\u001b[0m\u001b[37m\u001b[0m \u001b[1m0s\u001b[0m 5ms/step - accuracy: 0.8688 - loss: 0.2961 - val_accuracy: 0.6918 - val_loss: 0.6628\n",
      "Epoch 54/150\n",
      "\u001b[1m80/80\u001b[0m \u001b[32m━━━━━━━━━━━━━━━━━━━━\u001b[0m\u001b[37m\u001b[0m \u001b[1m0s\u001b[0m 4ms/step - accuracy: 0.8333 - loss: 0.3333 - val_accuracy: 0.7248 - val_loss: 0.6222\n",
      "Epoch 55/150\n",
      "\u001b[1m80/80\u001b[0m \u001b[32m━━━━━━━━━━━━━━━━━━━━\u001b[0m\u001b[37m\u001b[0m \u001b[1m0s\u001b[0m 5ms/step - accuracy: 0.8536 - loss: 0.3112 - val_accuracy: 0.7280 - val_loss: 0.6004\n",
      "Epoch 56/150\n",
      "\u001b[1m80/80\u001b[0m \u001b[32m━━━━━━━━━━━━━━━━━━━━\u001b[0m\u001b[37m\u001b[0m \u001b[1m0s\u001b[0m 5ms/step - accuracy: 0.8754 - loss: 0.2969 - val_accuracy: 0.7264 - val_loss: 0.6172\n",
      "Epoch 57/150\n",
      "\u001b[1m80/80\u001b[0m \u001b[32m━━━━━━━━━━━━━━━━━━━━\u001b[0m\u001b[37m\u001b[0m \u001b[1m0s\u001b[0m 5ms/step - accuracy: 0.8716 - loss: 0.2938 - val_accuracy: 0.7217 - val_loss: 0.6292\n",
      "Epoch 58/150\n",
      "\u001b[1m80/80\u001b[0m \u001b[32m━━━━━━━━━━━━━━━━━━━━\u001b[0m\u001b[37m\u001b[0m \u001b[1m0s\u001b[0m 4ms/step - accuracy: 0.8552 - loss: 0.3020 - val_accuracy: 0.7044 - val_loss: 0.6574\n",
      "Epoch 59/150\n",
      "\u001b[1m80/80\u001b[0m \u001b[32m━━━━━━━━━━━━━━━━━━━━\u001b[0m\u001b[37m\u001b[0m \u001b[1m0s\u001b[0m 4ms/step - accuracy: 0.8613 - loss: 0.3004 - val_accuracy: 0.7154 - val_loss: 0.6211\n",
      "Epoch 60/150\n",
      "\u001b[1m80/80\u001b[0m \u001b[32m━━━━━━━━━━━━━━━━━━━━\u001b[0m\u001b[37m\u001b[0m \u001b[1m0s\u001b[0m 4ms/step - accuracy: 0.8736 - loss: 0.2908 - val_accuracy: 0.7296 - val_loss: 0.6303\n",
      "Epoch 61/150\n",
      "\u001b[1m80/80\u001b[0m \u001b[32m━━━━━━━━━━━━━━━━━━━━\u001b[0m\u001b[37m\u001b[0m \u001b[1m0s\u001b[0m 4ms/step - accuracy: 0.8763 - loss: 0.2820 - val_accuracy: 0.7233 - val_loss: 0.6337\n",
      "Epoch 62/150\n",
      "\u001b[1m80/80\u001b[0m \u001b[32m━━━━━━━━━━━━━━━━━━━━\u001b[0m\u001b[37m\u001b[0m \u001b[1m0s\u001b[0m 4ms/step - accuracy: 0.8673 - loss: 0.2773 - val_accuracy: 0.7233 - val_loss: 0.6370\n",
      "Epoch 63/150\n",
      "\u001b[1m80/80\u001b[0m \u001b[32m━━━━━━━━━━━━━━━━━━━━\u001b[0m\u001b[37m\u001b[0m \u001b[1m0s\u001b[0m 4ms/step - accuracy: 0.8784 - loss: 0.2738 - val_accuracy: 0.7233 - val_loss: 0.6393\n",
      "Epoch 64/150\n",
      "\u001b[1m80/80\u001b[0m \u001b[32m━━━━━━━━━━━━━━━━━━━━\u001b[0m\u001b[37m\u001b[0m \u001b[1m0s\u001b[0m 4ms/step - accuracy: 0.8854 - loss: 0.2694 - val_accuracy: 0.7138 - val_loss: 0.6414\n",
      "Epoch 65/150\n",
      "\u001b[1m80/80\u001b[0m \u001b[32m━━━━━━━━━━━━━━━━━━━━\u001b[0m\u001b[37m\u001b[0m \u001b[1m0s\u001b[0m 4ms/step - accuracy: 0.8736 - loss: 0.2777 - val_accuracy: 0.7138 - val_loss: 0.6883\n",
      "Epoch 66/150\n",
      "\u001b[1m80/80\u001b[0m \u001b[32m━━━━━━━━━━━━━━━━━━━━\u001b[0m\u001b[37m\u001b[0m \u001b[1m0s\u001b[0m 4ms/step - accuracy: 0.8744 - loss: 0.2793 - val_accuracy: 0.7311 - val_loss: 0.6414\n",
      "Epoch 67/150\n",
      "\u001b[1m80/80\u001b[0m \u001b[32m━━━━━━━━━━━━━━━━━━━━\u001b[0m\u001b[37m\u001b[0m \u001b[1m0s\u001b[0m 4ms/step - accuracy: 0.8862 - loss: 0.2557 - val_accuracy: 0.7123 - val_loss: 0.7044\n",
      "Epoch 67: early stopping\n",
      "Restoring model weights from the end of the best epoch: 17.\n"
     ]
    }
   ],
   "source": [
    "# Compilación del modelo previa a entrenamiento\n",
    "model.compile(optimizer=optimizers.Adam(learning_rate=0.0001), loss='binary_crossentropy', metrics=['accuracy'])\n",
    "\n",
    "# Entrenamiento del modelo\n",
    "history = model.fit(X_train_f, y_train_f, epochs=150, batch_size=32, validation_data=(X_val_f, y_val_f), callbacks=[early_stopping])"
   ]
  },
  {
   "cell_type": "code",
   "execution_count": 14,
   "metadata": {},
   "outputs": [
    {
     "data": {
      "image/png": "[encoded data removed]",
      "text/plain": [
       "<Figure size 1000x600 with 1 Axes>"
      ]
     },
     "metadata": {},
     "output_type": "display_data"
    }
   ],
   "source": [
    "plt.figure(figsize=(10, 6))\n",
    "plt.plot(history.history['val_accuracy'], label='Precisión de validación')\n",
    "plt.plot(history.history['val_loss'], label= 'Función de pérdida en validación')\n",
    "\n",
    "plt.axvline(x=np.argmax(history.history['val_accuracy']), color='r', linestyle='-', linewidth=1, label='Early Stopping Mejor modelo')\n",
    "plt.xlabel('Épocas')\n",
    "plt.ylabel('Precisión y Pérdida')\n",
    "plt.legend()\n",
    "plt.show()"
   ]
  },
  {
   "cell_type": "markdown",
   "metadata": {},
   "source": [
    "**PODEMOS OBSERVAR EN LA SIGUIENTE GRÁFICA COMO SE SELECCIONA EL MODELO DE MAYOR PRECISIÓN A PARTIR DEL EARLY STOPPING PREVIAMENTE DEFINIDO, OBSERVAR QUE EL INCREMENTO DE LA FUNCIÓN DE PÉRDIDA EN VALIDACIÓN ES UNA CLARA SEÑAL DEL SOBREAJUSTE DEL MODELO.**"
   ]
  },
  {
   "cell_type": "code",
   "execution_count": 15,
   "metadata": {},
   "outputs": [
    {
     "name": "stdout",
     "output_type": "stream",
     "text": [
      "\u001b[1m25/25\u001b[0m \u001b[32m━━━━━━━━━━━━━━━━━━━━\u001b[0m\u001b[37m\u001b[0m \u001b[1m0s\u001b[0m 3ms/step - accuracy: 0.7032 - loss: 0.5216 \n",
      "Test Accuracy: 0.7371069192886353\n",
      "Test Loss: 0.5025330185890198\n"
     ]
    }
   ],
   "source": [
    "# Testeo, predicción y evaluación del modelo\n",
    "test_loss, test_acc = model.evaluate(X_test_encoded, y_test)\n",
    "print(f\"Test Accuracy: {test_acc}\")\n",
    "print(f\"Test Loss: {test_loss}\")\n"
   ]
  },
  {
   "cell_type": "code",
   "execution_count": 16,
   "metadata": {},
   "outputs": [
    {
     "name": "stdout",
     "output_type": "stream",
     "text": [
      "\u001b[1m1/1\u001b[0m \u001b[32m━━━━━━━━━━━━━━━━━━━━\u001b[0m\u001b[37m\u001b[0m \u001b[1m0s\u001b[0m 96ms/step\n",
      "Predicciones del modelo:  [[ True  True  True  True False  True  True  True  True False]]\n",
      "Clases reales: [ True False  True  True False  True False  True False False]\n"
     ]
    }
   ],
   "source": [
    "predictions = model.predict(X_test_encoded[0:10])\n",
    "predictions = np.where(predictions > 0.5, True, False)\n",
    "print(f\"Predicciones del modelo:  {predictions.T}\")\n",
    "print(f\"Clases reales: {y_test[0:10]}\")"
   ]
  },
  {
   "cell_type": "markdown",
   "metadata": {},
   "source": [
    "**E7:** Repite los ejercicios E3-6 pero esta vez empleando codificación TF-IDF. ¿Ha mejorado la precisión? ¿por qué?\n",
    "\n",
    "**SE ALCANZA UNA PRECISIÓN DE 0.8275, SE CONSIGUE UNA CONSIDERABLE MEJORA EN LA PRECISIÓN.**\n",
    "**ESTA SE DA POR EL CAMBIO DE CODIFICACIÓN REALIZADO, CON TF-IDF BRINDAMOS A LA RED DE MUCHA MÁS INFORMACIÓN SOBRE LA DISTRIBUCIÓN/APARICIÓN DE LOS AMINOÁCIDOS EN LOS DISTINTOS PÉPTIDOS, COMO POSTERIORMENTE SERÁ COMENTADO, ESTA CODIFICACIÓN BRINDA LA SIGUIENTE INFORMACIÓN A NIVEL DE AMINOÁCIDO:** \n",
    "\n",
    "- NÚMERO DE VECES QUE APARECE EN EL PROPIO PÉPTIDO\n",
    "- IMPORTANCIA DE ESTE MEDIDA A PARTIR DE LA CANTIDAD DE PÉPTIDOS EN LOS QUE APARECE\n"
   ]
  },
  {
   "cell_type": "code",
   "execution_count": 11,
   "metadata": {},
   "outputs": [],
   "source": [
    "# Inicializar el vectorizador\n",
    "vectorizer = TextVectorization(\n",
    "    max_tokens=25,  # Número de aminoácidos únicos\n",
    "    output_mode='tf-idf',  # Modo de salida \n",
    "    standardize=None,  # No estandarizamos\n",
    "    split='character'  # Dividimos por caracteres(aminoácidos)\n",
    ")\n",
    "\n",
    "# Ajustar el vectorizador a las secuencias, nos ajustamos solo al conjunto de entrenamiento para evitar la exposición a datos de test\n",
    "vectorizer.adapt(X_train)\n",
    "\n",
    "# Transformamos los péptidos mediante la codificación TF-IDF\n",
    "X_train_encoded = vectorizer(X_train)\n",
    "X_test_encoded = vectorizer(X_test)"
   ]
  },
  {
   "cell_type": "code",
   "execution_count": 12,
   "metadata": {},
   "outputs": [],
   "source": [
    "peptidos['TF-IDF'] = peptidos['aa_seq'].apply(lambda x: vectorizer(x).numpy())"
   ]
  },
  {
   "cell_type": "code",
   "execution_count": 13,
   "metadata": {},
   "outputs": [
    {
     "data": {
      "text/html": [
       "<div>\n",
       "<style scoped>\n",
       "    .dataframe tbody tr th:only-of-type {\n",
       "        vertical-align: middle;\n",
       "    }\n",
       "\n",
       "    .dataframe tbody tr th {\n",
       "        vertical-align: top;\n",
       "    }\n",
       "\n",
       "    .dataframe thead th {\n",
       "        text-align: right;\n",
       "    }\n",
       "</style>\n",
       "<table border=\"1\" class=\"dataframe\">\n",
       "  <thead>\n",
       "    <tr style=\"text-align: right;\">\n",
       "      <th></th>\n",
       "      <th>aa_seq</th>\n",
       "      <th>aa_len</th>\n",
       "      <th>AMP</th>\n",
       "      <th>Multi-Hot</th>\n",
       "      <th>TF-IDF</th>\n",
       "    </tr>\n",
       "  </thead>\n",
       "  <tbody>\n",
       "    <tr>\n",
       "      <th>0</th>\n",
       "      <td>GNGVLKTISHECNMNTWQFLFTCC</td>\n",
       "      <td>24</td>\n",
       "      <td>True</td>\n",
       "      <td>[0, 1, 1, 1, 0, 0, 1, 1, 1, 1, 1, 1, 0, 1, 1, ...</td>\n",
       "      <td>[0.0, 0.79246056, 1.5467752, 1.56601, 0.0, 0.0...</td>\n",
       "    </tr>\n",
       "    <tr>\n",
       "      <th>1</th>\n",
       "      <td>TTKNYGNGVCNSVNWCQCGNVWASCNLATGCAAWLCKLA</td>\n",
       "      <td>39</td>\n",
       "      <td>True</td>\n",
       "      <td>[0, 1, 1, 1, 1, 0, 1, 1, 0, 1, 0, 1, 0, 1, 0, ...</td>\n",
       "      <td>[0.0, 1.5849211, 2.3201628, 3.13202, 4.0539956...</td>\n",
       "    </tr>\n",
       "    <tr>\n",
       "      <th>2</th>\n",
       "      <td>SNDSLWYGVGQFMGKQANCITNHPVKHMIIPGYCLSKILG</td>\n",
       "      <td>40</td>\n",
       "      <td>True</td>\n",
       "      <td>[0, 1, 1, 1, 1, 0, 1, 1, 1, 1, 0, 1, 1, 1, 1, ...</td>\n",
       "      <td>[0.0, 2.3773818, 2.3201628, 3.915025, 0.810799...</td>\n",
       "    </tr>\n",
       "    <tr>\n",
       "      <th>3</th>\n",
       "      <td>IAPIIVAGLGYLVKDAWDHSDQIISGFKKGWNGGRRK</td>\n",
       "      <td>37</td>\n",
       "      <td>True</td>\n",
       "      <td>[0, 1, 1, 1, 1, 1, 1, 1, 1, 0, 0, 0, 1, 1, 1, ...</td>\n",
       "      <td>[0.0, 3.1698422, 1.5467752, 4.69803, 2.4323974...</td>\n",
       "    </tr>\n",
       "    <tr>\n",
       "      <th>4</th>\n",
       "      <td>FNRGGYNFGKSVRHVVDAIGSVAGIRGILKSIR</td>\n",
       "      <td>33</td>\n",
       "      <td>True</td>\n",
       "      <td>[0, 1, 1, 1, 1, 1, 1, 1, 1, 0, 0, 0, 0, 1, 1, ...</td>\n",
       "      <td>[0.0, 1.5849211, 0.7733876, 4.69803, 1.6215982...</td>\n",
       "    </tr>\n",
       "    <tr>\n",
       "      <th>5</th>\n",
       "      <td>VFHAYSARGVRNNYKSAVGPADWVISAVRGFIHG</td>\n",
       "      <td>34</td>\n",
       "      <td>True</td>\n",
       "      <td>[0, 1, 0, 1, 1, 1, 1, 1, 1, 0, 0, 0, 1, 1, 1, ...</td>\n",
       "      <td>[0.0, 0.79246056, 0.0, 3.13202, 4.0539956, 2.6...</td>\n",
       "    </tr>\n",
       "    <tr>\n",
       "      <th>6</th>\n",
       "      <td>RRSRKNGIGYAIGYAFGAVERAVLGGSRDYNK</td>\n",
       "      <td>32</td>\n",
       "      <td>True</td>\n",
       "      <td>[0, 1, 1, 1, 1, 1, 1, 1, 1, 0, 1, 0, 0, 1, 1, ...</td>\n",
       "      <td>[0.0, 1.5849211, 0.7733876, 4.69803, 3.2431965...</td>\n",
       "    </tr>\n",
       "    <tr>\n",
       "      <th>7</th>\n",
       "      <td>KGLGKLIGIDWLLGQAKDAVKQYKKDYKRWH</td>\n",
       "      <td>31</td>\n",
       "      <td>True</td>\n",
       "      <td>[0, 1, 1, 1, 1, 1, 0, 1, 1, 0, 0, 0, 0, 0, 0, ...</td>\n",
       "      <td>[0.0, 5.547224, 3.0935504, 3.13202, 1.6215982,...</td>\n",
       "    </tr>\n",
       "  </tbody>\n",
       "</table>\n",
       "</div>"
      ],
      "text/plain": [
       "                                     aa_seq  aa_len   AMP  \\\n",
       "0                  GNGVLKTISHECNMNTWQFLFTCC      24  True   \n",
       "1   TTKNYGNGVCNSVNWCQCGNVWASCNLATGCAAWLCKLA      39  True   \n",
       "2  SNDSLWYGVGQFMGKQANCITNHPVKHMIIPGYCLSKILG      40  True   \n",
       "3     IAPIIVAGLGYLVKDAWDHSDQIISGFKKGWNGGRRK      37  True   \n",
       "4         FNRGGYNFGKSVRHVVDAIGSVAGIRGILKSIR      33  True   \n",
       "5        VFHAYSARGVRNNYKSAVGPADWVISAVRGFIHG      34  True   \n",
       "6          RRSRKNGIGYAIGYAFGAVERAVLGGSRDYNK      32  True   \n",
       "7           KGLGKLIGIDWLLGQAKDAVKQYKKDYKRWH      31  True   \n",
       "\n",
       "                                           Multi-Hot  \\\n",
       "0  [0, 1, 1, 1, 0, 0, 1, 1, 1, 1, 1, 1, 0, 1, 1, ...   \n",
       "1  [0, 1, 1, 1, 1, 0, 1, 1, 0, 1, 0, 1, 0, 1, 0, ...   \n",
       "2  [0, 1, 1, 1, 1, 0, 1, 1, 1, 1, 0, 1, 1, 1, 1, ...   \n",
       "3  [0, 1, 1, 1, 1, 1, 1, 1, 1, 0, 0, 0, 1, 1, 1, ...   \n",
       "4  [0, 1, 1, 1, 1, 1, 1, 1, 1, 0, 0, 0, 0, 1, 1, ...   \n",
       "5  [0, 1, 0, 1, 1, 1, 1, 1, 1, 0, 0, 0, 1, 1, 1, ...   \n",
       "6  [0, 1, 1, 1, 1, 1, 1, 1, 1, 0, 1, 0, 0, 1, 1, ...   \n",
       "7  [0, 1, 1, 1, 1, 1, 0, 1, 1, 0, 0, 0, 0, 0, 0, ...   \n",
       "\n",
       "                                              TF-IDF  \n",
       "0  [0.0, 0.79246056, 1.5467752, 1.56601, 0.0, 0.0...  \n",
       "1  [0.0, 1.5849211, 2.3201628, 3.13202, 4.0539956...  \n",
       "2  [0.0, 2.3773818, 2.3201628, 3.915025, 0.810799...  \n",
       "3  [0.0, 3.1698422, 1.5467752, 4.69803, 2.4323974...  \n",
       "4  [0.0, 1.5849211, 0.7733876, 4.69803, 1.6215982...  \n",
       "5  [0.0, 0.79246056, 0.0, 3.13202, 4.0539956, 2.6...  \n",
       "6  [0.0, 1.5849211, 0.7733876, 4.69803, 3.2431965...  \n",
       "7  [0.0, 5.547224, 3.0935504, 3.13202, 1.6215982,...  "
      ]
     },
     "execution_count": 13,
     "metadata": {},
     "output_type": "execute_result"
    }
   ],
   "source": [
    "# Mostramos la correcta codificación de los péptidos mediante TF-IDF\n",
    "peptidos.head(8)"
   ]
  },
  {
   "cell_type": "code",
   "execution_count": 14,
   "metadata": {},
   "outputs": [
    {
     "name": "stdout",
     "output_type": "stream",
     "text": [
      "Vocabulario de carácteres e índices asociados a cada uno: \n",
      "  {'[UNK]': 0, np.str_('K'): 1, np.str_('L'): 2, np.str_('G'): 3, np.str_('A'): 4, np.str_('R'): 5, np.str_('S'): 6, np.str_('V'): 7, np.str_('I'): 8, np.str_('C'): 9, np.str_('E'): 10, np.str_('T'): 11, np.str_('P'): 12, np.str_('N'): 13, np.str_('F'): 14, np.str_('D'): 15, np.str_('Q'): 16, np.str_('Y'): 17, np.str_('M'): 18, np.str_('H'): 19, np.str_('W'): 20, np.str_('X'): 21, np.str_('U'): 22, np.str_('O'): 23, np.str_('Z'): 24} \n",
      "\n",
      "Longitud de los péptidos codificados/longitud vectores multi-hot: 25\n"
     ]
    }
   ],
   "source": [
    "# Vocabulario de codificación\n",
    "vocab = vectorizer.get_vocabulary()\n",
    "char_indices = {char: idx for idx, char in enumerate(vocab)}\n",
    "print(\"Vocabulario de carácteres e índices asociados a cada uno: \\n \" , char_indices, \"\\n\")\n",
    "print(\"Longitud de los péptidos codificados/longitud vectores multi-hot:\", X_train_encoded.shape[1])"
   ]
  },
  {
   "cell_type": "markdown",
   "metadata": {},
   "source": [
    "**Cada péptido codificado sigue teniendo una longitud de 25, es decir, la longitud del vocabulario de aminoácidos pero en este caso no realizamos una codificación binaria sino que seguimos el modelo de codificación basado en la normalización por frecuencia de token(aminoácido) en el propio péptido junto a la frecuencia de aparición de este en las diversas muestras de péptidos.**\n",
    "\n",
    "La frecuencia de término mide cuántas veces aparece un token en un péptido, se usa la variante logarítmica para evitar que los aminoácidos muy frecuentes dominen.\n",
    "\n",
    "$$\n",
    "TF(t, d) = 1 + \\log_{10} (f_{t,d}) \\quad \\text{si } f_{t,d} > 0\n",
    "$$\n",
    "\n",
    "Si el token **no aparece** en el péptido, se define como:\n",
    "\n",
    "$$\n",
    "TF(t, d) = 0 \\quad \\text{si } f_{t,d} = 0\n",
    "$$\n",
    "\n",
    "---\n",
    "La **IDF** mide la importancia de un aminoácido considerando en cuántos péptidos aparece, si aparece en todos su importancia se reduce pero si no es my frecuente puede ser que le de a la red información fundamental para tomar una decisión:\n",
    "\n",
    "\n",
    "$$\n",
    "IDF(t) = \\log \\left( \\frac{N}{DF_t + 1} \\right)\n",
    "$$\n",
    "\n",
    "\n",
    "---\n",
    "\n",
    "**Cálculo del TF-IDF**\n",
    "\n",
    "El **TF-IDF** se calcula multiplicando **TF** por **IDF**:\n",
    "\n",
    "$$\n",
    "TF\\text{-}IDF(t, d) = TF(t, d) \\times IDF(t)\n",
    "$$\n",
    "\n",
    "Así es como se obtiene la codificación de cada aminoácido de los diferentes péptidos del conjunto de datos.\n"
   ]
  },
  {
   "cell_type": "code",
   "execution_count": 15,
   "metadata": {},
   "outputs": [],
   "source": [
    "# Obtención del 20% de los datos de entrenamiento para validación del modelo durante el proceso de entrenamiento\n",
    "X_train_f, X_val_f, y_train_f, y_val_f = train_test_split(np.array(X_train_encoded), y_train, test_size=0.2, random_state=2025, stratify=y_train)\n",
    "\n",
    "# Conversión de las etiquetas a arrays de numpy para su uso en la red neuronal\n",
    "y_train_f = np.array(y_train_f)\n",
    "y_val_f = np.array(y_val_f)\n",
    "y_test = np.array(y_test)"
   ]
  },
  {
   "cell_type": "code",
   "execution_count": 22,
   "metadata": {},
   "outputs": [
    {
     "data": {
      "text/html": [
       "<pre style=\"white-space:pre;overflow-x:auto;line-height:normal;font-family:Menlo,'DejaVu Sans Mono',consolas,'Courier New',monospace\"><span style=\"font-weight: bold\">Model: \"sequential_1\"</span>\n",
       "</pre>\n"
      ],
      "text/plain": [
       "\u001b[1mModel: \"sequential_1\"\u001b[0m\n"
      ]
     },
     "metadata": {},
     "output_type": "display_data"
    },
    {
     "data": {
      "text/html": [
       "<pre style=\"white-space:pre;overflow-x:auto;line-height:normal;font-family:Menlo,'DejaVu Sans Mono',consolas,'Courier New',monospace\">┏━━━━━━━━━━━━━━━━━━━━━━━━━━━━━━━━━┳━━━━━━━━━━━━━━━━━━━━━━━━┳━━━━━━━━━━━━━━━┓\n",
       "┃<span style=\"font-weight: bold\"> Layer (type)                    </span>┃<span style=\"font-weight: bold\"> Output Shape           </span>┃<span style=\"font-weight: bold\">       Param # </span>┃\n",
       "┡━━━━━━━━━━━━━━━━━━━━━━━━━━━━━━━━━╇━━━━━━━━━━━━━━━━━━━━━━━━╇━━━━━━━━━━━━━━━┩\n",
       "│ dense_5 (<span style=\"color: #0087ff; text-decoration-color: #0087ff\">Dense</span>)                 │ (<span style=\"color: #00d7ff; text-decoration-color: #00d7ff\">None</span>, <span style=\"color: #00af00; text-decoration-color: #00af00\">512</span>)            │        <span style=\"color: #00af00; text-decoration-color: #00af00\">13,312</span> │\n",
       "├─────────────────────────────────┼────────────────────────┼───────────────┤\n",
       "│ dense_6 (<span style=\"color: #0087ff; text-decoration-color: #0087ff\">Dense</span>)                 │ (<span style=\"color: #00d7ff; text-decoration-color: #00d7ff\">None</span>, <span style=\"color: #00af00; text-decoration-color: #00af00\">256</span>)            │       <span style=\"color: #00af00; text-decoration-color: #00af00\">131,328</span> │\n",
       "├─────────────────────────────────┼────────────────────────┼───────────────┤\n",
       "│ dense_7 (<span style=\"color: #0087ff; text-decoration-color: #0087ff\">Dense</span>)                 │ (<span style=\"color: #00d7ff; text-decoration-color: #00d7ff\">None</span>, <span style=\"color: #00af00; text-decoration-color: #00af00\">128</span>)            │        <span style=\"color: #00af00; text-decoration-color: #00af00\">32,896</span> │\n",
       "├─────────────────────────────────┼────────────────────────┼───────────────┤\n",
       "│ dense_8 (<span style=\"color: #0087ff; text-decoration-color: #0087ff\">Dense</span>)                 │ (<span style=\"color: #00d7ff; text-decoration-color: #00d7ff\">None</span>, <span style=\"color: #00af00; text-decoration-color: #00af00\">64</span>)             │         <span style=\"color: #00af00; text-decoration-color: #00af00\">8,256</span> │\n",
       "├─────────────────────────────────┼────────────────────────┼───────────────┤\n",
       "│ dense_9 (<span style=\"color: #0087ff; text-decoration-color: #0087ff\">Dense</span>)                 │ (<span style=\"color: #00d7ff; text-decoration-color: #00d7ff\">None</span>, <span style=\"color: #00af00; text-decoration-color: #00af00\">1</span>)              │            <span style=\"color: #00af00; text-decoration-color: #00af00\">65</span> │\n",
       "└─────────────────────────────────┴────────────────────────┴───────────────┘\n",
       "</pre>\n"
      ],
      "text/plain": [
       "┏━━━━━━━━━━━━━━━━━━━━━━━━━━━━━━━━━┳━━━━━━━━━━━━━━━━━━━━━━━━┳━━━━━━━━━━━━━━━┓\n",
       "┃\u001b[1m \u001b[0m\u001b[1mLayer (type)                   \u001b[0m\u001b[1m \u001b[0m┃\u001b[1m \u001b[0m\u001b[1mOutput Shape          \u001b[0m\u001b[1m \u001b[0m┃\u001b[1m \u001b[0m\u001b[1m      Param #\u001b[0m\u001b[1m \u001b[0m┃\n",
       "┡━━━━━━━━━━━━━━━━━━━━━━━━━━━━━━━━━╇━━━━━━━━━━━━━━━━━━━━━━━━╇━━━━━━━━━━━━━━━┩\n",
       "│ dense_5 (\u001b[38;5;33mDense\u001b[0m)                 │ (\u001b[38;5;45mNone\u001b[0m, \u001b[38;5;34m512\u001b[0m)            │        \u001b[38;5;34m13,312\u001b[0m │\n",
       "├─────────────────────────────────┼────────────────────────┼───────────────┤\n",
       "│ dense_6 (\u001b[38;5;33mDense\u001b[0m)                 │ (\u001b[38;5;45mNone\u001b[0m, \u001b[38;5;34m256\u001b[0m)            │       \u001b[38;5;34m131,328\u001b[0m │\n",
       "├─────────────────────────────────┼────────────────────────┼───────────────┤\n",
       "│ dense_7 (\u001b[38;5;33mDense\u001b[0m)                 │ (\u001b[38;5;45mNone\u001b[0m, \u001b[38;5;34m128\u001b[0m)            │        \u001b[38;5;34m32,896\u001b[0m │\n",
       "├─────────────────────────────────┼────────────────────────┼───────────────┤\n",
       "│ dense_8 (\u001b[38;5;33mDense\u001b[0m)                 │ (\u001b[38;5;45mNone\u001b[0m, \u001b[38;5;34m64\u001b[0m)             │         \u001b[38;5;34m8,256\u001b[0m │\n",
       "├─────────────────────────────────┼────────────────────────┼───────────────┤\n",
       "│ dense_9 (\u001b[38;5;33mDense\u001b[0m)                 │ (\u001b[38;5;45mNone\u001b[0m, \u001b[38;5;34m1\u001b[0m)              │            \u001b[38;5;34m65\u001b[0m │\n",
       "└─────────────────────────────────┴────────────────────────┴───────────────┘\n"
      ]
     },
     "metadata": {},
     "output_type": "display_data"
    },
    {
     "data": {
      "text/html": [
       "<pre style=\"white-space:pre;overflow-x:auto;line-height:normal;font-family:Menlo,'DejaVu Sans Mono',consolas,'Courier New',monospace\"><span style=\"font-weight: bold\"> Total params: </span><span style=\"color: #00af00; text-decoration-color: #00af00\">185,857</span> (726.00 KB)\n",
       "</pre>\n"
      ],
      "text/plain": [
       "\u001b[1m Total params: \u001b[0m\u001b[38;5;34m185,857\u001b[0m (726.00 KB)\n"
      ]
     },
     "metadata": {},
     "output_type": "display_data"
    },
    {
     "data": {
      "text/html": [
       "<pre style=\"white-space:pre;overflow-x:auto;line-height:normal;font-family:Menlo,'DejaVu Sans Mono',consolas,'Courier New',monospace\"><span style=\"font-weight: bold\"> Trainable params: </span><span style=\"color: #00af00; text-decoration-color: #00af00\">185,857</span> (726.00 KB)\n",
       "</pre>\n"
      ],
      "text/plain": [
       "\u001b[1m Trainable params: \u001b[0m\u001b[38;5;34m185,857\u001b[0m (726.00 KB)\n"
      ]
     },
     "metadata": {},
     "output_type": "display_data"
    },
    {
     "data": {
      "text/html": [
       "<pre style=\"white-space:pre;overflow-x:auto;line-height:normal;font-family:Menlo,'DejaVu Sans Mono',consolas,'Courier New',monospace\"><span style=\"font-weight: bold\"> Non-trainable params: </span><span style=\"color: #00af00; text-decoration-color: #00af00\">0</span> (0.00 B)\n",
       "</pre>\n"
      ],
      "text/plain": [
       "\u001b[1m Non-trainable params: \u001b[0m\u001b[38;5;34m0\u001b[0m (0.00 B)\n"
      ]
     },
     "metadata": {},
     "output_type": "display_data"
    }
   ],
   "source": [
    "model_tfidf = Sequential([ \n",
    "    layers.Input(shape=(X_train_f.shape[1],)),\n",
    "    layers.Dense(512, activation='leaky_relu'),\n",
    "    layers.Dense(256, activation='leaky_relu'),\n",
    "    layers.Dense(128, activation='relu'),\n",
    "    layers.Dense(64, activation='relu'),\n",
    "    layers.Dense(1, activation='sigmoid')])\n",
    "\n",
    "model_tfidf.summary()"
   ]
  },
  {
   "cell_type": "code",
   "execution_count": 23,
   "metadata": {},
   "outputs": [
    {
     "name": "stdout",
     "output_type": "stream",
     "text": [
      "Epoch 1/150\n",
      "\u001b[1m80/80\u001b[0m \u001b[32m━━━━━━━━━━━━━━━━━━━━\u001b[0m\u001b[37m\u001b[0m \u001b[1m2s\u001b[0m 7ms/step - accuracy: 0.6453 - loss: 0.6363 - val_accuracy: 0.7516 - val_loss: 0.5348\n",
      "Epoch 2/150\n",
      "\u001b[1m80/80\u001b[0m \u001b[32m━━━━━━━━━━━━━━━━━━━━\u001b[0m\u001b[37m\u001b[0m \u001b[1m1s\u001b[0m 5ms/step - accuracy: 0.7735 - loss: 0.5307 - val_accuracy: 0.7673 - val_loss: 0.5002\n",
      "Epoch 3/150\n",
      "\u001b[1m80/80\u001b[0m \u001b[32m━━━━━━━━━━━━━━━━━━━━\u001b[0m\u001b[37m\u001b[0m \u001b[1m0s\u001b[0m 4ms/step - accuracy: 0.7946 - loss: 0.4636 - val_accuracy: 0.7783 - val_loss: 0.4763\n",
      "Epoch 4/150\n",
      "\u001b[1m80/80\u001b[0m \u001b[32m━━━━━━━━━━━━━━━━━━━━\u001b[0m\u001b[37m\u001b[0m \u001b[1m0s\u001b[0m 5ms/step - accuracy: 0.8130 - loss: 0.4385 - val_accuracy: 0.7909 - val_loss: 0.4506\n",
      "Epoch 5/150\n",
      "\u001b[1m80/80\u001b[0m \u001b[32m━━━━━━━━━━━━━━━━━━━━\u001b[0m\u001b[37m\u001b[0m \u001b[1m0s\u001b[0m 4ms/step - accuracy: 0.8180 - loss: 0.4204 - val_accuracy: 0.7956 - val_loss: 0.4445\n",
      "Epoch 6/150\n",
      "\u001b[1m80/80\u001b[0m \u001b[32m━━━━━━━━━━━━━━━━━━━━\u001b[0m\u001b[37m\u001b[0m \u001b[1m0s\u001b[0m 5ms/step - accuracy: 0.8138 - loss: 0.4175 - val_accuracy: 0.8066 - val_loss: 0.4297\n",
      "Epoch 7/150\n",
      "\u001b[1m80/80\u001b[0m \u001b[32m━━━━━━━━━━━━━━━━━━━━\u001b[0m\u001b[37m\u001b[0m \u001b[1m0s\u001b[0m 5ms/step - accuracy: 0.8271 - loss: 0.3923 - val_accuracy: 0.8019 - val_loss: 0.4330\n",
      "Epoch 8/150\n",
      "\u001b[1m80/80\u001b[0m \u001b[32m━━━━━━━━━━━━━━━━━━━━\u001b[0m\u001b[37m\u001b[0m \u001b[1m0s\u001b[0m 4ms/step - accuracy: 0.8285 - loss: 0.3837 - val_accuracy: 0.8082 - val_loss: 0.4195\n",
      "Epoch 9/150\n",
      "\u001b[1m80/80\u001b[0m \u001b[32m━━━━━━━━━━━━━━━━━━━━\u001b[0m\u001b[37m\u001b[0m \u001b[1m0s\u001b[0m 4ms/step - accuracy: 0.8483 - loss: 0.3551 - val_accuracy: 0.8066 - val_loss: 0.4317\n",
      "Epoch 10/150\n",
      "\u001b[1m80/80\u001b[0m \u001b[32m━━━━━━━━━━━━━━━━━━━━\u001b[0m\u001b[37m\u001b[0m \u001b[1m0s\u001b[0m 4ms/step - accuracy: 0.8464 - loss: 0.3451 - val_accuracy: 0.8129 - val_loss: 0.4221\n",
      "Epoch 11/150\n",
      "\u001b[1m80/80\u001b[0m \u001b[32m━━━━━━━━━━━━━━━━━━━━\u001b[0m\u001b[37m\u001b[0m \u001b[1m0s\u001b[0m 4ms/step - accuracy: 0.8407 - loss: 0.3483 - val_accuracy: 0.8113 - val_loss: 0.4102\n",
      "Epoch 12/150\n",
      "\u001b[1m80/80\u001b[0m \u001b[32m━━━━━━━━━━━━━━━━━━━━\u001b[0m\u001b[37m\u001b[0m \u001b[1m0s\u001b[0m 4ms/step - accuracy: 0.8478 - loss: 0.3413 - val_accuracy: 0.8019 - val_loss: 0.4190\n",
      "Epoch 13/150\n",
      "\u001b[1m80/80\u001b[0m \u001b[32m━━━━━━━━━━━━━━━━━━━━\u001b[0m\u001b[37m\u001b[0m \u001b[1m0s\u001b[0m 4ms/step - accuracy: 0.8602 - loss: 0.3262 - val_accuracy: 0.8129 - val_loss: 0.4079\n",
      "Epoch 14/150\n",
      "\u001b[1m80/80\u001b[0m \u001b[32m━━━━━━━━━━━━━━━━━━━━\u001b[0m\u001b[37m\u001b[0m \u001b[1m0s\u001b[0m 4ms/step - accuracy: 0.8643 - loss: 0.3165 - val_accuracy: 0.8113 - val_loss: 0.4088\n",
      "Epoch 15/150\n",
      "\u001b[1m80/80\u001b[0m \u001b[32m━━━━━━━━━━━━━━━━━━━━\u001b[0m\u001b[37m\u001b[0m \u001b[1m0s\u001b[0m 4ms/step - accuracy: 0.8718 - loss: 0.3105 - val_accuracy: 0.8176 - val_loss: 0.4171\n",
      "Epoch 16/150\n",
      "\u001b[1m80/80\u001b[0m \u001b[32m━━━━━━━━━━━━━━━━━━━━\u001b[0m\u001b[37m\u001b[0m \u001b[1m0s\u001b[0m 4ms/step - accuracy: 0.8573 - loss: 0.3156 - val_accuracy: 0.8082 - val_loss: 0.4112\n",
      "Epoch 17/150\n",
      "\u001b[1m80/80\u001b[0m \u001b[32m━━━━━━━━━━━━━━━━━━━━\u001b[0m\u001b[37m\u001b[0m \u001b[1m0s\u001b[0m 4ms/step - accuracy: 0.8686 - loss: 0.3031 - val_accuracy: 0.8082 - val_loss: 0.4073\n",
      "Epoch 18/150\n",
      "\u001b[1m80/80\u001b[0m \u001b[32m━━━━━━━━━━━━━━━━━━━━\u001b[0m\u001b[37m\u001b[0m \u001b[1m0s\u001b[0m 4ms/step - accuracy: 0.8797 - loss: 0.2883 - val_accuracy: 0.8145 - val_loss: 0.4095\n",
      "Epoch 19/150\n",
      "\u001b[1m80/80\u001b[0m \u001b[32m━━━━━━━━━━━━━━━━━━━━\u001b[0m\u001b[37m\u001b[0m \u001b[1m0s\u001b[0m 4ms/step - accuracy: 0.8727 - loss: 0.2928 - val_accuracy: 0.8035 - val_loss: 0.4127\n",
      "Epoch 20/150\n",
      "\u001b[1m80/80\u001b[0m \u001b[32m━━━━━━━━━━━━━━━━━━━━\u001b[0m\u001b[37m\u001b[0m \u001b[1m0s\u001b[0m 4ms/step - accuracy: 0.8838 - loss: 0.2793 - val_accuracy: 0.8208 - val_loss: 0.4252\n",
      "Epoch 21/150\n",
      "\u001b[1m80/80\u001b[0m \u001b[32m━━━━━━━━━━━━━━━━━━━━\u001b[0m\u001b[37m\u001b[0m \u001b[1m0s\u001b[0m 4ms/step - accuracy: 0.8944 - loss: 0.2623 - val_accuracy: 0.8113 - val_loss: 0.4059\n",
      "Epoch 22/150\n",
      "\u001b[1m80/80\u001b[0m \u001b[32m━━━━━━━━━━━━━━━━━━━━\u001b[0m\u001b[37m\u001b[0m \u001b[1m0s\u001b[0m 4ms/step - accuracy: 0.8954 - loss: 0.2687 - val_accuracy: 0.8192 - val_loss: 0.4078\n",
      "Epoch 23/150\n",
      "\u001b[1m80/80\u001b[0m \u001b[32m━━━━━━━━━━━━━━━━━━━━\u001b[0m\u001b[37m\u001b[0m \u001b[1m0s\u001b[0m 4ms/step - accuracy: 0.8890 - loss: 0.2598 - val_accuracy: 0.8082 - val_loss: 0.4236\n",
      "Epoch 24/150\n",
      "\u001b[1m80/80\u001b[0m \u001b[32m━━━━━━━━━━━━━━━━━━━━\u001b[0m\u001b[37m\u001b[0m \u001b[1m0s\u001b[0m 4ms/step - accuracy: 0.8863 - loss: 0.2681 - val_accuracy: 0.7972 - val_loss: 0.4427\n",
      "Epoch 25/150\n",
      "\u001b[1m80/80\u001b[0m \u001b[32m━━━━━━━━━━━━━━━━━━━━\u001b[0m\u001b[37m\u001b[0m \u001b[1m0s\u001b[0m 4ms/step - accuracy: 0.8905 - loss: 0.2660 - val_accuracy: 0.8035 - val_loss: 0.4199\n",
      "Epoch 26/150\n",
      "\u001b[1m80/80\u001b[0m \u001b[32m━━━━━━━━━━━━━━━━━━━━\u001b[0m\u001b[37m\u001b[0m \u001b[1m0s\u001b[0m 4ms/step - accuracy: 0.9039 - loss: 0.2559 - val_accuracy: 0.8050 - val_loss: 0.4262\n",
      "Epoch 27/150\n",
      "\u001b[1m80/80\u001b[0m \u001b[32m━━━━━━━━━━━━━━━━━━━━\u001b[0m\u001b[37m\u001b[0m \u001b[1m0s\u001b[0m 4ms/step - accuracy: 0.8916 - loss: 0.2452 - val_accuracy: 0.8113 - val_loss: 0.4252\n",
      "Epoch 28/150\n",
      "\u001b[1m80/80\u001b[0m \u001b[32m━━━━━━━━━━━━━━━━━━━━\u001b[0m\u001b[37m\u001b[0m \u001b[1m0s\u001b[0m 5ms/step - accuracy: 0.9018 - loss: 0.2414 - val_accuracy: 0.8097 - val_loss: 0.4324\n",
      "Epoch 29/150\n",
      "\u001b[1m80/80\u001b[0m \u001b[32m━━━━━━━━━━━━━━━━━━━━\u001b[0m\u001b[37m\u001b[0m \u001b[1m1s\u001b[0m 6ms/step - accuracy: 0.9129 - loss: 0.2262 - val_accuracy: 0.8082 - val_loss: 0.4258\n",
      "Epoch 30/150\n",
      "\u001b[1m80/80\u001b[0m \u001b[32m━━━━━━━━━━━━━━━━━━━━\u001b[0m\u001b[37m\u001b[0m \u001b[1m0s\u001b[0m 4ms/step - accuracy: 0.9052 - loss: 0.2353 - val_accuracy: 0.8050 - val_loss: 0.4380\n",
      "Epoch 31/150\n",
      "\u001b[1m80/80\u001b[0m \u001b[32m━━━━━━━━━━━━━━━━━━━━\u001b[0m\u001b[37m\u001b[0m \u001b[1m0s\u001b[0m 4ms/step - accuracy: 0.9115 - loss: 0.2136 - val_accuracy: 0.8129 - val_loss: 0.4387\n",
      "Epoch 32/150\n",
      "\u001b[1m80/80\u001b[0m \u001b[32m━━━━━━━━━━━━━━━━━━━━\u001b[0m\u001b[37m\u001b[0m \u001b[1m0s\u001b[0m 4ms/step - accuracy: 0.9101 - loss: 0.2132 - val_accuracy: 0.8129 - val_loss: 0.4392\n",
      "Epoch 33/150\n",
      "\u001b[1m80/80\u001b[0m \u001b[32m━━━━━━━━━━━━━━━━━━━━\u001b[0m\u001b[37m\u001b[0m \u001b[1m0s\u001b[0m 4ms/step - accuracy: 0.9147 - loss: 0.2127 - val_accuracy: 0.8050 - val_loss: 0.4523\n",
      "Epoch 34/150\n",
      "\u001b[1m80/80\u001b[0m \u001b[32m━━━━━━━━━━━━━━━━━━━━\u001b[0m\u001b[37m\u001b[0m \u001b[1m0s\u001b[0m 4ms/step - accuracy: 0.9087 - loss: 0.2118 - val_accuracy: 0.8035 - val_loss: 0.4471\n",
      "Epoch 35/150\n",
      "\u001b[1m80/80\u001b[0m \u001b[32m━━━━━━━━━━━━━━━━━━━━\u001b[0m\u001b[37m\u001b[0m \u001b[1m0s\u001b[0m 4ms/step - accuracy: 0.9180 - loss: 0.2071 - val_accuracy: 0.8066 - val_loss: 0.4491\n",
      "Epoch 36/150\n",
      "\u001b[1m80/80\u001b[0m \u001b[32m━━━━━━━━━━━━━━━━━━━━\u001b[0m\u001b[37m\u001b[0m \u001b[1m0s\u001b[0m 4ms/step - accuracy: 0.9198 - loss: 0.2080 - val_accuracy: 0.7972 - val_loss: 0.4505\n",
      "Epoch 37/150\n",
      "\u001b[1m80/80\u001b[0m \u001b[32m━━━━━━━━━━━━━━━━━━━━\u001b[0m\u001b[37m\u001b[0m \u001b[1m0s\u001b[0m 4ms/step - accuracy: 0.9188 - loss: 0.1999 - val_accuracy: 0.8050 - val_loss: 0.4534\n",
      "Epoch 38/150\n",
      "\u001b[1m80/80\u001b[0m \u001b[32m━━━━━━━━━━━━━━━━━━━━\u001b[0m\u001b[37m\u001b[0m \u001b[1m0s\u001b[0m 4ms/step - accuracy: 0.9352 - loss: 0.1801 - val_accuracy: 0.7956 - val_loss: 0.4603\n",
      "Epoch 39/150\n",
      "\u001b[1m80/80\u001b[0m \u001b[32m━━━━━━━━━━━━━━━━━━━━\u001b[0m\u001b[37m\u001b[0m \u001b[1m0s\u001b[0m 4ms/step - accuracy: 0.9360 - loss: 0.1811 - val_accuracy: 0.8003 - val_loss: 0.4632\n",
      "Epoch 40/150\n",
      "\u001b[1m80/80\u001b[0m \u001b[32m━━━━━━━━━━━━━━━━━━━━\u001b[0m\u001b[37m\u001b[0m \u001b[1m0s\u001b[0m 4ms/step - accuracy: 0.9329 - loss: 0.1772 - val_accuracy: 0.8066 - val_loss: 0.4654\n",
      "Epoch 41/150\n",
      "\u001b[1m80/80\u001b[0m \u001b[32m━━━━━━━━━━━━━━━━━━━━\u001b[0m\u001b[37m\u001b[0m \u001b[1m0s\u001b[0m 4ms/step - accuracy: 0.9361 - loss: 0.1718 - val_accuracy: 0.8035 - val_loss: 0.4616\n",
      "Epoch 42/150\n",
      "\u001b[1m80/80\u001b[0m \u001b[32m━━━━━━━━━━━━━━━━━━━━\u001b[0m\u001b[37m\u001b[0m \u001b[1m0s\u001b[0m 4ms/step - accuracy: 0.9388 - loss: 0.1744 - val_accuracy: 0.8113 - val_loss: 0.4715\n",
      "Epoch 43/150\n",
      "\u001b[1m80/80\u001b[0m \u001b[32m━━━━━━━━━━━━━━━━━━━━\u001b[0m\u001b[37m\u001b[0m \u001b[1m0s\u001b[0m 4ms/step - accuracy: 0.9449 - loss: 0.1618 - val_accuracy: 0.8003 - val_loss: 0.4917\n",
      "Epoch 44/150\n",
      "\u001b[1m80/80\u001b[0m \u001b[32m━━━━━━━━━━━━━━━━━━━━\u001b[0m\u001b[37m\u001b[0m \u001b[1m0s\u001b[0m 6ms/step - accuracy: 0.9361 - loss: 0.1657 - val_accuracy: 0.8019 - val_loss: 0.5203\n",
      "Epoch 45/150\n",
      "\u001b[1m80/80\u001b[0m \u001b[32m━━━━━━━━━━━━━━━━━━━━\u001b[0m\u001b[37m\u001b[0m \u001b[1m0s\u001b[0m 4ms/step - accuracy: 0.9419 - loss: 0.1600 - val_accuracy: 0.7972 - val_loss: 0.4989\n",
      "Epoch 46/150\n",
      "\u001b[1m80/80\u001b[0m \u001b[32m━━━━━━━━━━━━━━━━━━━━\u001b[0m\u001b[37m\u001b[0m \u001b[1m0s\u001b[0m 4ms/step - accuracy: 0.9317 - loss: 0.1618 - val_accuracy: 0.8035 - val_loss: 0.4885\n",
      "Epoch 47/150\n",
      "\u001b[1m80/80\u001b[0m \u001b[32m━━━━━━━━━━━━━━━━━━━━\u001b[0m\u001b[37m\u001b[0m \u001b[1m0s\u001b[0m 4ms/step - accuracy: 0.9569 - loss: 0.1444 - val_accuracy: 0.8035 - val_loss: 0.5222\n",
      "Epoch 48/150\n",
      "\u001b[1m80/80\u001b[0m \u001b[32m━━━━━━━━━━━━━━━━━━━━\u001b[0m\u001b[37m\u001b[0m \u001b[1m0s\u001b[0m 4ms/step - accuracy: 0.9485 - loss: 0.1484 - val_accuracy: 0.8050 - val_loss: 0.5135\n",
      "Epoch 49/150\n",
      "\u001b[1m80/80\u001b[0m \u001b[32m━━━━━━━━━━━━━━━━━━━━\u001b[0m\u001b[37m\u001b[0m \u001b[1m0s\u001b[0m 4ms/step - accuracy: 0.9461 - loss: 0.1451 - val_accuracy: 0.8097 - val_loss: 0.5074\n",
      "Epoch 50/150\n",
      "\u001b[1m80/80\u001b[0m \u001b[32m━━━━━━━━━━━━━━━━━━━━\u001b[0m\u001b[37m\u001b[0m \u001b[1m0s\u001b[0m 4ms/step - accuracy: 0.9461 - loss: 0.1461 - val_accuracy: 0.7877 - val_loss: 0.5281\n",
      "Epoch 51/150\n",
      "\u001b[1m80/80\u001b[0m \u001b[32m━━━━━━━━━━━━━━━━━━━━\u001b[0m\u001b[37m\u001b[0m \u001b[1m0s\u001b[0m 4ms/step - accuracy: 0.9499 - loss: 0.1381 - val_accuracy: 0.7940 - val_loss: 0.5303\n",
      "Epoch 52/150\n",
      "\u001b[1m80/80\u001b[0m \u001b[32m━━━━━━━━━━━━━━━━━━━━\u001b[0m\u001b[37m\u001b[0m \u001b[1m0s\u001b[0m 4ms/step - accuracy: 0.9487 - loss: 0.1381 - val_accuracy: 0.7940 - val_loss: 0.5225\n",
      "Epoch 53/150\n",
      "\u001b[1m80/80\u001b[0m \u001b[32m━━━━━━━━━━━━━━━━━━━━\u001b[0m\u001b[37m\u001b[0m \u001b[1m0s\u001b[0m 5ms/step - accuracy: 0.9496 - loss: 0.1381 - val_accuracy: 0.8160 - val_loss: 0.5260\n",
      "Epoch 54/150\n",
      "\u001b[1m80/80\u001b[0m \u001b[32m━━━━━━━━━━━━━━━━━━━━\u001b[0m\u001b[37m\u001b[0m \u001b[1m0s\u001b[0m 4ms/step - accuracy: 0.9647 - loss: 0.1174 - val_accuracy: 0.7893 - val_loss: 0.5792\n",
      "Epoch 55/150\n",
      "\u001b[1m80/80\u001b[0m \u001b[32m━━━━━━━━━━━━━━━━━━━━\u001b[0m\u001b[37m\u001b[0m \u001b[1m0s\u001b[0m 4ms/step - accuracy: 0.9589 - loss: 0.1111 - val_accuracy: 0.7893 - val_loss: 0.5430\n",
      "Epoch 56/150\n",
      "\u001b[1m80/80\u001b[0m \u001b[32m━━━━━━━━━━━━━━━━━━━━\u001b[0m\u001b[37m\u001b[0m \u001b[1m0s\u001b[0m 4ms/step - accuracy: 0.9615 - loss: 0.1184 - val_accuracy: 0.7940 - val_loss: 0.5746\n",
      "Epoch 57/150\n",
      "\u001b[1m80/80\u001b[0m \u001b[32m━━━━━━━━━━━━━━━━━━━━\u001b[0m\u001b[37m\u001b[0m \u001b[1m0s\u001b[0m 4ms/step - accuracy: 0.9628 - loss: 0.1080 - val_accuracy: 0.7893 - val_loss: 0.5751\n",
      "Epoch 58/150\n",
      "\u001b[1m80/80\u001b[0m \u001b[32m━━━━━━━━━━━━━━━━━━━━\u001b[0m\u001b[37m\u001b[0m \u001b[1m0s\u001b[0m 4ms/step - accuracy: 0.9619 - loss: 0.1123 - val_accuracy: 0.7940 - val_loss: 0.5782\n",
      "Epoch 59/150\n",
      "\u001b[1m80/80\u001b[0m \u001b[32m━━━━━━━━━━━━━━━━━━━━\u001b[0m\u001b[37m\u001b[0m \u001b[1m0s\u001b[0m 4ms/step - accuracy: 0.9663 - loss: 0.1098 - val_accuracy: 0.8019 - val_loss: 0.5631\n",
      "Epoch 60/150\n",
      "\u001b[1m80/80\u001b[0m \u001b[32m━━━━━━━━━━━━━━━━━━━━\u001b[0m\u001b[37m\u001b[0m \u001b[1m0s\u001b[0m 4ms/step - accuracy: 0.9709 - loss: 0.1013 - val_accuracy: 0.7940 - val_loss: 0.5736\n",
      "Epoch 61/150\n",
      "\u001b[1m80/80\u001b[0m \u001b[32m━━━━━━━━━━━━━━━━━━━━\u001b[0m\u001b[37m\u001b[0m \u001b[1m0s\u001b[0m 4ms/step - accuracy: 0.9690 - loss: 0.1019 - val_accuracy: 0.7925 - val_loss: 0.5761\n",
      "Epoch 62/150\n",
      "\u001b[1m80/80\u001b[0m \u001b[32m━━━━━━━━━━━━━━━━━━━━\u001b[0m\u001b[37m\u001b[0m \u001b[1m0s\u001b[0m 5ms/step - accuracy: 0.9707 - loss: 0.0986 - val_accuracy: 0.7987 - val_loss: 0.6022\n",
      "Epoch 63/150\n",
      "\u001b[1m80/80\u001b[0m \u001b[32m━━━━━━━━━━━━━━━━━━━━\u001b[0m\u001b[37m\u001b[0m \u001b[1m0s\u001b[0m 4ms/step - accuracy: 0.9647 - loss: 0.1058 - val_accuracy: 0.7940 - val_loss: 0.6224\n",
      "Epoch 64/150\n",
      "\u001b[1m80/80\u001b[0m \u001b[32m━━━━━━━━━━━━━━━━━━━━\u001b[0m\u001b[37m\u001b[0m \u001b[1m0s\u001b[0m 4ms/step - accuracy: 0.9704 - loss: 0.0934 - val_accuracy: 0.7893 - val_loss: 0.6209\n",
      "Epoch 65/150\n",
      "\u001b[1m80/80\u001b[0m \u001b[32m━━━━━━━━━━━━━━━━━━━━\u001b[0m\u001b[37m\u001b[0m \u001b[1m0s\u001b[0m 4ms/step - accuracy: 0.9704 - loss: 0.0929 - val_accuracy: 0.7846 - val_loss: 0.6273\n",
      "Epoch 66/150\n",
      "\u001b[1m80/80\u001b[0m \u001b[32m━━━━━━━━━━━━━━━━━━━━\u001b[0m\u001b[37m\u001b[0m \u001b[1m0s\u001b[0m 4ms/step - accuracy: 0.9788 - loss: 0.0805 - val_accuracy: 0.8035 - val_loss: 0.6294\n",
      "Epoch 67/150\n",
      "\u001b[1m80/80\u001b[0m \u001b[32m━━━━━━━━━━━━━━━━━━━━\u001b[0m\u001b[37m\u001b[0m \u001b[1m0s\u001b[0m 4ms/step - accuracy: 0.9666 - loss: 0.0975 - val_accuracy: 0.7893 - val_loss: 0.6755\n",
      "Epoch 68/150\n",
      "\u001b[1m80/80\u001b[0m \u001b[32m━━━━━━━━━━━━━━━━━━━━\u001b[0m\u001b[37m\u001b[0m \u001b[1m0s\u001b[0m 4ms/step - accuracy: 0.9730 - loss: 0.0787 - val_accuracy: 0.7956 - val_loss: 0.6607\n",
      "Epoch 69/150\n",
      "\u001b[1m80/80\u001b[0m \u001b[32m━━━━━━━━━━━━━━━━━━━━\u001b[0m\u001b[37m\u001b[0m \u001b[1m0s\u001b[0m 4ms/step - accuracy: 0.9787 - loss: 0.0848 - val_accuracy: 0.7972 - val_loss: 0.6421\n",
      "Epoch 70/150\n",
      "\u001b[1m80/80\u001b[0m \u001b[32m━━━━━━━━━━━━━━━━━━━━\u001b[0m\u001b[37m\u001b[0m \u001b[1m0s\u001b[0m 4ms/step - accuracy: 0.9768 - loss: 0.0740 - val_accuracy: 0.7862 - val_loss: 0.6723\n",
      "Epoch 70: early stopping\n",
      "Restoring model weights from the end of the best epoch: 20.\n"
     ]
    }
   ],
   "source": [
    "# Compilación del modelo previa a entrenamiento\n",
    "model_tfidf.compile(optimizer=optimizers.Adam(learning_rate=0.0001), loss='binary_crossentropy', metrics=['accuracy'])\n",
    "\n",
    "# Entrenamiento del modelo\n",
    "history = model_tfidf.fit(X_train_f, y_train_f, epochs=150, batch_size=32, validation_data=(X_val_f, y_val_f), callbacks=[early_stopping])"
   ]
  },
  {
   "cell_type": "code",
   "execution_count": 24,
   "metadata": {},
   "outputs": [
    {
     "data": {
      "image/png": "[encoded data removed]",
      "text/plain": [
       "<Figure size 1000x600 with 1 Axes>"
      ]
     },
     "metadata": {},
     "output_type": "display_data"
    }
   ],
   "source": [
    "plt.figure(figsize=(10, 6))\n",
    "plt.plot(history.history['val_accuracy'], label='Precisión de validación')\n",
    "plt.plot(history.history['val_loss'], label= 'Función de pérdida en validación')\n",
    "\n",
    "plt.axvline(x=np.argmax(history.history['val_accuracy']), color='r', linestyle='-', linewidth=1, label='Early Stopping Mejor modelo')\n",
    "plt.xlabel('Épocas')\n",
    "plt.ylabel('Precisión y Pérdida')\n",
    "plt.legend()\n",
    "plt.show()"
   ]
  },
  {
   "cell_type": "code",
   "execution_count": 25,
   "metadata": {},
   "outputs": [
    {
     "name": "stdout",
     "output_type": "stream",
     "text": [
      "\u001b[1m25/25\u001b[0m \u001b[32m━━━━━━━━━━━━━━━━━━━━\u001b[0m\u001b[37m\u001b[0m \u001b[1m0s\u001b[0m 3ms/step - accuracy: 0.8036 - loss: 0.4366 \n",
      "Test Accuracy: 0.8201257586479187\n",
      "Test Loss: 0.42888280749320984\n"
     ]
    }
   ],
   "source": [
    "# Testeo, predicción y evaluación del modelo\n",
    "test_loss, test_acc = model_tfidf.evaluate(X_test_encoded, y_test)\n",
    "print(f\"Test Accuracy: {test_acc}\")\n",
    "print(f\"Test Loss: {test_loss}\")"
   ]
  },
  {
   "cell_type": "markdown",
   "metadata": {},
   "source": [
    "**E8:** Hasta ahora hemos trabajado solo con unigramas, los tokens están compuesto por AAs aislados. También es posible construir tokens con combinaciones de AAs (n-gramas). Repite el ejercicio E7 pero esta vez empleando bigramas. ¿Qué tamaño tiene el vocabulario ahora? ¿Por qué MLP ha aumentado considerablemente el número de parámetros a entrenar? ¿Qué ventaja podría aportar el trabajar con n-gramas (n > 1) en comparación de unigramas?"
   ]
  },
  {
   "cell_type": "markdown",
   "metadata": {},
   "source": [
    "**Ahora el vocabulario tiene un tamaño de 486 tokens diferentes, a los 25 únicos se les añade todas las distintas combinaciones de parejas de aminoácidos.**\n",
    "\n",
    "**Porque ahora, la entrada del modelo no es un vector de tamaño 25, sino que se da un input mucho mayor, esto lleva a que en la primera capa del modelo hayan muchos más parámetros a ajustar. Se puede observar claramente en el resumen de la construcción de la arquitectura, en los modelos anteriores la primera capa contiene 13.312 parámetros entrenables y este nuevo modelo contiene 249.344 parámetros entrenable solamente en la primera capa.**\n",
    "\n",
    "**El uso de bigramas nos podría ayudar a mejorar la precisión del modelo ya que este va a ser capaz de capturar:**\n",
    "- Interacciones locales entre residuos\n",
    "- Información primordial que proporcionan parejas de aminoácidos sobre la función biológica del péptido\n",
    "- Similitudes en secuencias cortas"
   ]
  },
  {
   "cell_type": "code",
   "execution_count": 16,
   "metadata": {},
   "outputs": [],
   "source": [
    "# Inicializar el vectorizador\n",
    "vectorizer = TextVectorization(\n",
    "    max_tokens=None,  # Número de aminoácidos únicos\n",
    "    output_mode='tf-idf',  # Modo de salida \n",
    "    standardize=None,  # No estandarizamos\n",
    "    split='character',  # Dividimos por caracteres(aminoácidos)\n",
    "    ngrams=(1, 2)  # Incluimos n-gramas de 1 y 2 caracteres\n",
    ")\n",
    "\n",
    "# Ajustar el vectorizador a las secuencias, nos ajustamos solo al conjunto de entrenamiento para evitar la exposición a datos de test\n",
    "vectorizer.adapt(X_train)\n",
    "\n",
    "# Transformamos los péptidos mediante la codificación TF-IDF con el uso de bigramas\n",
    "X_train_encoded = vectorizer(X_train)\n",
    "X_test_encoded = vectorizer(X_test)"
   ]
  },
  {
   "cell_type": "code",
   "execution_count": 17,
   "metadata": {},
   "outputs": [
    {
     "data": {
      "text/html": [
       "<div>\n",
       "<style scoped>\n",
       "    .dataframe tbody tr th:only-of-type {\n",
       "        vertical-align: middle;\n",
       "    }\n",
       "\n",
       "    .dataframe tbody tr th {\n",
       "        vertical-align: top;\n",
       "    }\n",
       "\n",
       "    .dataframe thead th {\n",
       "        text-align: right;\n",
       "    }\n",
       "</style>\n",
       "<table border=\"1\" class=\"dataframe\">\n",
       "  <thead>\n",
       "    <tr style=\"text-align: right;\">\n",
       "      <th></th>\n",
       "      <th>aa_seq</th>\n",
       "      <th>aa_len</th>\n",
       "      <th>AMP</th>\n",
       "      <th>Multi-Hot</th>\n",
       "      <th>TF-IDF</th>\n",
       "      <th>TF-IDF_with_bigrams</th>\n",
       "    </tr>\n",
       "  </thead>\n",
       "  <tbody>\n",
       "    <tr>\n",
       "      <th>0</th>\n",
       "      <td>GNGVLKTISHECNMNTWQFLFTCC</td>\n",
       "      <td>24</td>\n",
       "      <td>True</td>\n",
       "      <td>[0, 1, 1, 1, 0, 0, 1, 1, 1, 1, 1, 1, 0, 1, 1, ...</td>\n",
       "      <td>[0.0, 0.79246056, 1.5467752, 1.56601, 0.0, 0.0...</td>\n",
       "      <td>[0.0, 0.79246056, 1.5467752, 1.56601, 0.0, 0.0...</td>\n",
       "    </tr>\n",
       "    <tr>\n",
       "      <th>1</th>\n",
       "      <td>TTKNYGNGVCNSVNWCQCGNVWASCNLATGCAAWLCKLA</td>\n",
       "      <td>39</td>\n",
       "      <td>True</td>\n",
       "      <td>[0, 1, 1, 1, 1, 0, 1, 1, 0, 1, 0, 1, 0, 1, 0, ...</td>\n",
       "      <td>[0.0, 1.5849211, 2.3201628, 3.13202, 4.0539956...</td>\n",
       "      <td>[0.0, 1.5849211, 2.3201628, 3.13202, 4.0539956...</td>\n",
       "    </tr>\n",
       "    <tr>\n",
       "      <th>2</th>\n",
       "      <td>SNDSLWYGVGQFMGKQANCITNHPVKHMIIPGYCLSKILG</td>\n",
       "      <td>40</td>\n",
       "      <td>True</td>\n",
       "      <td>[0, 1, 1, 1, 1, 0, 1, 1, 1, 1, 0, 1, 1, 1, 1, ...</td>\n",
       "      <td>[0.0, 2.3773818, 2.3201628, 3.915025, 0.810799...</td>\n",
       "      <td>[0.0, 2.3773818, 2.3201628, 3.915025, 0.810799...</td>\n",
       "    </tr>\n",
       "    <tr>\n",
       "      <th>3</th>\n",
       "      <td>IAPIIVAGLGYLVKDAWDHSDQIISGFKKGWNGGRRK</td>\n",
       "      <td>37</td>\n",
       "      <td>True</td>\n",
       "      <td>[0, 1, 1, 1, 1, 1, 1, 1, 1, 0, 0, 0, 1, 1, 1, ...</td>\n",
       "      <td>[0.0, 3.1698422, 1.5467752, 4.69803, 2.4323974...</td>\n",
       "      <td>[0.0, 3.1698422, 1.5467752, 4.69803, 2.4323974...</td>\n",
       "    </tr>\n",
       "    <tr>\n",
       "      <th>4</th>\n",
       "      <td>FNRGGYNFGKSVRHVVDAIGSVAGIRGILKSIR</td>\n",
       "      <td>33</td>\n",
       "      <td>True</td>\n",
       "      <td>[0, 1, 1, 1, 1, 1, 1, 1, 1, 0, 0, 0, 0, 1, 1, ...</td>\n",
       "      <td>[0.0, 1.5849211, 0.7733876, 4.69803, 1.6215982...</td>\n",
       "      <td>[0.0, 1.5849211, 0.7733876, 4.69803, 1.6215982...</td>\n",
       "    </tr>\n",
       "    <tr>\n",
       "      <th>5</th>\n",
       "      <td>VFHAYSARGVRNNYKSAVGPADWVISAVRGFIHG</td>\n",
       "      <td>34</td>\n",
       "      <td>True</td>\n",
       "      <td>[0, 1, 0, 1, 1, 1, 1, 1, 1, 0, 0, 0, 1, 1, 1, ...</td>\n",
       "      <td>[0.0, 0.79246056, 0.0, 3.13202, 4.0539956, 2.6...</td>\n",
       "      <td>[0.0, 0.79246056, 0.0, 3.13202, 4.0539956, 2.6...</td>\n",
       "    </tr>\n",
       "    <tr>\n",
       "      <th>6</th>\n",
       "      <td>RRSRKNGIGYAIGYAFGAVERAVLGGSRDYNK</td>\n",
       "      <td>32</td>\n",
       "      <td>True</td>\n",
       "      <td>[0, 1, 1, 1, 1, 1, 1, 1, 1, 0, 1, 0, 0, 1, 1, ...</td>\n",
       "      <td>[0.0, 1.5849211, 0.7733876, 4.69803, 3.2431965...</td>\n",
       "      <td>[0.0, 1.5849211, 0.7733876, 4.69803, 3.2431965...</td>\n",
       "    </tr>\n",
       "    <tr>\n",
       "      <th>7</th>\n",
       "      <td>KGLGKLIGIDWLLGQAKDAVKQYKKDYKRWH</td>\n",
       "      <td>31</td>\n",
       "      <td>True</td>\n",
       "      <td>[0, 1, 1, 1, 1, 1, 0, 1, 1, 0, 0, 0, 0, 0, 0, ...</td>\n",
       "      <td>[0.0, 5.547224, 3.0935504, 3.13202, 1.6215982,...</td>\n",
       "      <td>[0.0, 5.547224, 3.0935504, 3.13202, 1.6215982,...</td>\n",
       "    </tr>\n",
       "  </tbody>\n",
       "</table>\n",
       "</div>"
      ],
      "text/plain": [
       "                                     aa_seq  aa_len   AMP  \\\n",
       "0                  GNGVLKTISHECNMNTWQFLFTCC      24  True   \n",
       "1   TTKNYGNGVCNSVNWCQCGNVWASCNLATGCAAWLCKLA      39  True   \n",
       "2  SNDSLWYGVGQFMGKQANCITNHPVKHMIIPGYCLSKILG      40  True   \n",
       "3     IAPIIVAGLGYLVKDAWDHSDQIISGFKKGWNGGRRK      37  True   \n",
       "4         FNRGGYNFGKSVRHVVDAIGSVAGIRGILKSIR      33  True   \n",
       "5        VFHAYSARGVRNNYKSAVGPADWVISAVRGFIHG      34  True   \n",
       "6          RRSRKNGIGYAIGYAFGAVERAVLGGSRDYNK      32  True   \n",
       "7           KGLGKLIGIDWLLGQAKDAVKQYKKDYKRWH      31  True   \n",
       "\n",
       "                                           Multi-Hot  \\\n",
       "0  [0, 1, 1, 1, 0, 0, 1, 1, 1, 1, 1, 1, 0, 1, 1, ...   \n",
       "1  [0, 1, 1, 1, 1, 0, 1, 1, 0, 1, 0, 1, 0, 1, 0, ...   \n",
       "2  [0, 1, 1, 1, 1, 0, 1, 1, 1, 1, 0, 1, 1, 1, 1, ...   \n",
       "3  [0, 1, 1, 1, 1, 1, 1, 1, 1, 0, 0, 0, 1, 1, 1, ...   \n",
       "4  [0, 1, 1, 1, 1, 1, 1, 1, 1, 0, 0, 0, 0, 1, 1, ...   \n",
       "5  [0, 1, 0, 1, 1, 1, 1, 1, 1, 0, 0, 0, 1, 1, 1, ...   \n",
       "6  [0, 1, 1, 1, 1, 1, 1, 1, 1, 0, 1, 0, 0, 1, 1, ...   \n",
       "7  [0, 1, 1, 1, 1, 1, 0, 1, 1, 0, 0, 0, 0, 0, 0, ...   \n",
       "\n",
       "                                              TF-IDF  \\\n",
       "0  [0.0, 0.79246056, 1.5467752, 1.56601, 0.0, 0.0...   \n",
       "1  [0.0, 1.5849211, 2.3201628, 3.13202, 4.0539956...   \n",
       "2  [0.0, 2.3773818, 2.3201628, 3.915025, 0.810799...   \n",
       "3  [0.0, 3.1698422, 1.5467752, 4.69803, 2.4323974...   \n",
       "4  [0.0, 1.5849211, 0.7733876, 4.69803, 1.6215982...   \n",
       "5  [0.0, 0.79246056, 0.0, 3.13202, 4.0539956, 2.6...   \n",
       "6  [0.0, 1.5849211, 0.7733876, 4.69803, 3.2431965...   \n",
       "7  [0.0, 5.547224, 3.0935504, 3.13202, 1.6215982,...   \n",
       "\n",
       "                                 TF-IDF_with_bigrams  \n",
       "0  [0.0, 0.79246056, 1.5467752, 1.56601, 0.0, 0.0...  \n",
       "1  [0.0, 1.5849211, 2.3201628, 3.13202, 4.0539956...  \n",
       "2  [0.0, 2.3773818, 2.3201628, 3.915025, 0.810799...  \n",
       "3  [0.0, 3.1698422, 1.5467752, 4.69803, 2.4323974...  \n",
       "4  [0.0, 1.5849211, 0.7733876, 4.69803, 1.6215982...  \n",
       "5  [0.0, 0.79246056, 0.0, 3.13202, 4.0539956, 2.6...  \n",
       "6  [0.0, 1.5849211, 0.7733876, 4.69803, 3.2431965...  \n",
       "7  [0.0, 5.547224, 3.0935504, 3.13202, 1.6215982,...  "
      ]
     },
     "execution_count": 17,
     "metadata": {},
     "output_type": "execute_result"
    }
   ],
   "source": [
    "peptidos['TF-IDF_with_bigrams'] = peptidos['aa_seq'].apply(lambda x: vectorizer(x).numpy())\n",
    "peptidos.head(8)"
   ]
  },
  {
   "cell_type": "code",
   "execution_count": 18,
   "metadata": {},
   "outputs": [
    {
     "name": "stdout",
     "output_type": "stream",
     "text": [
      "Vocabulario de carácteres e índices asociados a cada uno: \n",
      "  {'[UNK]': 0, np.str_('K'): 1, np.str_('L'): 2, np.str_('G'): 3, np.str_('A'): 4, np.str_('R'): 5, np.str_('S'): 6, np.str_('V'): 7, np.str_('I'): 8, np.str_('C'): 9, np.str_('E'): 10, np.str_('T'): 11, np.str_('P'): 12, np.str_('N'): 13, np.str_('F'): 14, np.str_('D'): 15, np.str_('Q'): 16, np.str_('Y'): 17, np.str_('M'): 18, np.str_('H'): 19, np.str_('W'): 20, np.str_('K K'): 21, np.str_('R R'): 22, np.str_('L L'): 23, np.str_('G G'): 24, np.str_('L K'): 25, np.str_('A A'): 26, np.str_('A K'): 27, np.str_('K L'): 28, np.str_('G K'): 29, np.str_('G L'): 30, np.str_('L A'): 31, np.str_('L G'): 32, np.str_('K R'): 33, np.str_('A L'): 34, np.str_('K A'): 35, np.str_('K G'): 36, np.str_('K I'): 37, np.str_('S L'): 38, np.str_('L S'): 39, np.str_('A G'): 40, np.str_('R K'): 41, np.str_('S G'): 42, np.str_('V L'): 43, np.str_('V K'): 44, np.str_('I K'): 45, np.str_('F L'): 46, np.str_('K V'): 47, np.str_('R L'): 48, np.str_('I L'): 49, np.str_('V A'): 50, np.str_('K S'): 51, np.str_('S K'): 52, np.str_('G R'): 53, np.str_('A V'): 54, np.str_('G A'): 55, np.str_('C R'): 56, np.str_('L R'): 57, np.str_('L V'): 58, np.str_('L I'): 59, np.str_('E E'): 60, np.str_('G I'): 61, np.str_('G V'): 62, np.str_('K C'): 63, np.str_('C K'): 64, np.str_('G S'): 65, np.str_('E K'): 66, np.str_('I G'): 67, np.str_('R G'): 68, np.str_('A R'): 69, np.str_('V S'): 70, np.str_('L P'): 71, np.str_('S S'): 72, np.str_('V G'): 73, np.str_('V V'): 74, np.str_('K T'): 75, np.str_('K N'): 76, np.str_('A S'): 77, np.str_('V R'): 78, np.str_('A I'): 79, np.str_('S V'): 80, np.str_('R V'): 81, np.str_('K E'): 82, np.str_('R I'): 83, np.str_('T L'): 84, np.str_('I S'): 85, np.str_('I A'): 86, np.str_('R C'): 87, np.str_('G F'): 88, np.str_('T A'): 89, np.str_('C C'): 90, np.str_('G T'): 91, np.str_('S A'): 92, np.str_('S C'): 93, np.str_('L F'): 94, np.str_('L T'): 95, np.str_('T K'): 96, np.str_('T C'): 97, np.str_('T G'): 98, np.str_('E L'): 99, np.str_('S R'): 100, np.str_('G E'): 101, np.str_('N K'): 102, np.str_('C G'): 103, np.str_('R S'): 104, np.str_('V I'): 105, np.str_('V C'): 106, np.str_('P K'): 107, np.str_('L E'): 108, np.str_('R A'): 109, np.str_('L C'): 110, np.str_('P S'): 111, np.str_('I V'): 112, np.str_('I I'): 113, np.str_('G Y'): 114, np.str_('P G'): 115, np.str_('E G'): 116, np.str_('T V'): 117, np.str_('I R'): 118, np.str_('G P'): 119, np.str_('F K'): 120, np.str_('N L'): 121, np.str_('C S'): 122, np.str_('A T'): 123, np.str_('C L'): 124, np.str_('R T'): 125, np.str_('K F'): 126, np.str_('F G'): 127, np.str_('E A'): 128, np.str_('A E'): 129, np.str_('N G'): 130, np.str_('L D'): 131, np.str_('G N'): 132, np.str_('D L'): 133, np.str_('V E'): 134, np.str_('I C'): 135, np.str_('V T'): 136, np.str_('S I'): 137, np.str_('K P'): 138, np.str_('I P'): 139, np.str_('R E'): 140, np.str_('G C'): 141, np.str_('K Q'): 142, np.str_('P V'): 143, np.str_('L N'): 144, np.str_('T S'): 145, np.str_('K D'): 146, np.str_('T I'): 147, np.str_('A D'): 148, np.str_('E R'): 149, np.str_('P R'): 150, np.str_('P A'): 151, np.str_('I T'): 152, np.str_('Y G'): 153, np.str_('E V'): 154, np.str_('P L'): 155, np.str_('D G'): 156, np.str_('D E'): 157, np.str_('C P'): 158, np.str_('R N'): 159, np.str_('F R'): 160, np.str_('P P'): 161, np.str_('S T'): 162, np.str_('C N'): 163, np.str_('N A'): 164, np.str_('E S'): 165, np.str_('R P'): 166, np.str_('S P'): 167, np.str_('S D'): 168, np.str_('D D'): 169, np.str_('V P'): 170, np.str_('T R'): 171, np.str_('C V'): 172, np.str_('Q R'): 173, np.str_('D V'): 174, np.str_('D K'): 175, np.str_('I N'): 176, np.str_('T T'): 177, np.str_('E I'): 178, np.str_('S E'): 179, np.str_('N V'): 180, np.str_('D I'): 181, np.str_('D A'): 182, np.str_('C T'): 183, np.str_('V N'): 184, np.str_('E C'): 185, np.str_('R D'): 186, np.str_('M A'): 187, np.str_('Y C'): 188, np.str_('G Q'): 189, np.str_('Q K'): 190, np.str_('C I'): 191, np.str_('R F'): 192, np.str_('F V'): 193, np.str_('A N'): 194, np.str_('S N'): 195, np.str_('I F'): 196, np.str_('M K'): 197, np.str_('D C'): 198, np.str_('S F'): 199, np.str_('E T'): 200, np.str_('K Y'): 201, np.str_('A P'): 202, np.str_('Q L'): 203, np.str_('P I'): 204, np.str_('N R'): 205, np.str_('I E'): 206, np.str_('G D'): 207, np.str_('E D'): 208, np.str_('C A'): 209, np.str_('A Q'): 210, np.str_('A C'): 211, np.str_('Q A'): 212, np.str_('V D'): 213, np.str_('Q G'): 214, np.str_('F S'): 215, np.str_('T P'): 216, np.str_('F F'): 217, np.str_('P C'): 218, np.str_('N S'): 219, np.str_('N N'): 220, np.str_('L Q'): 221, np.str_('C F'): 222, np.str_('R Q'): 223, np.str_('P E'): 224, np.str_('A F'): 225, np.str_('P T'): 226, np.str_('N C'): 227, np.str_('C E'): 228, np.str_('D S'): 229, np.str_('N P'): 230, np.str_('N T'): 231, np.str_('I D'): 232, np.str_('D P'): 233, np.str_('W K'): 234, np.str_('T E'): 235, np.str_('F T'): 236, np.str_('C D'): 237, np.str_('P F'): 238, np.str_('C Y'): 239, np.str_('E N'): 240, np.str_('Q E'): 241, np.str_('F C'): 242, np.str_('V F'): 243, np.str_('N E'): 244, np.str_('Y R'): 245, np.str_('F I'): 246, np.str_('D T'): 247, np.str_('S Q'): 248, np.str_('F A'): 249, np.str_('Y L'): 250, np.str_('E Q'): 251, np.str_('P D'): 252, np.str_('H G'): 253, np.str_('D R'): 254, np.str_('V Q'): 255, np.str_('T D'): 256, np.str_('N I'): 257, np.str_('H C'): 258, np.str_('Q C'): 259, np.str_('Q S'): 260, np.str_('P N'): 261, np.str_('K H'): 262, np.str_('G H'): 263, np.str_('T F'): 264, np.str_('T N'): 265, np.str_('F P'): 266, np.str_('H L'): 267, np.str_('Q Q'): 268, np.str_('F E'): 269, np.str_('Q V'): 270, np.str_('Y K'): 271, np.str_('Y D'): 272, np.str_('V Y'): 273, np.str_('R Y'): 274, np.str_('N D'): 275, np.str_('F D'): 276, np.str_('D N'): 277, np.str_('C Q'): 278, np.str_('S Y'): 279, np.str_('S H'): 280, np.str_('Q P'): 281, np.str_('A Y'): 282, np.str_('N F'): 283, np.str_('E P'): 284, np.str_('Y T'): 285, np.str_('Q I'): 286, np.str_('M G'): 287, np.str_('Y S'): 288, np.str_('R H'): 289, np.str_('M S'): 290, np.str_('Q T'): 291, np.str_('K W'): 292, np.str_('H K'): 293, np.str_('D F'): 294, np.str_('P Q'): 295, np.str_('L Y'): 296, np.str_('I Q'): 297, np.str_('E F'): 298, np.str_('C H'): 299, np.str_('Y A'): 300, np.str_('G M'): 301, np.str_('M V'): 302, np.str_('I Y'): 303, np.str_('Y V'): 304, np.str_('P Y'): 305, np.str_('M R'): 306, np.str_('M L'): 307, np.str_('T Y'): 308, np.str_('H V'): 309, np.str_('R W'): 310, np.str_('Y I'): 311, np.str_('N Q'): 312, np.str_('Y P'): 313, np.str_('F Y'): 314, np.str_('D Y'): 315, np.str_('M P'): 316, np.str_('H I'): 317, np.str_('W L'): 318, np.str_('R M'): 319, np.str_('Y N'): 320, np.str_('Y E'): 321, np.str_('L H'): 322, np.str_('N Y'): 323, np.str_('F N'): 324, np.str_('D Q'): 325, np.str_('I H'): 326, np.str_('E H'): 327, np.str_('Q N'): 328, np.str_('Q D'): 329, np.str_('H S'): 330, np.str_('T Q'): 331, np.str_('M I'): 332, np.str_('E Y'): 333, np.str_('M E'): 334, np.str_('L W'): 335, np.str_('A H'): 336, np.str_('W R'): 337, np.str_('K M'): 338, np.str_('G W'): 339, np.str_('H P'): 340, np.str_('P H'): 341, np.str_('M T'): 342, np.str_('H A'): 343, np.str_('W G'): 344, np.str_('Q F'): 345, np.str_('H R'): 346, np.str_('F Q'): 347, np.str_('V H'): 348, np.str_('S M'): 349, np.str_('L M'): 350, np.str_('E M'): 351, np.str_('Y Y'): 352, np.str_('M N'): 353, np.str_('M D'): 354, np.str_('T H'): 355, np.str_('H E'): 356, np.str_('A M'): 357, np.str_('W S'): 358, np.str_('H H'): 359, np.str_('W A'): 360, np.str_('H T'): 361, np.str_('Y Q'): 362, np.str_('V W'): 363, np.str_('H D'): 364, np.str_('P W'): 365, np.str_('H F'): 366, np.str_('V M'): 367, np.str_('D H'): 368, np.str_('N M'): 369, np.str_('M F'): 370, np.str_('X'): 371, np.str_('Q Y'): 372, np.str_('W V'): 373, np.str_('W C'): 374, np.str_('N H'): 375, np.str_('C W'): 376, np.str_('Y F'): 377, np.str_('T W'): 378, np.str_('H N'): 379, np.str_('T M'): 380, np.str_('M C'): 381, np.str_('I M'): 382, np.str_('Q H'): 383, np.str_('F H'): 384, np.str_('A W'): 385, np.str_('C M'): 386, np.str_('W P'): 387, np.str_('M Q'): 388, np.str_('H Q'): 389, np.str_('S W'): 390, np.str_('N W'): 391, np.str_('Q M'): 392, np.str_('D M'): 393, np.str_('Y H'): 394, np.str_('W F'): 395, np.str_('D W'): 396, np.str_('W T'): 397, np.str_('P M'): 398, np.str_('W I'): 399, np.str_('I W'): 400, np.str_('W W'): 401, np.str_('F M'): 402, np.str_('H Y'): 403, np.str_('W N'): 404, np.str_('W E'): 405, np.str_('Q W'): 406, np.str_('M M'): 407, np.str_('F W'): 408, np.str_('E W'): 409, np.str_('Y M'): 410, np.str_('M Y'): 411, np.str_('W Q'): 412, np.str_('M H'): 413, np.str_('W D'): 414, np.str_('M W'): 415, np.str_('H M'): 416, np.str_('Y W'): 417, np.str_('H W'): 418, np.str_('W Y'): 419, np.str_('W H'): 420, np.str_('W M'): 421, np.str_('X A'): 422, np.str_('G X'): 423, np.str_('X X'): 424, np.str_('U'): 425, np.str_('S X'): 426, np.str_('O'): 427, np.str_('X T'): 428, np.str_('X N'): 429, np.str_('X K'): 430, np.str_('X G'): 431, np.str_('V X'): 432, np.str_('X V'): 433, np.str_('R X'): 434, np.str_('N X'): 435, np.str_('X S'): 436, np.str_('X P'): 437, np.str_('K X'): 438, np.str_('A X'): 439, np.str_('X R'): 440, np.str_('X Q'): 441, np.str_('U R'): 442, np.str_('T X'): 443, np.str_('I X'): 444, np.str_('H X'): 445, np.str_('Y U'): 446, np.str_('X L'): 447, np.str_('X I'): 448, np.str_('X F'): 449, np.str_('X E'): 450, np.str_('W X'): 451, np.str_('W O'): 452, np.str_('O W'): 453, np.str_('Y X'): 454, np.str_('X W'): 455, np.str_('U Y'): 456, np.str_('U V'): 457, np.str_('R U'): 458, np.str_('P X'): 459, np.str_('O P'): 460, np.str_('L U'): 461, np.str_('F X'): 462, np.str_('E X'): 463, np.str_('C X'): 464, np.str_('Z'): 465, np.str_('Y O'): 466, np.str_('X Y'): 467, np.str_('X H'): 468, np.str_('U L'): 469, np.str_('S O'): 470, np.str_('R O'): 471, np.str_('Q X'): 472, np.str_('O S'): 473, np.str_('O R'): 474, np.str_('O N'): 475, np.str_('O A'): 476, np.str_('L X'): 477, np.str_('K U'): 478, np.str_('K O'): 479, np.str_('I Z'): 480, np.str_('G U'): 481, np.str_('G B'): 482, np.str_('D X'): 483, np.str_('B S'): 484, np.str_('B'): 485} \n",
      "\n",
      "Longitud de los péptidos codificados/longitud vectores multi-hot: 486\n"
     ]
    }
   ],
   "source": [
    "vocab = vectorizer.get_vocabulary()\n",
    "char_indices = {char: idx for idx, char in enumerate(vocab)}\n",
    "print(\"Vocabulario de carácteres e índices asociados a cada uno: \\n \" , char_indices, \"\\n\")\n",
    "print(\"Longitud de los péptidos codificados/longitud vectores multi-hot:\", X_train_encoded.shape[1])"
   ]
  },
  {
   "cell_type": "code",
   "execution_count": 19,
   "metadata": {},
   "outputs": [],
   "source": [
    "# Obtención del 20% de los datos de entrenamiento para validación del modelo durante el proceso de entrenamiento\n",
    "X_train_f, X_val_f, y_train_f, y_val_f = train_test_split(np.array(X_train_encoded), y_train, test_size=0.2, random_state=2025, stratify=y_train)\n",
    "\n",
    "# Conversión de las etiquetas a arrays de numpy para su uso en la red neuronal\n",
    "y_train_f = np.array(y_train_f)\n",
    "y_val_f = np.array(y_val_f)\n",
    "y_test = np.array(y_test)"
   ]
  },
  {
   "cell_type": "code",
   "execution_count": 30,
   "metadata": {},
   "outputs": [],
   "source": [
    "# Definimos un earling stopping para detener el entrenamiento de los modelos cuando ya no mejoren la precisión de la validación\n",
    "early_stopping = keras.callbacks.EarlyStopping(\n",
    "    monitor='val_accuracy',  # Métrica a monitorear \n",
    "    patience=80,  # Número de epochs sin mejora antes de parar\n",
    "    min_delta=0.00001,  # Pequeña mejora mínima requerida\n",
    "    restore_best_weights=True,  # Restaura los mejores pesos en lugar de los últimos\n",
    "    verbose=1  # Muestra mensaje en la consola con la época que contiene los mejores pesos\n",
    ")"
   ]
  },
  {
   "cell_type": "code",
   "execution_count": 31,
   "metadata": {},
   "outputs": [
    {
     "data": {
      "text/html": [
       "<pre style=\"white-space:pre;overflow-x:auto;line-height:normal;font-family:Menlo,'DejaVu Sans Mono',consolas,'Courier New',monospace\"><span style=\"font-weight: bold\">Model: \"sequential_2\"</span>\n",
       "</pre>\n"
      ],
      "text/plain": [
       "\u001b[1mModel: \"sequential_2\"\u001b[0m\n"
      ]
     },
     "metadata": {},
     "output_type": "display_data"
    },
    {
     "data": {
      "text/html": [
       "<pre style=\"white-space:pre;overflow-x:auto;line-height:normal;font-family:Menlo,'DejaVu Sans Mono',consolas,'Courier New',monospace\">┏━━━━━━━━━━━━━━━━━━━━━━━━━━━━━━━━━┳━━━━━━━━━━━━━━━━━━━━━━━━┳━━━━━━━━━━━━━━━┓\n",
       "┃<span style=\"font-weight: bold\"> Layer (type)                    </span>┃<span style=\"font-weight: bold\"> Output Shape           </span>┃<span style=\"font-weight: bold\">       Param # </span>┃\n",
       "┡━━━━━━━━━━━━━━━━━━━━━━━━━━━━━━━━━╇━━━━━━━━━━━━━━━━━━━━━━━━╇━━━━━━━━━━━━━━━┩\n",
       "│ dense_10 (<span style=\"color: #0087ff; text-decoration-color: #0087ff\">Dense</span>)                │ (<span style=\"color: #00d7ff; text-decoration-color: #00d7ff\">None</span>, <span style=\"color: #00af00; text-decoration-color: #00af00\">512</span>)            │       <span style=\"color: #00af00; text-decoration-color: #00af00\">249,344</span> │\n",
       "├─────────────────────────────────┼────────────────────────┼───────────────┤\n",
       "│ batch_normalization             │ (<span style=\"color: #00d7ff; text-decoration-color: #00d7ff\">None</span>, <span style=\"color: #00af00; text-decoration-color: #00af00\">512</span>)            │         <span style=\"color: #00af00; text-decoration-color: #00af00\">2,048</span> │\n",
       "│ (<span style=\"color: #0087ff; text-decoration-color: #0087ff\">BatchNormalization</span>)            │                        │               │\n",
       "├─────────────────────────────────┼────────────────────────┼───────────────┤\n",
       "│ dense_11 (<span style=\"color: #0087ff; text-decoration-color: #0087ff\">Dense</span>)                │ (<span style=\"color: #00d7ff; text-decoration-color: #00d7ff\">None</span>, <span style=\"color: #00af00; text-decoration-color: #00af00\">256</span>)            │       <span style=\"color: #00af00; text-decoration-color: #00af00\">131,328</span> │\n",
       "├─────────────────────────────────┼────────────────────────┼───────────────┤\n",
       "│ batch_normalization_1           │ (<span style=\"color: #00d7ff; text-decoration-color: #00d7ff\">None</span>, <span style=\"color: #00af00; text-decoration-color: #00af00\">256</span>)            │         <span style=\"color: #00af00; text-decoration-color: #00af00\">1,024</span> │\n",
       "│ (<span style=\"color: #0087ff; text-decoration-color: #0087ff\">BatchNormalization</span>)            │                        │               │\n",
       "├─────────────────────────────────┼────────────────────────┼───────────────┤\n",
       "│ dense_12 (<span style=\"color: #0087ff; text-decoration-color: #0087ff\">Dense</span>)                │ (<span style=\"color: #00d7ff; text-decoration-color: #00d7ff\">None</span>, <span style=\"color: #00af00; text-decoration-color: #00af00\">128</span>)            │        <span style=\"color: #00af00; text-decoration-color: #00af00\">32,896</span> │\n",
       "├─────────────────────────────────┼────────────────────────┼───────────────┤\n",
       "│ batch_normalization_2           │ (<span style=\"color: #00d7ff; text-decoration-color: #00d7ff\">None</span>, <span style=\"color: #00af00; text-decoration-color: #00af00\">128</span>)            │           <span style=\"color: #00af00; text-decoration-color: #00af00\">512</span> │\n",
       "│ (<span style=\"color: #0087ff; text-decoration-color: #0087ff\">BatchNormalization</span>)            │                        │               │\n",
       "├─────────────────────────────────┼────────────────────────┼───────────────┤\n",
       "│ dense_13 (<span style=\"color: #0087ff; text-decoration-color: #0087ff\">Dense</span>)                │ (<span style=\"color: #00d7ff; text-decoration-color: #00d7ff\">None</span>, <span style=\"color: #00af00; text-decoration-color: #00af00\">64</span>)             │         <span style=\"color: #00af00; text-decoration-color: #00af00\">8,256</span> │\n",
       "├─────────────────────────────────┼────────────────────────┼───────────────┤\n",
       "│ dense_14 (<span style=\"color: #0087ff; text-decoration-color: #0087ff\">Dense</span>)                │ (<span style=\"color: #00d7ff; text-decoration-color: #00d7ff\">None</span>, <span style=\"color: #00af00; text-decoration-color: #00af00\">1</span>)              │            <span style=\"color: #00af00; text-decoration-color: #00af00\">65</span> │\n",
       "└─────────────────────────────────┴────────────────────────┴───────────────┘\n",
       "</pre>\n"
      ],
      "text/plain": [
       "┏━━━━━━━━━━━━━━━━━━━━━━━━━━━━━━━━━┳━━━━━━━━━━━━━━━━━━━━━━━━┳━━━━━━━━━━━━━━━┓\n",
       "┃\u001b[1m \u001b[0m\u001b[1mLayer (type)                   \u001b[0m\u001b[1m \u001b[0m┃\u001b[1m \u001b[0m\u001b[1mOutput Shape          \u001b[0m\u001b[1m \u001b[0m┃\u001b[1m \u001b[0m\u001b[1m      Param #\u001b[0m\u001b[1m \u001b[0m┃\n",
       "┡━━━━━━━━━━━━━━━━━━━━━━━━━━━━━━━━━╇━━━━━━━━━━━━━━━━━━━━━━━━╇━━━━━━━━━━━━━━━┩\n",
       "│ dense_10 (\u001b[38;5;33mDense\u001b[0m)                │ (\u001b[38;5;45mNone\u001b[0m, \u001b[38;5;34m512\u001b[0m)            │       \u001b[38;5;34m249,344\u001b[0m │\n",
       "├─────────────────────────────────┼────────────────────────┼───────────────┤\n",
       "│ batch_normalization             │ (\u001b[38;5;45mNone\u001b[0m, \u001b[38;5;34m512\u001b[0m)            │         \u001b[38;5;34m2,048\u001b[0m │\n",
       "│ (\u001b[38;5;33mBatchNormalization\u001b[0m)            │                        │               │\n",
       "├─────────────────────────────────┼────────────────────────┼───────────────┤\n",
       "│ dense_11 (\u001b[38;5;33mDense\u001b[0m)                │ (\u001b[38;5;45mNone\u001b[0m, \u001b[38;5;34m256\u001b[0m)            │       \u001b[38;5;34m131,328\u001b[0m │\n",
       "├─────────────────────────────────┼────────────────────────┼───────────────┤\n",
       "│ batch_normalization_1           │ (\u001b[38;5;45mNone\u001b[0m, \u001b[38;5;34m256\u001b[0m)            │         \u001b[38;5;34m1,024\u001b[0m │\n",
       "│ (\u001b[38;5;33mBatchNormalization\u001b[0m)            │                        │               │\n",
       "├─────────────────────────────────┼────────────────────────┼───────────────┤\n",
       "│ dense_12 (\u001b[38;5;33mDense\u001b[0m)                │ (\u001b[38;5;45mNone\u001b[0m, \u001b[38;5;34m128\u001b[0m)            │        \u001b[38;5;34m32,896\u001b[0m │\n",
       "├─────────────────────────────────┼────────────────────────┼───────────────┤\n",
       "│ batch_normalization_2           │ (\u001b[38;5;45mNone\u001b[0m, \u001b[38;5;34m128\u001b[0m)            │           \u001b[38;5;34m512\u001b[0m │\n",
       "│ (\u001b[38;5;33mBatchNormalization\u001b[0m)            │                        │               │\n",
       "├─────────────────────────────────┼────────────────────────┼───────────────┤\n",
       "│ dense_13 (\u001b[38;5;33mDense\u001b[0m)                │ (\u001b[38;5;45mNone\u001b[0m, \u001b[38;5;34m64\u001b[0m)             │         \u001b[38;5;34m8,256\u001b[0m │\n",
       "├─────────────────────────────────┼────────────────────────┼───────────────┤\n",
       "│ dense_14 (\u001b[38;5;33mDense\u001b[0m)                │ (\u001b[38;5;45mNone\u001b[0m, \u001b[38;5;34m1\u001b[0m)              │            \u001b[38;5;34m65\u001b[0m │\n",
       "└─────────────────────────────────┴────────────────────────┴───────────────┘\n"
      ]
     },
     "metadata": {},
     "output_type": "display_data"
    },
    {
     "data": {
      "text/html": [
       "<pre style=\"white-space:pre;overflow-x:auto;line-height:normal;font-family:Menlo,'DejaVu Sans Mono',consolas,'Courier New',monospace\"><span style=\"font-weight: bold\"> Total params: </span><span style=\"color: #00af00; text-decoration-color: #00af00\">425,473</span> (1.62 MB)\n",
       "</pre>\n"
      ],
      "text/plain": [
       "\u001b[1m Total params: \u001b[0m\u001b[38;5;34m425,473\u001b[0m (1.62 MB)\n"
      ]
     },
     "metadata": {},
     "output_type": "display_data"
    },
    {
     "data": {
      "text/html": [
       "<pre style=\"white-space:pre;overflow-x:auto;line-height:normal;font-family:Menlo,'DejaVu Sans Mono',consolas,'Courier New',monospace\"><span style=\"font-weight: bold\"> Trainable params: </span><span style=\"color: #00af00; text-decoration-color: #00af00\">423,681</span> (1.62 MB)\n",
       "</pre>\n"
      ],
      "text/plain": [
       "\u001b[1m Trainable params: \u001b[0m\u001b[38;5;34m423,681\u001b[0m (1.62 MB)\n"
      ]
     },
     "metadata": {},
     "output_type": "display_data"
    },
    {
     "data": {
      "text/html": [
       "<pre style=\"white-space:pre;overflow-x:auto;line-height:normal;font-family:Menlo,'DejaVu Sans Mono',consolas,'Courier New',monospace\"><span style=\"font-weight: bold\"> Non-trainable params: </span><span style=\"color: #00af00; text-decoration-color: #00af00\">1,792</span> (7.00 KB)\n",
       "</pre>\n"
      ],
      "text/plain": [
       "\u001b[1m Non-trainable params: \u001b[0m\u001b[38;5;34m1,792\u001b[0m (7.00 KB)\n"
      ]
     },
     "metadata": {},
     "output_type": "display_data"
    }
   ],
   "source": [
    "model_tfidf_bigram = Sequential([ \n",
    "    layers.Input(shape=(X_train_f.shape[1],)),\n",
    "    layers.Dense(512, activation='leaky_relu'),\n",
    "    layers.BatchNormalization(),\n",
    "    layers.Dense(256, activation='leaky_relu'),\n",
    "    layers.BatchNormalization(),\n",
    "    layers.Dense(128, activation='leaky_relu'),\n",
    "    layers.BatchNormalization(),\n",
    "    layers.Dense(64, activation='leaky_relu'),\n",
    "    layers.Dense(1, activation='sigmoid')])\n",
    "model_tfidf_bigram.summary()"
   ]
  },
  {
   "cell_type": "code",
   "execution_count": 32,
   "metadata": {},
   "outputs": [
    {
     "name": "stdout",
     "output_type": "stream",
     "text": [
      "Epoch 1/200\n",
      "\u001b[1m40/40\u001b[0m \u001b[32m━━━━━━━━━━━━━━━━━━━━\u001b[0m\u001b[37m\u001b[0m \u001b[1m3s\u001b[0m 15ms/step - accuracy: 0.4782 - loss: 0.8344 - val_accuracy: 0.5157 - val_loss: 0.7193\n",
      "Epoch 2/200\n",
      "\u001b[1m40/40\u001b[0m \u001b[32m━━━━━━━━━━━━━━━━━━━━\u001b[0m\u001b[37m\u001b[0m \u001b[1m0s\u001b[0m 9ms/step - accuracy: 0.5355 - loss: 0.7649 - val_accuracy: 0.5660 - val_loss: 0.6799\n",
      "Epoch 3/200\n",
      "\u001b[1m40/40\u001b[0m \u001b[32m━━━━━━━━━━━━━━━━━━━━\u001b[0m\u001b[37m\u001b[0m \u001b[1m0s\u001b[0m 9ms/step - accuracy: 0.5725 - loss: 0.6976 - val_accuracy: 0.5943 - val_loss: 0.6494\n",
      "Epoch 4/200\n",
      "\u001b[1m40/40\u001b[0m \u001b[32m━━━━━━━━━━━━━━━━━━━━\u001b[0m\u001b[37m\u001b[0m \u001b[1m0s\u001b[0m 9ms/step - accuracy: 0.6347 - loss: 0.6482 - val_accuracy: 0.6179 - val_loss: 0.6276\n",
      "Epoch 5/200\n",
      "\u001b[1m40/40\u001b[0m \u001b[32m━━━━━━━━━━━━━━━━━━━━\u001b[0m\u001b[37m\u001b[0m \u001b[1m0s\u001b[0m 9ms/step - accuracy: 0.6612 - loss: 0.6123 - val_accuracy: 0.6289 - val_loss: 0.6087\n",
      "Epoch 6/200\n",
      "\u001b[1m40/40\u001b[0m \u001b[32m━━━━━━━━━━━━━━━━━━━━\u001b[0m\u001b[37m\u001b[0m \u001b[1m0s\u001b[0m 9ms/step - accuracy: 0.6847 - loss: 0.5757 - val_accuracy: 0.6541 - val_loss: 0.5929\n",
      "Epoch 7/200\n",
      "\u001b[1m40/40\u001b[0m \u001b[32m━━━━━━━━━━━━━━━━━━━━\u001b[0m\u001b[37m\u001b[0m \u001b[1m0s\u001b[0m 9ms/step - accuracy: 0.7017 - loss: 0.5763 - val_accuracy: 0.6777 - val_loss: 0.5792\n",
      "Epoch 8/200\n",
      "\u001b[1m40/40\u001b[0m \u001b[32m━━━━━━━━━━━━━━━━━━━━\u001b[0m\u001b[37m\u001b[0m \u001b[1m0s\u001b[0m 9ms/step - accuracy: 0.7192 - loss: 0.5486 - val_accuracy: 0.6934 - val_loss: 0.5664\n",
      "Epoch 9/200\n",
      "\u001b[1m40/40\u001b[0m \u001b[32m━━━━━━━━━━━━━━━━━━━━\u001b[0m\u001b[37m\u001b[0m \u001b[1m0s\u001b[0m 9ms/step - accuracy: 0.7452 - loss: 0.5202 - val_accuracy: 0.7044 - val_loss: 0.5547\n",
      "Epoch 10/200\n",
      "\u001b[1m40/40\u001b[0m \u001b[32m━━━━━━━━━━━━━━━━━━━━\u001b[0m\u001b[37m\u001b[0m \u001b[1m0s\u001b[0m 9ms/step - accuracy: 0.7734 - loss: 0.4860 - val_accuracy: 0.7091 - val_loss: 0.5447\n",
      "Epoch 11/200\n",
      "\u001b[1m40/40\u001b[0m \u001b[32m━━━━━━━━━━━━━━━━━━━━\u001b[0m\u001b[37m\u001b[0m \u001b[1m0s\u001b[0m 9ms/step - accuracy: 0.7651 - loss: 0.4839 - val_accuracy: 0.7217 - val_loss: 0.5349\n",
      "Epoch 12/200\n",
      "\u001b[1m40/40\u001b[0m \u001b[32m━━━━━━━━━━━━━━━━━━━━\u001b[0m\u001b[37m\u001b[0m \u001b[1m0s\u001b[0m 9ms/step - accuracy: 0.7829 - loss: 0.4587 - val_accuracy: 0.7311 - val_loss: 0.5263\n",
      "Epoch 13/200\n",
      "\u001b[1m40/40\u001b[0m \u001b[32m━━━━━━━━━━━━━━━━━━━━\u001b[0m\u001b[37m\u001b[0m \u001b[1m0s\u001b[0m 9ms/step - accuracy: 0.7968 - loss: 0.4632 - val_accuracy: 0.7469 - val_loss: 0.5184\n",
      "Epoch 14/200\n",
      "\u001b[1m40/40\u001b[0m \u001b[32m━━━━━━━━━━━━━━━━━━━━\u001b[0m\u001b[37m\u001b[0m \u001b[1m0s\u001b[0m 9ms/step - accuracy: 0.8034 - loss: 0.4395 - val_accuracy: 0.7563 - val_loss: 0.5115\n",
      "Epoch 15/200\n",
      "\u001b[1m40/40\u001b[0m \u001b[32m━━━━━━━━━━━━━━━━━━━━\u001b[0m\u001b[37m\u001b[0m \u001b[1m0s\u001b[0m 9ms/step - accuracy: 0.7992 - loss: 0.4434 - val_accuracy: 0.7626 - val_loss: 0.5053\n",
      "Epoch 16/200\n",
      "\u001b[1m40/40\u001b[0m \u001b[32m━━━━━━━━━━━━━━━━━━━━\u001b[0m\u001b[37m\u001b[0m \u001b[1m0s\u001b[0m 9ms/step - accuracy: 0.8203 - loss: 0.4224 - val_accuracy: 0.7673 - val_loss: 0.4996\n",
      "Epoch 17/200\n",
      "\u001b[1m40/40\u001b[0m \u001b[32m━━━━━━━━━━━━━━━━━━━━\u001b[0m\u001b[37m\u001b[0m \u001b[1m0s\u001b[0m 9ms/step - accuracy: 0.8086 - loss: 0.4240 - val_accuracy: 0.7704 - val_loss: 0.4942\n",
      "Epoch 18/200\n",
      "\u001b[1m40/40\u001b[0m \u001b[32m━━━━━━━━━━━━━━━━━━━━\u001b[0m\u001b[37m\u001b[0m \u001b[1m1s\u001b[0m 12ms/step - accuracy: 0.8207 - loss: 0.4084 - val_accuracy: 0.7704 - val_loss: 0.4883\n",
      "Epoch 19/200\n",
      "\u001b[1m40/40\u001b[0m \u001b[32m━━━━━━━━━━━━━━━━━━━━\u001b[0m\u001b[37m\u001b[0m \u001b[1m0s\u001b[0m 9ms/step - accuracy: 0.8286 - loss: 0.3949 - val_accuracy: 0.7736 - val_loss: 0.4840\n",
      "Epoch 20/200\n",
      "\u001b[1m40/40\u001b[0m \u001b[32m━━━━━━━━━━━━━━━━━━━━\u001b[0m\u001b[37m\u001b[0m \u001b[1m0s\u001b[0m 10ms/step - accuracy: 0.8435 - loss: 0.3887 - val_accuracy: 0.7689 - val_loss: 0.4796\n",
      "Epoch 21/200\n",
      "\u001b[1m40/40\u001b[0m \u001b[32m━━━━━━━━━━━━━━━━━━━━\u001b[0m\u001b[37m\u001b[0m \u001b[1m0s\u001b[0m 9ms/step - accuracy: 0.8448 - loss: 0.3803 - val_accuracy: 0.7736 - val_loss: 0.4756\n",
      "Epoch 22/200\n",
      "\u001b[1m40/40\u001b[0m \u001b[32m━━━━━━━━━━━━━━━━━━━━\u001b[0m\u001b[37m\u001b[0m \u001b[1m0s\u001b[0m 10ms/step - accuracy: 0.8466 - loss: 0.3681 - val_accuracy: 0.7736 - val_loss: 0.4718\n",
      "Epoch 23/200\n",
      "\u001b[1m40/40\u001b[0m \u001b[32m━━━━━━━━━━━━━━━━━━━━\u001b[0m\u001b[37m\u001b[0m \u001b[1m0s\u001b[0m 9ms/step - accuracy: 0.8427 - loss: 0.3679 - val_accuracy: 0.7752 - val_loss: 0.4683\n",
      "Epoch 24/200\n",
      "\u001b[1m40/40\u001b[0m \u001b[32m━━━━━━━━━━━━━━━━━━━━\u001b[0m\u001b[37m\u001b[0m \u001b[1m0s\u001b[0m 9ms/step - accuracy: 0.8525 - loss: 0.3534 - val_accuracy: 0.7736 - val_loss: 0.4652\n",
      "Epoch 25/200\n",
      "\u001b[1m40/40\u001b[0m \u001b[32m━━━━━━━━━━━━━━━━━━━━\u001b[0m\u001b[37m\u001b[0m \u001b[1m1s\u001b[0m 12ms/step - accuracy: 0.8712 - loss: 0.3364 - val_accuracy: 0.7736 - val_loss: 0.4620\n",
      "Epoch 26/200\n",
      "\u001b[1m40/40\u001b[0m \u001b[32m━━━━━━━━━━━━━━━━━━━━\u001b[0m\u001b[37m\u001b[0m \u001b[1m0s\u001b[0m 9ms/step - accuracy: 0.8594 - loss: 0.3425 - val_accuracy: 0.7752 - val_loss: 0.4594\n",
      "Epoch 27/200\n",
      "\u001b[1m40/40\u001b[0m \u001b[32m━━━━━━━━━━━━━━━━━━━━\u001b[0m\u001b[37m\u001b[0m \u001b[1m0s\u001b[0m 9ms/step - accuracy: 0.8629 - loss: 0.3378 - val_accuracy: 0.7752 - val_loss: 0.4565\n",
      "Epoch 28/200\n",
      "\u001b[1m40/40\u001b[0m \u001b[32m━━━━━━━━━━━━━━━━━━━━\u001b[0m\u001b[37m\u001b[0m \u001b[1m0s\u001b[0m 10ms/step - accuracy: 0.8741 - loss: 0.3261 - val_accuracy: 0.7783 - val_loss: 0.4535\n",
      "Epoch 29/200\n",
      "\u001b[1m40/40\u001b[0m \u001b[32m━━━━━━━━━━━━━━━━━━━━\u001b[0m\u001b[37m\u001b[0m \u001b[1m0s\u001b[0m 9ms/step - accuracy: 0.8805 - loss: 0.3220 - val_accuracy: 0.7799 - val_loss: 0.4512\n",
      "Epoch 30/200\n",
      "\u001b[1m40/40\u001b[0m \u001b[32m━━━━━━━━━━━━━━━━━━━━\u001b[0m\u001b[37m\u001b[0m \u001b[1m0s\u001b[0m 10ms/step - accuracy: 0.8739 - loss: 0.3163 - val_accuracy: 0.7814 - val_loss: 0.4489\n",
      "Epoch 31/200\n",
      "\u001b[1m40/40\u001b[0m \u001b[32m━━━━━━━━━━━━━━━━━━━━\u001b[0m\u001b[37m\u001b[0m \u001b[1m0s\u001b[0m 9ms/step - accuracy: 0.8751 - loss: 0.3106 - val_accuracy: 0.7814 - val_loss: 0.4470\n",
      "Epoch 32/200\n",
      "\u001b[1m40/40\u001b[0m \u001b[32m━━━━━━━━━━━━━━━━━━━━\u001b[0m\u001b[37m\u001b[0m \u001b[1m1s\u001b[0m 9ms/step - accuracy: 0.8868 - loss: 0.3097 - val_accuracy: 0.7846 - val_loss: 0.4450\n",
      "Epoch 33/200\n",
      "\u001b[1m40/40\u001b[0m \u001b[32m━━━━━━━━━━━━━━━━━━━━\u001b[0m\u001b[37m\u001b[0m \u001b[1m0s\u001b[0m 9ms/step - accuracy: 0.8851 - loss: 0.3013 - val_accuracy: 0.7862 - val_loss: 0.4433\n",
      "Epoch 34/200\n",
      "\u001b[1m40/40\u001b[0m \u001b[32m━━━━━━━━━━━━━━━━━━━━\u001b[0m\u001b[37m\u001b[0m \u001b[1m0s\u001b[0m 11ms/step - accuracy: 0.9007 - loss: 0.2917 - val_accuracy: 0.7862 - val_loss: 0.4416\n",
      "Epoch 35/200\n",
      "\u001b[1m40/40\u001b[0m \u001b[32m━━━━━━━━━━━━━━━━━━━━\u001b[0m\u001b[37m\u001b[0m \u001b[1m0s\u001b[0m 10ms/step - accuracy: 0.8834 - loss: 0.3000 - val_accuracy: 0.7862 - val_loss: 0.4405\n",
      "Epoch 36/200\n",
      "\u001b[1m40/40\u001b[0m \u001b[32m━━━━━━━━━━━━━━━━━━━━\u001b[0m\u001b[37m\u001b[0m \u001b[1m0s\u001b[0m 9ms/step - accuracy: 0.8903 - loss: 0.2870 - val_accuracy: 0.7877 - val_loss: 0.4392\n",
      "Epoch 37/200\n",
      "\u001b[1m40/40\u001b[0m \u001b[32m━━━━━━━━━━━━━━━━━━━━\u001b[0m\u001b[37m\u001b[0m \u001b[1m0s\u001b[0m 9ms/step - accuracy: 0.8986 - loss: 0.2809 - val_accuracy: 0.7877 - val_loss: 0.4377\n",
      "Epoch 38/200\n",
      "\u001b[1m40/40\u001b[0m \u001b[32m━━━━━━━━━━━━━━━━━━━━\u001b[0m\u001b[37m\u001b[0m \u001b[1m0s\u001b[0m 9ms/step - accuracy: 0.8998 - loss: 0.2777 - val_accuracy: 0.7909 - val_loss: 0.4366\n",
      "Epoch 39/200\n",
      "\u001b[1m40/40\u001b[0m \u001b[32m━━━━━━━━━━━━━━━━━━━━\u001b[0m\u001b[37m\u001b[0m \u001b[1m0s\u001b[0m 9ms/step - accuracy: 0.9073 - loss: 0.2678 - val_accuracy: 0.7893 - val_loss: 0.4351\n",
      "Epoch 40/200\n",
      "\u001b[1m40/40\u001b[0m \u001b[32m━━━━━━━━━━━━━━━━━━━━\u001b[0m\u001b[37m\u001b[0m \u001b[1m0s\u001b[0m 10ms/step - accuracy: 0.9044 - loss: 0.2712 - val_accuracy: 0.7909 - val_loss: 0.4342\n",
      "Epoch 41/200\n",
      "\u001b[1m40/40\u001b[0m \u001b[32m━━━━━━━━━━━━━━━━━━━━\u001b[0m\u001b[37m\u001b[0m \u001b[1m0s\u001b[0m 10ms/step - accuracy: 0.9020 - loss: 0.2647 - val_accuracy: 0.7909 - val_loss: 0.4330\n",
      "Epoch 42/200\n",
      "\u001b[1m40/40\u001b[0m \u001b[32m━━━━━━━━━━━━━━━━━━━━\u001b[0m\u001b[37m\u001b[0m \u001b[1m0s\u001b[0m 11ms/step - accuracy: 0.9068 - loss: 0.2612 - val_accuracy: 0.7925 - val_loss: 0.4318\n",
      "Epoch 43/200\n",
      "\u001b[1m40/40\u001b[0m \u001b[32m━━━━━━━━━━━━━━━━━━━━\u001b[0m\u001b[37m\u001b[0m \u001b[1m0s\u001b[0m 11ms/step - accuracy: 0.9136 - loss: 0.2455 - val_accuracy: 0.7940 - val_loss: 0.4315\n",
      "Epoch 44/200\n",
      "\u001b[1m40/40\u001b[0m \u001b[32m━━━━━━━━━━━━━━━━━━━━\u001b[0m\u001b[37m\u001b[0m \u001b[1m0s\u001b[0m 10ms/step - accuracy: 0.9085 - loss: 0.2509 - val_accuracy: 0.7956 - val_loss: 0.4305\n",
      "Epoch 45/200\n",
      "\u001b[1m40/40\u001b[0m \u001b[32m━━━━━━━━━━━━━━━━━━━━\u001b[0m\u001b[37m\u001b[0m \u001b[1m0s\u001b[0m 10ms/step - accuracy: 0.9114 - loss: 0.2479 - val_accuracy: 0.7940 - val_loss: 0.4299\n",
      "Epoch 46/200\n",
      "\u001b[1m40/40\u001b[0m \u001b[32m━━━━━━━━━━━━━━━━━━━━\u001b[0m\u001b[37m\u001b[0m \u001b[1m0s\u001b[0m 10ms/step - accuracy: 0.9130 - loss: 0.2466 - val_accuracy: 0.7940 - val_loss: 0.4296\n",
      "Epoch 47/200\n",
      "\u001b[1m40/40\u001b[0m \u001b[32m━━━━━━━━━━━━━━━━━━━━\u001b[0m\u001b[37m\u001b[0m \u001b[1m0s\u001b[0m 11ms/step - accuracy: 0.9181 - loss: 0.2374 - val_accuracy: 0.7925 - val_loss: 0.4289\n",
      "Epoch 48/200\n",
      "\u001b[1m40/40\u001b[0m \u001b[32m━━━━━━━━━━━━━━━━━━━━\u001b[0m\u001b[37m\u001b[0m \u001b[1m0s\u001b[0m 9ms/step - accuracy: 0.9215 - loss: 0.2231 - val_accuracy: 0.7925 - val_loss: 0.4287\n",
      "Epoch 49/200\n",
      "\u001b[1m40/40\u001b[0m \u001b[32m━━━━━━━━━━━━━━━━━━━━\u001b[0m\u001b[37m\u001b[0m \u001b[1m0s\u001b[0m 10ms/step - accuracy: 0.9192 - loss: 0.2286 - val_accuracy: 0.7956 - val_loss: 0.4286\n",
      "Epoch 50/200\n",
      "\u001b[1m40/40\u001b[0m \u001b[32m━━━━━━━━━━━━━━━━━━━━\u001b[0m\u001b[37m\u001b[0m \u001b[1m0s\u001b[0m 10ms/step - accuracy: 0.9202 - loss: 0.2279 - val_accuracy: 0.7956 - val_loss: 0.4286\n",
      "Epoch 51/200\n",
      "\u001b[1m40/40\u001b[0m \u001b[32m━━━━━━━━━━━━━━━━━━━━\u001b[0m\u001b[37m\u001b[0m \u001b[1m0s\u001b[0m 10ms/step - accuracy: 0.9191 - loss: 0.2253 - val_accuracy: 0.7940 - val_loss: 0.4285\n",
      "Epoch 52/200\n",
      "\u001b[1m40/40\u001b[0m \u001b[32m━━━━━━━━━━━━━━━━━━━━\u001b[0m\u001b[37m\u001b[0m \u001b[1m0s\u001b[0m 10ms/step - accuracy: 0.9278 - loss: 0.2158 - val_accuracy: 0.7972 - val_loss: 0.4288\n",
      "Epoch 53/200\n",
      "\u001b[1m40/40\u001b[0m \u001b[32m━━━━━━━━━━━━━━━━━━━━\u001b[0m\u001b[37m\u001b[0m \u001b[1m0s\u001b[0m 9ms/step - accuracy: 0.9283 - loss: 0.2139 - val_accuracy: 0.7972 - val_loss: 0.4287\n",
      "Epoch 54/200\n",
      "\u001b[1m40/40\u001b[0m \u001b[32m━━━━━━━━━━━━━━━━━━━━\u001b[0m\u001b[37m\u001b[0m \u001b[1m0s\u001b[0m 10ms/step - accuracy: 0.9318 - loss: 0.2110 - val_accuracy: 0.7972 - val_loss: 0.4285\n",
      "Epoch 55/200\n",
      "\u001b[1m40/40\u001b[0m \u001b[32m━━━━━━━━━━━━━━━━━━━━\u001b[0m\u001b[37m\u001b[0m \u001b[1m0s\u001b[0m 10ms/step - accuracy: 0.9405 - loss: 0.2025 - val_accuracy: 0.8019 - val_loss: 0.4290\n",
      "Epoch 56/200\n",
      "\u001b[1m40/40\u001b[0m \u001b[32m━━━━━━━━━━━━━━━━━━━━\u001b[0m\u001b[37m\u001b[0m \u001b[1m0s\u001b[0m 10ms/step - accuracy: 0.9410 - loss: 0.1945 - val_accuracy: 0.8019 - val_loss: 0.4286\n",
      "Epoch 57/200\n",
      "\u001b[1m40/40\u001b[0m \u001b[32m━━━━━━━━━━━━━━━━━━━━\u001b[0m\u001b[37m\u001b[0m \u001b[1m0s\u001b[0m 10ms/step - accuracy: 0.9367 - loss: 0.1966 - val_accuracy: 0.8035 - val_loss: 0.4286\n",
      "Epoch 58/200\n",
      "\u001b[1m40/40\u001b[0m \u001b[32m━━━━━━━━━━━━━━━━━━━━\u001b[0m\u001b[37m\u001b[0m \u001b[1m0s\u001b[0m 10ms/step - accuracy: 0.9390 - loss: 0.1980 - val_accuracy: 0.8019 - val_loss: 0.4287\n",
      "Epoch 59/200\n",
      "\u001b[1m40/40\u001b[0m \u001b[32m━━━━━━━━━━━━━━━━━━━━\u001b[0m\u001b[37m\u001b[0m \u001b[1m0s\u001b[0m 10ms/step - accuracy: 0.9399 - loss: 0.1945 - val_accuracy: 0.8035 - val_loss: 0.4294\n",
      "Epoch 60/200\n",
      "\u001b[1m40/40\u001b[0m \u001b[32m━━━━━━━━━━━━━━━━━━━━\u001b[0m\u001b[37m\u001b[0m \u001b[1m0s\u001b[0m 9ms/step - accuracy: 0.9418 - loss: 0.1918 - val_accuracy: 0.8066 - val_loss: 0.4298\n",
      "Epoch 61/200\n",
      "\u001b[1m40/40\u001b[0m \u001b[32m━━━━━━━━━━━━━━━━━━━━\u001b[0m\u001b[37m\u001b[0m \u001b[1m0s\u001b[0m 11ms/step - accuracy: 0.9441 - loss: 0.1848 - val_accuracy: 0.8050 - val_loss: 0.4310\n",
      "Epoch 62/200\n",
      "\u001b[1m40/40\u001b[0m \u001b[32m━━━━━━━━━━━━━━━━━━━━\u001b[0m\u001b[37m\u001b[0m \u001b[1m0s\u001b[0m 9ms/step - accuracy: 0.9524 - loss: 0.1779 - val_accuracy: 0.8082 - val_loss: 0.4314\n",
      "Epoch 63/200\n",
      "\u001b[1m40/40\u001b[0m \u001b[32m━━━━━━━━━━━━━━━━━━━━\u001b[0m\u001b[37m\u001b[0m \u001b[1m0s\u001b[0m 9ms/step - accuracy: 0.9337 - loss: 0.1870 - val_accuracy: 0.8050 - val_loss: 0.4309\n",
      "Epoch 64/200\n",
      "\u001b[1m40/40\u001b[0m \u001b[32m━━━━━━━━━━━━━━━━━━━━\u001b[0m\u001b[37m\u001b[0m \u001b[1m0s\u001b[0m 9ms/step - accuracy: 0.9471 - loss: 0.1800 - val_accuracy: 0.8066 - val_loss: 0.4314\n",
      "Epoch 65/200\n",
      "\u001b[1m40/40\u001b[0m \u001b[32m━━━━━━━━━━━━━━━━━━━━\u001b[0m\u001b[37m\u001b[0m \u001b[1m0s\u001b[0m 9ms/step - accuracy: 0.9372 - loss: 0.1852 - val_accuracy: 0.8082 - val_loss: 0.4310\n",
      "Epoch 66/200\n",
      "\u001b[1m40/40\u001b[0m \u001b[32m━━━━━━━━━━━━━━━━━━━━\u001b[0m\u001b[37m\u001b[0m \u001b[1m0s\u001b[0m 9ms/step - accuracy: 0.9545 - loss: 0.1691 - val_accuracy: 0.8050 - val_loss: 0.4325\n",
      "Epoch 67/200\n",
      "\u001b[1m40/40\u001b[0m \u001b[32m━━━━━━━━━━━━━━━━━━━━\u001b[0m\u001b[37m\u001b[0m \u001b[1m0s\u001b[0m 9ms/step - accuracy: 0.9456 - loss: 0.1775 - val_accuracy: 0.8066 - val_loss: 0.4334\n",
      "Epoch 68/200\n",
      "\u001b[1m40/40\u001b[0m \u001b[32m━━━━━━━━━━━━━━━━━━━━\u001b[0m\u001b[37m\u001b[0m \u001b[1m0s\u001b[0m 10ms/step - accuracy: 0.9483 - loss: 0.1680 - val_accuracy: 0.8082 - val_loss: 0.4329\n",
      "Epoch 69/200\n",
      "\u001b[1m40/40\u001b[0m \u001b[32m━━━━━━━━━━━━━━━━━━━━\u001b[0m\u001b[37m\u001b[0m \u001b[1m0s\u001b[0m 10ms/step - accuracy: 0.9581 - loss: 0.1577 - val_accuracy: 0.8097 - val_loss: 0.4340\n",
      "Epoch 70/200\n",
      "\u001b[1m40/40\u001b[0m \u001b[32m━━━━━━━━━━━━━━━━━━━━\u001b[0m\u001b[37m\u001b[0m \u001b[1m1s\u001b[0m 10ms/step - accuracy: 0.9464 - loss: 0.1645 - val_accuracy: 0.8082 - val_loss: 0.4341\n",
      "Epoch 71/200\n",
      "\u001b[1m40/40\u001b[0m \u001b[32m━━━━━━━━━━━━━━━━━━━━\u001b[0m\u001b[37m\u001b[0m \u001b[1m0s\u001b[0m 9ms/step - accuracy: 0.9526 - loss: 0.1605 - val_accuracy: 0.8097 - val_loss: 0.4346\n",
      "Epoch 72/200\n",
      "\u001b[1m40/40\u001b[0m \u001b[32m━━━━━━━━━━━━━━━━━━━━\u001b[0m\u001b[37m\u001b[0m \u001b[1m0s\u001b[0m 9ms/step - accuracy: 0.9530 - loss: 0.1569 - val_accuracy: 0.8066 - val_loss: 0.4352\n",
      "Epoch 73/200\n",
      "\u001b[1m40/40\u001b[0m \u001b[32m━━━━━━━━━━━━━━━━━━━━\u001b[0m\u001b[37m\u001b[0m \u001b[1m0s\u001b[0m 9ms/step - accuracy: 0.9615 - loss: 0.1450 - val_accuracy: 0.8097 - val_loss: 0.4353\n",
      "Epoch 74/200\n",
      "\u001b[1m40/40\u001b[0m \u001b[32m━━━━━━━━━━━━━━━━━━━━\u001b[0m\u001b[37m\u001b[0m \u001b[1m0s\u001b[0m 9ms/step - accuracy: 0.9652 - loss: 0.1467 - val_accuracy: 0.8097 - val_loss: 0.4364\n",
      "Epoch 75/200\n",
      "\u001b[1m40/40\u001b[0m \u001b[32m━━━━━━━━━━━━━━━━━━━━\u001b[0m\u001b[37m\u001b[0m \u001b[1m0s\u001b[0m 10ms/step - accuracy: 0.9547 - loss: 0.1464 - val_accuracy: 0.8066 - val_loss: 0.4382\n",
      "Epoch 76/200\n",
      "\u001b[1m40/40\u001b[0m \u001b[32m━━━━━━━━━━━━━━━━━━━━\u001b[0m\u001b[37m\u001b[0m \u001b[1m0s\u001b[0m 11ms/step - accuracy: 0.9611 - loss: 0.1425 - val_accuracy: 0.8050 - val_loss: 0.4390\n",
      "Epoch 77/200\n",
      "\u001b[1m40/40\u001b[0m \u001b[32m━━━━━━━━━━━━━━━━━━━━\u001b[0m\u001b[37m\u001b[0m \u001b[1m0s\u001b[0m 9ms/step - accuracy: 0.9637 - loss: 0.1414 - val_accuracy: 0.8019 - val_loss: 0.4395\n",
      "Epoch 78/200\n",
      "\u001b[1m40/40\u001b[0m \u001b[32m━━━━━━━━━━━━━━━━━━━━\u001b[0m\u001b[37m\u001b[0m \u001b[1m0s\u001b[0m 9ms/step - accuracy: 0.9572 - loss: 0.1426 - val_accuracy: 0.8050 - val_loss: 0.4403\n",
      "Epoch 79/200\n",
      "\u001b[1m40/40\u001b[0m \u001b[32m━━━━━━━━━━━━━━━━━━━━\u001b[0m\u001b[37m\u001b[0m \u001b[1m0s\u001b[0m 10ms/step - accuracy: 0.9628 - loss: 0.1365 - val_accuracy: 0.8066 - val_loss: 0.4411\n",
      "Epoch 80/200\n",
      "\u001b[1m40/40\u001b[0m \u001b[32m━━━━━━━━━━━━━━━━━━━━\u001b[0m\u001b[37m\u001b[0m \u001b[1m0s\u001b[0m 10ms/step - accuracy: 0.9635 - loss: 0.1375 - val_accuracy: 0.8035 - val_loss: 0.4411\n",
      "Epoch 81/200\n",
      "\u001b[1m40/40\u001b[0m \u001b[32m━━━━━━━━━━━━━━━━━━━━\u001b[0m\u001b[37m\u001b[0m \u001b[1m0s\u001b[0m 10ms/step - accuracy: 0.9641 - loss: 0.1323 - val_accuracy: 0.8035 - val_loss: 0.4421\n",
      "Epoch 82/200\n",
      "\u001b[1m40/40\u001b[0m \u001b[32m━━━━━━━━━━━━━━━━━━━━\u001b[0m\u001b[37m\u001b[0m \u001b[1m0s\u001b[0m 10ms/step - accuracy: 0.9653 - loss: 0.1313 - val_accuracy: 0.8050 - val_loss: 0.4427\n",
      "Epoch 83/200\n",
      "\u001b[1m40/40\u001b[0m \u001b[32m━━━━━━━━━━━━━━━━━━━━\u001b[0m\u001b[37m\u001b[0m \u001b[1m0s\u001b[0m 9ms/step - accuracy: 0.9687 - loss: 0.1262 - val_accuracy: 0.8035 - val_loss: 0.4451\n",
      "Epoch 84/200\n",
      "\u001b[1m40/40\u001b[0m \u001b[32m━━━━━━━━━━━━━━━━━━━━\u001b[0m\u001b[37m\u001b[0m \u001b[1m1s\u001b[0m 12ms/step - accuracy: 0.9686 - loss: 0.1240 - val_accuracy: 0.8066 - val_loss: 0.4460\n",
      "Epoch 85/200\n",
      "\u001b[1m40/40\u001b[0m \u001b[32m━━━━━━━━━━━━━━━━━━━━\u001b[0m\u001b[37m\u001b[0m \u001b[1m0s\u001b[0m 9ms/step - accuracy: 0.9656 - loss: 0.1340 - val_accuracy: 0.8050 - val_loss: 0.4487\n",
      "Epoch 86/200\n",
      "\u001b[1m40/40\u001b[0m \u001b[32m━━━━━━━━━━━━━━━━━━━━\u001b[0m\u001b[37m\u001b[0m \u001b[1m0s\u001b[0m 9ms/step - accuracy: 0.9720 - loss: 0.1187 - val_accuracy: 0.8050 - val_loss: 0.4502\n",
      "Epoch 87/200\n",
      "\u001b[1m40/40\u001b[0m \u001b[32m━━━━━━━━━━━━━━━━━━━━\u001b[0m\u001b[37m\u001b[0m \u001b[1m0s\u001b[0m 9ms/step - accuracy: 0.9716 - loss: 0.1179 - val_accuracy: 0.8035 - val_loss: 0.4517\n",
      "Epoch 88/200\n",
      "\u001b[1m40/40\u001b[0m \u001b[32m━━━━━━━━━━━━━━━━━━━━\u001b[0m\u001b[37m\u001b[0m \u001b[1m0s\u001b[0m 9ms/step - accuracy: 0.9741 - loss: 0.1103 - val_accuracy: 0.8050 - val_loss: 0.4534\n",
      "Epoch 89/200\n",
      "\u001b[1m40/40\u001b[0m \u001b[32m━━━━━━━━━━━━━━━━━━━━\u001b[0m\u001b[37m\u001b[0m \u001b[1m0s\u001b[0m 9ms/step - accuracy: 0.9691 - loss: 0.1130 - val_accuracy: 0.8050 - val_loss: 0.4547\n",
      "Epoch 90/200\n",
      "\u001b[1m40/40\u001b[0m \u001b[32m━━━━━━━━━━━━━━━━━━━━\u001b[0m\u001b[37m\u001b[0m \u001b[1m0s\u001b[0m 9ms/step - accuracy: 0.9770 - loss: 0.1101 - val_accuracy: 0.8066 - val_loss: 0.4552\n",
      "Epoch 91/200\n",
      "\u001b[1m40/40\u001b[0m \u001b[32m━━━━━━━━━━━━━━━━━━━━\u001b[0m\u001b[37m\u001b[0m \u001b[1m0s\u001b[0m 11ms/step - accuracy: 0.9736 - loss: 0.1054 - val_accuracy: 0.8066 - val_loss: 0.4579\n",
      "Epoch 92/200\n",
      "\u001b[1m40/40\u001b[0m \u001b[32m━━━━━━━━━━━━━━━━━━━━\u001b[0m\u001b[37m\u001b[0m \u001b[1m0s\u001b[0m 10ms/step - accuracy: 0.9740 - loss: 0.1077 - val_accuracy: 0.8066 - val_loss: 0.4585\n",
      "Epoch 93/200\n",
      "\u001b[1m40/40\u001b[0m \u001b[32m━━━━━━━━━━━━━━━━━━━━\u001b[0m\u001b[37m\u001b[0m \u001b[1m0s\u001b[0m 9ms/step - accuracy: 0.9707 - loss: 0.1090 - val_accuracy: 0.8066 - val_loss: 0.4603\n",
      "Epoch 94/200\n",
      "\u001b[1m40/40\u001b[0m \u001b[32m━━━━━━━━━━━━━━━━━━━━\u001b[0m\u001b[37m\u001b[0m \u001b[1m0s\u001b[0m 9ms/step - accuracy: 0.9698 - loss: 0.1109 - val_accuracy: 0.8113 - val_loss: 0.4624\n",
      "Epoch 95/200\n",
      "\u001b[1m40/40\u001b[0m \u001b[32m━━━━━━━━━━━━━━━━━━━━\u001b[0m\u001b[37m\u001b[0m \u001b[1m0s\u001b[0m 9ms/step - accuracy: 0.9702 - loss: 0.1136 - val_accuracy: 0.8066 - val_loss: 0.4630\n",
      "Epoch 96/200\n",
      "\u001b[1m40/40\u001b[0m \u001b[32m━━━━━━━━━━━━━━━━━━━━\u001b[0m\u001b[37m\u001b[0m \u001b[1m1s\u001b[0m 12ms/step - accuracy: 0.9729 - loss: 0.1103 - val_accuracy: 0.8050 - val_loss: 0.4640\n",
      "Epoch 97/200\n",
      "\u001b[1m40/40\u001b[0m \u001b[32m━━━━━━━━━━━━━━━━━━━━\u001b[0m\u001b[37m\u001b[0m \u001b[1m0s\u001b[0m 9ms/step - accuracy: 0.9774 - loss: 0.1043 - val_accuracy: 0.8050 - val_loss: 0.4657\n",
      "Epoch 98/200\n",
      "\u001b[1m40/40\u001b[0m \u001b[32m━━━━━━━━━━━━━━━━━━━━\u001b[0m\u001b[37m\u001b[0m \u001b[1m0s\u001b[0m 9ms/step - accuracy: 0.9837 - loss: 0.0922 - val_accuracy: 0.8019 - val_loss: 0.4679\n",
      "Epoch 99/200\n",
      "\u001b[1m40/40\u001b[0m \u001b[32m━━━━━━━━━━━━━━━━━━━━\u001b[0m\u001b[37m\u001b[0m \u001b[1m0s\u001b[0m 9ms/step - accuracy: 0.9777 - loss: 0.1041 - val_accuracy: 0.8050 - val_loss: 0.4691\n",
      "Epoch 100/200\n",
      "\u001b[1m40/40\u001b[0m \u001b[32m━━━━━━━━━━━━━━━━━━━━\u001b[0m\u001b[37m\u001b[0m \u001b[1m0s\u001b[0m 9ms/step - accuracy: 0.9860 - loss: 0.0877 - val_accuracy: 0.8035 - val_loss: 0.4714\n",
      "Epoch 101/200\n",
      "\u001b[1m40/40\u001b[0m \u001b[32m━━━━━━━━━━━━━━━━━━━━\u001b[0m\u001b[37m\u001b[0m \u001b[1m0s\u001b[0m 9ms/step - accuracy: 0.9799 - loss: 0.0927 - val_accuracy: 0.8050 - val_loss: 0.4712\n",
      "Epoch 102/200\n",
      "\u001b[1m40/40\u001b[0m \u001b[32m━━━━━━━━━━━━━━━━━━━━\u001b[0m\u001b[37m\u001b[0m \u001b[1m0s\u001b[0m 9ms/step - accuracy: 0.9804 - loss: 0.0935 - val_accuracy: 0.8019 - val_loss: 0.4718\n",
      "Epoch 103/200\n",
      "\u001b[1m40/40\u001b[0m \u001b[32m━━━━━━━━━━━━━━━━━━━━\u001b[0m\u001b[37m\u001b[0m \u001b[1m0s\u001b[0m 9ms/step - accuracy: 0.9807 - loss: 0.0928 - val_accuracy: 0.8050 - val_loss: 0.4732\n",
      "Epoch 104/200\n",
      "\u001b[1m40/40\u001b[0m \u001b[32m━━━━━━━━━━━━━━━━━━━━\u001b[0m\u001b[37m\u001b[0m \u001b[1m0s\u001b[0m 9ms/step - accuracy: 0.9812 - loss: 0.0898 - val_accuracy: 0.8035 - val_loss: 0.4744\n",
      "Epoch 105/200\n",
      "\u001b[1m40/40\u001b[0m \u001b[32m━━━━━━━━━━━━━━━━━━━━\u001b[0m\u001b[37m\u001b[0m \u001b[1m0s\u001b[0m 9ms/step - accuracy: 0.9815 - loss: 0.0852 - val_accuracy: 0.8035 - val_loss: 0.4765\n",
      "Epoch 106/200\n",
      "\u001b[1m40/40\u001b[0m \u001b[32m━━━━━━━━━━━━━━━━━━━━\u001b[0m\u001b[37m\u001b[0m \u001b[1m0s\u001b[0m 9ms/step - accuracy: 0.9801 - loss: 0.0815 - val_accuracy: 0.8035 - val_loss: 0.4767\n",
      "Epoch 107/200\n",
      "\u001b[1m40/40\u001b[0m \u001b[32m━━━━━━━━━━━━━━━━━━━━\u001b[0m\u001b[37m\u001b[0m \u001b[1m0s\u001b[0m 9ms/step - accuracy: 0.9837 - loss: 0.0807 - val_accuracy: 0.8066 - val_loss: 0.4794\n",
      "Epoch 108/200\n",
      "\u001b[1m40/40\u001b[0m \u001b[32m━━━━━━━━━━━━━━━━━━━━\u001b[0m\u001b[37m\u001b[0m \u001b[1m0s\u001b[0m 9ms/step - accuracy: 0.9787 - loss: 0.0826 - val_accuracy: 0.8066 - val_loss: 0.4807\n",
      "Epoch 109/200\n",
      "\u001b[1m40/40\u001b[0m \u001b[32m━━━━━━━━━━━━━━━━━━━━\u001b[0m\u001b[37m\u001b[0m \u001b[1m0s\u001b[0m 11ms/step - accuracy: 0.9844 - loss: 0.0767 - val_accuracy: 0.8050 - val_loss: 0.4820\n",
      "Epoch 110/200\n",
      "\u001b[1m40/40\u001b[0m \u001b[32m━━━━━━━━━━━━━━━━━━━━\u001b[0m\u001b[37m\u001b[0m \u001b[1m0s\u001b[0m 9ms/step - accuracy: 0.9851 - loss: 0.0747 - val_accuracy: 0.8082 - val_loss: 0.4850\n",
      "Epoch 111/200\n",
      "\u001b[1m40/40\u001b[0m \u001b[32m━━━━━━━━━━━━━━━━━━━━\u001b[0m\u001b[37m\u001b[0m \u001b[1m0s\u001b[0m 9ms/step - accuracy: 0.9884 - loss: 0.0745 - val_accuracy: 0.8066 - val_loss: 0.4864\n",
      "Epoch 112/200\n",
      "\u001b[1m40/40\u001b[0m \u001b[32m━━━━━━━━━━━━━━━━━━━━\u001b[0m\u001b[37m\u001b[0m \u001b[1m0s\u001b[0m 9ms/step - accuracy: 0.9870 - loss: 0.0686 - val_accuracy: 0.8097 - val_loss: 0.4870\n",
      "Epoch 113/200\n",
      "\u001b[1m40/40\u001b[0m \u001b[32m━━━━━━━━━━━━━━━━━━━━\u001b[0m\u001b[37m\u001b[0m \u001b[1m0s\u001b[0m 11ms/step - accuracy: 0.9842 - loss: 0.0725 - val_accuracy: 0.8113 - val_loss: 0.4886\n",
      "Epoch 114/200\n",
      "\u001b[1m40/40\u001b[0m \u001b[32m━━━━━━━━━━━━━━━━━━━━\u001b[0m\u001b[37m\u001b[0m \u001b[1m0s\u001b[0m 9ms/step - accuracy: 0.9805 - loss: 0.0769 - val_accuracy: 0.8082 - val_loss: 0.4914\n",
      "Epoch 115/200\n",
      "\u001b[1m40/40\u001b[0m \u001b[32m━━━━━━━━━━━━━━━━━━━━\u001b[0m\u001b[37m\u001b[0m \u001b[1m0s\u001b[0m 10ms/step - accuracy: 0.9855 - loss: 0.0721 - val_accuracy: 0.8097 - val_loss: 0.4943\n",
      "Epoch 116/200\n",
      "\u001b[1m40/40\u001b[0m \u001b[32m━━━━━━━━━━━━━━━━━━━━\u001b[0m\u001b[37m\u001b[0m \u001b[1m0s\u001b[0m 9ms/step - accuracy: 0.9752 - loss: 0.0812 - val_accuracy: 0.8129 - val_loss: 0.4946\n",
      "Epoch 117/200\n",
      "\u001b[1m40/40\u001b[0m \u001b[32m━━━━━━━━━━━━━━━━━━━━\u001b[0m\u001b[37m\u001b[0m \u001b[1m0s\u001b[0m 11ms/step - accuracy: 0.9825 - loss: 0.0733 - val_accuracy: 0.8097 - val_loss: 0.4967\n",
      "Epoch 118/200\n",
      "\u001b[1m40/40\u001b[0m \u001b[32m━━━━━━━━━━━━━━━━━━━━\u001b[0m\u001b[37m\u001b[0m \u001b[1m0s\u001b[0m 9ms/step - accuracy: 0.9867 - loss: 0.0668 - val_accuracy: 0.8113 - val_loss: 0.4985\n",
      "Epoch 119/200\n",
      "\u001b[1m40/40\u001b[0m \u001b[32m━━━━━━━━━━━━━━━━━━━━\u001b[0m\u001b[37m\u001b[0m \u001b[1m0s\u001b[0m 9ms/step - accuracy: 0.9854 - loss: 0.0650 - val_accuracy: 0.8082 - val_loss: 0.5009\n",
      "Epoch 120/200\n",
      "\u001b[1m40/40\u001b[0m \u001b[32m━━━━━━━━━━━━━━━━━━━━\u001b[0m\u001b[37m\u001b[0m \u001b[1m0s\u001b[0m 9ms/step - accuracy: 0.9850 - loss: 0.0661 - val_accuracy: 0.8066 - val_loss: 0.5035\n",
      "Epoch 121/200\n",
      "\u001b[1m40/40\u001b[0m \u001b[32m━━━━━━━━━━━━━━━━━━━━\u001b[0m\u001b[37m\u001b[0m \u001b[1m0s\u001b[0m 9ms/step - accuracy: 0.9867 - loss: 0.0618 - val_accuracy: 0.8082 - val_loss: 0.5026\n",
      "Epoch 122/200\n",
      "\u001b[1m40/40\u001b[0m \u001b[32m━━━━━━━━━━━━━━━━━━━━\u001b[0m\u001b[37m\u001b[0m \u001b[1m0s\u001b[0m 9ms/step - accuracy: 0.9839 - loss: 0.0642 - val_accuracy: 0.8035 - val_loss: 0.5071\n",
      "Epoch 123/200\n",
      "\u001b[1m40/40\u001b[0m \u001b[32m━━━━━━━━━━━━━━━━━━━━\u001b[0m\u001b[37m\u001b[0m \u001b[1m0s\u001b[0m 10ms/step - accuracy: 0.9884 - loss: 0.0603 - val_accuracy: 0.8035 - val_loss: 0.5071\n",
      "Epoch 124/200\n",
      "\u001b[1m40/40\u001b[0m \u001b[32m━━━━━━━━━━━━━━━━━━━━\u001b[0m\u001b[37m\u001b[0m \u001b[1m0s\u001b[0m 9ms/step - accuracy: 0.9887 - loss: 0.0658 - val_accuracy: 0.8003 - val_loss: 0.5082\n",
      "Epoch 125/200\n",
      "\u001b[1m40/40\u001b[0m \u001b[32m━━━━━━━━━━━━━━━━━━━━\u001b[0m\u001b[37m\u001b[0m \u001b[1m0s\u001b[0m 8ms/step - accuracy: 0.9905 - loss: 0.0571 - val_accuracy: 0.8019 - val_loss: 0.5112\n",
      "Epoch 126/200\n",
      "\u001b[1m40/40\u001b[0m \u001b[32m━━━━━━━━━━━━━━━━━━━━\u001b[0m\u001b[37m\u001b[0m \u001b[1m0s\u001b[0m 9ms/step - accuracy: 0.9828 - loss: 0.0638 - val_accuracy: 0.8050 - val_loss: 0.5126\n",
      "Epoch 127/200\n",
      "\u001b[1m40/40\u001b[0m \u001b[32m━━━━━━━━━━━━━━━━━━━━\u001b[0m\u001b[37m\u001b[0m \u001b[1m0s\u001b[0m 9ms/step - accuracy: 0.9866 - loss: 0.0591 - val_accuracy: 0.8050 - val_loss: 0.5139\n",
      "Epoch 128/200\n",
      "\u001b[1m40/40\u001b[0m \u001b[32m━━━━━━━━━━━━━━━━━━━━\u001b[0m\u001b[37m\u001b[0m \u001b[1m0s\u001b[0m 9ms/step - accuracy: 0.9888 - loss: 0.0553 - val_accuracy: 0.8082 - val_loss: 0.5146\n",
      "Epoch 129/200\n",
      "\u001b[1m40/40\u001b[0m \u001b[32m━━━━━━━━━━━━━━━━━━━━\u001b[0m\u001b[37m\u001b[0m \u001b[1m0s\u001b[0m 10ms/step - accuracy: 0.9837 - loss: 0.0602 - val_accuracy: 0.8097 - val_loss: 0.5150\n",
      "Epoch 130/200\n",
      "\u001b[1m40/40\u001b[0m \u001b[32m━━━━━━━━━━━━━━━━━━━━\u001b[0m\u001b[37m\u001b[0m \u001b[1m0s\u001b[0m 9ms/step - accuracy: 0.9883 - loss: 0.0531 - val_accuracy: 0.8066 - val_loss: 0.5174\n",
      "Epoch 131/200\n",
      "\u001b[1m40/40\u001b[0m \u001b[32m━━━━━━━━━━━━━━━━━━━━\u001b[0m\u001b[37m\u001b[0m \u001b[1m0s\u001b[0m 10ms/step - accuracy: 0.9908 - loss: 0.0517 - val_accuracy: 0.8050 - val_loss: 0.5194\n",
      "Epoch 132/200\n",
      "\u001b[1m40/40\u001b[0m \u001b[32m━━━━━━━━━━━━━━━━━━━━\u001b[0m\u001b[37m\u001b[0m \u001b[1m0s\u001b[0m 9ms/step - accuracy: 0.9886 - loss: 0.0563 - val_accuracy: 0.8003 - val_loss: 0.5230\n",
      "Epoch 133/200\n",
      "\u001b[1m40/40\u001b[0m \u001b[32m━━━━━━━━━━━━━━━━━━━━\u001b[0m\u001b[37m\u001b[0m \u001b[1m0s\u001b[0m 9ms/step - accuracy: 0.9920 - loss: 0.0487 - val_accuracy: 0.8050 - val_loss: 0.5244\n",
      "Epoch 134/200\n",
      "\u001b[1m40/40\u001b[0m \u001b[32m━━━━━━━━━━━━━━━━━━━━\u001b[0m\u001b[37m\u001b[0m \u001b[1m0s\u001b[0m 9ms/step - accuracy: 0.9928 - loss: 0.0472 - val_accuracy: 0.8050 - val_loss: 0.5269\n",
      "Epoch 135/200\n",
      "\u001b[1m40/40\u001b[0m \u001b[32m━━━━━━━━━━━━━━━━━━━━\u001b[0m\u001b[37m\u001b[0m \u001b[1m0s\u001b[0m 9ms/step - accuracy: 0.9920 - loss: 0.0473 - val_accuracy: 0.8050 - val_loss: 0.5290\n",
      "Epoch 136/200\n",
      "\u001b[1m40/40\u001b[0m \u001b[32m━━━━━━━━━━━━━━━━━━━━\u001b[0m\u001b[37m\u001b[0m \u001b[1m0s\u001b[0m 9ms/step - accuracy: 0.9852 - loss: 0.0542 - val_accuracy: 0.8035 - val_loss: 0.5312\n",
      "Epoch 137/200\n",
      "\u001b[1m40/40\u001b[0m \u001b[32m━━━━━━━━━━━━━━━━━━━━\u001b[0m\u001b[37m\u001b[0m \u001b[1m0s\u001b[0m 9ms/step - accuracy: 0.9922 - loss: 0.0513 - val_accuracy: 0.8003 - val_loss: 0.5317\n",
      "Epoch 138/200\n",
      "\u001b[1m40/40\u001b[0m \u001b[32m━━━━━━━━━━━━━━━━━━━━\u001b[0m\u001b[37m\u001b[0m \u001b[1m0s\u001b[0m 9ms/step - accuracy: 0.9912 - loss: 0.0445 - val_accuracy: 0.7956 - val_loss: 0.5307\n",
      "Epoch 139/200\n",
      "\u001b[1m40/40\u001b[0m \u001b[32m━━━━━━━━━━━━━━━━━━━━\u001b[0m\u001b[37m\u001b[0m \u001b[1m0s\u001b[0m 9ms/step - accuracy: 0.9852 - loss: 0.0499 - val_accuracy: 0.8003 - val_loss: 0.5344\n",
      "Epoch 140/200\n",
      "\u001b[1m40/40\u001b[0m \u001b[32m━━━━━━━━━━━━━━━━━━━━\u001b[0m\u001b[37m\u001b[0m \u001b[1m0s\u001b[0m 9ms/step - accuracy: 0.9874 - loss: 0.0536 - val_accuracy: 0.8035 - val_loss: 0.5353\n",
      "Epoch 141/200\n",
      "\u001b[1m40/40\u001b[0m \u001b[32m━━━━━━━━━━━━━━━━━━━━\u001b[0m\u001b[37m\u001b[0m \u001b[1m0s\u001b[0m 9ms/step - accuracy: 0.9878 - loss: 0.0463 - val_accuracy: 0.8003 - val_loss: 0.5402\n",
      "Epoch 142/200\n",
      "\u001b[1m40/40\u001b[0m \u001b[32m━━━━━━━━━━━━━━━━━━━━\u001b[0m\u001b[37m\u001b[0m \u001b[1m0s\u001b[0m 9ms/step - accuracy: 0.9879 - loss: 0.0451 - val_accuracy: 0.8019 - val_loss: 0.5402\n",
      "Epoch 143/200\n",
      "\u001b[1m40/40\u001b[0m \u001b[32m━━━━━━━━━━━━━━━━━━━━\u001b[0m\u001b[37m\u001b[0m \u001b[1m0s\u001b[0m 9ms/step - accuracy: 0.9887 - loss: 0.0444 - val_accuracy: 0.8019 - val_loss: 0.5433\n",
      "Epoch 144/200\n",
      "\u001b[1m40/40\u001b[0m \u001b[32m━━━━━━━━━━━━━━━━━━━━\u001b[0m\u001b[37m\u001b[0m \u001b[1m0s\u001b[0m 9ms/step - accuracy: 0.9886 - loss: 0.0440 - val_accuracy: 0.8035 - val_loss: 0.5463\n",
      "Epoch 145/200\n",
      "\u001b[1m40/40\u001b[0m \u001b[32m━━━━━━━━━━━━━━━━━━━━\u001b[0m\u001b[37m\u001b[0m \u001b[1m0s\u001b[0m 10ms/step - accuracy: 0.9907 - loss: 0.0454 - val_accuracy: 0.8050 - val_loss: 0.5470\n",
      "Epoch 146/200\n",
      "\u001b[1m40/40\u001b[0m \u001b[32m━━━━━━━━━━━━━━━━━━━━\u001b[0m\u001b[37m\u001b[0m \u001b[1m1s\u001b[0m 12ms/step - accuracy: 0.9904 - loss: 0.0447 - val_accuracy: 0.8035 - val_loss: 0.5486\n",
      "Epoch 147/200\n",
      "\u001b[1m40/40\u001b[0m \u001b[32m━━━━━━━━━━━━━━━━━━━━\u001b[0m\u001b[37m\u001b[0m \u001b[1m0s\u001b[0m 9ms/step - accuracy: 0.9884 - loss: 0.0432 - val_accuracy: 0.8035 - val_loss: 0.5498\n",
      "Epoch 148/200\n",
      "\u001b[1m40/40\u001b[0m \u001b[32m━━━━━━━━━━━━━━━━━━━━\u001b[0m\u001b[37m\u001b[0m \u001b[1m0s\u001b[0m 9ms/step - accuracy: 0.9929 - loss: 0.0398 - val_accuracy: 0.8050 - val_loss: 0.5511\n",
      "Epoch 149/200\n",
      "\u001b[1m40/40\u001b[0m \u001b[32m━━━━━━━━━━━━━━━━━━━━\u001b[0m\u001b[37m\u001b[0m \u001b[1m0s\u001b[0m 9ms/step - accuracy: 0.9895 - loss: 0.0487 - val_accuracy: 0.8066 - val_loss: 0.5531\n",
      "Epoch 150/200\n",
      "\u001b[1m40/40\u001b[0m \u001b[32m━━━━━━━━━━━━━━━━━━━━\u001b[0m\u001b[37m\u001b[0m \u001b[1m0s\u001b[0m 10ms/step - accuracy: 0.9899 - loss: 0.0410 - val_accuracy: 0.8066 - val_loss: 0.5544\n",
      "Epoch 151/200\n",
      "\u001b[1m40/40\u001b[0m \u001b[32m━━━━━━━━━━━━━━━━━━━━\u001b[0m\u001b[37m\u001b[0m \u001b[1m0s\u001b[0m 9ms/step - accuracy: 0.9866 - loss: 0.0434 - val_accuracy: 0.8050 - val_loss: 0.5563\n",
      "Epoch 152/200\n",
      "\u001b[1m40/40\u001b[0m \u001b[32m━━━━━━━━━━━━━━━━━━━━\u001b[0m\u001b[37m\u001b[0m \u001b[1m0s\u001b[0m 10ms/step - accuracy: 0.9914 - loss: 0.0378 - val_accuracy: 0.8019 - val_loss: 0.5586\n",
      "Epoch 153/200\n",
      "\u001b[1m40/40\u001b[0m \u001b[32m━━━━━━━━━━━━━━━━━━━━\u001b[0m\u001b[37m\u001b[0m \u001b[1m0s\u001b[0m 10ms/step - accuracy: 0.9884 - loss: 0.0411 - val_accuracy: 0.8035 - val_loss: 0.5595\n",
      "Epoch 154/200\n",
      "\u001b[1m40/40\u001b[0m \u001b[32m━━━━━━━━━━━━━━━━━━━━\u001b[0m\u001b[37m\u001b[0m \u001b[1m0s\u001b[0m 8ms/step - accuracy: 0.9876 - loss: 0.0424 - val_accuracy: 0.8019 - val_loss: 0.5603\n",
      "Epoch 155/200\n",
      "\u001b[1m40/40\u001b[0m \u001b[32m━━━━━━━━━━━━━━━━━━━━\u001b[0m\u001b[37m\u001b[0m \u001b[1m0s\u001b[0m 9ms/step - accuracy: 0.9886 - loss: 0.0430 - val_accuracy: 0.8019 - val_loss: 0.5616\n",
      "Epoch 156/200\n",
      "\u001b[1m40/40\u001b[0m \u001b[32m━━━━━━━━━━━━━━━━━━━━\u001b[0m\u001b[37m\u001b[0m \u001b[1m0s\u001b[0m 9ms/step - accuracy: 0.9932 - loss: 0.0370 - val_accuracy: 0.8035 - val_loss: 0.5637\n",
      "Epoch 157/200\n",
      "\u001b[1m40/40\u001b[0m \u001b[32m━━━━━━━━━━━━━━━━━━━━\u001b[0m\u001b[37m\u001b[0m \u001b[1m0s\u001b[0m 9ms/step - accuracy: 0.9871 - loss: 0.0389 - val_accuracy: 0.7940 - val_loss: 0.5654\n",
      "Epoch 158/200\n",
      "\u001b[1m40/40\u001b[0m \u001b[32m━━━━━━━━━━━━━━━━━━━━\u001b[0m\u001b[37m\u001b[0m \u001b[1m0s\u001b[0m 9ms/step - accuracy: 0.9946 - loss: 0.0341 - val_accuracy: 0.7940 - val_loss: 0.5677\n",
      "Epoch 159/200\n",
      "\u001b[1m40/40\u001b[0m \u001b[32m━━━━━━━━━━━━━━━━━━━━\u001b[0m\u001b[37m\u001b[0m \u001b[1m0s\u001b[0m 9ms/step - accuracy: 0.9835 - loss: 0.0485 - val_accuracy: 0.7972 - val_loss: 0.5667\n",
      "Epoch 160/200\n",
      "\u001b[1m40/40\u001b[0m \u001b[32m━━━━━━━━━━━━━━━━━━━━\u001b[0m\u001b[37m\u001b[0m \u001b[1m0s\u001b[0m 9ms/step - accuracy: 0.9917 - loss: 0.0355 - val_accuracy: 0.7940 - val_loss: 0.5693\n",
      "Epoch 161/200\n",
      "\u001b[1m40/40\u001b[0m \u001b[32m━━━━━━━━━━━━━━━━━━━━\u001b[0m\u001b[37m\u001b[0m \u001b[1m0s\u001b[0m 9ms/step - accuracy: 0.9887 - loss: 0.0348 - val_accuracy: 0.7956 - val_loss: 0.5738\n",
      "Epoch 162/200\n",
      "\u001b[1m40/40\u001b[0m \u001b[32m━━━━━━━━━━━━━━━━━━━━\u001b[0m\u001b[37m\u001b[0m \u001b[1m0s\u001b[0m 9ms/step - accuracy: 0.9923 - loss: 0.0335 - val_accuracy: 0.7925 - val_loss: 0.5771\n",
      "Epoch 163/200\n",
      "\u001b[1m40/40\u001b[0m \u001b[32m━━━━━━━━━━━━━━━━━━━━\u001b[0m\u001b[37m\u001b[0m \u001b[1m0s\u001b[0m 9ms/step - accuracy: 0.9915 - loss: 0.0321 - val_accuracy: 0.7956 - val_loss: 0.5772\n",
      "Epoch 164/200\n",
      "\u001b[1m40/40\u001b[0m \u001b[32m━━━━━━━━━━━━━━━━━━━━\u001b[0m\u001b[37m\u001b[0m \u001b[1m0s\u001b[0m 9ms/step - accuracy: 0.9891 - loss: 0.0337 - val_accuracy: 0.7925 - val_loss: 0.5791\n",
      "Epoch 165/200\n",
      "\u001b[1m40/40\u001b[0m \u001b[32m━━━━━━━━━━━━━━━━━━━━\u001b[0m\u001b[37m\u001b[0m \u001b[1m0s\u001b[0m 9ms/step - accuracy: 0.9874 - loss: 0.0381 - val_accuracy: 0.7956 - val_loss: 0.5804\n",
      "Epoch 166/200\n",
      "\u001b[1m40/40\u001b[0m \u001b[32m━━━━━━━━━━━━━━━━━━━━\u001b[0m\u001b[37m\u001b[0m \u001b[1m0s\u001b[0m 10ms/step - accuracy: 0.9915 - loss: 0.0333 - val_accuracy: 0.7925 - val_loss: 0.5811\n",
      "Epoch 167/200\n",
      "\u001b[1m40/40\u001b[0m \u001b[32m━━━━━━━━━━━━━━━━━━━━\u001b[0m\u001b[37m\u001b[0m \u001b[1m0s\u001b[0m 9ms/step - accuracy: 0.9939 - loss: 0.0299 - val_accuracy: 0.7972 - val_loss: 0.5828\n",
      "Epoch 168/200\n",
      "\u001b[1m40/40\u001b[0m \u001b[32m━━━━━━━━━━━━━━━━━━━━\u001b[0m\u001b[37m\u001b[0m \u001b[1m0s\u001b[0m 9ms/step - accuracy: 0.9869 - loss: 0.0377 - val_accuracy: 0.7972 - val_loss: 0.5846\n",
      "Epoch 169/200\n",
      "\u001b[1m40/40\u001b[0m \u001b[32m━━━━━━━━━━━━━━━━━━━━\u001b[0m\u001b[37m\u001b[0m \u001b[1m0s\u001b[0m 9ms/step - accuracy: 0.9904 - loss: 0.0346 - val_accuracy: 0.7956 - val_loss: 0.5847\n",
      "Epoch 170/200\n",
      "\u001b[1m40/40\u001b[0m \u001b[32m━━━━━━━━━━━━━━━━━━━━\u001b[0m\u001b[37m\u001b[0m \u001b[1m0s\u001b[0m 9ms/step - accuracy: 0.9904 - loss: 0.0352 - val_accuracy: 0.7956 - val_loss: 0.5864\n",
      "Epoch 171/200\n",
      "\u001b[1m40/40\u001b[0m \u001b[32m━━━━━━━━━━━━━━━━━━━━\u001b[0m\u001b[37m\u001b[0m \u001b[1m1s\u001b[0m 12ms/step - accuracy: 0.9922 - loss: 0.0328 - val_accuracy: 0.7972 - val_loss: 0.5902\n",
      "Epoch 172/200\n",
      "\u001b[1m40/40\u001b[0m \u001b[32m━━━━━━━━━━━━━━━━━━━━\u001b[0m\u001b[37m\u001b[0m \u001b[1m0s\u001b[0m 9ms/step - accuracy: 0.9891 - loss: 0.0329 - val_accuracy: 0.8003 - val_loss: 0.5927\n",
      "Epoch 173/200\n",
      "\u001b[1m40/40\u001b[0m \u001b[32m━━━━━━━━━━━━━━━━━━━━\u001b[0m\u001b[37m\u001b[0m \u001b[1m0s\u001b[0m 9ms/step - accuracy: 0.9878 - loss: 0.0349 - val_accuracy: 0.7987 - val_loss: 0.5929\n",
      "Epoch 174/200\n",
      "\u001b[1m40/40\u001b[0m \u001b[32m━━━━━━━━━━━━━━━━━━━━\u001b[0m\u001b[37m\u001b[0m \u001b[1m0s\u001b[0m 9ms/step - accuracy: 0.9932 - loss: 0.0318 - val_accuracy: 0.7940 - val_loss: 0.5939\n",
      "Epoch 175/200\n",
      "\u001b[1m40/40\u001b[0m \u001b[32m━━━━━━━━━━━━━━━━━━━━\u001b[0m\u001b[37m\u001b[0m \u001b[1m0s\u001b[0m 9ms/step - accuracy: 0.9906 - loss: 0.0318 - val_accuracy: 0.7925 - val_loss: 0.5974\n",
      "Epoch 176/200\n",
      "\u001b[1m40/40\u001b[0m \u001b[32m━━━━━━━━━━━━━━━━━━━━\u001b[0m\u001b[37m\u001b[0m \u001b[1m0s\u001b[0m 9ms/step - accuracy: 0.9889 - loss: 0.0331 - val_accuracy: 0.7925 - val_loss: 0.5998\n",
      "Epoch 177/200\n",
      "\u001b[1m40/40\u001b[0m \u001b[32m━━━━━━━━━━━━━━━━━━━━\u001b[0m\u001b[37m\u001b[0m \u001b[1m0s\u001b[0m 9ms/step - accuracy: 0.9912 - loss: 0.0292 - val_accuracy: 0.7925 - val_loss: 0.6030\n",
      "Epoch 178/200\n",
      "\u001b[1m40/40\u001b[0m \u001b[32m━━━━━━━━━━━━━━━━━━━━\u001b[0m\u001b[37m\u001b[0m \u001b[1m0s\u001b[0m 9ms/step - accuracy: 0.9932 - loss: 0.0273 - val_accuracy: 0.7940 - val_loss: 0.6030\n",
      "Epoch 179/200\n",
      "\u001b[1m40/40\u001b[0m \u001b[32m━━━━━━━━━━━━━━━━━━━━\u001b[0m\u001b[37m\u001b[0m \u001b[1m0s\u001b[0m 10ms/step - accuracy: 0.9888 - loss: 0.0329 - val_accuracy: 0.7956 - val_loss: 0.6037\n",
      "Epoch 180/200\n",
      "\u001b[1m40/40\u001b[0m \u001b[32m━━━━━━━━━━━━━━━━━━━━\u001b[0m\u001b[37m\u001b[0m \u001b[1m0s\u001b[0m 11ms/step - accuracy: 0.9915 - loss: 0.0314 - val_accuracy: 0.7893 - val_loss: 0.6036\n",
      "Epoch 181/200\n",
      "\u001b[1m40/40\u001b[0m \u001b[32m━━━━━━━━━━━━━━━━━━━━\u001b[0m\u001b[37m\u001b[0m \u001b[1m0s\u001b[0m 9ms/step - accuracy: 0.9888 - loss: 0.0350 - val_accuracy: 0.7909 - val_loss: 0.6061\n",
      "Epoch 182/200\n",
      "\u001b[1m40/40\u001b[0m \u001b[32m━━━━━━━━━━━━━━━━━━━━\u001b[0m\u001b[37m\u001b[0m \u001b[1m0s\u001b[0m 10ms/step - accuracy: 0.9946 - loss: 0.0287 - val_accuracy: 0.7925 - val_loss: 0.6060\n",
      "Epoch 183/200\n",
      "\u001b[1m40/40\u001b[0m \u001b[32m━━━━━━━━━━━━━━━━━━━━\u001b[0m\u001b[37m\u001b[0m \u001b[1m0s\u001b[0m 9ms/step - accuracy: 0.9942 - loss: 0.0240 - val_accuracy: 0.7940 - val_loss: 0.6095\n",
      "Epoch 184/200\n",
      "\u001b[1m40/40\u001b[0m \u001b[32m━━━━━━━━━━━━━━━━━━━━\u001b[0m\u001b[37m\u001b[0m \u001b[1m0s\u001b[0m 9ms/step - accuracy: 0.9877 - loss: 0.0347 - val_accuracy: 0.7925 - val_loss: 0.6117\n",
      "Epoch 185/200\n",
      "\u001b[1m40/40\u001b[0m \u001b[32m━━━━━━━━━━━━━━━━━━━━\u001b[0m\u001b[37m\u001b[0m \u001b[1m0s\u001b[0m 9ms/step - accuracy: 0.9901 - loss: 0.0283 - val_accuracy: 0.7893 - val_loss: 0.6143\n",
      "Epoch 186/200\n",
      "\u001b[1m40/40\u001b[0m \u001b[32m━━━━━━━━━━━━━━━━━━━━\u001b[0m\u001b[37m\u001b[0m \u001b[1m0s\u001b[0m 10ms/step - accuracy: 0.9901 - loss: 0.0264 - val_accuracy: 0.7940 - val_loss: 0.6145\n",
      "Epoch 187/200\n",
      "\u001b[1m40/40\u001b[0m \u001b[32m━━━━━━━━━━━━━━━━━━━━\u001b[0m\u001b[37m\u001b[0m \u001b[1m1s\u001b[0m 12ms/step - accuracy: 0.9913 - loss: 0.0274 - val_accuracy: 0.7925 - val_loss: 0.6165\n",
      "Epoch 188/200\n",
      "\u001b[1m40/40\u001b[0m \u001b[32m━━━━━━━━━━━━━━━━━━━━\u001b[0m\u001b[37m\u001b[0m \u001b[1m0s\u001b[0m 9ms/step - accuracy: 0.9915 - loss: 0.0265 - val_accuracy: 0.7909 - val_loss: 0.6172\n",
      "Epoch 189/200\n",
      "\u001b[1m40/40\u001b[0m \u001b[32m━━━━━━━━━━━━━━━━━━━━\u001b[0m\u001b[37m\u001b[0m \u001b[1m0s\u001b[0m 10ms/step - accuracy: 0.9907 - loss: 0.0308 - val_accuracy: 0.7909 - val_loss: 0.6189\n",
      "Epoch 190/200\n",
      "\u001b[1m40/40\u001b[0m \u001b[32m━━━━━━━━━━━━━━━━━━━━\u001b[0m\u001b[37m\u001b[0m \u001b[1m0s\u001b[0m 10ms/step - accuracy: 0.9909 - loss: 0.0292 - val_accuracy: 0.7940 - val_loss: 0.6209\n",
      "Epoch 191/200\n",
      "\u001b[1m40/40\u001b[0m \u001b[32m━━━━━━━━━━━━━━━━━━━━\u001b[0m\u001b[37m\u001b[0m \u001b[1m0s\u001b[0m 8ms/step - accuracy: 0.9913 - loss: 0.0276 - val_accuracy: 0.7925 - val_loss: 0.6194\n",
      "Epoch 192/200\n",
      "\u001b[1m40/40\u001b[0m \u001b[32m━━━━━━━━━━━━━━━━━━━━\u001b[0m\u001b[37m\u001b[0m \u001b[1m0s\u001b[0m 9ms/step - accuracy: 0.9946 - loss: 0.0243 - val_accuracy: 0.7893 - val_loss: 0.6207\n",
      "Epoch 193/200\n",
      "\u001b[1m40/40\u001b[0m \u001b[32m━━━━━━━━━━━━━━━━━━━━\u001b[0m\u001b[37m\u001b[0m \u001b[1m0s\u001b[0m 9ms/step - accuracy: 0.9923 - loss: 0.0258 - val_accuracy: 0.7940 - val_loss: 0.6232\n",
      "Epoch 194/200\n",
      "\u001b[1m40/40\u001b[0m \u001b[32m━━━━━━━━━━━━━━━━━━━━\u001b[0m\u001b[37m\u001b[0m \u001b[1m0s\u001b[0m 11ms/step - accuracy: 0.9940 - loss: 0.0248 - val_accuracy: 0.7940 - val_loss: 0.6248\n",
      "Epoch 195/200\n",
      "\u001b[1m40/40\u001b[0m \u001b[32m━━━━━━━━━━━━━━━━━━━━\u001b[0m\u001b[37m\u001b[0m \u001b[1m0s\u001b[0m 9ms/step - accuracy: 0.9895 - loss: 0.0286 - val_accuracy: 0.7956 - val_loss: 0.6264\n",
      "Epoch 196/200\n",
      "\u001b[1m40/40\u001b[0m \u001b[32m━━━━━━━━━━━━━━━━━━━━\u001b[0m\u001b[37m\u001b[0m \u001b[1m0s\u001b[0m 9ms/step - accuracy: 0.9905 - loss: 0.0280 - val_accuracy: 0.7940 - val_loss: 0.6282\n",
      "Epoch 196: early stopping\n",
      "Restoring model weights from the end of the best epoch: 116.\n"
     ]
    }
   ],
   "source": [
    "# Compilación del modelo previa a entrenamiento\n",
    "model_tfidf_bigram.compile(optimizer=optimizers.Adam(learning_rate=0.00001), loss='binary_crossentropy', metrics=['accuracy'])\n",
    "\n",
    "# Entrenamiento del modelo\n",
    "history = model_tfidf_bigram.fit(X_train_f, y_train_f, epochs=200, batch_size=64, validation_data=(X_val_f, y_val_f), callbacks=[early_stopping])"
   ]
  },
  {
   "cell_type": "code",
   "execution_count": 33,
   "metadata": {},
   "outputs": [
    {
     "data": {
      "image/png": "[encoded data removed]",
      "text/plain": [
       "<Figure size 1000x600 with 1 Axes>"
      ]
     },
     "metadata": {},
     "output_type": "display_data"
    }
   ],
   "source": [
    "plt.figure(figsize=(10, 6))\n",
    "plt.plot(history.history['val_accuracy'], label='Precisión de validación')\n",
    "plt.plot(history.history['val_loss'], label= 'Función de pérdida en validación')\n",
    "\n",
    "plt.axvline(x=np.argmax(history.history['val_accuracy']), color='r', linestyle='-', linewidth=1, label='Early Stopping Mejor modelo')\n",
    "plt.xlabel('Épocas')\n",
    "plt.ylabel('Precisión y Pérdida')\n",
    "plt.legend()\n",
    "plt.show()"
   ]
  },
  {
   "cell_type": "code",
   "execution_count": 34,
   "metadata": {},
   "outputs": [
    {
     "name": "stdout",
     "output_type": "stream",
     "text": [
      "\u001b[1m25/25\u001b[0m \u001b[32m━━━━━━━━━━━━━━━━━━━━\u001b[0m\u001b[37m\u001b[0m \u001b[1m0s\u001b[0m 3ms/step - accuracy: 0.8082 - loss: 0.4876\n",
      "Test Accuracy: 0.800000011920929\n",
      "Test Loss: 0.495034396648407\n"
     ]
    }
   ],
   "source": [
    "# Testeo, predicción y evaluación del modelo\n",
    "test_loss, test_acc = model_tfidf_bigram.evaluate(X_test_encoded, y_test)\n",
    "print(f\"Test Accuracy: {test_acc}\")\n",
    "print(f\"Test Loss: {test_loss}\")"
   ]
  },
  {
   "cell_type": "markdown",
   "metadata": {},
   "source": [
    "### **Sesión 2/3: Redes recurrentes y embedding**"
   ]
  },
  {
   "cell_type": "markdown",
   "metadata": {},
   "source": [
    "**E1:** Codifica el dataset de la Sesión 1 utilizando esta vez una codificación de tipo *integer*.\n",
    "\n",
    "**E2:** Construye un modelo LSTM bidireccional con 50 células LSTM, entrénalo empleando el resultado de E1 y evalúa la precisión del modelo entrenado. Para el entrenamiento utiliza la aproximación empleada para los ejercicios de la Sesión 1."
   ]
  },
  {
   "cell_type": "markdown",
   "metadata": {},
   "source": [
    "**Codificación tipo integer**"
   ]
  },
  {
   "cell_type": "code",
   "execution_count": null,
   "metadata": {},
   "outputs": [],
   "source": [
    "vectorizer = TextVectorization(\n",
    "    max_tokens=None,  # Número de aminoácidos únicos -> Lo ponemos a None para poder tratar también con los carácteres de padding y de UNK\n",
    "    output_mode='int',\n",
    "    standardize=None,  # No estandarizamos\n",
    "    split='character'  # Dividimos por caracteres(aminoácidos)\n",
    ")\n",
    "\n",
    "# Ajustar el vectorizador a las secuencias, nos ajustamos solo al conjunto de entrenamiento para evitar la exposición a datos de test\n",
    "vectorizer.adapt(X_train)\n",
    "\n",
    "# Transformamos los péptidos mediante la codificación integer\n",
    "X_train_encoded = vectorizer(X_train)\n",
    "X_test_encoded = vectorizer(X_test)\n",
    "\n",
    "# Almacenamos la codificación de los péptidos en integer\n",
    "peptidos['Integer'] = peptidos['aa_seq'].apply(lambda x: vectorizer(x).numpy())\n"
   ]
  },
  {
   "cell_type": "code",
   "execution_count": 84,
   "metadata": {},
   "outputs": [
    {
     "name": "stdout",
     "output_type": "stream",
     "text": [
      "Nº de tokens distintos a procesar: 27\n",
      "Token: , Index: 0\n",
      "Token: [UNK], Index: 1\n",
      "Token: K, Index: 2\n",
      "Token: L, Index: 3\n",
      "Token: G, Index: 4\n",
      "Token: A, Index: 5\n",
      "Token: R, Index: 6\n",
      "Token: S, Index: 7\n",
      "Token: V, Index: 8\n",
      "Token: I, Index: 9\n",
      "Token: C, Index: 10\n",
      "Token: E, Index: 11\n",
      "Token: T, Index: 12\n",
      "Token: P, Index: 13\n",
      "Token: N, Index: 14\n",
      "Token: F, Index: 15\n",
      "Token: D, Index: 16\n",
      "Token: Q, Index: 17\n",
      "Token: Y, Index: 18\n",
      "Token: M, Index: 19\n",
      "Token: H, Index: 20\n",
      "Token: W, Index: 21\n",
      "Token: X, Index: 22\n",
      "Token: U, Index: 23\n",
      "Token: O, Index: 24\n",
      "Token: Z, Index: 25\n",
      "Token: B, Index: 26\n"
     ]
    }
   ],
   "source": [
    "print('Nº de tokens distintos a procesar:', len(vectorizer.get_vocabulary()))\n",
    "for index, token in enumerate(vectorizer.get_vocabulary()):\n",
    "    print(f\"Token: {token}, Index: {index}\")"
   ]
  },
  {
   "cell_type": "code",
   "execution_count": 85,
   "metadata": {},
   "outputs": [
    {
     "data": {
      "text/html": [
       "<div>\n",
       "<style scoped>\n",
       "    .dataframe tbody tr th:only-of-type {\n",
       "        vertical-align: middle;\n",
       "    }\n",
       "\n",
       "    .dataframe tbody tr th {\n",
       "        vertical-align: top;\n",
       "    }\n",
       "\n",
       "    .dataframe thead th {\n",
       "        text-align: right;\n",
       "    }\n",
       "</style>\n",
       "<table border=\"1\" class=\"dataframe\">\n",
       "  <thead>\n",
       "    <tr style=\"text-align: right;\">\n",
       "      <th></th>\n",
       "      <th>aa_seq</th>\n",
       "      <th>aa_len</th>\n",
       "      <th>AMP</th>\n",
       "      <th>Multi-Hot</th>\n",
       "      <th>TF-IDF</th>\n",
       "      <th>TF-IDF_with_bigrams</th>\n",
       "      <th>Integer</th>\n",
       "    </tr>\n",
       "  </thead>\n",
       "  <tbody>\n",
       "    <tr>\n",
       "      <th>0</th>\n",
       "      <td>GNGVLKTISHECNMNTWQFLFTCC</td>\n",
       "      <td>24</td>\n",
       "      <td>True</td>\n",
       "      <td>[0, 1, 1, 1, 0, 0, 1, 1, 1, 1, 1, 1, 0, 1, 1, ...</td>\n",
       "      <td>[0.0, 0.79246056, 1.5467752, 1.56601, 0.0, 0.0...</td>\n",
       "      <td>[0.0, 0.79246056, 1.5467752, 1.56601, 0.0, 0.0...</td>\n",
       "      <td>[4, 14, 4, 8, 3, 2, 12, 9, 7, 20, 11, 10, 14, ...</td>\n",
       "    </tr>\n",
       "    <tr>\n",
       "      <th>1</th>\n",
       "      <td>TTKNYGNGVCNSVNWCQCGNVWASCNLATGCAAWLCKLA</td>\n",
       "      <td>39</td>\n",
       "      <td>True</td>\n",
       "      <td>[0, 1, 1, 1, 1, 0, 1, 1, 0, 1, 0, 1, 0, 1, 0, ...</td>\n",
       "      <td>[0.0, 1.5849211, 2.3201628, 3.13202, 4.0539956...</td>\n",
       "      <td>[0.0, 1.5849211, 2.3201628, 3.13202, 4.0539956...</td>\n",
       "      <td>[12, 12, 2, 14, 18, 4, 14, 4, 8, 10, 14, 7, 8,...</td>\n",
       "    </tr>\n",
       "    <tr>\n",
       "      <th>2</th>\n",
       "      <td>SNDSLWYGVGQFMGKQANCITNHPVKHMIIPGYCLSKILG</td>\n",
       "      <td>40</td>\n",
       "      <td>True</td>\n",
       "      <td>[0, 1, 1, 1, 1, 0, 1, 1, 1, 1, 0, 1, 1, 1, 1, ...</td>\n",
       "      <td>[0.0, 2.3773818, 2.3201628, 3.915025, 0.810799...</td>\n",
       "      <td>[0.0, 2.3773818, 2.3201628, 3.915025, 0.810799...</td>\n",
       "      <td>[7, 14, 16, 7, 3, 21, 18, 4, 8, 4, 17, 15, 19,...</td>\n",
       "    </tr>\n",
       "    <tr>\n",
       "      <th>3</th>\n",
       "      <td>IAPIIVAGLGYLVKDAWDHSDQIISGFKKGWNGGRRK</td>\n",
       "      <td>37</td>\n",
       "      <td>True</td>\n",
       "      <td>[0, 1, 1, 1, 1, 1, 1, 1, 1, 0, 0, 0, 1, 1, 1, ...</td>\n",
       "      <td>[0.0, 3.1698422, 1.5467752, 4.69803, 2.4323974...</td>\n",
       "      <td>[0.0, 3.1698422, 1.5467752, 4.69803, 2.4323974...</td>\n",
       "      <td>[9, 5, 13, 9, 9, 8, 5, 4, 3, 4, 18, 3, 8, 2, 1...</td>\n",
       "    </tr>\n",
       "    <tr>\n",
       "      <th>4</th>\n",
       "      <td>FNRGGYNFGKSVRHVVDAIGSVAGIRGILKSIR</td>\n",
       "      <td>33</td>\n",
       "      <td>True</td>\n",
       "      <td>[0, 1, 1, 1, 1, 1, 1, 1, 1, 0, 0, 0, 0, 1, 1, ...</td>\n",
       "      <td>[0.0, 1.5849211, 0.7733876, 4.69803, 1.6215982...</td>\n",
       "      <td>[0.0, 1.5849211, 0.7733876, 4.69803, 1.6215982...</td>\n",
       "      <td>[15, 14, 6, 4, 4, 18, 14, 15, 4, 2, 7, 8, 6, 2...</td>\n",
       "    </tr>\n",
       "    <tr>\n",
       "      <th>5</th>\n",
       "      <td>VFHAYSARGVRNNYKSAVGPADWVISAVRGFIHG</td>\n",
       "      <td>34</td>\n",
       "      <td>True</td>\n",
       "      <td>[0, 1, 0, 1, 1, 1, 1, 1, 1, 0, 0, 0, 1, 1, 1, ...</td>\n",
       "      <td>[0.0, 0.79246056, 0.0, 3.13202, 4.0539956, 2.6...</td>\n",
       "      <td>[0.0, 0.79246056, 0.0, 3.13202, 4.0539956, 2.6...</td>\n",
       "      <td>[8, 15, 20, 5, 18, 7, 5, 6, 4, 8, 6, 14, 14, 1...</td>\n",
       "    </tr>\n",
       "    <tr>\n",
       "      <th>6</th>\n",
       "      <td>RRSRKNGIGYAIGYAFGAVERAVLGGSRDYNK</td>\n",
       "      <td>32</td>\n",
       "      <td>True</td>\n",
       "      <td>[0, 1, 1, 1, 1, 1, 1, 1, 1, 0, 1, 0, 0, 1, 1, ...</td>\n",
       "      <td>[0.0, 1.5849211, 0.7733876, 4.69803, 3.2431965...</td>\n",
       "      <td>[0.0, 1.5849211, 0.7733876, 4.69803, 3.2431965...</td>\n",
       "      <td>[6, 6, 7, 6, 2, 14, 4, 9, 4, 18, 5, 9, 4, 18, ...</td>\n",
       "    </tr>\n",
       "    <tr>\n",
       "      <th>7</th>\n",
       "      <td>KGLGKLIGIDWLLGQAKDAVKQYKKDYKRWH</td>\n",
       "      <td>31</td>\n",
       "      <td>True</td>\n",
       "      <td>[0, 1, 1, 1, 1, 1, 0, 1, 1, 0, 0, 0, 0, 0, 0, ...</td>\n",
       "      <td>[0.0, 5.547224, 3.0935504, 3.13202, 1.6215982,...</td>\n",
       "      <td>[0.0, 5.547224, 3.0935504, 3.13202, 1.6215982,...</td>\n",
       "      <td>[2, 4, 3, 4, 2, 3, 9, 4, 9, 16, 21, 3, 3, 4, 1...</td>\n",
       "    </tr>\n",
       "  </tbody>\n",
       "</table>\n",
       "</div>"
      ],
      "text/plain": [
       "                                     aa_seq  aa_len   AMP  \\\n",
       "0                  GNGVLKTISHECNMNTWQFLFTCC      24  True   \n",
       "1   TTKNYGNGVCNSVNWCQCGNVWASCNLATGCAAWLCKLA      39  True   \n",
       "2  SNDSLWYGVGQFMGKQANCITNHPVKHMIIPGYCLSKILG      40  True   \n",
       "3     IAPIIVAGLGYLVKDAWDHSDQIISGFKKGWNGGRRK      37  True   \n",
       "4         FNRGGYNFGKSVRHVVDAIGSVAGIRGILKSIR      33  True   \n",
       "5        VFHAYSARGVRNNYKSAVGPADWVISAVRGFIHG      34  True   \n",
       "6          RRSRKNGIGYAIGYAFGAVERAVLGGSRDYNK      32  True   \n",
       "7           KGLGKLIGIDWLLGQAKDAVKQYKKDYKRWH      31  True   \n",
       "\n",
       "                                           Multi-Hot  \\\n",
       "0  [0, 1, 1, 1, 0, 0, 1, 1, 1, 1, 1, 1, 0, 1, 1, ...   \n",
       "1  [0, 1, 1, 1, 1, 0, 1, 1, 0, 1, 0, 1, 0, 1, 0, ...   \n",
       "2  [0, 1, 1, 1, 1, 0, 1, 1, 1, 1, 0, 1, 1, 1, 1, ...   \n",
       "3  [0, 1, 1, 1, 1, 1, 1, 1, 1, 0, 0, 0, 1, 1, 1, ...   \n",
       "4  [0, 1, 1, 1, 1, 1, 1, 1, 1, 0, 0, 0, 0, 1, 1, ...   \n",
       "5  [0, 1, 0, 1, 1, 1, 1, 1, 1, 0, 0, 0, 1, 1, 1, ...   \n",
       "6  [0, 1, 1, 1, 1, 1, 1, 1, 1, 0, 1, 0, 0, 1, 1, ...   \n",
       "7  [0, 1, 1, 1, 1, 1, 0, 1, 1, 0, 0, 0, 0, 0, 0, ...   \n",
       "\n",
       "                                              TF-IDF  \\\n",
       "0  [0.0, 0.79246056, 1.5467752, 1.56601, 0.0, 0.0...   \n",
       "1  [0.0, 1.5849211, 2.3201628, 3.13202, 4.0539956...   \n",
       "2  [0.0, 2.3773818, 2.3201628, 3.915025, 0.810799...   \n",
       "3  [0.0, 3.1698422, 1.5467752, 4.69803, 2.4323974...   \n",
       "4  [0.0, 1.5849211, 0.7733876, 4.69803, 1.6215982...   \n",
       "5  [0.0, 0.79246056, 0.0, 3.13202, 4.0539956, 2.6...   \n",
       "6  [0.0, 1.5849211, 0.7733876, 4.69803, 3.2431965...   \n",
       "7  [0.0, 5.547224, 3.0935504, 3.13202, 1.6215982,...   \n",
       "\n",
       "                                 TF-IDF_with_bigrams  \\\n",
       "0  [0.0, 0.79246056, 1.5467752, 1.56601, 0.0, 0.0...   \n",
       "1  [0.0, 1.5849211, 2.3201628, 3.13202, 4.0539956...   \n",
       "2  [0.0, 2.3773818, 2.3201628, 3.915025, 0.810799...   \n",
       "3  [0.0, 3.1698422, 1.5467752, 4.69803, 2.4323974...   \n",
       "4  [0.0, 1.5849211, 0.7733876, 4.69803, 1.6215982...   \n",
       "5  [0.0, 0.79246056, 0.0, 3.13202, 4.0539956, 2.6...   \n",
       "6  [0.0, 1.5849211, 0.7733876, 4.69803, 3.2431965...   \n",
       "7  [0.0, 5.547224, 3.0935504, 3.13202, 1.6215982,...   \n",
       "\n",
       "                                             Integer  \n",
       "0  [4, 14, 4, 8, 3, 2, 12, 9, 7, 20, 11, 10, 14, ...  \n",
       "1  [12, 12, 2, 14, 18, 4, 14, 4, 8, 10, 14, 7, 8,...  \n",
       "2  [7, 14, 16, 7, 3, 21, 18, 4, 8, 4, 17, 15, 19,...  \n",
       "3  [9, 5, 13, 9, 9, 8, 5, 4, 3, 4, 18, 3, 8, 2, 1...  \n",
       "4  [15, 14, 6, 4, 4, 18, 14, 15, 4, 2, 7, 8, 6, 2...  \n",
       "5  [8, 15, 20, 5, 18, 7, 5, 6, 4, 8, 6, 14, 14, 1...  \n",
       "6  [6, 6, 7, 6, 2, 14, 4, 9, 4, 18, 5, 9, 4, 18, ...  \n",
       "7  [2, 4, 3, 4, 2, 3, 9, 4, 9, 16, 21, 3, 3, 4, 1...  "
      ]
     },
     "execution_count": 85,
     "metadata": {},
     "output_type": "execute_result"
    }
   ],
   "source": [
    "peptidos.head(8)"
   ]
  },
  {
   "cell_type": "markdown",
   "metadata": {},
   "source": [
    "- **Usaremos pad_sequences() para unificar la longitud de las secuencias**\n",
    "\n",
    "- **Usaremos Bidirectional(LSTM(...)) para que la red procese la secuencia en ambas direcciones. Esto es importante ya que los aminoácidos mantienen relaciones en ambas direcciones.**"
   ]
  },
  {
   "cell_type": "code",
   "execution_count": 86,
   "metadata": {},
   "outputs": [],
   "source": [
    "import tensorflow as tf\n",
    "from tensorflow.keras.preprocessing.sequence import pad_sequences\n",
    "from tensorflow.keras.layers import LSTM, Bidirectional, Dense, Embedding"
   ]
  },
  {
   "cell_type": "code",
   "execution_count": 87,
   "metadata": {},
   "outputs": [],
   "source": [
    "max_len = max(len(seq) for seq in X_train)  # Longitud máxima de las secuencias de péptidos\n",
    "\n",
    "# Aplicamos padding para unificar la longitud de las secuencias\n",
    "X_train_padded = pad_sequences(X_train_encoded, maxlen=max_len, padding='post')\n",
    "X_test_padded = pad_sequences(X_test_encoded, maxlen=max_len, padding='post')\n"
   ]
  },
  {
   "cell_type": "code",
   "execution_count": 88,
   "metadata": {},
   "outputs": [
    {
     "data": {
      "text/html": [
       "<pre style=\"white-space:pre;overflow-x:auto;line-height:normal;font-family:Menlo,'DejaVu Sans Mono',consolas,'Courier New',monospace\"><span style=\"font-weight: bold\">Model: \"sequential_1\"</span>\n",
       "</pre>\n"
      ],
      "text/plain": [
       "\u001b[1mModel: \"sequential_1\"\u001b[0m\n"
      ]
     },
     "metadata": {},
     "output_type": "display_data"
    },
    {
     "data": {
      "text/html": [
       "<pre style=\"white-space:pre;overflow-x:auto;line-height:normal;font-family:Menlo,'DejaVu Sans Mono',consolas,'Courier New',monospace\">┏━━━━━━━━━━━━━━━━━━━━━━━━━━━━━━━━━┳━━━━━━━━━━━━━━━━━━━━━━━━┳━━━━━━━━━━━━━━━┓\n",
       "┃<span style=\"font-weight: bold\"> Layer (type)                    </span>┃<span style=\"font-weight: bold\"> Output Shape           </span>┃<span style=\"font-weight: bold\">       Param # </span>┃\n",
       "┡━━━━━━━━━━━━━━━━━━━━━━━━━━━━━━━━━╇━━━━━━━━━━━━━━━━━━━━━━━━╇━━━━━━━━━━━━━━━┩\n",
       "│ bidirectional_1 (<span style=\"color: #0087ff; text-decoration-color: #0087ff\">Bidirectional</span>) │ (<span style=\"color: #00d7ff; text-decoration-color: #00d7ff\">None</span>, <span style=\"color: #00af00; text-decoration-color: #00af00\">100</span>)            │        <span style=\"color: #00af00; text-decoration-color: #00af00\">20,800</span> │\n",
       "├─────────────────────────────────┼────────────────────────┼───────────────┤\n",
       "│ dense_2 (<span style=\"color: #0087ff; text-decoration-color: #0087ff\">Dense</span>)                 │ (<span style=\"color: #00d7ff; text-decoration-color: #00d7ff\">None</span>, <span style=\"color: #00af00; text-decoration-color: #00af00\">64</span>)             │         <span style=\"color: #00af00; text-decoration-color: #00af00\">6,464</span> │\n",
       "├─────────────────────────────────┼────────────────────────┼───────────────┤\n",
       "│ dense_3 (<span style=\"color: #0087ff; text-decoration-color: #0087ff\">Dense</span>)                 │ (<span style=\"color: #00d7ff; text-decoration-color: #00d7ff\">None</span>, <span style=\"color: #00af00; text-decoration-color: #00af00\">1</span>)              │            <span style=\"color: #00af00; text-decoration-color: #00af00\">65</span> │\n",
       "└─────────────────────────────────┴────────────────────────┴───────────────┘\n",
       "</pre>\n"
      ],
      "text/plain": [
       "┏━━━━━━━━━━━━━━━━━━━━━━━━━━━━━━━━━┳━━━━━━━━━━━━━━━━━━━━━━━━┳━━━━━━━━━━━━━━━┓\n",
       "┃\u001b[1m \u001b[0m\u001b[1mLayer (type)                   \u001b[0m\u001b[1m \u001b[0m┃\u001b[1m \u001b[0m\u001b[1mOutput Shape          \u001b[0m\u001b[1m \u001b[0m┃\u001b[1m \u001b[0m\u001b[1m      Param #\u001b[0m\u001b[1m \u001b[0m┃\n",
       "┡━━━━━━━━━━━━━━━━━━━━━━━━━━━━━━━━━╇━━━━━━━━━━━━━━━━━━━━━━━━╇━━━━━━━━━━━━━━━┩\n",
       "│ bidirectional_1 (\u001b[38;5;33mBidirectional\u001b[0m) │ (\u001b[38;5;45mNone\u001b[0m, \u001b[38;5;34m100\u001b[0m)            │        \u001b[38;5;34m20,800\u001b[0m │\n",
       "├─────────────────────────────────┼────────────────────────┼───────────────┤\n",
       "│ dense_2 (\u001b[38;5;33mDense\u001b[0m)                 │ (\u001b[38;5;45mNone\u001b[0m, \u001b[38;5;34m64\u001b[0m)             │         \u001b[38;5;34m6,464\u001b[0m │\n",
       "├─────────────────────────────────┼────────────────────────┼───────────────┤\n",
       "│ dense_3 (\u001b[38;5;33mDense\u001b[0m)                 │ (\u001b[38;5;45mNone\u001b[0m, \u001b[38;5;34m1\u001b[0m)              │            \u001b[38;5;34m65\u001b[0m │\n",
       "└─────────────────────────────────┴────────────────────────┴───────────────┘\n"
      ]
     },
     "metadata": {},
     "output_type": "display_data"
    },
    {
     "data": {
      "text/html": [
       "<pre style=\"white-space:pre;overflow-x:auto;line-height:normal;font-family:Menlo,'DejaVu Sans Mono',consolas,'Courier New',monospace\"><span style=\"font-weight: bold\"> Total params: </span><span style=\"color: #00af00; text-decoration-color: #00af00\">27,329</span> (106.75 KB)\n",
       "</pre>\n"
      ],
      "text/plain": [
       "\u001b[1m Total params: \u001b[0m\u001b[38;5;34m27,329\u001b[0m (106.75 KB)\n"
      ]
     },
     "metadata": {},
     "output_type": "display_data"
    },
    {
     "data": {
      "text/html": [
       "<pre style=\"white-space:pre;overflow-x:auto;line-height:normal;font-family:Menlo,'DejaVu Sans Mono',consolas,'Courier New',monospace\"><span style=\"font-weight: bold\"> Trainable params: </span><span style=\"color: #00af00; text-decoration-color: #00af00\">27,329</span> (106.75 KB)\n",
       "</pre>\n"
      ],
      "text/plain": [
       "\u001b[1m Trainable params: \u001b[0m\u001b[38;5;34m27,329\u001b[0m (106.75 KB)\n"
      ]
     },
     "metadata": {},
     "output_type": "display_data"
    },
    {
     "data": {
      "text/html": [
       "<pre style=\"white-space:pre;overflow-x:auto;line-height:normal;font-family:Menlo,'DejaVu Sans Mono',consolas,'Courier New',monospace\"><span style=\"font-weight: bold\"> Non-trainable params: </span><span style=\"color: #00af00; text-decoration-color: #00af00\">0</span> (0.00 B)\n",
       "</pre>\n"
      ],
      "text/plain": [
       "\u001b[1m Non-trainable params: \u001b[0m\u001b[38;5;34m0\u001b[0m (0.00 B)\n"
      ]
     },
     "metadata": {},
     "output_type": "display_data"
    }
   ],
   "source": [
    "# Construcción del modelo\n",
    "model_int_LSTM = Sequential([\n",
    "    layers.Input(shape=(max_len, 1)),  \n",
    "    Bidirectional(LSTM(50, return_sequences=False)),  # LSTM bidireccional con 50 células\n",
    "    Dense(64, activation='relu'),  # Capa oculta con 64 neuronas\n",
    "    Dense(1, activation='sigmoid')  \n",
    "])\n",
    "\n",
    "# Resumen del modelo\n",
    "model_int_LSTM.summary()\n"
   ]
  },
  {
   "cell_type": "code",
   "execution_count": 89,
   "metadata": {},
   "outputs": [],
   "source": [
    "# Obtención del 20% de los datos de entrenamiento para validación del modelo durante el proceso de entrenamiento\n",
    "X_train_f, X_val_f, y_train_f, y_val_f = train_test_split(np.array(X_train_padded), y_train, test_size=0.2, random_state=2025, stratify=y_train)\n",
    "\n",
    "# Conversión de las etiquetas a arrays de numpy para su uso en la red neuronal\n",
    "y_train_f = np.array(y_train_f)\n",
    "y_val_f = np.array(y_val_f)\n",
    "y_test = np.array(y_test)"
   ]
  },
  {
   "cell_type": "code",
   "execution_count": 90,
   "metadata": {},
   "outputs": [
    {
     "name": "stdout",
     "output_type": "stream",
     "text": [
      "[ 6  4  3 21  7  2  9  2 11  5  4  2  5  5  3 12  5  5  4  2  5  5  3  4\n",
      "  5  8  7 16  5  8  0  0  0  0  0  0  0  0  0  0  0  0  0  0  0  0  0  0\n",
      "  0  0  0  0  0  0  0  0  0  0  0  0  0  0  0  0  0  0  0  0  0  0  0  0\n",
      "  0  0  0  0  0  0  0  0  0  0  0  0  0  0  0  0  0  0  0  0  0  0  0  0\n",
      "  0  0  0  0  0]\n"
     ]
    }
   ],
   "source": [
    "print(X_train_f[0]) # Se puede observar el padding de ceros en una muestra"
   ]
  },
  {
   "cell_type": "code",
   "execution_count": 91,
   "metadata": {},
   "outputs": [],
   "source": [
    "# Definimos un earling stopping para detener el entrenamiento de los modelos cuando ya no mejoren la precisión de la validación\n",
    "early_stopping = keras.callbacks.EarlyStopping(\n",
    "    monitor='val_accuracy',  # Métrica a monitorear \n",
    "    patience=50,  # Número de epochs sin mejora antes de parar\n",
    "    min_delta=0.0001,  # Pequeña mejora mínima requerida\n",
    "    restore_best_weights=True,  # Restaura los mejores pesos en lugar de los últimos\n",
    "    verbose=1  # Muestra mensaje en la consola con la época que contiene los mejores pesos\n",
    ")"
   ]
  },
  {
   "cell_type": "code",
   "execution_count": 92,
   "metadata": {},
   "outputs": [
    {
     "name": "stdout",
     "output_type": "stream",
     "text": [
      "Epoch 1/100\n",
      "\u001b[1m80/80\u001b[0m \u001b[32m━━━━━━━━━━━━━━━━━━━━\u001b[0m\u001b[37m\u001b[0m \u001b[1m6s\u001b[0m 35ms/step - accuracy: 0.6023 - loss: 0.6675 - val_accuracy: 0.6651 - val_loss: 0.6277\n",
      "Epoch 2/100\n",
      "\u001b[1m80/80\u001b[0m \u001b[32m━━━━━━━━━━━━━━━━━━━━\u001b[0m\u001b[37m\u001b[0m \u001b[1m2s\u001b[0m 29ms/step - accuracy: 0.6197 - loss: 0.6476 - val_accuracy: 0.6698 - val_loss: 0.6227\n",
      "Epoch 3/100\n",
      "\u001b[1m80/80\u001b[0m \u001b[32m━━━━━━━━━━━━━━━━━━━━\u001b[0m\u001b[37m\u001b[0m \u001b[1m2s\u001b[0m 29ms/step - accuracy: 0.6338 - loss: 0.6383 - val_accuracy: 0.6808 - val_loss: 0.6069\n",
      "Epoch 4/100\n",
      "\u001b[1m80/80\u001b[0m \u001b[32m━━━━━━━━━━━━━━━━━━━━\u001b[0m\u001b[37m\u001b[0m \u001b[1m2s\u001b[0m 29ms/step - accuracy: 0.6322 - loss: 0.6277 - val_accuracy: 0.6840 - val_loss: 0.5987\n",
      "Epoch 5/100\n",
      "\u001b[1m80/80\u001b[0m \u001b[32m━━━━━━━━━━━━━━━━━━━━\u001b[0m\u001b[37m\u001b[0m \u001b[1m2s\u001b[0m 27ms/step - accuracy: 0.6339 - loss: 0.6308 - val_accuracy: 0.6981 - val_loss: 0.5880\n",
      "Epoch 6/100\n",
      "\u001b[1m80/80\u001b[0m \u001b[32m━━━━━━━━━━━━━━━━━━━━\u001b[0m\u001b[37m\u001b[0m \u001b[1m2s\u001b[0m 28ms/step - accuracy: 0.6502 - loss: 0.6162 - val_accuracy: 0.7264 - val_loss: 0.5770\n",
      "Epoch 7/100\n",
      "\u001b[1m80/80\u001b[0m \u001b[32m━━━━━━━━━━━━━━━━━━━━\u001b[0m\u001b[37m\u001b[0m \u001b[1m2s\u001b[0m 30ms/step - accuracy: 0.7006 - loss: 0.5916 - val_accuracy: 0.7296 - val_loss: 0.5669\n",
      "Epoch 8/100\n",
      "\u001b[1m80/80\u001b[0m \u001b[32m━━━━━━━━━━━━━━━━━━━━\u001b[0m\u001b[37m\u001b[0m \u001b[1m2s\u001b[0m 28ms/step - accuracy: 0.6798 - loss: 0.5997 - val_accuracy: 0.7264 - val_loss: 0.5645\n",
      "Epoch 9/100\n",
      "\u001b[1m80/80\u001b[0m \u001b[32m━━━━━━━━━━━━━━━━━━━━\u001b[0m\u001b[37m\u001b[0m \u001b[1m2s\u001b[0m 28ms/step - accuracy: 0.6855 - loss: 0.5844 - val_accuracy: 0.7233 - val_loss: 0.5547\n",
      "Epoch 10/100\n",
      "\u001b[1m80/80\u001b[0m \u001b[32m━━━━━━━━━━━━━━━━━━━━\u001b[0m\u001b[37m\u001b[0m \u001b[1m2s\u001b[0m 28ms/step - accuracy: 0.7152 - loss: 0.5661 - val_accuracy: 0.7075 - val_loss: 0.5673\n",
      "Epoch 11/100\n",
      "\u001b[1m80/80\u001b[0m \u001b[32m━━━━━━━━━━━━━━━━━━━━\u001b[0m\u001b[37m\u001b[0m \u001b[1m2s\u001b[0m 29ms/step - accuracy: 0.7104 - loss: 0.5699 - val_accuracy: 0.7075 - val_loss: 0.5739\n",
      "Epoch 12/100\n",
      "\u001b[1m80/80\u001b[0m \u001b[32m━━━━━━━━━━━━━━━━━━━━\u001b[0m\u001b[37m\u001b[0m \u001b[1m2s\u001b[0m 28ms/step - accuracy: 0.6939 - loss: 0.5915 - val_accuracy: 0.7170 - val_loss: 0.5573\n",
      "Epoch 13/100\n",
      "\u001b[1m80/80\u001b[0m \u001b[32m━━━━━━━━━━━━━━━━━━━━\u001b[0m\u001b[37m\u001b[0m \u001b[1m2s\u001b[0m 28ms/step - accuracy: 0.6981 - loss: 0.5693 - val_accuracy: 0.7217 - val_loss: 0.5734\n",
      "Epoch 14/100\n",
      "\u001b[1m80/80\u001b[0m \u001b[32m━━━━━━━━━━━━━━━━━━━━\u001b[0m\u001b[37m\u001b[0m \u001b[1m2s\u001b[0m 28ms/step - accuracy: 0.7381 - loss: 0.5576 - val_accuracy: 0.7437 - val_loss: 0.5486\n",
      "Epoch 15/100\n",
      "\u001b[1m80/80\u001b[0m \u001b[32m━━━━━━━━━━━━━━━━━━━━\u001b[0m\u001b[37m\u001b[0m \u001b[1m2s\u001b[0m 28ms/step - accuracy: 0.7154 - loss: 0.5704 - val_accuracy: 0.7374 - val_loss: 0.5454\n",
      "Epoch 16/100\n",
      "\u001b[1m80/80\u001b[0m \u001b[32m━━━━━━━━━━━━━━━━━━━━\u001b[0m\u001b[37m\u001b[0m \u001b[1m2s\u001b[0m 27ms/step - accuracy: 0.7223 - loss: 0.5696 - val_accuracy: 0.7248 - val_loss: 0.5499\n",
      "Epoch 17/100\n",
      "\u001b[1m80/80\u001b[0m \u001b[32m━━━━━━━━━━━━━━━━━━━━\u001b[0m\u001b[37m\u001b[0m \u001b[1m3s\u001b[0m 31ms/step - accuracy: 0.7344 - loss: 0.5459 - val_accuracy: 0.7248 - val_loss: 0.5515\n",
      "Epoch 18/100\n",
      "\u001b[1m80/80\u001b[0m \u001b[32m━━━━━━━━━━━━━━━━━━━━\u001b[0m\u001b[37m\u001b[0m \u001b[1m2s\u001b[0m 26ms/step - accuracy: 0.7287 - loss: 0.5463 - val_accuracy: 0.7264 - val_loss: 0.5590\n",
      "Epoch 19/100\n",
      "\u001b[1m80/80\u001b[0m \u001b[32m━━━━━━━━━━━━━━━━━━━━\u001b[0m\u001b[37m\u001b[0m \u001b[1m2s\u001b[0m 27ms/step - accuracy: 0.7273 - loss: 0.5448 - val_accuracy: 0.7296 - val_loss: 0.5455\n",
      "Epoch 20/100\n",
      "\u001b[1m80/80\u001b[0m \u001b[32m━━━━━━━━━━━━━━━━━━━━\u001b[0m\u001b[37m\u001b[0m \u001b[1m2s\u001b[0m 26ms/step - accuracy: 0.7465 - loss: 0.5302 - val_accuracy: 0.7264 - val_loss: 0.5449\n",
      "Epoch 21/100\n",
      "\u001b[1m80/80\u001b[0m \u001b[32m━━━━━━━━━━━━━━━━━━━━\u001b[0m\u001b[37m\u001b[0m \u001b[1m2s\u001b[0m 27ms/step - accuracy: 0.7465 - loss: 0.5411 - val_accuracy: 0.7358 - val_loss: 0.5510\n",
      "Epoch 22/100\n",
      "\u001b[1m80/80\u001b[0m \u001b[32m━━━━━━━━━━━━━━━━━━━━\u001b[0m\u001b[37m\u001b[0m \u001b[1m2s\u001b[0m 27ms/step - accuracy: 0.7382 - loss: 0.5328 - val_accuracy: 0.7343 - val_loss: 0.5435\n",
      "Epoch 23/100\n",
      "\u001b[1m80/80\u001b[0m \u001b[32m━━━━━━━━━━━━━━━━━━━━\u001b[0m\u001b[37m\u001b[0m \u001b[1m2s\u001b[0m 27ms/step - accuracy: 0.7515 - loss: 0.5217 - val_accuracy: 0.7327 - val_loss: 0.5492\n",
      "Epoch 24/100\n",
      "\u001b[1m80/80\u001b[0m \u001b[32m━━━━━━━━━━━━━━━━━━━━\u001b[0m\u001b[37m\u001b[0m \u001b[1m2s\u001b[0m 29ms/step - accuracy: 0.7409 - loss: 0.5196 - val_accuracy: 0.7390 - val_loss: 0.5402\n",
      "Epoch 25/100\n",
      "\u001b[1m80/80\u001b[0m \u001b[32m━━━━━━━━━━━━━━━━━━━━\u001b[0m\u001b[37m\u001b[0m \u001b[1m2s\u001b[0m 29ms/step - accuracy: 0.7590 - loss: 0.5083 - val_accuracy: 0.7547 - val_loss: 0.5456\n",
      "Epoch 26/100\n",
      "\u001b[1m80/80\u001b[0m \u001b[32m━━━━━━━━━━━━━━━━━━━━\u001b[0m\u001b[37m\u001b[0m \u001b[1m2s\u001b[0m 29ms/step - accuracy: 0.7639 - loss: 0.5072 - val_accuracy: 0.7327 - val_loss: 0.5400\n",
      "Epoch 27/100\n",
      "\u001b[1m80/80\u001b[0m \u001b[32m━━━━━━━━━━━━━━━━━━━━\u001b[0m\u001b[37m\u001b[0m \u001b[1m2s\u001b[0m 29ms/step - accuracy: 0.7337 - loss: 0.5313 - val_accuracy: 0.7217 - val_loss: 0.5443\n",
      "Epoch 28/100\n",
      "\u001b[1m80/80\u001b[0m \u001b[32m━━━━━━━━━━━━━━━━━━━━\u001b[0m\u001b[37m\u001b[0m \u001b[1m2s\u001b[0m 30ms/step - accuracy: 0.7385 - loss: 0.5367 - val_accuracy: 0.7358 - val_loss: 0.5432\n",
      "Epoch 29/100\n",
      "\u001b[1m80/80\u001b[0m \u001b[32m━━━━━━━━━━━━━━━━━━━━\u001b[0m\u001b[37m\u001b[0m \u001b[1m2s\u001b[0m 27ms/step - accuracy: 0.7619 - loss: 0.5072 - val_accuracy: 0.7296 - val_loss: 0.5448\n",
      "Epoch 30/100\n",
      "\u001b[1m80/80\u001b[0m \u001b[32m━━━━━━━━━━━━━━━━━━━━\u001b[0m\u001b[37m\u001b[0m \u001b[1m2s\u001b[0m 27ms/step - accuracy: 0.7648 - loss: 0.5002 - val_accuracy: 0.7374 - val_loss: 0.5571\n",
      "Epoch 31/100\n",
      "\u001b[1m80/80\u001b[0m \u001b[32m━━━━━━━━━━━━━━━━━━━━\u001b[0m\u001b[37m\u001b[0m \u001b[1m2s\u001b[0m 28ms/step - accuracy: 0.7500 - loss: 0.5098 - val_accuracy: 0.7201 - val_loss: 0.5492\n",
      "Epoch 32/100\n",
      "\u001b[1m80/80\u001b[0m \u001b[32m━━━━━━━━━━━━━━━━━━━━\u001b[0m\u001b[37m\u001b[0m \u001b[1m2s\u001b[0m 27ms/step - accuracy: 0.7586 - loss: 0.5031 - val_accuracy: 0.7233 - val_loss: 0.5399\n",
      "Epoch 33/100\n",
      "\u001b[1m80/80\u001b[0m \u001b[32m━━━━━━━━━━━━━━━━━━━━\u001b[0m\u001b[37m\u001b[0m \u001b[1m2s\u001b[0m 29ms/step - accuracy: 0.7498 - loss: 0.5117 - val_accuracy: 0.7311 - val_loss: 0.5435\n",
      "Epoch 34/100\n",
      "\u001b[1m80/80\u001b[0m \u001b[32m━━━━━━━━━━━━━━━━━━━━\u001b[0m\u001b[37m\u001b[0m \u001b[1m2s\u001b[0m 27ms/step - accuracy: 0.7651 - loss: 0.4894 - val_accuracy: 0.7217 - val_loss: 0.5474\n",
      "Epoch 35/100\n",
      "\u001b[1m80/80\u001b[0m \u001b[32m━━━━━━━━━━━━━━━━━━━━\u001b[0m\u001b[37m\u001b[0m \u001b[1m2s\u001b[0m 29ms/step - accuracy: 0.7514 - loss: 0.5075 - val_accuracy: 0.7217 - val_loss: 0.5496\n",
      "Epoch 36/100\n",
      "\u001b[1m80/80\u001b[0m \u001b[32m━━━━━━━━━━━━━━━━━━━━\u001b[0m\u001b[37m\u001b[0m \u001b[1m2s\u001b[0m 29ms/step - accuracy: 0.7624 - loss: 0.4958 - val_accuracy: 0.7296 - val_loss: 0.5473\n",
      "Epoch 37/100\n",
      "\u001b[1m80/80\u001b[0m \u001b[32m━━━━━━━━━━━━━━━━━━━━\u001b[0m\u001b[37m\u001b[0m \u001b[1m2s\u001b[0m 27ms/step - accuracy: 0.7659 - loss: 0.4881 - val_accuracy: 0.7563 - val_loss: 0.5482\n",
      "Epoch 38/100\n",
      "\u001b[1m80/80\u001b[0m \u001b[32m━━━━━━━━━━━━━━━━━━━━\u001b[0m\u001b[37m\u001b[0m \u001b[1m2s\u001b[0m 29ms/step - accuracy: 0.7716 - loss: 0.4755 - val_accuracy: 0.7311 - val_loss: 0.5429\n",
      "Epoch 39/100\n",
      "\u001b[1m80/80\u001b[0m \u001b[32m━━━━━━━━━━━━━━━━━━━━\u001b[0m\u001b[37m\u001b[0m \u001b[1m2s\u001b[0m 28ms/step - accuracy: 0.7739 - loss: 0.4942 - val_accuracy: 0.7280 - val_loss: 0.5372\n",
      "Epoch 40/100\n",
      "\u001b[1m80/80\u001b[0m \u001b[32m━━━━━━━━━━━━━━━━━━━━\u001b[0m\u001b[37m\u001b[0m \u001b[1m2s\u001b[0m 28ms/step - accuracy: 0.7625 - loss: 0.4855 - val_accuracy: 0.7390 - val_loss: 0.5489\n",
      "Epoch 41/100\n",
      "\u001b[1m80/80\u001b[0m \u001b[32m━━━━━━━━━━━━━━━━━━━━\u001b[0m\u001b[37m\u001b[0m \u001b[1m2s\u001b[0m 28ms/step - accuracy: 0.7664 - loss: 0.4906 - val_accuracy: 0.7327 - val_loss: 0.5523\n",
      "Epoch 42/100\n",
      "\u001b[1m80/80\u001b[0m \u001b[32m━━━━━━━━━━━━━━━━━━━━\u001b[0m\u001b[37m\u001b[0m \u001b[1m2s\u001b[0m 26ms/step - accuracy: 0.7813 - loss: 0.4651 - val_accuracy: 0.7421 - val_loss: 0.5364\n",
      "Epoch 43/100\n",
      "\u001b[1m80/80\u001b[0m \u001b[32m━━━━━━━━━━━━━━━━━━━━\u001b[0m\u001b[37m\u001b[0m \u001b[1m2s\u001b[0m 26ms/step - accuracy: 0.7851 - loss: 0.4555 - val_accuracy: 0.7358 - val_loss: 0.5360\n",
      "Epoch 44/100\n",
      "\u001b[1m80/80\u001b[0m \u001b[32m━━━━━━━━━━━━━━━━━━━━\u001b[0m\u001b[37m\u001b[0m \u001b[1m2s\u001b[0m 26ms/step - accuracy: 0.7742 - loss: 0.4640 - val_accuracy: 0.7453 - val_loss: 0.5406\n",
      "Epoch 45/100\n",
      "\u001b[1m80/80\u001b[0m \u001b[32m━━━━━━━━━━━━━━━━━━━━\u001b[0m\u001b[37m\u001b[0m \u001b[1m2s\u001b[0m 27ms/step - accuracy: 0.7506 - loss: 0.4863 - val_accuracy: 0.7296 - val_loss: 0.5489\n",
      "Epoch 46/100\n",
      "\u001b[1m80/80\u001b[0m \u001b[32m━━━━━━━━━━━━━━━━━━━━\u001b[0m\u001b[37m\u001b[0m \u001b[1m2s\u001b[0m 26ms/step - accuracy: 0.7781 - loss: 0.4674 - val_accuracy: 0.7437 - val_loss: 0.5302\n",
      "Epoch 47/100\n",
      "\u001b[1m80/80\u001b[0m \u001b[32m━━━━━━━━━━━━━━━━━━━━\u001b[0m\u001b[37m\u001b[0m \u001b[1m2s\u001b[0m 28ms/step - accuracy: 0.7923 - loss: 0.4473 - val_accuracy: 0.7264 - val_loss: 0.5415\n",
      "Epoch 48/100\n",
      "\u001b[1m80/80\u001b[0m \u001b[32m━━━━━━━━━━━━━━━━━━━━\u001b[0m\u001b[37m\u001b[0m \u001b[1m2s\u001b[0m 27ms/step - accuracy: 0.7727 - loss: 0.4512 - val_accuracy: 0.7311 - val_loss: 0.5485\n",
      "Epoch 49/100\n",
      "\u001b[1m80/80\u001b[0m \u001b[32m━━━━━━━━━━━━━━━━━━━━\u001b[0m\u001b[37m\u001b[0m \u001b[1m2s\u001b[0m 27ms/step - accuracy: 0.7721 - loss: 0.4462 - val_accuracy: 0.7217 - val_loss: 0.5393\n",
      "Epoch 50/100\n",
      "\u001b[1m80/80\u001b[0m \u001b[32m━━━━━━━━━━━━━━━━━━━━\u001b[0m\u001b[37m\u001b[0m \u001b[1m2s\u001b[0m 26ms/step - accuracy: 0.7906 - loss: 0.4344 - val_accuracy: 0.7421 - val_loss: 0.5441\n",
      "Epoch 51/100\n",
      "\u001b[1m80/80\u001b[0m \u001b[32m━━━━━━━━━━━━━━━━━━━━\u001b[0m\u001b[37m\u001b[0m \u001b[1m2s\u001b[0m 26ms/step - accuracy: 0.7801 - loss: 0.4601 - val_accuracy: 0.7358 - val_loss: 0.5392\n",
      "Epoch 52/100\n",
      "\u001b[1m80/80\u001b[0m \u001b[32m━━━━━━━━━━━━━━━━━━━━\u001b[0m\u001b[37m\u001b[0m \u001b[1m2s\u001b[0m 30ms/step - accuracy: 0.8013 - loss: 0.4344 - val_accuracy: 0.7343 - val_loss: 0.5485\n",
      "Epoch 53/100\n",
      "\u001b[1m80/80\u001b[0m \u001b[32m━━━━━━━━━━━━━━━━━━━━\u001b[0m\u001b[37m\u001b[0m \u001b[1m2s\u001b[0m 28ms/step - accuracy: 0.7808 - loss: 0.4503 - val_accuracy: 0.7453 - val_loss: 0.5452\n",
      "Epoch 54/100\n",
      "\u001b[1m80/80\u001b[0m \u001b[32m━━━━━━━━━━━━━━━━━━━━\u001b[0m\u001b[37m\u001b[0m \u001b[1m2s\u001b[0m 26ms/step - accuracy: 0.7793 - loss: 0.4423 - val_accuracy: 0.7170 - val_loss: 0.5677\n",
      "Epoch 55/100\n",
      "\u001b[1m80/80\u001b[0m \u001b[32m━━━━━━━━━━━━━━━━━━━━\u001b[0m\u001b[37m\u001b[0m \u001b[1m2s\u001b[0m 26ms/step - accuracy: 0.8032 - loss: 0.4195 - val_accuracy: 0.7170 - val_loss: 0.5558\n",
      "Epoch 56/100\n",
      "\u001b[1m80/80\u001b[0m \u001b[32m━━━━━━━━━━━━━━━━━━━━\u001b[0m\u001b[37m\u001b[0m \u001b[1m2s\u001b[0m 28ms/step - accuracy: 0.7716 - loss: 0.4415 - val_accuracy: 0.7311 - val_loss: 0.5439\n",
      "Epoch 57/100\n",
      "\u001b[1m80/80\u001b[0m \u001b[32m━━━━━━━━━━━━━━━━━━━━\u001b[0m\u001b[37m\u001b[0m \u001b[1m2s\u001b[0m 25ms/step - accuracy: 0.7897 - loss: 0.4453 - val_accuracy: 0.7437 - val_loss: 0.5507\n",
      "Epoch 58/100\n",
      "\u001b[1m80/80\u001b[0m \u001b[32m━━━━━━━━━━━━━━━━━━━━\u001b[0m\u001b[37m\u001b[0m \u001b[1m2s\u001b[0m 28ms/step - accuracy: 0.7908 - loss: 0.4194 - val_accuracy: 0.7327 - val_loss: 0.5523\n",
      "Epoch 59/100\n",
      "\u001b[1m80/80\u001b[0m \u001b[32m━━━━━━━━━━━━━━━━━━━━\u001b[0m\u001b[37m\u001b[0m \u001b[1m2s\u001b[0m 25ms/step - accuracy: 0.7978 - loss: 0.4266 - val_accuracy: 0.7327 - val_loss: 0.5430\n",
      "Epoch 60/100\n",
      "\u001b[1m80/80\u001b[0m \u001b[32m━━━━━━━━━━━━━━━━━━━━\u001b[0m\u001b[37m\u001b[0m \u001b[1m2s\u001b[0m 27ms/step - accuracy: 0.8032 - loss: 0.4022 - val_accuracy: 0.7516 - val_loss: 0.5581\n",
      "Epoch 61/100\n",
      "\u001b[1m80/80\u001b[0m \u001b[32m━━━━━━━━━━━━━━━━━━━━\u001b[0m\u001b[37m\u001b[0m \u001b[1m2s\u001b[0m 28ms/step - accuracy: 0.8138 - loss: 0.3997 - val_accuracy: 0.6934 - val_loss: 0.5923\n",
      "Epoch 62/100\n",
      "\u001b[1m80/80\u001b[0m \u001b[32m━━━━━━━━━━━━━━━━━━━━\u001b[0m\u001b[37m\u001b[0m \u001b[1m2s\u001b[0m 26ms/step - accuracy: 0.8067 - loss: 0.4098 - val_accuracy: 0.7311 - val_loss: 0.5697\n",
      "Epoch 63/100\n",
      "\u001b[1m80/80\u001b[0m \u001b[32m━━━━━━━━━━━━━━━━━━━━\u001b[0m\u001b[37m\u001b[0m \u001b[1m2s\u001b[0m 26ms/step - accuracy: 0.8208 - loss: 0.4028 - val_accuracy: 0.7437 - val_loss: 0.5565\n",
      "Epoch 64/100\n",
      "\u001b[1m80/80\u001b[0m \u001b[32m━━━━━━━━━━━━━━━━━━━━\u001b[0m\u001b[37m\u001b[0m \u001b[1m2s\u001b[0m 27ms/step - accuracy: 0.7787 - loss: 0.4382 - val_accuracy: 0.7390 - val_loss: 0.5796\n",
      "Epoch 65/100\n",
      "\u001b[1m80/80\u001b[0m \u001b[32m━━━━━━━━━━━━━━━━━━━━\u001b[0m\u001b[37m\u001b[0m \u001b[1m2s\u001b[0m 26ms/step - accuracy: 0.8019 - loss: 0.4104 - val_accuracy: 0.7217 - val_loss: 0.5538\n",
      "Epoch 66/100\n",
      "\u001b[1m80/80\u001b[0m \u001b[32m━━━━━━━━━━━━━━━━━━━━\u001b[0m\u001b[37m\u001b[0m \u001b[1m2s\u001b[0m 26ms/step - accuracy: 0.8095 - loss: 0.3934 - val_accuracy: 0.7343 - val_loss: 0.5932\n",
      "Epoch 67/100\n",
      "\u001b[1m80/80\u001b[0m \u001b[32m━━━━━━━━━━━━━━━━━━━━\u001b[0m\u001b[37m\u001b[0m \u001b[1m2s\u001b[0m 27ms/step - accuracy: 0.7966 - loss: 0.4152 - val_accuracy: 0.7358 - val_loss: 0.5488\n",
      "Epoch 68/100\n",
      "\u001b[1m80/80\u001b[0m \u001b[32m━━━━━━━━━━━━━━━━━━━━\u001b[0m\u001b[37m\u001b[0m \u001b[1m2s\u001b[0m 28ms/step - accuracy: 0.8062 - loss: 0.3992 - val_accuracy: 0.7264 - val_loss: 0.5694\n",
      "Epoch 69/100\n",
      "\u001b[1m80/80\u001b[0m \u001b[32m━━━━━━━━━━━━━━━━━━━━\u001b[0m\u001b[37m\u001b[0m \u001b[1m2s\u001b[0m 28ms/step - accuracy: 0.8279 - loss: 0.3851 - val_accuracy: 0.7453 - val_loss: 0.5747\n",
      "Epoch 70/100\n",
      "\u001b[1m80/80\u001b[0m \u001b[32m━━━━━━━━━━━━━━━━━━━━\u001b[0m\u001b[37m\u001b[0m \u001b[1m2s\u001b[0m 27ms/step - accuracy: 0.8268 - loss: 0.3729 - val_accuracy: 0.7437 - val_loss: 0.5729\n",
      "Epoch 71/100\n",
      "\u001b[1m80/80\u001b[0m \u001b[32m━━━━━━━━━━━━━━━━━━━━\u001b[0m\u001b[37m\u001b[0m \u001b[1m2s\u001b[0m 28ms/step - accuracy: 0.8200 - loss: 0.3765 - val_accuracy: 0.7311 - val_loss: 0.5888\n",
      "Epoch 72/100\n",
      "\u001b[1m80/80\u001b[0m \u001b[32m━━━━━━━━━━━━━━━━━━━━\u001b[0m\u001b[37m\u001b[0m \u001b[1m2s\u001b[0m 27ms/step - accuracy: 0.8354 - loss: 0.3863 - val_accuracy: 0.7374 - val_loss: 0.5865\n",
      "Epoch 73/100\n",
      "\u001b[1m80/80\u001b[0m \u001b[32m━━━━━━━━━━━━━━━━━━━━\u001b[0m\u001b[37m\u001b[0m \u001b[1m2s\u001b[0m 27ms/step - accuracy: 0.8414 - loss: 0.3539 - val_accuracy: 0.7091 - val_loss: 0.5907\n",
      "Epoch 74/100\n",
      "\u001b[1m80/80\u001b[0m \u001b[32m━━━━━━━━━━━━━━━━━━━━\u001b[0m\u001b[37m\u001b[0m \u001b[1m2s\u001b[0m 28ms/step - accuracy: 0.8322 - loss: 0.3681 - val_accuracy: 0.7201 - val_loss: 0.6041\n",
      "Epoch 75/100\n",
      "\u001b[1m80/80\u001b[0m \u001b[32m━━━━━━━━━━━━━━━━━━━━\u001b[0m\u001b[37m\u001b[0m \u001b[1m2s\u001b[0m 26ms/step - accuracy: 0.8452 - loss: 0.3433 - val_accuracy: 0.7233 - val_loss: 0.5972\n",
      "Epoch 76/100\n",
      "\u001b[1m80/80\u001b[0m \u001b[32m━━━━━━━━━━━━━━━━━━━━\u001b[0m\u001b[37m\u001b[0m \u001b[1m2s\u001b[0m 26ms/step - accuracy: 0.8329 - loss: 0.3693 - val_accuracy: 0.7469 - val_loss: 0.5897\n",
      "Epoch 77/100\n",
      "\u001b[1m80/80\u001b[0m \u001b[32m━━━━━━━━━━━━━━━━━━━━\u001b[0m\u001b[37m\u001b[0m \u001b[1m2s\u001b[0m 28ms/step - accuracy: 0.8230 - loss: 0.3822 - val_accuracy: 0.7421 - val_loss: 0.5973\n",
      "Epoch 78/100\n",
      "\u001b[1m80/80\u001b[0m \u001b[32m━━━━━━━━━━━━━━━━━━━━\u001b[0m\u001b[37m\u001b[0m \u001b[1m2s\u001b[0m 27ms/step - accuracy: 0.8414 - loss: 0.3458 - val_accuracy: 0.7374 - val_loss: 0.6028\n",
      "Epoch 79/100\n",
      "\u001b[1m80/80\u001b[0m \u001b[32m━━━━━━━━━━━━━━━━━━━━\u001b[0m\u001b[37m\u001b[0m \u001b[1m2s\u001b[0m 27ms/step - accuracy: 0.8360 - loss: 0.3500 - val_accuracy: 0.7311 - val_loss: 0.6275\n",
      "Epoch 80/100\n",
      "\u001b[1m80/80\u001b[0m \u001b[32m━━━━━━━━━━━━━━━━━━━━\u001b[0m\u001b[37m\u001b[0m \u001b[1m2s\u001b[0m 29ms/step - accuracy: 0.8378 - loss: 0.3532 - val_accuracy: 0.7091 - val_loss: 0.5806\n",
      "Epoch 81/100\n",
      "\u001b[1m80/80\u001b[0m \u001b[32m━━━━━━━━━━━━━━━━━━━━\u001b[0m\u001b[37m\u001b[0m \u001b[1m2s\u001b[0m 29ms/step - accuracy: 0.8509 - loss: 0.3424 - val_accuracy: 0.7233 - val_loss: 0.6276\n",
      "Epoch 82/100\n",
      "\u001b[1m80/80\u001b[0m \u001b[32m━━━━━━━━━━━━━━━━━━━━\u001b[0m\u001b[37m\u001b[0m \u001b[1m2s\u001b[0m 29ms/step - accuracy: 0.8329 - loss: 0.3560 - val_accuracy: 0.7484 - val_loss: 0.6134\n",
      "Epoch 83/100\n",
      "\u001b[1m80/80\u001b[0m \u001b[32m━━━━━━━━━━━━━━━━━━━━\u001b[0m\u001b[37m\u001b[0m \u001b[1m2s\u001b[0m 30ms/step - accuracy: 0.8552 - loss: 0.3333 - val_accuracy: 0.7233 - val_loss: 0.6173\n",
      "Epoch 84/100\n",
      "\u001b[1m80/80\u001b[0m \u001b[32m━━━━━━━━━━━━━━━━━━━━\u001b[0m\u001b[37m\u001b[0m \u001b[1m2s\u001b[0m 30ms/step - accuracy: 0.8647 - loss: 0.3167 - val_accuracy: 0.7154 - val_loss: 0.6167\n",
      "Epoch 85/100\n",
      "\u001b[1m80/80\u001b[0m \u001b[32m━━━━━━━━━━━━━━━━━━━━\u001b[0m\u001b[37m\u001b[0m \u001b[1m2s\u001b[0m 29ms/step - accuracy: 0.8456 - loss: 0.3445 - val_accuracy: 0.7280 - val_loss: 0.6241\n",
      "Epoch 86/100\n",
      "\u001b[1m80/80\u001b[0m \u001b[32m━━━━━━━━━━━━━━━━━━━━\u001b[0m\u001b[37m\u001b[0m \u001b[1m2s\u001b[0m 30ms/step - accuracy: 0.8618 - loss: 0.3281 - val_accuracy: 0.7421 - val_loss: 0.6287\n",
      "Epoch 87/100\n",
      "\u001b[1m80/80\u001b[0m \u001b[32m━━━━━━━━━━━━━━━━━━━━\u001b[0m\u001b[37m\u001b[0m \u001b[1m2s\u001b[0m 29ms/step - accuracy: 0.8366 - loss: 0.3488 - val_accuracy: 0.7390 - val_loss: 0.6159\n",
      "Epoch 87: early stopping\n",
      "Restoring model weights from the end of the best epoch: 37.\n"
     ]
    }
   ],
   "source": [
    "# Compilamos el modelo\n",
    "model_int_LSTM.compile(optimizer=optimizers.Adam(learning_rate=0.001), loss='binary_crossentropy', metrics=['accuracy'])\n",
    "\n",
    "# Enntrenamos el modelo\n",
    "history = model_int_LSTM.fit(X_train_f, y_train_f, epochs=100, batch_size=32, validation_data=(X_val_f, y_val_f), callbacks=[early_stopping])"
   ]
  },
  {
   "cell_type": "code",
   "execution_count": 93,
   "metadata": {},
   "outputs": [
    {
     "data": {
      "image/png": "[encoded data removed]",
      "text/plain": [
       "<Figure size 1000x600 with 1 Axes>"
      ]
     },
     "metadata": {},
     "output_type": "display_data"
    }
   ],
   "source": [
    "plt.figure(figsize=(10, 6))\n",
    "plt.plot(history.history['val_accuracy'], label='Precisión de validación')\n",
    "plt.plot(history.history['val_loss'], label= 'Función de pérdida en validación')\n",
    "plt.axvline(x=np.argmax(history.history['val_accuracy']), color='r', linestyle='-', linewidth=1, label='Early Stopping Mejor modelo')\n",
    "plt.xlabel('Épocas')\n",
    "plt.ylabel('Precisión y Pérdida')\n",
    "plt.legend()\n",
    "plt.show()"
   ]
  },
  {
   "cell_type": "code",
   "execution_count": 94,
   "metadata": {},
   "outputs": [
    {
     "name": "stdout",
     "output_type": "stream",
     "text": [
      "\u001b[1m25/25\u001b[0m \u001b[32m━━━━━━━━━━━━━━━━━━━━\u001b[0m\u001b[37m\u001b[0m \u001b[1m0s\u001b[0m 10ms/step - accuracy: 0.7328 - loss: 0.5387\n",
      "Test Accuracy: 0.7270440459251404\n",
      "Test Loss: 0.5528684258460999\n"
     ]
    }
   ],
   "source": [
    "# Testeo, predicción y evaluación del modelo\n",
    "test_loss, test_acc = model_int_LSTM.evaluate(X_test_padded, y_test)\n",
    "print(f\"Test Accuracy: {test_acc}\")\n",
    "print(f\"Test Loss: {test_loss}\")\n"
   ]
  },
  {
   "cell_type": "markdown",
   "metadata": {},
   "source": [
    "**El modelo con arquitectura LSTM y codificación Integer clasifica correctamente el 72.7% - 73.28% de los ejemplos de prueba.**"
   ]
  },
  {
   "cell_type": "markdown",
   "metadata": {},
   "source": [
    "**E3:** Repite el ejercicio anterior, pero utilizando una codificación *one-hot*. ¿Qué ventaja ofrece la codificación *one-hot* sobre *integer*? ¿Se podría utilizar la codificación *one-hot* para procesar lenguaje natural? ¿por qué?\n",
    "\n",
    "- **La principal ventaja que ofrece one-hot sobre integer es el hecho de que su tipo de codificación proporciona un tamaño de vector igual para todos los péptidos mientras que con la codificación integer eso no ocurre y tenemos que aplicar un padding previo para que todos los vectores de los péptidos tengan el mismo tamaño.**\n",
    "\n",
    "\n",
    "**Como poder, se pueder utilizar, pero es mejor no utilizarla por diversos motivos:**\n",
    "- 1) En el entrenamiento con corpus de muchos tokens distintos, tamaño del vocabulario gigante, tendremos unos vectores muy dispersos y con una dimensionalidad muy elevada.\n",
    "\n",
    "- 2) Esa representación vectorial no permite codificar ningún tipo de información sintáctica o semántica, todos los tokens se encuentran a la misma distancia entre sí mientras que, como bien sabemos, en el lenguaje hay palabras que se parecen más y otras que se parecen menos, entonces, tendrá todo el sentido que los vectores de aquellos tokens similares se encuentren cerca en el espacio vectorial.\n",
    "\n",
    "Esta capacidad de codificar la información semántica intrínseca de cada token en los vectores llega con los embeddings, vectores densos que se construyen utilizando el contexto que proporcionan los tokens previos y posteriores al token a codificar. Proporcionan una representación mucho más informativa de cada uno de los tokens y con la ventaja de reducir considerablemente las dimensiones de los vectores."
   ]
  },
  {
   "cell_type": "code",
   "execution_count": 95,
   "metadata": {},
   "outputs": [],
   "source": [
    "# Codificación Multi-hot para el modelo LSTM\n",
    "X_train_encoded = vectorizer_hot(X_train)\n",
    "X_test_encoded = vectorizer_hot(X_test)\n",
    "\n",
    "# Obtención del 20% de los datos de entrenamiento para validación del modelo durante el proceso de entrenamiento\n",
    "X_train_f, X_val_f, y_train_f, y_val_f = train_test_split(np.array(X_train_encoded), y_train, test_size=0.2, random_state=2025, stratify=y_train)\n",
    "\n",
    "# Conversión de las etiquetas a arrays de numpy para su uso en la red neuronal\n",
    "y_train_f = np.array(y_train_f)\n",
    "y_val_f = np.array(y_val_f)\n",
    "y_test = np.array(y_test)"
   ]
  },
  {
   "cell_type": "code",
   "execution_count": 96,
   "metadata": {},
   "outputs": [
    {
     "name": "stdout",
     "output_type": "stream",
     "text": [
      "Tamaño del vocabulario: 25\n"
     ]
    }
   ],
   "source": [
    "print('Tamaño del vocabulario:', len(vectorizer_hot.get_vocabulary()))"
   ]
  },
  {
   "cell_type": "code",
   "execution_count": 97,
   "metadata": {},
   "outputs": [
    {
     "data": {
      "text/html": [
       "<pre style=\"white-space:pre;overflow-x:auto;line-height:normal;font-family:Menlo,'DejaVu Sans Mono',consolas,'Courier New',monospace\"><span style=\"font-weight: bold\">Model: \"sequential_2\"</span>\n",
       "</pre>\n"
      ],
      "text/plain": [
       "\u001b[1mModel: \"sequential_2\"\u001b[0m\n"
      ]
     },
     "metadata": {},
     "output_type": "display_data"
    },
    {
     "data": {
      "text/html": [
       "<pre style=\"white-space:pre;overflow-x:auto;line-height:normal;font-family:Menlo,'DejaVu Sans Mono',consolas,'Courier New',monospace\">┏━━━━━━━━━━━━━━━━━━━━━━━━━━━━━━━━━┳━━━━━━━━━━━━━━━━━━━━━━━━┳━━━━━━━━━━━━━━━┓\n",
       "┃<span style=\"font-weight: bold\"> Layer (type)                    </span>┃<span style=\"font-weight: bold\"> Output Shape           </span>┃<span style=\"font-weight: bold\">       Param # </span>┃\n",
       "┡━━━━━━━━━━━━━━━━━━━━━━━━━━━━━━━━━╇━━━━━━━━━━━━━━━━━━━━━━━━╇━━━━━━━━━━━━━━━┩\n",
       "│ bidirectional_2 (<span style=\"color: #0087ff; text-decoration-color: #0087ff\">Bidirectional</span>) │ (<span style=\"color: #00d7ff; text-decoration-color: #00d7ff\">None</span>, <span style=\"color: #00af00; text-decoration-color: #00af00\">100</span>)            │        <span style=\"color: #00af00; text-decoration-color: #00af00\">20,800</span> │\n",
       "├─────────────────────────────────┼────────────────────────┼───────────────┤\n",
       "│ dense_4 (<span style=\"color: #0087ff; text-decoration-color: #0087ff\">Dense</span>)                 │ (<span style=\"color: #00d7ff; text-decoration-color: #00d7ff\">None</span>, <span style=\"color: #00af00; text-decoration-color: #00af00\">64</span>)             │         <span style=\"color: #00af00; text-decoration-color: #00af00\">6,464</span> │\n",
       "├─────────────────────────────────┼────────────────────────┼───────────────┤\n",
       "│ dense_5 (<span style=\"color: #0087ff; text-decoration-color: #0087ff\">Dense</span>)                 │ (<span style=\"color: #00d7ff; text-decoration-color: #00d7ff\">None</span>, <span style=\"color: #00af00; text-decoration-color: #00af00\">1</span>)              │            <span style=\"color: #00af00; text-decoration-color: #00af00\">65</span> │\n",
       "└─────────────────────────────────┴────────────────────────┴───────────────┘\n",
       "</pre>\n"
      ],
      "text/plain": [
       "┏━━━━━━━━━━━━━━━━━━━━━━━━━━━━━━━━━┳━━━━━━━━━━━━━━━━━━━━━━━━┳━━━━━━━━━━━━━━━┓\n",
       "┃\u001b[1m \u001b[0m\u001b[1mLayer (type)                   \u001b[0m\u001b[1m \u001b[0m┃\u001b[1m \u001b[0m\u001b[1mOutput Shape          \u001b[0m\u001b[1m \u001b[0m┃\u001b[1m \u001b[0m\u001b[1m      Param #\u001b[0m\u001b[1m \u001b[0m┃\n",
       "┡━━━━━━━━━━━━━━━━━━━━━━━━━━━━━━━━━╇━━━━━━━━━━━━━━━━━━━━━━━━╇━━━━━━━━━━━━━━━┩\n",
       "│ bidirectional_2 (\u001b[38;5;33mBidirectional\u001b[0m) │ (\u001b[38;5;45mNone\u001b[0m, \u001b[38;5;34m100\u001b[0m)            │        \u001b[38;5;34m20,800\u001b[0m │\n",
       "├─────────────────────────────────┼────────────────────────┼───────────────┤\n",
       "│ dense_4 (\u001b[38;5;33mDense\u001b[0m)                 │ (\u001b[38;5;45mNone\u001b[0m, \u001b[38;5;34m64\u001b[0m)             │         \u001b[38;5;34m6,464\u001b[0m │\n",
       "├─────────────────────────────────┼────────────────────────┼───────────────┤\n",
       "│ dense_5 (\u001b[38;5;33mDense\u001b[0m)                 │ (\u001b[38;5;45mNone\u001b[0m, \u001b[38;5;34m1\u001b[0m)              │            \u001b[38;5;34m65\u001b[0m │\n",
       "└─────────────────────────────────┴────────────────────────┴───────────────┘\n"
      ]
     },
     "metadata": {},
     "output_type": "display_data"
    },
    {
     "data": {
      "text/html": [
       "<pre style=\"white-space:pre;overflow-x:auto;line-height:normal;font-family:Menlo,'DejaVu Sans Mono',consolas,'Courier New',monospace\"><span style=\"font-weight: bold\"> Total params: </span><span style=\"color: #00af00; text-decoration-color: #00af00\">27,329</span> (106.75 KB)\n",
       "</pre>\n"
      ],
      "text/plain": [
       "\u001b[1m Total params: \u001b[0m\u001b[38;5;34m27,329\u001b[0m (106.75 KB)\n"
      ]
     },
     "metadata": {},
     "output_type": "display_data"
    },
    {
     "data": {
      "text/html": [
       "<pre style=\"white-space:pre;overflow-x:auto;line-height:normal;font-family:Menlo,'DejaVu Sans Mono',consolas,'Courier New',monospace\"><span style=\"font-weight: bold\"> Trainable params: </span><span style=\"color: #00af00; text-decoration-color: #00af00\">27,329</span> (106.75 KB)\n",
       "</pre>\n"
      ],
      "text/plain": [
       "\u001b[1m Trainable params: \u001b[0m\u001b[38;5;34m27,329\u001b[0m (106.75 KB)\n"
      ]
     },
     "metadata": {},
     "output_type": "display_data"
    },
    {
     "data": {
      "text/html": [
       "<pre style=\"white-space:pre;overflow-x:auto;line-height:normal;font-family:Menlo,'DejaVu Sans Mono',consolas,'Courier New',monospace\"><span style=\"font-weight: bold\"> Non-trainable params: </span><span style=\"color: #00af00; text-decoration-color: #00af00\">0</span> (0.00 B)\n",
       "</pre>\n"
      ],
      "text/plain": [
       "\u001b[1m Non-trainable params: \u001b[0m\u001b[38;5;34m0\u001b[0m (0.00 B)\n"
      ]
     },
     "metadata": {},
     "output_type": "display_data"
    }
   ],
   "source": [
    "# Construcción del modelo\n",
    "vocab_size = len(vectorizer_hot.get_vocabulary())  # Tamaño del vocabulario\n",
    "\n",
    "model_multi_hot_LSTM = Sequential([\n",
    "    layers.Input(shape=(vocab_size, 1)),  \n",
    "    Bidirectional(LSTM(50, return_sequences=False)),  # LSTM bidireccional con 50 células\n",
    "    Dense(64, activation='relu'),  # Capa oculta con 64 neuronas\n",
    "    Dense(1, activation='sigmoid')  \n",
    "])\n",
    "\n",
    "# Resumen del modelo\n",
    "model_multi_hot_LSTM.summary()"
   ]
  },
  {
   "cell_type": "code",
   "execution_count": 98,
   "metadata": {},
   "outputs": [
    {
     "name": "stdout",
     "output_type": "stream",
     "text": [
      "Epoch 1/100\n",
      "\u001b[1m80/80\u001b[0m \u001b[32m━━━━━━━━━━━━━━━━━━━━\u001b[0m\u001b[37m\u001b[0m \u001b[1m4s\u001b[0m 15ms/step - accuracy: 0.5267 - loss: 0.6925 - val_accuracy: 0.5189 - val_loss: 0.6867\n",
      "Epoch 2/100\n",
      "\u001b[1m80/80\u001b[0m \u001b[32m━━━━━━━━━━━━━━━━━━━━\u001b[0m\u001b[37m\u001b[0m \u001b[1m1s\u001b[0m 9ms/step - accuracy: 0.5348 - loss: 0.6844 - val_accuracy: 0.5881 - val_loss: 0.6613\n",
      "Epoch 3/100\n",
      "\u001b[1m80/80\u001b[0m \u001b[32m━━━━━━━━━━━━━━━━━━━━\u001b[0m\u001b[37m\u001b[0m \u001b[1m1s\u001b[0m 10ms/step - accuracy: 0.6148 - loss: 0.6628 - val_accuracy: 0.6164 - val_loss: 0.6417\n",
      "Epoch 4/100\n",
      "\u001b[1m80/80\u001b[0m \u001b[32m━━━━━━━━━━━━━━━━━━━━\u001b[0m\u001b[37m\u001b[0m \u001b[1m1s\u001b[0m 9ms/step - accuracy: 0.6192 - loss: 0.6450 - val_accuracy: 0.6368 - val_loss: 0.6465\n",
      "Epoch 5/100\n",
      "\u001b[1m80/80\u001b[0m \u001b[32m━━━━━━━━━━━━━━━━━━━━\u001b[0m\u001b[37m\u001b[0m \u001b[1m1s\u001b[0m 10ms/step - accuracy: 0.6266 - loss: 0.6374 - val_accuracy: 0.6289 - val_loss: 0.6292\n",
      "Epoch 6/100\n",
      "\u001b[1m80/80\u001b[0m \u001b[32m━━━━━━━━━━━━━━━━━━━━\u001b[0m\u001b[37m\u001b[0m \u001b[1m1s\u001b[0m 9ms/step - accuracy: 0.6345 - loss: 0.6273 - val_accuracy: 0.6368 - val_loss: 0.6289\n",
      "Epoch 7/100\n",
      "\u001b[1m80/80\u001b[0m \u001b[32m━━━━━━━━━━━━━━━━━━━━\u001b[0m\u001b[37m\u001b[0m \u001b[1m1s\u001b[0m 9ms/step - accuracy: 0.6540 - loss: 0.6216 - val_accuracy: 0.6588 - val_loss: 0.6141\n",
      "Epoch 8/100\n",
      "\u001b[1m80/80\u001b[0m \u001b[32m━━━━━━━━━━━━━━━━━━━━\u001b[0m\u001b[37m\u001b[0m \u001b[1m1s\u001b[0m 9ms/step - accuracy: 0.6418 - loss: 0.6202 - val_accuracy: 0.6274 - val_loss: 0.6304\n",
      "Epoch 9/100\n",
      "\u001b[1m80/80\u001b[0m \u001b[32m━━━━━━━━━━━━━━━━━━━━\u001b[0m\u001b[37m\u001b[0m \u001b[1m1s\u001b[0m 10ms/step - accuracy: 0.6618 - loss: 0.6076 - val_accuracy: 0.6399 - val_loss: 0.6240\n",
      "Epoch 10/100\n",
      "\u001b[1m80/80\u001b[0m \u001b[32m━━━━━━━━━━━━━━━━━━━━\u001b[0m\u001b[37m\u001b[0m \u001b[1m1s\u001b[0m 9ms/step - accuracy: 0.6762 - loss: 0.5882 - val_accuracy: 0.6415 - val_loss: 0.6142\n",
      "Epoch 11/100\n",
      "\u001b[1m80/80\u001b[0m \u001b[32m━━━━━━━━━━━━━━━━━━━━\u001b[0m\u001b[37m\u001b[0m \u001b[1m1s\u001b[0m 9ms/step - accuracy: 0.6654 - loss: 0.6070 - val_accuracy: 0.6635 - val_loss: 0.6151\n",
      "Epoch 12/100\n",
      "\u001b[1m80/80\u001b[0m \u001b[32m━━━━━━━━━━━━━━━━━━━━\u001b[0m\u001b[37m\u001b[0m \u001b[1m1s\u001b[0m 9ms/step - accuracy: 0.6763 - loss: 0.5896 - val_accuracy: 0.6399 - val_loss: 0.6144\n",
      "Epoch 13/100\n",
      "\u001b[1m80/80\u001b[0m \u001b[32m━━━━━━━━━━━━━━━━━━━━\u001b[0m\u001b[37m\u001b[0m \u001b[1m1s\u001b[0m 9ms/step - accuracy: 0.6766 - loss: 0.6019 - val_accuracy: 0.6478 - val_loss: 0.6121\n",
      "Epoch 14/100\n",
      "\u001b[1m80/80\u001b[0m \u001b[32m━━━━━━━━━━━━━━━━━━━━\u001b[0m\u001b[37m\u001b[0m \u001b[1m1s\u001b[0m 9ms/step - accuracy: 0.6727 - loss: 0.6056 - val_accuracy: 0.6494 - val_loss: 0.6072\n",
      "Epoch 15/100\n",
      "\u001b[1m80/80\u001b[0m \u001b[32m━━━━━━━━━━━━━━━━━━━━\u001b[0m\u001b[37m\u001b[0m \u001b[1m1s\u001b[0m 9ms/step - accuracy: 0.6891 - loss: 0.5792 - val_accuracy: 0.6352 - val_loss: 0.6364\n",
      "Epoch 16/100\n",
      "\u001b[1m80/80\u001b[0m \u001b[32m━━━━━━━━━━━━━━━━━━━━\u001b[0m\u001b[37m\u001b[0m \u001b[1m1s\u001b[0m 9ms/step - accuracy: 0.6707 - loss: 0.5978 - val_accuracy: 0.6541 - val_loss: 0.6103\n",
      "Epoch 17/100\n",
      "\u001b[1m80/80\u001b[0m \u001b[32m━━━━━━━━━━━━━━━━━━━━\u001b[0m\u001b[37m\u001b[0m \u001b[1m1s\u001b[0m 10ms/step - accuracy: 0.6910 - loss: 0.5806 - val_accuracy: 0.6572 - val_loss: 0.6089\n",
      "Epoch 18/100\n",
      "\u001b[1m80/80\u001b[0m \u001b[32m━━━━━━━━━━━━━━━━━━━━\u001b[0m\u001b[37m\u001b[0m \u001b[1m1s\u001b[0m 8ms/step - accuracy: 0.6867 - loss: 0.5899 - val_accuracy: 0.6635 - val_loss: 0.6045\n",
      "Epoch 19/100\n",
      "\u001b[1m80/80\u001b[0m \u001b[32m━━━━━━━━━━━━━━━━━━━━\u001b[0m\u001b[37m\u001b[0m \u001b[1m1s\u001b[0m 8ms/step - accuracy: 0.6965 - loss: 0.5776 - val_accuracy: 0.6572 - val_loss: 0.6037\n",
      "Epoch 20/100\n",
      "\u001b[1m80/80\u001b[0m \u001b[32m━━━━━━━━━━━━━━━━━━━━\u001b[0m\u001b[37m\u001b[0m \u001b[1m1s\u001b[0m 8ms/step - accuracy: 0.7081 - loss: 0.5543 - val_accuracy: 0.6588 - val_loss: 0.6108\n",
      "Epoch 21/100\n",
      "\u001b[1m80/80\u001b[0m \u001b[32m━━━━━━━━━━━━━━━━━━━━\u001b[0m\u001b[37m\u001b[0m \u001b[1m1s\u001b[0m 8ms/step - accuracy: 0.6887 - loss: 0.5813 - val_accuracy: 0.6588 - val_loss: 0.6054\n",
      "Epoch 22/100\n",
      "\u001b[1m80/80\u001b[0m \u001b[32m━━━━━━━━━━━━━━━━━━━━\u001b[0m\u001b[37m\u001b[0m \u001b[1m1s\u001b[0m 8ms/step - accuracy: 0.7033 - loss: 0.5570 - val_accuracy: 0.6431 - val_loss: 0.6302\n",
      "Epoch 23/100\n",
      "\u001b[1m80/80\u001b[0m \u001b[32m━━━━━━━━━━━━━━━━━━━━\u001b[0m\u001b[37m\u001b[0m \u001b[1m1s\u001b[0m 8ms/step - accuracy: 0.6991 - loss: 0.5674 - val_accuracy: 0.6258 - val_loss: 0.6701\n",
      "Epoch 24/100\n",
      "\u001b[1m80/80\u001b[0m \u001b[32m━━━━━━━━━━━━━━━━━━━━\u001b[0m\u001b[37m\u001b[0m \u001b[1m1s\u001b[0m 8ms/step - accuracy: 0.6941 - loss: 0.5741 - val_accuracy: 0.6462 - val_loss: 0.6132\n",
      "Epoch 25/100\n",
      "\u001b[1m80/80\u001b[0m \u001b[32m━━━━━━━━━━━━━━━━━━━━\u001b[0m\u001b[37m\u001b[0m \u001b[1m1s\u001b[0m 9ms/step - accuracy: 0.7018 - loss: 0.5611 - val_accuracy: 0.6792 - val_loss: 0.6099\n",
      "Epoch 26/100\n",
      "\u001b[1m80/80\u001b[0m \u001b[32m━━━━━━━━━━━━━━━━━━━━\u001b[0m\u001b[37m\u001b[0m \u001b[1m1s\u001b[0m 10ms/step - accuracy: 0.7157 - loss: 0.5529 - val_accuracy: 0.6352 - val_loss: 0.6234\n",
      "Epoch 27/100\n",
      "\u001b[1m80/80\u001b[0m \u001b[32m━━━━━━━━━━━━━━━━━━━━\u001b[0m\u001b[37m\u001b[0m \u001b[1m1s\u001b[0m 9ms/step - accuracy: 0.7080 - loss: 0.5628 - val_accuracy: 0.6635 - val_loss: 0.6085\n",
      "Epoch 28/100\n",
      "\u001b[1m80/80\u001b[0m \u001b[32m━━━━━━━━━━━━━━━━━━━━\u001b[0m\u001b[37m\u001b[0m \u001b[1m1s\u001b[0m 10ms/step - accuracy: 0.7145 - loss: 0.5494 - val_accuracy: 0.6682 - val_loss: 0.6039\n",
      "Epoch 29/100\n",
      "\u001b[1m80/80\u001b[0m \u001b[32m━━━━━━━━━━━━━━━━━━━━\u001b[0m\u001b[37m\u001b[0m \u001b[1m1s\u001b[0m 8ms/step - accuracy: 0.7200 - loss: 0.5480 - val_accuracy: 0.6682 - val_loss: 0.6085\n",
      "Epoch 30/100\n",
      "\u001b[1m80/80\u001b[0m \u001b[32m━━━━━━━━━━━━━━━━━━━━\u001b[0m\u001b[37m\u001b[0m \u001b[1m1s\u001b[0m 9ms/step - accuracy: 0.7387 - loss: 0.5222 - val_accuracy: 0.6667 - val_loss: 0.6047\n",
      "Epoch 31/100\n",
      "\u001b[1m80/80\u001b[0m \u001b[32m━━━━━━━━━━━━━━━━━━━━\u001b[0m\u001b[37m\u001b[0m \u001b[1m1s\u001b[0m 9ms/step - accuracy: 0.7099 - loss: 0.5560 - val_accuracy: 0.6871 - val_loss: 0.5964\n",
      "Epoch 32/100\n",
      "\u001b[1m80/80\u001b[0m \u001b[32m━━━━━━━━━━━━━━━━━━━━\u001b[0m\u001b[37m\u001b[0m \u001b[1m1s\u001b[0m 10ms/step - accuracy: 0.7256 - loss: 0.5448 - val_accuracy: 0.6855 - val_loss: 0.6030\n",
      "Epoch 33/100\n",
      "\u001b[1m80/80\u001b[0m \u001b[32m━━━━━━━━━━━━━━━━━━━━\u001b[0m\u001b[37m\u001b[0m \u001b[1m1s\u001b[0m 9ms/step - accuracy: 0.7223 - loss: 0.5340 - val_accuracy: 0.6682 - val_loss: 0.6109\n",
      "Epoch 34/100\n",
      "\u001b[1m80/80\u001b[0m \u001b[32m━━━━━━━━━━━━━━━━━━━━\u001b[0m\u001b[37m\u001b[0m \u001b[1m1s\u001b[0m 9ms/step - accuracy: 0.7347 - loss: 0.5231 - val_accuracy: 0.6745 - val_loss: 0.5950\n",
      "Epoch 35/100\n",
      "\u001b[1m80/80\u001b[0m \u001b[32m━━━━━━━━━━━━━━━━━━━━\u001b[0m\u001b[37m\u001b[0m \u001b[1m1s\u001b[0m 9ms/step - accuracy: 0.7261 - loss: 0.5383 - val_accuracy: 0.6792 - val_loss: 0.6233\n",
      "Epoch 36/100\n",
      "\u001b[1m80/80\u001b[0m \u001b[32m━━━━━━━━━━━━━━━━━━━━\u001b[0m\u001b[37m\u001b[0m \u001b[1m1s\u001b[0m 10ms/step - accuracy: 0.7248 - loss: 0.5324 - val_accuracy: 0.6824 - val_loss: 0.5950\n",
      "Epoch 37/100\n",
      "\u001b[1m80/80\u001b[0m \u001b[32m━━━━━━━━━━━━━━━━━━━━\u001b[0m\u001b[37m\u001b[0m \u001b[1m1s\u001b[0m 9ms/step - accuracy: 0.7273 - loss: 0.5278 - val_accuracy: 0.6635 - val_loss: 0.6108\n",
      "Epoch 38/100\n",
      "\u001b[1m80/80\u001b[0m \u001b[32m━━━━━━━━━━━━━━━━━━━━\u001b[0m\u001b[37m\u001b[0m \u001b[1m1s\u001b[0m 9ms/step - accuracy: 0.7273 - loss: 0.5396 - val_accuracy: 0.6667 - val_loss: 0.6197\n",
      "Epoch 39/100\n",
      "\u001b[1m80/80\u001b[0m \u001b[32m━━━━━━━━━━━━━━━━━━━━\u001b[0m\u001b[37m\u001b[0m \u001b[1m1s\u001b[0m 9ms/step - accuracy: 0.7423 - loss: 0.5274 - val_accuracy: 0.6698 - val_loss: 0.6070\n",
      "Epoch 40/100\n",
      "\u001b[1m80/80\u001b[0m \u001b[32m━━━━━━━━━━━━━━━━━━━━\u001b[0m\u001b[37m\u001b[0m \u001b[1m1s\u001b[0m 9ms/step - accuracy: 0.7290 - loss: 0.5315 - val_accuracy: 0.6635 - val_loss: 0.6202\n",
      "Epoch 41/100\n",
      "\u001b[1m80/80\u001b[0m \u001b[32m━━━━━━━━━━━━━━━━━━━━\u001b[0m\u001b[37m\u001b[0m \u001b[1m1s\u001b[0m 9ms/step - accuracy: 0.7317 - loss: 0.5267 - val_accuracy: 0.6840 - val_loss: 0.6045\n",
      "Epoch 42/100\n",
      "\u001b[1m80/80\u001b[0m \u001b[32m━━━━━━━━━━━━━━━━━━━━\u001b[0m\u001b[37m\u001b[0m \u001b[1m1s\u001b[0m 10ms/step - accuracy: 0.7273 - loss: 0.5196 - val_accuracy: 0.6745 - val_loss: 0.6124\n",
      "Epoch 43/100\n",
      "\u001b[1m80/80\u001b[0m \u001b[32m━━━━━━━━━━━━━━━━━━━━\u001b[0m\u001b[37m\u001b[0m \u001b[1m1s\u001b[0m 10ms/step - accuracy: 0.7293 - loss: 0.5274 - val_accuracy: 0.6840 - val_loss: 0.6046\n",
      "Epoch 44/100\n",
      "\u001b[1m80/80\u001b[0m \u001b[32m━━━━━━━━━━━━━━━━━━━━\u001b[0m\u001b[37m\u001b[0m \u001b[1m1s\u001b[0m 10ms/step - accuracy: 0.7332 - loss: 0.5245 - val_accuracy: 0.6761 - val_loss: 0.6000\n",
      "Epoch 45/100\n",
      "\u001b[1m80/80\u001b[0m \u001b[32m━━━━━━━━━━━━━━━━━━━━\u001b[0m\u001b[37m\u001b[0m \u001b[1m1s\u001b[0m 9ms/step - accuracy: 0.7340 - loss: 0.5208 - val_accuracy: 0.6950 - val_loss: 0.6004\n",
      "Epoch 46/100\n",
      "\u001b[1m80/80\u001b[0m \u001b[32m━━━━━━━━━━━━━━━━━━━━\u001b[0m\u001b[37m\u001b[0m \u001b[1m1s\u001b[0m 9ms/step - accuracy: 0.7230 - loss: 0.5242 - val_accuracy: 0.6667 - val_loss: 0.6060\n",
      "Epoch 47/100\n",
      "\u001b[1m80/80\u001b[0m \u001b[32m━━━━━━━━━━━━━━━━━━━━\u001b[0m\u001b[37m\u001b[0m \u001b[1m1s\u001b[0m 9ms/step - accuracy: 0.7233 - loss: 0.5204 - val_accuracy: 0.6840 - val_loss: 0.6304\n",
      "Epoch 48/100\n",
      "\u001b[1m80/80\u001b[0m \u001b[32m━━━━━━━━━━━━━━━━━━━━\u001b[0m\u001b[37m\u001b[0m \u001b[1m1s\u001b[0m 9ms/step - accuracy: 0.7333 - loss: 0.5212 - val_accuracy: 0.6871 - val_loss: 0.5948\n",
      "Epoch 49/100\n",
      "\u001b[1m80/80\u001b[0m \u001b[32m━━━━━━━━━━━━━━━━━━━━\u001b[0m\u001b[37m\u001b[0m \u001b[1m1s\u001b[0m 10ms/step - accuracy: 0.7374 - loss: 0.5183 - val_accuracy: 0.6667 - val_loss: 0.6022\n",
      "Epoch 50/100\n",
      "\u001b[1m80/80\u001b[0m \u001b[32m━━━━━━━━━━━━━━━━━━━━\u001b[0m\u001b[37m\u001b[0m \u001b[1m1s\u001b[0m 8ms/step - accuracy: 0.7338 - loss: 0.5089 - val_accuracy: 0.6918 - val_loss: 0.6104\n",
      "Epoch 51/100\n",
      "\u001b[1m80/80\u001b[0m \u001b[32m━━━━━━━━━━━━━━━━━━━━\u001b[0m\u001b[37m\u001b[0m \u001b[1m1s\u001b[0m 11ms/step - accuracy: 0.7473 - loss: 0.4968 - val_accuracy: 0.6840 - val_loss: 0.5917\n",
      "Epoch 52/100\n",
      "\u001b[1m80/80\u001b[0m \u001b[32m━━━━━━━━━━━━━━━━━━━━\u001b[0m\u001b[37m\u001b[0m \u001b[1m1s\u001b[0m 9ms/step - accuracy: 0.7376 - loss: 0.5193 - val_accuracy: 0.6871 - val_loss: 0.6028\n",
      "Epoch 53/100\n",
      "\u001b[1m80/80\u001b[0m \u001b[32m━━━━━━━━━━━━━━━━━━━━\u001b[0m\u001b[37m\u001b[0m \u001b[1m1s\u001b[0m 10ms/step - accuracy: 0.7322 - loss: 0.5182 - val_accuracy: 0.6745 - val_loss: 0.6016\n",
      "Epoch 54/100\n",
      "\u001b[1m80/80\u001b[0m \u001b[32m━━━━━━━━━━━━━━━━━━━━\u001b[0m\u001b[37m\u001b[0m \u001b[1m1s\u001b[0m 10ms/step - accuracy: 0.7349 - loss: 0.5085 - val_accuracy: 0.6792 - val_loss: 0.6030\n",
      "Epoch 55/100\n",
      "\u001b[1m80/80\u001b[0m \u001b[32m━━━━━━━━━━━━━━━━━━━━\u001b[0m\u001b[37m\u001b[0m \u001b[1m1s\u001b[0m 11ms/step - accuracy: 0.7256 - loss: 0.5112 - val_accuracy: 0.6635 - val_loss: 0.6040\n",
      "Epoch 56/100\n",
      "\u001b[1m80/80\u001b[0m \u001b[32m━━━━━━━━━━━━━━━━━━━━\u001b[0m\u001b[37m\u001b[0m \u001b[1m1s\u001b[0m 10ms/step - accuracy: 0.7232 - loss: 0.5189 - val_accuracy: 0.6918 - val_loss: 0.6072\n",
      "Epoch 57/100\n",
      "\u001b[1m80/80\u001b[0m \u001b[32m━━━━━━━━━━━━━━━━━━━━\u001b[0m\u001b[37m\u001b[0m \u001b[1m1s\u001b[0m 10ms/step - accuracy: 0.7500 - loss: 0.4915 - val_accuracy: 0.6745 - val_loss: 0.6116\n",
      "Epoch 58/100\n",
      "\u001b[1m80/80\u001b[0m \u001b[32m━━━━━━━━━━━━━━━━━━━━\u001b[0m\u001b[37m\u001b[0m \u001b[1m1s\u001b[0m 11ms/step - accuracy: 0.7356 - loss: 0.5048 - val_accuracy: 0.6855 - val_loss: 0.6113\n",
      "Epoch 59/100\n",
      "\u001b[1m80/80\u001b[0m \u001b[32m━━━━━━━━━━━━━━━━━━━━\u001b[0m\u001b[37m\u001b[0m \u001b[1m1s\u001b[0m 10ms/step - accuracy: 0.7406 - loss: 0.5068 - val_accuracy: 0.6651 - val_loss: 0.6316\n",
      "Epoch 60/100\n",
      "\u001b[1m80/80\u001b[0m \u001b[32m━━━━━━━━━━━━━━━━━━━━\u001b[0m\u001b[37m\u001b[0m \u001b[1m1s\u001b[0m 11ms/step - accuracy: 0.7218 - loss: 0.5296 - val_accuracy: 0.6792 - val_loss: 0.6029\n",
      "Epoch 61/100\n",
      "\u001b[1m80/80\u001b[0m \u001b[32m━━━━━━━━━━━━━━━━━━━━\u001b[0m\u001b[37m\u001b[0m \u001b[1m1s\u001b[0m 9ms/step - accuracy: 0.7312 - loss: 0.5211 - val_accuracy: 0.6871 - val_loss: 0.6072\n",
      "Epoch 62/100\n",
      "\u001b[1m80/80\u001b[0m \u001b[32m━━━━━━━━━━━━━━━━━━━━\u001b[0m\u001b[37m\u001b[0m \u001b[1m1s\u001b[0m 10ms/step - accuracy: 0.7432 - loss: 0.4988 - val_accuracy: 0.6698 - val_loss: 0.6095\n",
      "Epoch 63/100\n",
      "\u001b[1m80/80\u001b[0m \u001b[32m━━━━━━━━━━━━━━━━━━━━\u001b[0m\u001b[37m\u001b[0m \u001b[1m1s\u001b[0m 10ms/step - accuracy: 0.7329 - loss: 0.4991 - val_accuracy: 0.6950 - val_loss: 0.6063\n",
      "Epoch 64/100\n",
      "\u001b[1m80/80\u001b[0m \u001b[32m━━━━━━━━━━━━━━━━━━━━\u001b[0m\u001b[37m\u001b[0m \u001b[1m1s\u001b[0m 9ms/step - accuracy: 0.7445 - loss: 0.4983 - val_accuracy: 0.6745 - val_loss: 0.6200\n",
      "Epoch 65/100\n",
      "\u001b[1m80/80\u001b[0m \u001b[32m━━━━━━━━━━━━━━━━━━━━\u001b[0m\u001b[37m\u001b[0m \u001b[1m1s\u001b[0m 9ms/step - accuracy: 0.7456 - loss: 0.4996 - val_accuracy: 0.6840 - val_loss: 0.6136\n",
      "Epoch 66/100\n",
      "\u001b[1m80/80\u001b[0m \u001b[32m━━━━━━━━━━━━━━━━━━━━\u001b[0m\u001b[37m\u001b[0m \u001b[1m1s\u001b[0m 10ms/step - accuracy: 0.7465 - loss: 0.4920 - val_accuracy: 0.6840 - val_loss: 0.6185\n",
      "Epoch 67/100\n",
      "\u001b[1m80/80\u001b[0m \u001b[32m━━━━━━━━━━━━━━━━━━━━\u001b[0m\u001b[37m\u001b[0m \u001b[1m1s\u001b[0m 10ms/step - accuracy: 0.7318 - loss: 0.5160 - val_accuracy: 0.6840 - val_loss: 0.6379\n",
      "Epoch 68/100\n",
      "\u001b[1m80/80\u001b[0m \u001b[32m━━━━━━━━━━━━━━━━━━━━\u001b[0m\u001b[37m\u001b[0m \u001b[1m1s\u001b[0m 9ms/step - accuracy: 0.7481 - loss: 0.5056 - val_accuracy: 0.6761 - val_loss: 0.6062\n",
      "Epoch 69/100\n",
      "\u001b[1m80/80\u001b[0m \u001b[32m━━━━━━━━━━━━━━━━━━━━\u001b[0m\u001b[37m\u001b[0m \u001b[1m1s\u001b[0m 9ms/step - accuracy: 0.7295 - loss: 0.5130 - val_accuracy: 0.6682 - val_loss: 0.6141\n",
      "Epoch 70/100\n",
      "\u001b[1m80/80\u001b[0m \u001b[32m━━━━━━━━━━━━━━━━━━━━\u001b[0m\u001b[37m\u001b[0m \u001b[1m1s\u001b[0m 9ms/step - accuracy: 0.7323 - loss: 0.5007 - val_accuracy: 0.6730 - val_loss: 0.6110\n",
      "Epoch 71/100\n",
      "\u001b[1m80/80\u001b[0m \u001b[32m━━━━━━━━━━━━━━━━━━━━\u001b[0m\u001b[37m\u001b[0m \u001b[1m1s\u001b[0m 10ms/step - accuracy: 0.7485 - loss: 0.4787 - val_accuracy: 0.6824 - val_loss: 0.6071\n",
      "Epoch 72/100\n",
      "\u001b[1m80/80\u001b[0m \u001b[32m━━━━━━━━━━━━━━━━━━━━\u001b[0m\u001b[37m\u001b[0m \u001b[1m1s\u001b[0m 9ms/step - accuracy: 0.7618 - loss: 0.4771 - val_accuracy: 0.6887 - val_loss: 0.6020\n",
      "Epoch 73/100\n",
      "\u001b[1m80/80\u001b[0m \u001b[32m━━━━━━━━━━━━━━━━━━━━\u001b[0m\u001b[37m\u001b[0m \u001b[1m1s\u001b[0m 9ms/step - accuracy: 0.7585 - loss: 0.4799 - val_accuracy: 0.6792 - val_loss: 0.6155\n",
      "Epoch 74/100\n",
      "\u001b[1m80/80\u001b[0m \u001b[32m━━━━━━━━━━━━━━━━━━━━\u001b[0m\u001b[37m\u001b[0m \u001b[1m1s\u001b[0m 11ms/step - accuracy: 0.7304 - loss: 0.5078 - val_accuracy: 0.6808 - val_loss: 0.6084\n",
      "Epoch 75/100\n",
      "\u001b[1m80/80\u001b[0m \u001b[32m━━━━━━━━━━━━━━━━━━━━\u001b[0m\u001b[37m\u001b[0m \u001b[1m1s\u001b[0m 10ms/step - accuracy: 0.7450 - loss: 0.4930 - val_accuracy: 0.6761 - val_loss: 0.5998\n",
      "Epoch 76/100\n",
      "\u001b[1m80/80\u001b[0m \u001b[32m━━━━━━━━━━━━━━━━━━━━\u001b[0m\u001b[37m\u001b[0m \u001b[1m1s\u001b[0m 9ms/step - accuracy: 0.7616 - loss: 0.4789 - val_accuracy: 0.6840 - val_loss: 0.6142\n",
      "Epoch 77/100\n",
      "\u001b[1m80/80\u001b[0m \u001b[32m━━━━━━━━━━━━━━━━━━━━\u001b[0m\u001b[37m\u001b[0m \u001b[1m1s\u001b[0m 9ms/step - accuracy: 0.7638 - loss: 0.4668 - val_accuracy: 0.6714 - val_loss: 0.6314\n",
      "Epoch 78/100\n",
      "\u001b[1m80/80\u001b[0m \u001b[32m━━━━━━━━━━━━━━━━━━━━\u001b[0m\u001b[37m\u001b[0m \u001b[1m1s\u001b[0m 9ms/step - accuracy: 0.7286 - loss: 0.5096 - val_accuracy: 0.6840 - val_loss: 0.6241\n",
      "Epoch 79/100\n",
      "\u001b[1m80/80\u001b[0m \u001b[32m━━━━━━━━━━━━━━━━━━━━\u001b[0m\u001b[37m\u001b[0m \u001b[1m1s\u001b[0m 9ms/step - accuracy: 0.7532 - loss: 0.4779 - val_accuracy: 0.6950 - val_loss: 0.6174\n",
      "Epoch 80/100\n",
      "\u001b[1m80/80\u001b[0m \u001b[32m━━━━━━━━━━━━━━━━━━━━\u001b[0m\u001b[37m\u001b[0m \u001b[1m1s\u001b[0m 10ms/step - accuracy: 0.7501 - loss: 0.4856 - val_accuracy: 0.6619 - val_loss: 0.6142\n",
      "Epoch 81/100\n",
      "\u001b[1m80/80\u001b[0m \u001b[32m━━━━━━━━━━━━━━━━━━━━\u001b[0m\u001b[37m\u001b[0m \u001b[1m1s\u001b[0m 9ms/step - accuracy: 0.7650 - loss: 0.4709 - val_accuracy: 0.6714 - val_loss: 0.6368\n",
      "Epoch 82/100\n",
      "\u001b[1m80/80\u001b[0m \u001b[32m━━━━━━━━━━━━━━━━━━━━\u001b[0m\u001b[37m\u001b[0m \u001b[1m1s\u001b[0m 11ms/step - accuracy: 0.7393 - loss: 0.5037 - val_accuracy: 0.6604 - val_loss: 0.6265\n",
      "Epoch 83/100\n",
      "\u001b[1m80/80\u001b[0m \u001b[32m━━━━━━━━━━━━━━━━━━━━\u001b[0m\u001b[37m\u001b[0m \u001b[1m1s\u001b[0m 10ms/step - accuracy: 0.7587 - loss: 0.4797 - val_accuracy: 0.6698 - val_loss: 0.6218\n",
      "Epoch 84/100\n",
      "\u001b[1m80/80\u001b[0m \u001b[32m━━━━━━━━━━━━━━━━━━━━\u001b[0m\u001b[37m\u001b[0m \u001b[1m1s\u001b[0m 9ms/step - accuracy: 0.7540 - loss: 0.4771 - val_accuracy: 0.6824 - val_loss: 0.6246\n",
      "Epoch 85/100\n",
      "\u001b[1m80/80\u001b[0m \u001b[32m━━━━━━━━━━━━━━━━━━━━\u001b[0m\u001b[37m\u001b[0m \u001b[1m1s\u001b[0m 10ms/step - accuracy: 0.7504 - loss: 0.4762 - val_accuracy: 0.6840 - val_loss: 0.6139\n",
      "Epoch 86/100\n",
      "\u001b[1m80/80\u001b[0m \u001b[32m━━━━━━━━━━━━━━━━━━━━\u001b[0m\u001b[37m\u001b[0m \u001b[1m1s\u001b[0m 10ms/step - accuracy: 0.7776 - loss: 0.4611 - val_accuracy: 0.6682 - val_loss: 0.6163\n",
      "Epoch 87/100\n",
      "\u001b[1m80/80\u001b[0m \u001b[32m━━━━━━━━━━━━━━━━━━━━\u001b[0m\u001b[37m\u001b[0m \u001b[1m1s\u001b[0m 9ms/step - accuracy: 0.7398 - loss: 0.4897 - val_accuracy: 0.6745 - val_loss: 0.6487\n",
      "Epoch 88/100\n",
      "\u001b[1m80/80\u001b[0m \u001b[32m━━━━━━━━━━━━━━━━━━━━\u001b[0m\u001b[37m\u001b[0m \u001b[1m1s\u001b[0m 9ms/step - accuracy: 0.7621 - loss: 0.4767 - val_accuracy: 0.6840 - val_loss: 0.6079\n",
      "Epoch 89/100\n",
      "\u001b[1m80/80\u001b[0m \u001b[32m━━━━━━━━━━━━━━━━━━━━\u001b[0m\u001b[37m\u001b[0m \u001b[1m1s\u001b[0m 10ms/step - accuracy: 0.7619 - loss: 0.4737 - val_accuracy: 0.6698 - val_loss: 0.6198\n",
      "Epoch 90/100\n",
      "\u001b[1m80/80\u001b[0m \u001b[32m━━━━━━━━━━━━━━━━━━━━\u001b[0m\u001b[37m\u001b[0m \u001b[1m1s\u001b[0m 10ms/step - accuracy: 0.7663 - loss: 0.4633 - val_accuracy: 0.6761 - val_loss: 0.6361\n",
      "Epoch 91/100\n",
      "\u001b[1m80/80\u001b[0m \u001b[32m━━━━━━━━━━━━━━━━━━━━\u001b[0m\u001b[37m\u001b[0m \u001b[1m1s\u001b[0m 9ms/step - accuracy: 0.7790 - loss: 0.4596 - val_accuracy: 0.6840 - val_loss: 0.6437\n",
      "Epoch 92/100\n",
      "\u001b[1m80/80\u001b[0m \u001b[32m━━━━━━━━━━━━━━━━━━━━\u001b[0m\u001b[37m\u001b[0m \u001b[1m1s\u001b[0m 9ms/step - accuracy: 0.7610 - loss: 0.4614 - val_accuracy: 0.6619 - val_loss: 0.6300\n",
      "Epoch 93/100\n",
      "\u001b[1m80/80\u001b[0m \u001b[32m━━━━━━━━━━━━━━━━━━━━\u001b[0m\u001b[37m\u001b[0m \u001b[1m1s\u001b[0m 9ms/step - accuracy: 0.7632 - loss: 0.4736 - val_accuracy: 0.6824 - val_loss: 0.6481\n",
      "Epoch 94/100\n",
      "\u001b[1m80/80\u001b[0m \u001b[32m━━━━━━━━━━━━━━━━━━━━\u001b[0m\u001b[37m\u001b[0m \u001b[1m1s\u001b[0m 9ms/step - accuracy: 0.7717 - loss: 0.4464 - val_accuracy: 0.6698 - val_loss: 0.6413\n",
      "Epoch 95/100\n",
      "\u001b[1m80/80\u001b[0m \u001b[32m━━━━━━━━━━━━━━━━━━━━\u001b[0m\u001b[37m\u001b[0m \u001b[1m1s\u001b[0m 10ms/step - accuracy: 0.7640 - loss: 0.4649 - val_accuracy: 0.6777 - val_loss: 0.6251\n",
      "Epoch 95: early stopping\n",
      "Restoring model weights from the end of the best epoch: 45.\n"
     ]
    }
   ],
   "source": [
    "model_multi_hot_LSTM.compile(optimizer=optimizers.Adam(learning_rate=0.001), loss='binary_crossentropy', metrics=['accuracy'])\n",
    "\n",
    "history = model_multi_hot_LSTM.fit(X_train_f, y_train_f, epochs=100, batch_size=32, validation_data=(X_val_f, y_val_f), callbacks=[early_stopping])"
   ]
  },
  {
   "cell_type": "code",
   "execution_count": 99,
   "metadata": {},
   "outputs": [
    {
     "data": {
      "image/png": "[encoded data removed]",
      "text/plain": [
       "<Figure size 1000x600 with 1 Axes>"
      ]
     },
     "metadata": {},
     "output_type": "display_data"
    }
   ],
   "source": [
    "plt.figure(figsize=(10, 6))\n",
    "plt.plot(history.history['val_accuracy'], label='Precisión de validación')\n",
    "plt.plot(history.history['val_loss'], label= 'Función de pérdida en validación')\n",
    "plt.axvline(x=np.argmax(history.history['val_accuracy']), color='r', linestyle='-', linewidth=1, label='Early Stopping Mejor modelo')\n",
    "plt.xlabel('Épocas')\n",
    "plt.ylabel('Precisión y Pérdida')\n",
    "plt.legend()\n",
    "plt.show()"
   ]
  },
  {
   "cell_type": "code",
   "execution_count": 100,
   "metadata": {},
   "outputs": [
    {
     "name": "stdout",
     "output_type": "stream",
     "text": [
      "\u001b[1m25/25\u001b[0m \u001b[32m━━━━━━━━━━━━━━━━━━━━\u001b[0m\u001b[37m\u001b[0m \u001b[1m0s\u001b[0m 4ms/step - accuracy: 0.7090 - loss: 0.5335\n",
      "Test Accuracy: 0.700628936290741\n",
      "Test Loss: 0.545364260673523\n"
     ]
    }
   ],
   "source": [
    "# Testeo, predicción y evaluación del modelo\n",
    "test_loss, test_acc = model_multi_hot_LSTM.evaluate(X_test_encoded, y_test)\n",
    "print(f\"Test Accuracy: {test_acc}\")\n",
    "print(f\"Test Loss: {test_loss}\")"
   ]
  },
  {
   "cell_type": "markdown",
   "metadata": {},
   "source": [
    "**El modelo con arquitectura LSTM y codificación Multi-hot clasifica correctamente el 70% - 70.9% de los ejemplos de prueba.**"
   ]
  },
  {
   "cell_type": "markdown",
   "metadata": {},
   "source": [
    "**E4:** Repite el ejercicio anterior, pero utilizando *embedding* de 16 dimensiones sobre la codificación *integer*. ¿Mejoran los resultados? ¿por qué? ¿Ayuda activar la opción *mask_zero* de la capa de embedding? ¿por qué?\n",
    "\n",
    "**Los resultados mejoran considerablemente dado que la construcción de los embeddings permite que los péptidos se representen mediante vectores densos(16-d) que contienen mucha más información semántica de los distintos aminoácidos y las distintas relaciones entre ellos.**\n",
    "**Haciendo esto así, facilitamos a la red la capturación de esta información fundamental de contexto a nivel de embeddings que puede ayudar en gran medida a entender la semántica de los distintos aminoácidos.**\n",
    "\n",
    "**Por supuesto que ayuda activar la opción dado que esos ceros realmente no existen y si, se mantienen durante el entrenamiento, pueden crear confusión a la red y hacer que está no aprenda y no funcione como es debido.**"
   ]
  },
  {
   "cell_type": "code",
   "execution_count": 218,
   "metadata": {},
   "outputs": [
    {
     "name": "stdout",
     "output_type": "stream",
     "text": [
      "Vocab size Integer codification: 27\n"
     ]
    }
   ],
   "source": [
    "vocab = vectorizer.get_vocabulary()  \n",
    "vocab_size = len(vocab)\n",
    "print(f\"Vocab size Integer codification: {vocab_size}\")"
   ]
  },
  {
   "cell_type": "markdown",
   "metadata": {},
   "source": [
    "**IMPORTANTE: Definimos la capa de embedding con la cantidad de tokens distintos que tiene el vocabulario y con la dimensión que queremos que tengan los embeddings asociados a cada token, en este caso trabajamos con embeddings de 16-d.**"
   ]
  },
  {
   "cell_type": "code",
   "execution_count": 113,
   "metadata": {},
   "outputs": [
    {
     "data": {
      "text/html": [
       "<pre style=\"white-space:pre;overflow-x:auto;line-height:normal;font-family:Menlo,'DejaVu Sans Mono',consolas,'Courier New',monospace\"><span style=\"font-weight: bold\">Model: \"sequential_5\"</span>\n",
       "</pre>\n"
      ],
      "text/plain": [
       "\u001b[1mModel: \"sequential_5\"\u001b[0m\n"
      ]
     },
     "metadata": {},
     "output_type": "display_data"
    },
    {
     "data": {
      "text/html": [
       "<pre style=\"white-space:pre;overflow-x:auto;line-height:normal;font-family:Menlo,'DejaVu Sans Mono',consolas,'Courier New',monospace\">┏━━━━━━━━━━━━━━━━━━━━━━━━━━━━━━━━━┳━━━━━━━━━━━━━━━━━━━━━━━━┳━━━━━━━━━━━━━━━┓\n",
       "┃<span style=\"font-weight: bold\"> Layer (type)                    </span>┃<span style=\"font-weight: bold\"> Output Shape           </span>┃<span style=\"font-weight: bold\">       Param # </span>┃\n",
       "┡━━━━━━━━━━━━━━━━━━━━━━━━━━━━━━━━━╇━━━━━━━━━━━━━━━━━━━━━━━━╇━━━━━━━━━━━━━━━┩\n",
       "│ embedding_3 (<span style=\"color: #0087ff; text-decoration-color: #0087ff\">Embedding</span>)         │ (<span style=\"color: #00d7ff; text-decoration-color: #00d7ff\">None</span>, <span style=\"color: #00af00; text-decoration-color: #00af00\">101</span>, <span style=\"color: #00af00; text-decoration-color: #00af00\">16</span>)        │           <span style=\"color: #00af00; text-decoration-color: #00af00\">432</span> │\n",
       "├─────────────────────────────────┼────────────────────────┼───────────────┤\n",
       "│ bidirectional_5 (<span style=\"color: #0087ff; text-decoration-color: #0087ff\">Bidirectional</span>) │ (<span style=\"color: #00d7ff; text-decoration-color: #00d7ff\">None</span>, <span style=\"color: #00af00; text-decoration-color: #00af00\">100</span>)            │        <span style=\"color: #00af00; text-decoration-color: #00af00\">26,800</span> │\n",
       "├─────────────────────────────────┼────────────────────────┼───────────────┤\n",
       "│ dense_10 (<span style=\"color: #0087ff; text-decoration-color: #0087ff\">Dense</span>)                │ (<span style=\"color: #00d7ff; text-decoration-color: #00d7ff\">None</span>, <span style=\"color: #00af00; text-decoration-color: #00af00\">64</span>)             │         <span style=\"color: #00af00; text-decoration-color: #00af00\">6,464</span> │\n",
       "├─────────────────────────────────┼────────────────────────┼───────────────┤\n",
       "│ dense_11 (<span style=\"color: #0087ff; text-decoration-color: #0087ff\">Dense</span>)                │ (<span style=\"color: #00d7ff; text-decoration-color: #00d7ff\">None</span>, <span style=\"color: #00af00; text-decoration-color: #00af00\">1</span>)              │            <span style=\"color: #00af00; text-decoration-color: #00af00\">65</span> │\n",
       "└─────────────────────────────────┴────────────────────────┴───────────────┘\n",
       "</pre>\n"
      ],
      "text/plain": [
       "┏━━━━━━━━━━━━━━━━━━━━━━━━━━━━━━━━━┳━━━━━━━━━━━━━━━━━━━━━━━━┳━━━━━━━━━━━━━━━┓\n",
       "┃\u001b[1m \u001b[0m\u001b[1mLayer (type)                   \u001b[0m\u001b[1m \u001b[0m┃\u001b[1m \u001b[0m\u001b[1mOutput Shape          \u001b[0m\u001b[1m \u001b[0m┃\u001b[1m \u001b[0m\u001b[1m      Param #\u001b[0m\u001b[1m \u001b[0m┃\n",
       "┡━━━━━━━━━━━━━━━━━━━━━━━━━━━━━━━━━╇━━━━━━━━━━━━━━━━━━━━━━━━╇━━━━━━━━━━━━━━━┩\n",
       "│ embedding_3 (\u001b[38;5;33mEmbedding\u001b[0m)         │ (\u001b[38;5;45mNone\u001b[0m, \u001b[38;5;34m101\u001b[0m, \u001b[38;5;34m16\u001b[0m)        │           \u001b[38;5;34m432\u001b[0m │\n",
       "├─────────────────────────────────┼────────────────────────┼───────────────┤\n",
       "│ bidirectional_5 (\u001b[38;5;33mBidirectional\u001b[0m) │ (\u001b[38;5;45mNone\u001b[0m, \u001b[38;5;34m100\u001b[0m)            │        \u001b[38;5;34m26,800\u001b[0m │\n",
       "├─────────────────────────────────┼────────────────────────┼───────────────┤\n",
       "│ dense_10 (\u001b[38;5;33mDense\u001b[0m)                │ (\u001b[38;5;45mNone\u001b[0m, \u001b[38;5;34m64\u001b[0m)             │         \u001b[38;5;34m6,464\u001b[0m │\n",
       "├─────────────────────────────────┼────────────────────────┼───────────────┤\n",
       "│ dense_11 (\u001b[38;5;33mDense\u001b[0m)                │ (\u001b[38;5;45mNone\u001b[0m, \u001b[38;5;34m1\u001b[0m)              │            \u001b[38;5;34m65\u001b[0m │\n",
       "└─────────────────────────────────┴────────────────────────┴───────────────┘\n"
      ]
     },
     "metadata": {},
     "output_type": "display_data"
    },
    {
     "data": {
      "text/html": [
       "<pre style=\"white-space:pre;overflow-x:auto;line-height:normal;font-family:Menlo,'DejaVu Sans Mono',consolas,'Courier New',monospace\"><span style=\"font-weight: bold\"> Total params: </span><span style=\"color: #00af00; text-decoration-color: #00af00\">33,761</span> (131.88 KB)\n",
       "</pre>\n"
      ],
      "text/plain": [
       "\u001b[1m Total params: \u001b[0m\u001b[38;5;34m33,761\u001b[0m (131.88 KB)\n"
      ]
     },
     "metadata": {},
     "output_type": "display_data"
    },
    {
     "data": {
      "text/html": [
       "<pre style=\"white-space:pre;overflow-x:auto;line-height:normal;font-family:Menlo,'DejaVu Sans Mono',consolas,'Courier New',monospace\"><span style=\"font-weight: bold\"> Trainable params: </span><span style=\"color: #00af00; text-decoration-color: #00af00\">33,761</span> (131.88 KB)\n",
       "</pre>\n"
      ],
      "text/plain": [
       "\u001b[1m Trainable params: \u001b[0m\u001b[38;5;34m33,761\u001b[0m (131.88 KB)\n"
      ]
     },
     "metadata": {},
     "output_type": "display_data"
    },
    {
     "data": {
      "text/html": [
       "<pre style=\"white-space:pre;overflow-x:auto;line-height:normal;font-family:Menlo,'DejaVu Sans Mono',consolas,'Courier New',monospace\"><span style=\"font-weight: bold\"> Non-trainable params: </span><span style=\"color: #00af00; text-decoration-color: #00af00\">0</span> (0.00 B)\n",
       "</pre>\n"
      ],
      "text/plain": [
       "\u001b[1m Non-trainable params: \u001b[0m\u001b[38;5;34m0\u001b[0m (0.00 B)\n"
      ]
     },
     "metadata": {},
     "output_type": "display_data"
    }
   ],
   "source": [
    "model_int_LSTM_with_embedding = Sequential([ \n",
    "    layers.Input(shape=(max_len,)),  # Longitud de las secuencias de entrada\n",
    "    Embedding(input_dim=vocab_size, output_dim=16, mask_zero=True),  # Capa de embedding con 16 dimensiones e ignoración de ceros del padding\n",
    "    Bidirectional(LSTM(50, return_sequences=False)),  # LSTM bidireccional con 50 células que devuelve solamente la última salida (h_t)\n",
    "    Dense(64, activation='relu'),  # Capa oculta con 64 neuronas\n",
    "    Dense(1, activation='sigmoid')  \n",
    "])\n",
    "\n",
    "model_int_LSTM_with_embedding.summary()"
   ]
  },
  {
   "cell_type": "code",
   "execution_count": 114,
   "metadata": {},
   "outputs": [],
   "source": [
    "# Obtención del 20% de los datos de entrenamiento para validación del modelo durante el proceso de entrenamiento\n",
    "X_train_f, X_val_f, y_train_f, y_val_f = train_test_split(np.array(X_train_padded), y_train, test_size=0.2, random_state=2025, stratify=y_train)\n",
    "\n",
    "# Conversión de las etiquetas a arrays de numpy para su uso en la red neuronal\n",
    "y_train_f = np.array(y_train_f)\n",
    "y_val_f = np.array(y_val_f)\n",
    "y_test = np.array(y_test)"
   ]
  },
  {
   "cell_type": "code",
   "execution_count": null,
   "metadata": {},
   "outputs": [],
   "source": [
    "# Definimos un earling stopping para detener el entrenamiento de los modelos cuando ya no mejoren la precisión de la validación\n",
    "early_stopping = keras.callbacks.EarlyStopping(\n",
    "    monitor='val_accuracy',  # Métrica a monitorear \n",
    "    patience=75,  # Número de epochs sin mejora antes de parar\n",
    "    min_delta=0.00001,  # Pequeña mejora mínima requerida\n",
    "    restore_best_weights=True,  # Restaura los mejores pesos en lugar de los últimos\n",
    "    verbose=1  # Muestra mensaje en la consola con la época que contiene los mejores pesos\n",
    ")"
   ]
  },
  {
   "cell_type": "code",
   "execution_count": 116,
   "metadata": {},
   "outputs": [
    {
     "name": "stdout",
     "output_type": "stream",
     "text": [
      "Epoch 1/200\n",
      "\u001b[1m40/40\u001b[0m \u001b[32m━━━━━━━━━━━━━━━━━━━━\u001b[0m\u001b[37m\u001b[0m \u001b[1m6s\u001b[0m 75ms/step - accuracy: 0.5898 - loss: 0.6811 - val_accuracy: 0.7358 - val_loss: 0.5489\n",
      "Epoch 2/200\n",
      "\u001b[1m40/40\u001b[0m \u001b[32m━━━━━━━━━━━━━━━━━━━━\u001b[0m\u001b[37m\u001b[0m \u001b[1m2s\u001b[0m 51ms/step - accuracy: 0.7614 - loss: 0.5328 - val_accuracy: 0.7704 - val_loss: 0.4875\n",
      "Epoch 3/200\n",
      "\u001b[1m40/40\u001b[0m \u001b[32m━━━━━━━━━━━━━━━━━━━━\u001b[0m\u001b[37m\u001b[0m \u001b[1m2s\u001b[0m 51ms/step - accuracy: 0.7904 - loss: 0.4680 - val_accuracy: 0.7846 - val_loss: 0.4612\n",
      "Epoch 4/200\n",
      "\u001b[1m40/40\u001b[0m \u001b[32m━━━━━━━━━━━━━━━━━━━━\u001b[0m\u001b[37m\u001b[0m \u001b[1m2s\u001b[0m 50ms/step - accuracy: 0.7876 - loss: 0.4579 - val_accuracy: 0.8050 - val_loss: 0.4387\n",
      "Epoch 5/200\n",
      "\u001b[1m40/40\u001b[0m \u001b[32m━━━━━━━━━━━━━━━━━━━━\u001b[0m\u001b[37m\u001b[0m \u001b[1m2s\u001b[0m 49ms/step - accuracy: 0.8079 - loss: 0.4334 - val_accuracy: 0.8066 - val_loss: 0.4436\n",
      "Epoch 6/200\n",
      "\u001b[1m40/40\u001b[0m \u001b[32m━━━━━━━━━━━━━━━━━━━━\u001b[0m\u001b[37m\u001b[0m \u001b[1m2s\u001b[0m 49ms/step - accuracy: 0.8023 - loss: 0.4527 - val_accuracy: 0.7987 - val_loss: 0.4338\n",
      "Epoch 7/200\n",
      "\u001b[1m40/40\u001b[0m \u001b[32m━━━━━━━━━━━━━━━━━━━━\u001b[0m\u001b[37m\u001b[0m \u001b[1m2s\u001b[0m 51ms/step - accuracy: 0.8216 - loss: 0.4098 - val_accuracy: 0.8082 - val_loss: 0.4337\n",
      "Epoch 8/200\n",
      "\u001b[1m40/40\u001b[0m \u001b[32m━━━━━━━━━━━━━━━━━━━━\u001b[0m\u001b[37m\u001b[0m \u001b[1m2s\u001b[0m 50ms/step - accuracy: 0.8215 - loss: 0.3998 - val_accuracy: 0.8192 - val_loss: 0.4107\n",
      "Epoch 9/200\n",
      "\u001b[1m40/40\u001b[0m \u001b[32m━━━━━━━━━━━━━━━━━━━━\u001b[0m\u001b[37m\u001b[0m \u001b[1m2s\u001b[0m 49ms/step - accuracy: 0.8314 - loss: 0.4008 - val_accuracy: 0.8113 - val_loss: 0.4114\n",
      "Epoch 10/200\n",
      "\u001b[1m40/40\u001b[0m \u001b[32m━━━━━━━━━━━━━━━━━━━━\u001b[0m\u001b[37m\u001b[0m \u001b[1m2s\u001b[0m 51ms/step - accuracy: 0.8234 - loss: 0.3942 - val_accuracy: 0.8223 - val_loss: 0.4034\n",
      "Epoch 11/200\n",
      "\u001b[1m40/40\u001b[0m \u001b[32m━━━━━━━━━━━━━━━━━━━━\u001b[0m\u001b[37m\u001b[0m \u001b[1m2s\u001b[0m 51ms/step - accuracy: 0.8402 - loss: 0.3733 - val_accuracy: 0.8113 - val_loss: 0.4015\n",
      "Epoch 12/200\n",
      "\u001b[1m40/40\u001b[0m \u001b[32m━━━━━━━━━━━━━━━━━━━━\u001b[0m\u001b[37m\u001b[0m \u001b[1m2s\u001b[0m 50ms/step - accuracy: 0.8283 - loss: 0.3811 - val_accuracy: 0.8239 - val_loss: 0.3943\n",
      "Epoch 13/200\n",
      "\u001b[1m40/40\u001b[0m \u001b[32m━━━━━━━━━━━━━━━━━━━━\u001b[0m\u001b[37m\u001b[0m \u001b[1m2s\u001b[0m 51ms/step - accuracy: 0.8321 - loss: 0.3701 - val_accuracy: 0.8050 - val_loss: 0.3966\n",
      "Epoch 14/200\n",
      "\u001b[1m40/40\u001b[0m \u001b[32m━━━━━━━━━━━━━━━━━━━━\u001b[0m\u001b[37m\u001b[0m \u001b[1m2s\u001b[0m 49ms/step - accuracy: 0.8266 - loss: 0.3776 - val_accuracy: 0.8302 - val_loss: 0.3809\n",
      "Epoch 15/200\n",
      "\u001b[1m40/40\u001b[0m \u001b[32m━━━━━━━━━━━━━━━━━━━━\u001b[0m\u001b[37m\u001b[0m \u001b[1m4s\u001b[0m 104ms/step - accuracy: 0.8326 - loss: 0.3617 - val_accuracy: 0.8333 - val_loss: 0.3876\n",
      "Epoch 16/200\n",
      "\u001b[1m40/40\u001b[0m \u001b[32m━━━━━━━━━━━━━━━━━━━━\u001b[0m\u001b[37m\u001b[0m \u001b[1m4s\u001b[0m 101ms/step - accuracy: 0.8411 - loss: 0.3626 - val_accuracy: 0.8223 - val_loss: 0.3757\n",
      "Epoch 17/200\n",
      "\u001b[1m40/40\u001b[0m \u001b[32m━━━━━━━━━━━━━━━━━━━━\u001b[0m\u001b[37m\u001b[0m \u001b[1m4s\u001b[0m 100ms/step - accuracy: 0.8304 - loss: 0.3688 - val_accuracy: 0.8255 - val_loss: 0.4018\n",
      "Epoch 18/200\n",
      "\u001b[1m40/40\u001b[0m \u001b[32m━━━━━━━━━━━━━━━━━━━━\u001b[0m\u001b[37m\u001b[0m \u001b[1m4s\u001b[0m 105ms/step - accuracy: 0.8400 - loss: 0.3634 - val_accuracy: 0.8208 - val_loss: 0.3805\n",
      "Epoch 19/200\n",
      "\u001b[1m40/40\u001b[0m \u001b[32m━━━━━━━━━━━━━━━━━━━━\u001b[0m\u001b[37m\u001b[0m \u001b[1m4s\u001b[0m 100ms/step - accuracy: 0.8303 - loss: 0.3627 - val_accuracy: 0.8160 - val_loss: 0.3866\n",
      "Epoch 20/200\n",
      "\u001b[1m40/40\u001b[0m \u001b[32m━━━━━━━━━━━━━━━━━━━━\u001b[0m\u001b[37m\u001b[0m \u001b[1m4s\u001b[0m 102ms/step - accuracy: 0.8363 - loss: 0.3488 - val_accuracy: 0.8318 - val_loss: 0.3754\n",
      "Epoch 21/200\n",
      "\u001b[1m40/40\u001b[0m \u001b[32m━━━━━━━━━━━━━━━━━━━━\u001b[0m\u001b[37m\u001b[0m \u001b[1m5s\u001b[0m 95ms/step - accuracy: 0.8517 - loss: 0.3311 - val_accuracy: 0.8129 - val_loss: 0.4000\n",
      "Epoch 22/200\n",
      "\u001b[1m40/40\u001b[0m \u001b[32m━━━━━━━━━━━━━━━━━━━━\u001b[0m\u001b[37m\u001b[0m \u001b[1m4s\u001b[0m 105ms/step - accuracy: 0.8481 - loss: 0.3377 - val_accuracy: 0.8333 - val_loss: 0.3723\n",
      "Epoch 23/200\n",
      "\u001b[1m40/40\u001b[0m \u001b[32m━━━━━━━━━━━━━━━━━━━━\u001b[0m\u001b[37m\u001b[0m \u001b[1m4s\u001b[0m 101ms/step - accuracy: 0.8513 - loss: 0.3309 - val_accuracy: 0.8396 - val_loss: 0.3734\n",
      "Epoch 24/200\n",
      "\u001b[1m40/40\u001b[0m \u001b[32m━━━━━━━━━━━━━━━━━━━━\u001b[0m\u001b[37m\u001b[0m \u001b[1m4s\u001b[0m 98ms/step - accuracy: 0.8403 - loss: 0.3257 - val_accuracy: 0.8255 - val_loss: 0.3818\n",
      "Epoch 25/200\n",
      "\u001b[1m40/40\u001b[0m \u001b[32m━━━━━━━━━━━━━━━━━━━━\u001b[0m\u001b[37m\u001b[0m \u001b[1m4s\u001b[0m 99ms/step - accuracy: 0.8688 - loss: 0.3034 - val_accuracy: 0.8365 - val_loss: 0.3663\n",
      "Epoch 26/200\n",
      "\u001b[1m40/40\u001b[0m \u001b[32m━━━━━━━━━━━━━━━━━━━━\u001b[0m\u001b[37m\u001b[0m \u001b[1m4s\u001b[0m 87ms/step - accuracy: 0.8489 - loss: 0.3127 - val_accuracy: 0.8208 - val_loss: 0.3661\n",
      "Epoch 27/200\n",
      "\u001b[1m40/40\u001b[0m \u001b[32m━━━━━━━━━━━━━━━━━━━━\u001b[0m\u001b[37m\u001b[0m \u001b[1m2s\u001b[0m 53ms/step - accuracy: 0.8560 - loss: 0.3182 - val_accuracy: 0.8286 - val_loss: 0.3619\n",
      "Epoch 28/200\n",
      "\u001b[1m40/40\u001b[0m \u001b[32m━━━━━━━━━━━━━━━━━━━━\u001b[0m\u001b[37m\u001b[0m \u001b[1m2s\u001b[0m 52ms/step - accuracy: 0.8584 - loss: 0.3048 - val_accuracy: 0.8412 - val_loss: 0.3694\n",
      "Epoch 29/200\n",
      "\u001b[1m40/40\u001b[0m \u001b[32m━━━━━━━━━━━━━━━━━━━━\u001b[0m\u001b[37m\u001b[0m \u001b[1m2s\u001b[0m 51ms/step - accuracy: 0.8441 - loss: 0.3056 - val_accuracy: 0.8208 - val_loss: 0.4048\n",
      "Epoch 30/200\n",
      "\u001b[1m40/40\u001b[0m \u001b[32m━━━━━━━━━━━━━━━━━━━━\u001b[0m\u001b[37m\u001b[0m \u001b[1m2s\u001b[0m 50ms/step - accuracy: 0.8514 - loss: 0.3155 - val_accuracy: 0.8365 - val_loss: 0.3717\n",
      "Epoch 31/200\n",
      "\u001b[1m40/40\u001b[0m \u001b[32m━━━━━━━━━━━━━━━━━━━━\u001b[0m\u001b[37m\u001b[0m \u001b[1m2s\u001b[0m 51ms/step - accuracy: 0.8615 - loss: 0.3070 - val_accuracy: 0.8459 - val_loss: 0.3665\n",
      "Epoch 32/200\n",
      "\u001b[1m40/40\u001b[0m \u001b[32m━━━━━━━━━━━━━━━━━━━━\u001b[0m\u001b[37m\u001b[0m \u001b[1m2s\u001b[0m 49ms/step - accuracy: 0.8481 - loss: 0.3193 - val_accuracy: 0.8302 - val_loss: 0.3918\n",
      "Epoch 33/200\n",
      "\u001b[1m40/40\u001b[0m \u001b[32m━━━━━━━━━━━━━━━━━━━━\u001b[0m\u001b[37m\u001b[0m \u001b[1m2s\u001b[0m 52ms/step - accuracy: 0.8550 - loss: 0.3163 - val_accuracy: 0.8239 - val_loss: 0.3877\n",
      "Epoch 34/200\n",
      "\u001b[1m40/40\u001b[0m \u001b[32m━━━━━━━━━━━━━━━━━━━━\u001b[0m\u001b[37m\u001b[0m \u001b[1m4s\u001b[0m 96ms/step - accuracy: 0.8671 - loss: 0.2929 - val_accuracy: 0.8270 - val_loss: 0.3783\n",
      "Epoch 35/200\n",
      "\u001b[1m40/40\u001b[0m \u001b[32m━━━━━━━━━━━━━━━━━━━━\u001b[0m\u001b[37m\u001b[0m \u001b[1m4s\u001b[0m 99ms/step - accuracy: 0.8745 - loss: 0.2955 - val_accuracy: 0.8365 - val_loss: 0.3748\n",
      "Epoch 36/200\n",
      "\u001b[1m40/40\u001b[0m \u001b[32m━━━━━━━━━━━━━━━━━━━━\u001b[0m\u001b[37m\u001b[0m \u001b[1m4s\u001b[0m 93ms/step - accuracy: 0.8772 - loss: 0.2686 - val_accuracy: 0.8176 - val_loss: 0.3988\n",
      "Epoch 37/200\n",
      "\u001b[1m40/40\u001b[0m \u001b[32m━━━━━━━━━━━━━━━━━━━━\u001b[0m\u001b[37m\u001b[0m \u001b[1m4s\u001b[0m 96ms/step - accuracy: 0.8662 - loss: 0.2921 - val_accuracy: 0.8381 - val_loss: 0.3720\n",
      "Epoch 38/200\n",
      "\u001b[1m40/40\u001b[0m \u001b[32m━━━━━━━━━━━━━━━━━━━━\u001b[0m\u001b[37m\u001b[0m \u001b[1m4s\u001b[0m 103ms/step - accuracy: 0.8632 - loss: 0.2949 - val_accuracy: 0.8396 - val_loss: 0.3696\n",
      "Epoch 39/200\n",
      "\u001b[1m40/40\u001b[0m \u001b[32m━━━━━━━━━━━━━━━━━━━━\u001b[0m\u001b[37m\u001b[0m \u001b[1m4s\u001b[0m 98ms/step - accuracy: 0.8801 - loss: 0.2614 - val_accuracy: 0.8381 - val_loss: 0.3786\n",
      "Epoch 40/200\n",
      "\u001b[1m40/40\u001b[0m \u001b[32m━━━━━━━━━━━━━━━━━━━━\u001b[0m\u001b[37m\u001b[0m \u001b[1m4s\u001b[0m 98ms/step - accuracy: 0.8697 - loss: 0.2665 - val_accuracy: 0.8302 - val_loss: 0.3917\n",
      "Epoch 41/200\n",
      "\u001b[1m40/40\u001b[0m \u001b[32m━━━━━━━━━━━━━━━━━━━━\u001b[0m\u001b[37m\u001b[0m \u001b[1m4s\u001b[0m 105ms/step - accuracy: 0.8733 - loss: 0.2779 - val_accuracy: 0.8270 - val_loss: 0.3866\n",
      "Epoch 42/200\n",
      "\u001b[1m40/40\u001b[0m \u001b[32m━━━━━━━━━━━━━━━━━━━━\u001b[0m\u001b[37m\u001b[0m \u001b[1m4s\u001b[0m 109ms/step - accuracy: 0.8779 - loss: 0.2674 - val_accuracy: 0.8302 - val_loss: 0.3854\n",
      "Epoch 43/200\n",
      "\u001b[1m40/40\u001b[0m \u001b[32m━━━━━━━━━━━━━━━━━━━━\u001b[0m\u001b[37m\u001b[0m \u001b[1m4s\u001b[0m 109ms/step - accuracy: 0.8833 - loss: 0.2737 - val_accuracy: 0.8333 - val_loss: 0.3719\n",
      "Epoch 44/200\n",
      "\u001b[1m40/40\u001b[0m \u001b[32m━━━━━━━━━━━━━━━━━━━━\u001b[0m\u001b[37m\u001b[0m \u001b[1m4s\u001b[0m 103ms/step - accuracy: 0.8823 - loss: 0.2444 - val_accuracy: 0.8396 - val_loss: 0.3950\n",
      "Epoch 45/200\n",
      "\u001b[1m40/40\u001b[0m \u001b[32m━━━━━━━━━━━━━━━━━━━━\u001b[0m\u001b[37m\u001b[0m \u001b[1m4s\u001b[0m 101ms/step - accuracy: 0.8835 - loss: 0.2512 - val_accuracy: 0.8349 - val_loss: 0.3872\n",
      "Epoch 46/200\n",
      "\u001b[1m40/40\u001b[0m \u001b[32m━━━━━━━━━━━━━━━━━━━━\u001b[0m\u001b[37m\u001b[0m \u001b[1m4s\u001b[0m 98ms/step - accuracy: 0.8880 - loss: 0.2488 - val_accuracy: 0.8223 - val_loss: 0.3854\n",
      "Epoch 47/200\n",
      "\u001b[1m40/40\u001b[0m \u001b[32m━━━━━━━━━━━━━━━━━━━━\u001b[0m\u001b[37m\u001b[0m \u001b[1m4s\u001b[0m 99ms/step - accuracy: 0.8765 - loss: 0.2693 - val_accuracy: 0.8475 - val_loss: 0.3800\n",
      "Epoch 48/200\n",
      "\u001b[1m40/40\u001b[0m \u001b[32m━━━━━━━━━━━━━━━━━━━━\u001b[0m\u001b[37m\u001b[0m \u001b[1m4s\u001b[0m 98ms/step - accuracy: 0.8733 - loss: 0.2605 - val_accuracy: 0.8396 - val_loss: 0.3843\n",
      "Epoch 49/200\n",
      "\u001b[1m40/40\u001b[0m \u001b[32m━━━━━━━━━━━━━━━━━━━━\u001b[0m\u001b[37m\u001b[0m \u001b[1m4s\u001b[0m 93ms/step - accuracy: 0.8805 - loss: 0.2445 - val_accuracy: 0.8176 - val_loss: 0.4431\n",
      "Epoch 50/200\n",
      "\u001b[1m40/40\u001b[0m \u001b[32m━━━━━━━━━━━━━━━━━━━━\u001b[0m\u001b[37m\u001b[0m \u001b[1m4s\u001b[0m 104ms/step - accuracy: 0.8867 - loss: 0.2469 - val_accuracy: 0.8318 - val_loss: 0.4130\n",
      "Epoch 51/200\n",
      "\u001b[1m40/40\u001b[0m \u001b[32m━━━━━━━━━━━━━━━━━━━━\u001b[0m\u001b[37m\u001b[0m \u001b[1m4s\u001b[0m 103ms/step - accuracy: 0.9016 - loss: 0.2273 - val_accuracy: 0.8333 - val_loss: 0.4226\n",
      "Epoch 52/200\n",
      "\u001b[1m40/40\u001b[0m \u001b[32m━━━━━━━━━━━━━━━━━━━━\u001b[0m\u001b[37m\u001b[0m \u001b[1m4s\u001b[0m 101ms/step - accuracy: 0.8900 - loss: 0.2286 - val_accuracy: 0.8349 - val_loss: 0.3940\n",
      "Epoch 53/200\n",
      "\u001b[1m40/40\u001b[0m \u001b[32m━━━━━━━━━━━━━━━━━━━━\u001b[0m\u001b[37m\u001b[0m \u001b[1m4s\u001b[0m 98ms/step - accuracy: 0.8925 - loss: 0.2356 - val_accuracy: 0.8239 - val_loss: 0.4208\n",
      "Epoch 54/200\n",
      "\u001b[1m40/40\u001b[0m \u001b[32m━━━━━━━━━━━━━━━━━━━━\u001b[0m\u001b[37m\u001b[0m \u001b[1m4s\u001b[0m 96ms/step - accuracy: 0.8933 - loss: 0.2427 - val_accuracy: 0.8381 - val_loss: 0.3912\n",
      "Epoch 55/200\n",
      "\u001b[1m40/40\u001b[0m \u001b[32m━━━━━━━━━━━━━━━━━━━━\u001b[0m\u001b[37m\u001b[0m \u001b[1m4s\u001b[0m 98ms/step - accuracy: 0.8911 - loss: 0.2263 - val_accuracy: 0.8255 - val_loss: 0.4344\n",
      "Epoch 56/200\n",
      "\u001b[1m40/40\u001b[0m \u001b[32m━━━━━━━━━━━━━━━━━━━━\u001b[0m\u001b[37m\u001b[0m \u001b[1m4s\u001b[0m 102ms/step - accuracy: 0.8865 - loss: 0.2639 - val_accuracy: 0.8270 - val_loss: 0.4123\n",
      "Epoch 57/200\n",
      "\u001b[1m40/40\u001b[0m \u001b[32m━━━━━━━━━━━━━━━━━━━━\u001b[0m\u001b[37m\u001b[0m \u001b[1m4s\u001b[0m 97ms/step - accuracy: 0.8995 - loss: 0.2341 - val_accuracy: 0.8255 - val_loss: 0.4228\n",
      "Epoch 58/200\n",
      "\u001b[1m40/40\u001b[0m \u001b[32m━━━━━━━━━━━━━━━━━━━━\u001b[0m\u001b[37m\u001b[0m \u001b[1m4s\u001b[0m 97ms/step - accuracy: 0.9141 - loss: 0.1990 - val_accuracy: 0.8097 - val_loss: 0.4245\n",
      "Epoch 59/200\n",
      "\u001b[1m40/40\u001b[0m \u001b[32m━━━━━━━━━━━━━━━━━━━━\u001b[0m\u001b[37m\u001b[0m \u001b[1m4s\u001b[0m 98ms/step - accuracy: 0.9065 - loss: 0.2109 - val_accuracy: 0.8318 - val_loss: 0.4210\n",
      "Epoch 60/200\n",
      "\u001b[1m40/40\u001b[0m \u001b[32m━━━━━━━━━━━━━━━━━━━━\u001b[0m\u001b[37m\u001b[0m \u001b[1m4s\u001b[0m 98ms/step - accuracy: 0.9062 - loss: 0.2017 - val_accuracy: 0.8318 - val_loss: 0.4518\n",
      "Epoch 61/200\n",
      "\u001b[1m40/40\u001b[0m \u001b[32m━━━━━━━━━━━━━━━━━━━━\u001b[0m\u001b[37m\u001b[0m \u001b[1m4s\u001b[0m 96ms/step - accuracy: 0.9109 - loss: 0.2016 - val_accuracy: 0.8223 - val_loss: 0.4351\n",
      "Epoch 62/200\n",
      "\u001b[1m40/40\u001b[0m \u001b[32m━━━━━━━━━━━━━━━━━━━━\u001b[0m\u001b[37m\u001b[0m \u001b[1m4s\u001b[0m 100ms/step - accuracy: 0.9214 - loss: 0.1877 - val_accuracy: 0.8333 - val_loss: 0.4306\n",
      "Epoch 63/200\n",
      "\u001b[1m40/40\u001b[0m \u001b[32m━━━━━━━━━━━━━━━━━━━━\u001b[0m\u001b[37m\u001b[0m \u001b[1m4s\u001b[0m 103ms/step - accuracy: 0.9163 - loss: 0.1880 - val_accuracy: 0.8208 - val_loss: 0.4630\n",
      "Epoch 64/200\n",
      "\u001b[1m40/40\u001b[0m \u001b[32m━━━━━━━━━━━━━━━━━━━━\u001b[0m\u001b[37m\u001b[0m \u001b[1m4s\u001b[0m 102ms/step - accuracy: 0.9175 - loss: 0.1957 - val_accuracy: 0.8208 - val_loss: 0.4621\n",
      "Epoch 65/200\n",
      "\u001b[1m40/40\u001b[0m \u001b[32m━━━━━━━━━━━━━━━━━━━━\u001b[0m\u001b[37m\u001b[0m \u001b[1m4s\u001b[0m 103ms/step - accuracy: 0.9177 - loss: 0.1838 - val_accuracy: 0.8318 - val_loss: 0.4468\n",
      "Epoch 66/200\n",
      "\u001b[1m40/40\u001b[0m \u001b[32m━━━━━━━━━━━━━━━━━━━━\u001b[0m\u001b[37m\u001b[0m \u001b[1m4s\u001b[0m 100ms/step - accuracy: 0.9064 - loss: 0.2094 - val_accuracy: 0.8113 - val_loss: 0.4516\n",
      "Epoch 67/200\n",
      "\u001b[1m40/40\u001b[0m \u001b[32m━━━━━━━━━━━━━━━━━━━━\u001b[0m\u001b[37m\u001b[0m \u001b[1m4s\u001b[0m 99ms/step - accuracy: 0.9178 - loss: 0.1846 - val_accuracy: 0.8286 - val_loss: 0.4563\n",
      "Epoch 68/200\n",
      "\u001b[1m40/40\u001b[0m \u001b[32m━━━━━━━━━━━━━━━━━━━━\u001b[0m\u001b[37m\u001b[0m \u001b[1m4s\u001b[0m 103ms/step - accuracy: 0.9276 - loss: 0.1633 - val_accuracy: 0.8318 - val_loss: 0.4630\n",
      "Epoch 69/200\n",
      "\u001b[1m40/40\u001b[0m \u001b[32m━━━━━━━━━━━━━━━━━━━━\u001b[0m\u001b[37m\u001b[0m \u001b[1m4s\u001b[0m 105ms/step - accuracy: 0.9260 - loss: 0.1562 - val_accuracy: 0.8176 - val_loss: 0.4828\n",
      "Epoch 70/200\n",
      "\u001b[1m40/40\u001b[0m \u001b[32m━━━━━━━━━━━━━━━━━━━━\u001b[0m\u001b[37m\u001b[0m \u001b[1m4s\u001b[0m 99ms/step - accuracy: 0.9251 - loss: 0.1647 - val_accuracy: 0.8097 - val_loss: 0.5325\n",
      "Epoch 71/200\n",
      "\u001b[1m40/40\u001b[0m \u001b[32m━━━━━━━━━━━━━━━━━━━━\u001b[0m\u001b[37m\u001b[0m \u001b[1m4s\u001b[0m 100ms/step - accuracy: 0.9284 - loss: 0.1623 - val_accuracy: 0.7972 - val_loss: 0.6309\n",
      "Epoch 72/200\n",
      "\u001b[1m40/40\u001b[0m \u001b[32m━━━━━━━━━━━━━━━━━━━━\u001b[0m\u001b[37m\u001b[0m \u001b[1m4s\u001b[0m 103ms/step - accuracy: 0.8817 - loss: 0.2745 - val_accuracy: 0.8208 - val_loss: 0.4317\n",
      "Epoch 73/200\n",
      "\u001b[1m40/40\u001b[0m \u001b[32m━━━━━━━━━━━━━━━━━━━━\u001b[0m\u001b[37m\u001b[0m \u001b[1m4s\u001b[0m 104ms/step - accuracy: 0.9177 - loss: 0.1929 - val_accuracy: 0.8223 - val_loss: 0.4935\n",
      "Epoch 74/200\n",
      "\u001b[1m40/40\u001b[0m \u001b[32m━━━━━━━━━━━━━━━━━━━━\u001b[0m\u001b[37m\u001b[0m \u001b[1m4s\u001b[0m 102ms/step - accuracy: 0.9186 - loss: 0.1822 - val_accuracy: 0.8286 - val_loss: 0.4705\n",
      "Epoch 75/200\n",
      "\u001b[1m40/40\u001b[0m \u001b[32m━━━━━━━━━━━━━━━━━━━━\u001b[0m\u001b[37m\u001b[0m \u001b[1m4s\u001b[0m 103ms/step - accuracy: 0.9279 - loss: 0.1649 - val_accuracy: 0.8412 - val_loss: 0.4711\n",
      "Epoch 76/200\n",
      "\u001b[1m40/40\u001b[0m \u001b[32m━━━━━━━━━━━━━━━━━━━━\u001b[0m\u001b[37m\u001b[0m \u001b[1m4s\u001b[0m 97ms/step - accuracy: 0.9395 - loss: 0.1431 - val_accuracy: 0.8239 - val_loss: 0.4943\n",
      "Epoch 77/200\n",
      "\u001b[1m40/40\u001b[0m \u001b[32m━━━━━━━━━━━━━━━━━━━━\u001b[0m\u001b[37m\u001b[0m \u001b[1m4s\u001b[0m 99ms/step - accuracy: 0.9373 - loss: 0.1500 - val_accuracy: 0.8302 - val_loss: 0.5307\n",
      "Epoch 78/200\n",
      "\u001b[1m40/40\u001b[0m \u001b[32m━━━━━━━━━━━━━━━━━━━━\u001b[0m\u001b[37m\u001b[0m \u001b[1m4s\u001b[0m 100ms/step - accuracy: 0.9410 - loss: 0.1428 - val_accuracy: 0.8333 - val_loss: 0.4925\n",
      "Epoch 79/200\n",
      "\u001b[1m40/40\u001b[0m \u001b[32m━━━━━━━━━━━━━━━━━━━━\u001b[0m\u001b[37m\u001b[0m \u001b[1m4s\u001b[0m 101ms/step - accuracy: 0.9436 - loss: 0.1319 - val_accuracy: 0.8255 - val_loss: 0.5350\n",
      "Epoch 80/200\n",
      "\u001b[1m40/40\u001b[0m \u001b[32m━━━━━━━━━━━━━━━━━━━━\u001b[0m\u001b[37m\u001b[0m \u001b[1m4s\u001b[0m 106ms/step - accuracy: 0.9456 - loss: 0.1207 - val_accuracy: 0.8082 - val_loss: 0.5473\n",
      "Epoch 81/200\n",
      "\u001b[1m40/40\u001b[0m \u001b[32m━━━━━━━━━━━━━━━━━━━━\u001b[0m\u001b[37m\u001b[0m \u001b[1m4s\u001b[0m 106ms/step - accuracy: 0.9455 - loss: 0.1265 - val_accuracy: 0.8239 - val_loss: 0.5446\n",
      "Epoch 82/200\n",
      "\u001b[1m40/40\u001b[0m \u001b[32m━━━━━━━━━━━━━━━━━━━━\u001b[0m\u001b[37m\u001b[0m \u001b[1m4s\u001b[0m 100ms/step - accuracy: 0.9489 - loss: 0.1229 - val_accuracy: 0.8129 - val_loss: 0.6022\n",
      "Epoch 83/200\n",
      "\u001b[1m40/40\u001b[0m \u001b[32m━━━━━━━━━━━━━━━━━━━━\u001b[0m\u001b[37m\u001b[0m \u001b[1m4s\u001b[0m 103ms/step - accuracy: 0.9433 - loss: 0.1296 - val_accuracy: 0.8239 - val_loss: 0.5865\n",
      "Epoch 84/200\n",
      "\u001b[1m40/40\u001b[0m \u001b[32m━━━━━━━━━━━━━━━━━━━━\u001b[0m\u001b[37m\u001b[0m \u001b[1m4s\u001b[0m 97ms/step - accuracy: 0.9397 - loss: 0.1399 - val_accuracy: 0.8035 - val_loss: 0.5976\n",
      "Epoch 85/200\n",
      "\u001b[1m40/40\u001b[0m \u001b[32m━━━━━━━━━━━━━━━━━━━━\u001b[0m\u001b[37m\u001b[0m \u001b[1m4s\u001b[0m 103ms/step - accuracy: 0.9133 - loss: 0.2172 - val_accuracy: 0.8035 - val_loss: 0.5347\n",
      "Epoch 86/200\n",
      "\u001b[1m40/40\u001b[0m \u001b[32m━━━━━━━━━━━━━━━━━━━━\u001b[0m\u001b[37m\u001b[0m \u001b[1m4s\u001b[0m 98ms/step - accuracy: 0.9330 - loss: 0.1522 - val_accuracy: 0.8192 - val_loss: 0.5182\n",
      "Epoch 87/200\n",
      "\u001b[1m40/40\u001b[0m \u001b[32m━━━━━━━━━━━━━━━━━━━━\u001b[0m\u001b[37m\u001b[0m \u001b[1m4s\u001b[0m 102ms/step - accuracy: 0.9336 - loss: 0.1424 - val_accuracy: 0.8286 - val_loss: 0.5188\n",
      "Epoch 88/200\n",
      "\u001b[1m40/40\u001b[0m \u001b[32m━━━━━━━━━━━━━━━━━━━━\u001b[0m\u001b[37m\u001b[0m \u001b[1m4s\u001b[0m 98ms/step - accuracy: 0.9508 - loss: 0.1219 - val_accuracy: 0.8223 - val_loss: 0.5746\n",
      "Epoch 89/200\n",
      "\u001b[1m40/40\u001b[0m \u001b[32m━━━━━━━━━━━━━━━━━━━━\u001b[0m\u001b[37m\u001b[0m \u001b[1m4s\u001b[0m 101ms/step - accuracy: 0.9481 - loss: 0.1151 - val_accuracy: 0.8176 - val_loss: 0.5756\n",
      "Epoch 90/200\n",
      "\u001b[1m40/40\u001b[0m \u001b[32m━━━━━━━━━━━━━━━━━━━━\u001b[0m\u001b[37m\u001b[0m \u001b[1m4s\u001b[0m 101ms/step - accuracy: 0.9536 - loss: 0.1049 - val_accuracy: 0.8082 - val_loss: 0.5956\n",
      "Epoch 91/200\n",
      "\u001b[1m40/40\u001b[0m \u001b[32m━━━━━━━━━━━━━━━━━━━━\u001b[0m\u001b[37m\u001b[0m \u001b[1m4s\u001b[0m 98ms/step - accuracy: 0.9482 - loss: 0.1163 - val_accuracy: 0.8145 - val_loss: 0.5924\n",
      "Epoch 92/200\n",
      "\u001b[1m40/40\u001b[0m \u001b[32m━━━━━━━━━━━━━━━━━━━━\u001b[0m\u001b[37m\u001b[0m \u001b[1m4s\u001b[0m 101ms/step - accuracy: 0.9594 - loss: 0.0988 - val_accuracy: 0.8066 - val_loss: 0.6322\n",
      "Epoch 93/200\n",
      "\u001b[1m40/40\u001b[0m \u001b[32m━━━━━━━━━━━━━━━━━━━━\u001b[0m\u001b[37m\u001b[0m \u001b[1m2s\u001b[0m 52ms/step - accuracy: 0.9615 - loss: 0.0929 - val_accuracy: 0.8160 - val_loss: 0.6415\n",
      "Epoch 94/200\n",
      "\u001b[1m40/40\u001b[0m \u001b[32m━━━━━━━━━━━━━━━━━━━━\u001b[0m\u001b[37m\u001b[0m \u001b[1m2s\u001b[0m 49ms/step - accuracy: 0.9630 - loss: 0.0913 - val_accuracy: 0.8082 - val_loss: 0.6696\n",
      "Epoch 95/200\n",
      "\u001b[1m40/40\u001b[0m \u001b[32m━━━━━━━━━━━━━━━━━━━━\u001b[0m\u001b[37m\u001b[0m \u001b[1m2s\u001b[0m 48ms/step - accuracy: 0.9633 - loss: 0.0882 - val_accuracy: 0.8019 - val_loss: 0.7083\n",
      "Epoch 96/200\n",
      "\u001b[1m40/40\u001b[0m \u001b[32m━━━━━━━━━━━━━━━━━━━━\u001b[0m\u001b[37m\u001b[0m \u001b[1m2s\u001b[0m 51ms/step - accuracy: 0.9606 - loss: 0.1089 - val_accuracy: 0.8003 - val_loss: 0.7405\n",
      "Epoch 97/200\n",
      "\u001b[1m40/40\u001b[0m \u001b[32m━━━━━━━━━━━━━━━━━━━━\u001b[0m\u001b[37m\u001b[0m \u001b[1m2s\u001b[0m 52ms/step - accuracy: 0.9378 - loss: 0.1614 - val_accuracy: 0.8019 - val_loss: 0.7173\n",
      "Epoch 98/200\n",
      "\u001b[1m40/40\u001b[0m \u001b[32m━━━━━━━━━━━━━━━━━━━━\u001b[0m\u001b[37m\u001b[0m \u001b[1m2s\u001b[0m 51ms/step - accuracy: 0.9415 - loss: 0.1476 - val_accuracy: 0.8129 - val_loss: 0.6597\n",
      "Epoch 99/200\n",
      "\u001b[1m40/40\u001b[0m \u001b[32m━━━━━━━━━━━━━━━━━━━━\u001b[0m\u001b[37m\u001b[0m \u001b[1m2s\u001b[0m 52ms/step - accuracy: 0.9578 - loss: 0.1034 - val_accuracy: 0.7925 - val_loss: 0.6700\n",
      "Epoch 100/200\n",
      "\u001b[1m40/40\u001b[0m \u001b[32m━━━━━━━━━━━━━━━━━━━━\u001b[0m\u001b[37m\u001b[0m \u001b[1m2s\u001b[0m 50ms/step - accuracy: 0.9620 - loss: 0.1058 - val_accuracy: 0.8066 - val_loss: 0.6826\n",
      "Epoch 101/200\n",
      "\u001b[1m40/40\u001b[0m \u001b[32m━━━━━━━━━━━━━━━━━━━━\u001b[0m\u001b[37m\u001b[0m \u001b[1m2s\u001b[0m 51ms/step - accuracy: 0.9695 - loss: 0.0875 - val_accuracy: 0.8113 - val_loss: 0.6504\n",
      "Epoch 102/200\n",
      "\u001b[1m40/40\u001b[0m \u001b[32m━━━━━━━━━━━━━━━━━━━━\u001b[0m\u001b[37m\u001b[0m \u001b[1m2s\u001b[0m 52ms/step - accuracy: 0.9714 - loss: 0.0768 - val_accuracy: 0.8050 - val_loss: 0.6974\n",
      "Epoch 103/200\n",
      "\u001b[1m40/40\u001b[0m \u001b[32m━━━━━━━━━━━━━━━━━━━━\u001b[0m\u001b[37m\u001b[0m \u001b[1m2s\u001b[0m 52ms/step - accuracy: 0.9704 - loss: 0.0740 - val_accuracy: 0.8066 - val_loss: 0.6903\n",
      "Epoch 104/200\n",
      "\u001b[1m40/40\u001b[0m \u001b[32m━━━━━━━━━━━━━━━━━━━━\u001b[0m\u001b[37m\u001b[0m \u001b[1m2s\u001b[0m 51ms/step - accuracy: 0.9717 - loss: 0.0676 - val_accuracy: 0.8035 - val_loss: 0.7553\n",
      "Epoch 105/200\n",
      "\u001b[1m40/40\u001b[0m \u001b[32m━━━━━━━━━━━━━━━━━━━━\u001b[0m\u001b[37m\u001b[0m \u001b[1m2s\u001b[0m 52ms/step - accuracy: 0.9792 - loss: 0.0609 - val_accuracy: 0.8019 - val_loss: 0.7469\n",
      "Epoch 106/200\n",
      "\u001b[1m40/40\u001b[0m \u001b[32m━━━━━━━━━━━━━━━━━━━━\u001b[0m\u001b[37m\u001b[0m \u001b[1m2s\u001b[0m 51ms/step - accuracy: 0.9714 - loss: 0.0719 - val_accuracy: 0.8019 - val_loss: 0.7525\n",
      "Epoch 107/200\n",
      "\u001b[1m40/40\u001b[0m \u001b[32m━━━━━━━━━━━━━━━━━━━━\u001b[0m\u001b[37m\u001b[0m \u001b[1m2s\u001b[0m 49ms/step - accuracy: 0.9718 - loss: 0.0677 - val_accuracy: 0.8050 - val_loss: 0.8208\n",
      "Epoch 108/200\n",
      "\u001b[1m40/40\u001b[0m \u001b[32m━━━━━━━━━━━━━━━━━━━━\u001b[0m\u001b[37m\u001b[0m \u001b[1m2s\u001b[0m 54ms/step - accuracy: 0.9766 - loss: 0.0644 - val_accuracy: 0.8097 - val_loss: 0.8194\n",
      "Epoch 109/200\n",
      "\u001b[1m40/40\u001b[0m \u001b[32m━━━━━━━━━━━━━━━━━━━━\u001b[0m\u001b[37m\u001b[0m \u001b[1m2s\u001b[0m 51ms/step - accuracy: 0.9765 - loss: 0.0584 - val_accuracy: 0.7956 - val_loss: 0.8397\n",
      "Epoch 110/200\n",
      "\u001b[1m40/40\u001b[0m \u001b[32m━━━━━━━━━━━━━━━━━━━━\u001b[0m\u001b[37m\u001b[0m \u001b[1m2s\u001b[0m 52ms/step - accuracy: 0.9815 - loss: 0.0513 - val_accuracy: 0.7987 - val_loss: 0.8474\n",
      "Epoch 111/200\n",
      "\u001b[1m40/40\u001b[0m \u001b[32m━━━━━━━━━━━━━━━━━━━━\u001b[0m\u001b[37m\u001b[0m \u001b[1m2s\u001b[0m 58ms/step - accuracy: 0.9784 - loss: 0.0529 - val_accuracy: 0.7987 - val_loss: 0.8839\n",
      "Epoch 112/200\n",
      "\u001b[1m40/40\u001b[0m \u001b[32m━━━━━━━━━━━━━━━━━━━━\u001b[0m\u001b[37m\u001b[0m \u001b[1m2s\u001b[0m 51ms/step - accuracy: 0.9807 - loss: 0.0479 - val_accuracy: 0.7972 - val_loss: 0.8488\n",
      "Epoch 113/200\n",
      "\u001b[1m40/40\u001b[0m \u001b[32m━━━━━━━━━━━━━━━━━━━━\u001b[0m\u001b[37m\u001b[0m \u001b[1m2s\u001b[0m 53ms/step - accuracy: 0.9790 - loss: 0.0501 - val_accuracy: 0.8050 - val_loss: 0.8806\n",
      "Epoch 114/200\n",
      "\u001b[1m40/40\u001b[0m \u001b[32m━━━━━━━━━━━━━━━━━━━━\u001b[0m\u001b[37m\u001b[0m \u001b[1m2s\u001b[0m 52ms/step - accuracy: 0.9784 - loss: 0.0505 - val_accuracy: 0.8019 - val_loss: 1.0303\n",
      "Epoch 115/200\n",
      "\u001b[1m40/40\u001b[0m \u001b[32m━━━━━━━━━━━━━━━━━━━━\u001b[0m\u001b[37m\u001b[0m \u001b[1m2s\u001b[0m 49ms/step - accuracy: 0.9553 - loss: 0.1270 - val_accuracy: 0.8113 - val_loss: 0.7377\n",
      "Epoch 116/200\n",
      "\u001b[1m40/40\u001b[0m \u001b[32m━━━━━━━━━━━━━━━━━━━━\u001b[0m\u001b[37m\u001b[0m \u001b[1m2s\u001b[0m 56ms/step - accuracy: 0.9593 - loss: 0.1044 - val_accuracy: 0.7877 - val_loss: 0.8428\n",
      "Epoch 117/200\n",
      "\u001b[1m40/40\u001b[0m \u001b[32m━━━━━━━━━━━━━━━━━━━━\u001b[0m\u001b[37m\u001b[0m \u001b[1m2s\u001b[0m 51ms/step - accuracy: 0.9579 - loss: 0.1091 - val_accuracy: 0.8082 - val_loss: 0.8278\n",
      "Epoch 118/200\n",
      "\u001b[1m40/40\u001b[0m \u001b[32m━━━━━━━━━━━━━━━━━━━━\u001b[0m\u001b[37m\u001b[0m \u001b[1m2s\u001b[0m 52ms/step - accuracy: 0.9636 - loss: 0.0968 - val_accuracy: 0.8003 - val_loss: 0.8140\n",
      "Epoch 119/200\n",
      "\u001b[1m40/40\u001b[0m \u001b[32m━━━━━━━━━━━━━━━━━━━━\u001b[0m\u001b[37m\u001b[0m \u001b[1m2s\u001b[0m 52ms/step - accuracy: 0.9594 - loss: 0.0968 - val_accuracy: 0.8035 - val_loss: 0.8152\n",
      "Epoch 120/200\n",
      "\u001b[1m40/40\u001b[0m \u001b[32m━━━━━━━━━━━━━━━━━━━━\u001b[0m\u001b[37m\u001b[0m \u001b[1m2s\u001b[0m 49ms/step - accuracy: 0.9723 - loss: 0.0827 - val_accuracy: 0.8129 - val_loss: 0.7737\n",
      "Epoch 121/200\n",
      "\u001b[1m40/40\u001b[0m \u001b[32m━━━━━━━━━━━━━━━━━━━━\u001b[0m\u001b[37m\u001b[0m \u001b[1m2s\u001b[0m 48ms/step - accuracy: 0.9716 - loss: 0.0619 - val_accuracy: 0.8082 - val_loss: 0.8300\n",
      "Epoch 122/200\n",
      "\u001b[1m40/40\u001b[0m \u001b[32m━━━━━━━━━━━━━━━━━━━━\u001b[0m\u001b[37m\u001b[0m \u001b[1m2s\u001b[0m 50ms/step - accuracy: 0.9820 - loss: 0.0498 - val_accuracy: 0.8003 - val_loss: 0.8353\n",
      "Epoch 122: early stopping\n",
      "Restoring model weights from the end of the best epoch: 47.\n"
     ]
    }
   ],
   "source": [
    "model_int_LSTM_with_embedding.compile(optimizer=optimizers.Adam(learning_rate=0.001), loss='binary_crossentropy', metrics=['accuracy'])\n",
    "\n",
    "history = model_int_LSTM_with_embedding.fit(X_train_f, y_train_f, epochs=200, batch_size=64, validation_data=(X_val_f, y_val_f), callbacks=[early_stopping])"
   ]
  },
  {
   "cell_type": "code",
   "execution_count": 118,
   "metadata": {},
   "outputs": [
    {
     "data": {
      "image/png": "[encoded data removed]",
      "text/plain": [
       "<Figure size 1000x600 with 1 Axes>"
      ]
     },
     "metadata": {},
     "output_type": "display_data"
    }
   ],
   "source": [
    "plt.figure(figsize=(10, 6))\n",
    "plt.plot(history.history['val_accuracy'], label='Precisión de validación')\n",
    "plt.plot(history.history['val_loss'], label= 'Función de pérdida en validación')\n",
    "plt.axvline(x=np.argmax(history.history['val_accuracy']), color='r', linestyle='-', linewidth=1, label='Early Stopping Mejor modelo')\n",
    "plt.xlabel('Épocas')\n",
    "plt.ylabel('Precisión y Pérdida')\n",
    "plt.xlim(0, 100)\n",
    "plt.legend()\n",
    "plt.show()"
   ]
  },
  {
   "cell_type": "code",
   "execution_count": 119,
   "metadata": {},
   "outputs": [
    {
     "name": "stdout",
     "output_type": "stream",
     "text": [
      "\u001b[1m25/25\u001b[0m \u001b[32m━━━━━━━━━━━━━━━━━━━━\u001b[0m\u001b[37m\u001b[0m \u001b[1m0s\u001b[0m 11ms/step - accuracy: 0.8266 - loss: 0.4120\n",
      "Test Accuracy: 0.8389937281608582\n",
      "Test Loss: 0.40003255009651184\n"
     ]
    }
   ],
   "source": [
    "test_loss, test_acc = model_int_LSTM_with_embedding.evaluate(X_test_padded, y_test)\n",
    "print(f\"Test Accuracy: {test_acc}\")\n",
    "print(f\"Test Loss: {test_loss}\")\n"
   ]
  },
  {
   "cell_type": "markdown",
   "metadata": {},
   "source": [
    "**El modelo con capa inicial de embedding de 16 dimensiones y arquitectura LSTM clasifica correctamente el 82.66% - 83.89% de los ejemplos de prueba.**"
   ]
  },
  {
   "cell_type": "markdown",
   "metadata": {},
   "source": [
    "**E5:** Realiza varias repeticiones del entrenamiento de los modelos en los E2-3. ¿Obtienes siempre los mismos resultados? ¿por qué? ¿qué modelo presenta un comportamiento más estable?\n",
    "\n",
    "**# Inciso: Entiendo que este ejercicio esta hecho para comparar los ejercicios 3 y 4 para ver las diferencias de los entrenamientos en los modelos con y sin embeddings** \n",
    "\n",
    "- **En ninguno de los dos modelos se obtiene siempre los mismos resultados debido a que hay partes del entrenamiento que presentan cierta aleatoriedad como la inicialización de los pesos o la elección de las distintas muestras de los datos para el entrenamiento**\n",
    "\n",
    "- **Los modelos con embeddings presentan un comportamiento más estable al repetir los entrenamientos, porque las representaciones aprendidas por la capa de Embedding ayudan a reducir la aleatoriedad en la convergencia del modelo.**\n",
    "\n",
    "- **Los modelos sin embeddings tienden a ser más inestables, ya que la LSTM debe aprender directamente a interpretar los enteros sin una representación previa, lo que depende más de la inicialización aleatoria de pesos.**\n",
    "\n",
    "\n",
    "--- \n",
    "\n",
    "**E6:** Representa en un plano 2D los diferentes AAs sobre espacio generados por el embedding. ¿Pon un ejemplo de dos AAs con una funcionalidad muy similar? ¿qué AAs parecen tener un comportamiento diferente al resto?\n",
    "\n",
    "**Ejemplos de aminoácidos con funcionalidades similares serían: W y O , F y R ya que aparecen muy cerca en el espacio. Los aminoácidos que parecen tener un comportamiento diferente serían C y, sobre todo, B y X ya que son representados en el espacio en zonas alejadas al clúster donde se encuentran todos los demás aminoácidos.** "
   ]
  },
  {
   "cell_type": "code",
   "execution_count": 120,
   "metadata": {},
   "outputs": [
    {
     "name": "stdout",
     "output_type": "stream",
     "text": [
      "Vocabulario utilizado por el modelo: ['', '[UNK]', np.str_('K'), np.str_('L'), np.str_('G'), np.str_('A'), np.str_('R'), np.str_('S'), np.str_('V'), np.str_('I'), np.str_('C'), np.str_('E'), np.str_('T'), np.str_('P'), np.str_('N'), np.str_('F'), np.str_('D'), np.str_('Q'), np.str_('Y'), np.str_('M'), np.str_('H'), np.str_('W'), np.str_('X'), np.str_('U'), np.str_('O'), np.str_('Z'), np.str_('B')]\n",
      "Número total de tokens: 27\n"
     ]
    }
   ],
   "source": [
    "# Extraer el vocabulario real usado por TextVectorization\n",
    "vocab = vectorizer.get_vocabulary()  # Obtener la lista de tokens en el orden correcto\n",
    "vocab_size = len(vocab)  # Número de tokens únicos aprendidos\n",
    "\n",
    "print(f\"Vocabulario utilizado por el modelo: {vocab}\")\n",
    "print(f\"Número total de tokens: {vocab_size}\")"
   ]
  },
  {
   "cell_type": "code",
   "execution_count": 134,
   "metadata": {},
   "outputs": [
    {
     "name": "stdout",
     "output_type": "stream",
     "text": [
      "Dimensiones reales de los embeddings: (27, 16)\n"
     ]
    }
   ],
   "source": [
    "embedding_weights = model_int_LSTM_with_embedding.layers[0].get_weights()[0]\n",
    "print(\"Dimensiones reales de los embeddings:\", embedding_weights.shape)"
   ]
  },
  {
   "cell_type": "code",
   "execution_count": 144,
   "metadata": {},
   "outputs": [
    {
     "data": {
      "image/png": "[encoded data removed]",
      "text/plain": [
       "<Figure size 1500x1000 with 1 Axes>"
      ]
     },
     "metadata": {},
     "output_type": "display_data"
    }
   ],
   "source": [
    "import numpy as np\n",
    "import matplotlib.pyplot as plt\n",
    "from sklearn.decomposition import PCA\n",
    "\n",
    "# Extraer la matriz de embeddings\n",
    "embedding_layer = model_int_LSTM_with_embedding.layers[0]  # La segunda capa es el embedding\n",
    "embedding_weights = embedding_layer.get_weights()[0]  # Obtener los pesos (matriz de embeddings)\n",
    "\n",
    "\n",
    "# Reducimos a 2D con PCA realizando la proyección de los embeddings de cada aminoácido\n",
    "pca = PCA(n_components=2)\n",
    "embedding_2D = pca.fit_transform(embedding_weights)\n",
    "\n",
    "# Lista de aminoácidos/tokens distintos\n",
    "amino_acids = vectorizer.get_vocabulary()\n",
    "\n",
    "# Graficamos\n",
    "plt.figure(figsize=(15, 10))\n",
    "plt.scatter(embedding_2D[:,0], embedding_2D[:,1], marker='o', s=30, alpha=0.7, c='blue')\n",
    "\n",
    "# Anotamos cada aminoácido\n",
    "for i, aa in enumerate(amino_acids):\n",
    "    plt.text(embedding_2D[i, 0], embedding_2D[i, 1], aa, fontsize=10, ha='right', va='bottom')\n",
    "\n",
    "plt.xlabel(\"Componente principal 1\")\n",
    "plt.ylabel(\"Componente principal 2\")\n",
    "plt.title(\"Proyección PCA de Embeddings de Aminoácidos\")\n",
    "plt.grid()\n",
    "plt.show()\n"
   ]
  },
  {
   "cell_type": "markdown",
   "metadata": {},
   "source": [
    "### **Sesión 3/3: Transformer**"
   ]
  },
  {
   "cell_type": "code",
   "execution_count": 156,
   "metadata": {},
   "outputs": [],
   "source": [
    "from tensorflow.keras.layers import Layer, Embedding, Dense, MultiHeadAttention, LayerNormalization, Dropout, GlobalMaxPooling1D, Input\n",
    "from tensorflow.keras.models import Model"
   ]
  },
  {
   "cell_type": "markdown",
   "metadata": {},
   "source": [
    "**E1:** Implementa la clase MyTransformerEncoder según el esquema descrito anteriormente.\n",
    "\n",
    "**E2:** Construye un clasificador a partir de MyTransformerEncoder. Para ello aplica una capa de [Embedding](https://keras.io/api/layers/core_layers/embedding/) antes de pasar los datos a MyTransfomerEncoder, luego aplica un [GlobalMaxPooling1D](https://keras.io/api/layers/pooling_layers/global_max_pooling1d/) a la salida y una capa final de activación sigmoide.\n"
   ]
  },
  {
   "cell_type": "markdown",
   "metadata": {},
   "source": [
    "**Clase con la arquitectura del Transformer, se definen: las múltiples cabezas de atención que identificarán distintos patrones en las secuencias a partir del mecanismo de atención, las normalizaciones a realizar(se utilizará el Dropout), la proyección densa dentro del propio transformer para la detección de patrones más complejos y un dropout para mantener en todo moemnto un modelo que no se sobreajuste y que generalize correctamente.**"
   ]
  },
  {
   "cell_type": "code",
   "execution_count": null,
   "metadata": {},
   "outputs": [],
   "source": [
    "class MyTransformerEncoder(Layer):\n",
    "    def __init__(self, embed_dim, num_heads, ff_dim, dropout_rate=0.1, **kwargs):\n",
    "        super(MyTransformerEncoder, self).__init__(**kwargs)\n",
    "        self.attention = MultiHeadAttention(num_heads=num_heads, key_dim=embed_dim)\n",
    "        self.norm1 = LayerNormalization(epsilon=1e-6)\n",
    "        self.norm2 = LayerNormalization(epsilon=1e-6)\n",
    "        self.dense_proj = tf.keras.Sequential([\n",
    "            Dense(ff_dim, activation=\"relu\"),\n",
    "            Dense(embed_dim),\n",
    "        ])\n",
    "        self.dropout = tf.keras.layers.Dropout(dropout_rate)\n",
    "\n",
    "\n",
    "\n",
    "    # Con el método call definimos como se va procesando la entrada, proveniente en este caso de la capa de embedding que definiremos después, capa por capa hasta llegar a la salida final del transformer\n",
    "    def call(self, inputs, mask=None):\n",
    "        attn_output = self.attention(inputs, inputs, attention_mask=mask)\n",
    "        attn_output = self.dropout(attn_output)\n",
    "        out1 = self.norm1(inputs + attn_output)  # Residual connection\n",
    "\n",
    "        dense_output = self.dense_proj(out1)\n",
    "        dense_output = self.dropout(dense_output)\n",
    "        return self.norm2(out1 + dense_output)  # Residual connection\n",
    "\n",
    "\n",
    "    def get_config(self):\n",
    "        config = super().get_config()\n",
    "        config.update({\n",
    "            \"embed_dim\": self.attention.key_dim,\n",
    "            \"num_heads\": self.attention.num_heads,\n",
    "            \"ff_dim\": self.dense_proj.layers[0].units,\n",
    "        })\n",
    "        return config"
   ]
  },
  {
   "cell_type": "markdown",
   "metadata": {},
   "source": [
    "**Construcción del primer modelo clasificador:**"
   ]
  },
  {
   "cell_type": "code",
   "execution_count": 177,
   "metadata": {},
   "outputs": [],
   "source": [
    "# Construcción del modelo clasificador\n",
    "vocab_size = len(vocab) # Número de aminoácidos/tokens únicos\n",
    "max_len = 101  # Longitud máxima de secuencia\n",
    "embed_dim = 16  # Tamaño del embedding\n",
    "num_heads = 4  # Número de cabezales de atención\n",
    "ff_dim = 32  # Dimensión de la proyección densa\n",
    "\n",
    "inputs = Input(shape=(max_len,))\n",
    "embedding_layer = Embedding(input_dim=vocab_size, output_dim=embed_dim)(inputs)\n",
    "transformer_encoder = MyTransformerEncoder(embed_dim, num_heads, ff_dim)(embedding_layer)\n",
    "pooling = GlobalMaxPooling1D()(transformer_encoder)\n",
    "outputs = Dense(1, activation='sigmoid')(pooling)"
   ]
  },
  {
   "cell_type": "markdown",
   "metadata": {},
   "source": [
    "**GlobalMaxPooling1D en este caso tiene como objetivo reducir la dimensionalidad de la salida del Transformer Encoder, extrayendo la característica más importante de cada canal de la representación generada.**\n",
    "\n",
    "- El Transformer produce una salida de forma (batch_size, seq_length, embedding_dim), es decir, una representación por cada token de la secuencia.\n",
    "\n",
    "- GlobalMaxPooling1D reduce esto a (batch_size, embedding_dim), lo que facilita la clasificación final."
   ]
  },
  {
   "cell_type": "markdown",
   "metadata": {},
   "source": [
    "**E3:** Carga el dataset de los péptidos y entrena el codificador completo del E2 y evalúa su precisión."
   ]
  },
  {
   "cell_type": "code",
   "execution_count": 178,
   "metadata": {},
   "outputs": [],
   "source": [
    "# Definimos un earling stopping para detener el entrenamiento de los modelos cuando ya no mejoren la precisión de la validación\n",
    "early_stopping = keras.callbacks.EarlyStopping(\n",
    "    monitor='val_accuracy',  # Métrica a monitorear \n",
    "    patience=80,  # Número de epochs sin mejora antes de parar\n",
    "    min_delta=0.0001,  # Pequeña mejora mínima requerida\n",
    "    restore_best_weights=True,  # Restaura los mejores pesos en lugar de los últimos\n",
    "    verbose=1  # Muestra mensaje en la consola con la época que contiene los mejores pesos\n",
    ")"
   ]
  },
  {
   "cell_type": "markdown",
   "metadata": {},
   "source": [
    "**Compilación y entrenamiento del transformer:**"
   ]
  },
  {
   "cell_type": "code",
   "execution_count": 179,
   "metadata": {},
   "outputs": [
    {
     "data": {
      "text/html": [
       "<pre style=\"white-space:pre;overflow-x:auto;line-height:normal;font-family:Menlo,'DejaVu Sans Mono',consolas,'Courier New',monospace\"><span style=\"font-weight: bold\">Model: \"functional_20\"</span>\n",
       "</pre>\n"
      ],
      "text/plain": [
       "\u001b[1mModel: \"functional_20\"\u001b[0m\n"
      ]
     },
     "metadata": {},
     "output_type": "display_data"
    },
    {
     "data": {
      "text/html": [
       "<pre style=\"white-space:pre;overflow-x:auto;line-height:normal;font-family:Menlo,'DejaVu Sans Mono',consolas,'Courier New',monospace\">┏━━━━━━━━━━━━━━━━━━━━━━━━━━━━━━━━━┳━━━━━━━━━━━━━━━━━━━━━━━━┳━━━━━━━━━━━━━━━┓\n",
       "┃<span style=\"font-weight: bold\"> Layer (type)                    </span>┃<span style=\"font-weight: bold\"> Output Shape           </span>┃<span style=\"font-weight: bold\">       Param # </span>┃\n",
       "┡━━━━━━━━━━━━━━━━━━━━━━━━━━━━━━━━━╇━━━━━━━━━━━━━━━━━━━━━━━━╇━━━━━━━━━━━━━━━┩\n",
       "│ input_layer_18 (<span style=\"color: #0087ff; text-decoration-color: #0087ff\">InputLayer</span>)     │ (<span style=\"color: #00d7ff; text-decoration-color: #00d7ff\">None</span>, <span style=\"color: #00af00; text-decoration-color: #00af00\">101</span>)            │             <span style=\"color: #00af00; text-decoration-color: #00af00\">0</span> │\n",
       "├─────────────────────────────────┼────────────────────────┼───────────────┤\n",
       "│ embedding_10 (<span style=\"color: #0087ff; text-decoration-color: #0087ff\">Embedding</span>)        │ (<span style=\"color: #00d7ff; text-decoration-color: #00d7ff\">None</span>, <span style=\"color: #00af00; text-decoration-color: #00af00\">101</span>, <span style=\"color: #00af00; text-decoration-color: #00af00\">16</span>)        │           <span style=\"color: #00af00; text-decoration-color: #00af00\">432</span> │\n",
       "├─────────────────────────────────┼────────────────────────┼───────────────┤\n",
       "│ my_transformer_encoder_6        │ (<span style=\"color: #00d7ff; text-decoration-color: #00d7ff\">None</span>, <span style=\"color: #00af00; text-decoration-color: #00af00\">101</span>, <span style=\"color: #00af00; text-decoration-color: #00af00\">16</span>)        │         <span style=\"color: #00af00; text-decoration-color: #00af00\">5,440</span> │\n",
       "│ (<span style=\"color: #0087ff; text-decoration-color: #0087ff\">MyTransformerEncoder</span>)          │                        │               │\n",
       "├─────────────────────────────────┼────────────────────────┼───────────────┤\n",
       "│ global_max_pooling1d_4          │ (<span style=\"color: #00d7ff; text-decoration-color: #00d7ff\">None</span>, <span style=\"color: #00af00; text-decoration-color: #00af00\">16</span>)             │             <span style=\"color: #00af00; text-decoration-color: #00af00\">0</span> │\n",
       "│ (<span style=\"color: #0087ff; text-decoration-color: #0087ff\">GlobalMaxPooling1D</span>)            │                        │               │\n",
       "├─────────────────────────────────┼────────────────────────┼───────────────┤\n",
       "│ dense_34 (<span style=\"color: #0087ff; text-decoration-color: #0087ff\">Dense</span>)                │ (<span style=\"color: #00d7ff; text-decoration-color: #00d7ff\">None</span>, <span style=\"color: #00af00; text-decoration-color: #00af00\">1</span>)              │            <span style=\"color: #00af00; text-decoration-color: #00af00\">17</span> │\n",
       "└─────────────────────────────────┴────────────────────────┴───────────────┘\n",
       "</pre>\n"
      ],
      "text/plain": [
       "┏━━━━━━━━━━━━━━━━━━━━━━━━━━━━━━━━━┳━━━━━━━━━━━━━━━━━━━━━━━━┳━━━━━━━━━━━━━━━┓\n",
       "┃\u001b[1m \u001b[0m\u001b[1mLayer (type)                   \u001b[0m\u001b[1m \u001b[0m┃\u001b[1m \u001b[0m\u001b[1mOutput Shape          \u001b[0m\u001b[1m \u001b[0m┃\u001b[1m \u001b[0m\u001b[1m      Param #\u001b[0m\u001b[1m \u001b[0m┃\n",
       "┡━━━━━━━━━━━━━━━━━━━━━━━━━━━━━━━━━╇━━━━━━━━━━━━━━━━━━━━━━━━╇━━━━━━━━━━━━━━━┩\n",
       "│ input_layer_18 (\u001b[38;5;33mInputLayer\u001b[0m)     │ (\u001b[38;5;45mNone\u001b[0m, \u001b[38;5;34m101\u001b[0m)            │             \u001b[38;5;34m0\u001b[0m │\n",
       "├─────────────────────────────────┼────────────────────────┼───────────────┤\n",
       "│ embedding_10 (\u001b[38;5;33mEmbedding\u001b[0m)        │ (\u001b[38;5;45mNone\u001b[0m, \u001b[38;5;34m101\u001b[0m, \u001b[38;5;34m16\u001b[0m)        │           \u001b[38;5;34m432\u001b[0m │\n",
       "├─────────────────────────────────┼────────────────────────┼───────────────┤\n",
       "│ my_transformer_encoder_6        │ (\u001b[38;5;45mNone\u001b[0m, \u001b[38;5;34m101\u001b[0m, \u001b[38;5;34m16\u001b[0m)        │         \u001b[38;5;34m5,440\u001b[0m │\n",
       "│ (\u001b[38;5;33mMyTransformerEncoder\u001b[0m)          │                        │               │\n",
       "├─────────────────────────────────┼────────────────────────┼───────────────┤\n",
       "│ global_max_pooling1d_4          │ (\u001b[38;5;45mNone\u001b[0m, \u001b[38;5;34m16\u001b[0m)             │             \u001b[38;5;34m0\u001b[0m │\n",
       "│ (\u001b[38;5;33mGlobalMaxPooling1D\u001b[0m)            │                        │               │\n",
       "├─────────────────────────────────┼────────────────────────┼───────────────┤\n",
       "│ dense_34 (\u001b[38;5;33mDense\u001b[0m)                │ (\u001b[38;5;45mNone\u001b[0m, \u001b[38;5;34m1\u001b[0m)              │            \u001b[38;5;34m17\u001b[0m │\n",
       "└─────────────────────────────────┴────────────────────────┴───────────────┘\n"
      ]
     },
     "metadata": {},
     "output_type": "display_data"
    },
    {
     "data": {
      "text/html": [
       "<pre style=\"white-space:pre;overflow-x:auto;line-height:normal;font-family:Menlo,'DejaVu Sans Mono',consolas,'Courier New',monospace\"><span style=\"font-weight: bold\"> Total params: </span><span style=\"color: #00af00; text-decoration-color: #00af00\">5,889</span> (23.00 KB)\n",
       "</pre>\n"
      ],
      "text/plain": [
       "\u001b[1m Total params: \u001b[0m\u001b[38;5;34m5,889\u001b[0m (23.00 KB)\n"
      ]
     },
     "metadata": {},
     "output_type": "display_data"
    },
    {
     "data": {
      "text/html": [
       "<pre style=\"white-space:pre;overflow-x:auto;line-height:normal;font-family:Menlo,'DejaVu Sans Mono',consolas,'Courier New',monospace\"><span style=\"font-weight: bold\"> Trainable params: </span><span style=\"color: #00af00; text-decoration-color: #00af00\">5,889</span> (23.00 KB)\n",
       "</pre>\n"
      ],
      "text/plain": [
       "\u001b[1m Trainable params: \u001b[0m\u001b[38;5;34m5,889\u001b[0m (23.00 KB)\n"
      ]
     },
     "metadata": {},
     "output_type": "display_data"
    },
    {
     "data": {
      "text/html": [
       "<pre style=\"white-space:pre;overflow-x:auto;line-height:normal;font-family:Menlo,'DejaVu Sans Mono',consolas,'Courier New',monospace\"><span style=\"font-weight: bold\"> Non-trainable params: </span><span style=\"color: #00af00; text-decoration-color: #00af00\">0</span> (0.00 B)\n",
       "</pre>\n"
      ],
      "text/plain": [
       "\u001b[1m Non-trainable params: \u001b[0m\u001b[38;5;34m0\u001b[0m (0.00 B)\n"
      ]
     },
     "metadata": {},
     "output_type": "display_data"
    }
   ],
   "source": [
    "transformer1 = Model(inputs, outputs)\n",
    "transformer1.compile(optimizer=optimizers.Adam(learning_rate=0.001), loss=\"binary_crossentropy\", metrics=[\"accuracy\"])\n",
    "transformer1.summary()"
   ]
  },
  {
   "cell_type": "code",
   "execution_count": 180,
   "metadata": {},
   "outputs": [
    {
     "name": "stdout",
     "output_type": "stream",
     "text": [
      "Epoch 1/200\n",
      "\u001b[1m80/80\u001b[0m \u001b[32m━━━━━━━━━━━━━━━━━━━━\u001b[0m\u001b[37m\u001b[0m \u001b[1m5s\u001b[0m 24ms/step - accuracy: 0.5849 - loss: 0.6768 - val_accuracy: 0.7075 - val_loss: 0.5657\n",
      "Epoch 2/200\n",
      "\u001b[1m80/80\u001b[0m \u001b[32m━━━━━━━━━━━━━━━━━━━━\u001b[0m\u001b[37m\u001b[0m \u001b[1m2s\u001b[0m 20ms/step - accuracy: 0.7342 - loss: 0.5534 - val_accuracy: 0.7248 - val_loss: 0.5539\n",
      "Epoch 3/200\n",
      "\u001b[1m80/80\u001b[0m \u001b[32m━━━━━━━━━━━━━━━━━━━━\u001b[0m\u001b[37m\u001b[0m \u001b[1m2s\u001b[0m 20ms/step - accuracy: 0.7456 - loss: 0.5258 - val_accuracy: 0.6965 - val_loss: 0.5660\n",
      "Epoch 4/200\n",
      "\u001b[1m80/80\u001b[0m \u001b[32m━━━━━━━━━━━━━━━━━━━━\u001b[0m\u001b[37m\u001b[0m \u001b[1m2s\u001b[0m 20ms/step - accuracy: 0.7580 - loss: 0.5149 - val_accuracy: 0.7689 - val_loss: 0.5104\n",
      "Epoch 5/200\n",
      "\u001b[1m80/80\u001b[0m \u001b[32m━━━━━━━━━━━━━━━━━━━━\u001b[0m\u001b[37m\u001b[0m \u001b[1m2s\u001b[0m 20ms/step - accuracy: 0.7728 - loss: 0.4896 - val_accuracy: 0.7799 - val_loss: 0.4917\n",
      "Epoch 6/200\n",
      "\u001b[1m80/80\u001b[0m \u001b[32m━━━━━━━━━━━━━━━━━━━━\u001b[0m\u001b[37m\u001b[0m \u001b[1m1s\u001b[0m 16ms/step - accuracy: 0.7806 - loss: 0.4687 - val_accuracy: 0.7720 - val_loss: 0.4798\n",
      "Epoch 7/200\n",
      "\u001b[1m80/80\u001b[0m \u001b[32m━━━━━━━━━━━━━━━━━━━━\u001b[0m\u001b[37m\u001b[0m \u001b[1m1s\u001b[0m 16ms/step - accuracy: 0.7932 - loss: 0.4517 - val_accuracy: 0.7704 - val_loss: 0.4866\n",
      "Epoch 8/200\n",
      "\u001b[1m80/80\u001b[0m \u001b[32m━━━━━━━━━━━━━━━━━━━━\u001b[0m\u001b[37m\u001b[0m \u001b[1m1s\u001b[0m 16ms/step - accuracy: 0.7678 - loss: 0.4859 - val_accuracy: 0.7689 - val_loss: 0.4753\n",
      "Epoch 9/200\n",
      "\u001b[1m80/80\u001b[0m \u001b[32m━━━━━━━━━━━━━━━━━━━━\u001b[0m\u001b[37m\u001b[0m \u001b[1m2s\u001b[0m 20ms/step - accuracy: 0.7813 - loss: 0.4690 - val_accuracy: 0.7437 - val_loss: 0.5004\n",
      "Epoch 10/200\n",
      "\u001b[1m80/80\u001b[0m \u001b[32m━━━━━━━━━━━━━━━━━━━━\u001b[0m\u001b[37m\u001b[0m \u001b[1m2s\u001b[0m 20ms/step - accuracy: 0.7901 - loss: 0.4615 - val_accuracy: 0.7909 - val_loss: 0.4718\n",
      "Epoch 11/200\n",
      "\u001b[1m80/80\u001b[0m \u001b[32m━━━━━━━━━━━━━━━━━━━━\u001b[0m\u001b[37m\u001b[0m \u001b[1m2s\u001b[0m 18ms/step - accuracy: 0.7903 - loss: 0.4572 - val_accuracy: 0.7830 - val_loss: 0.4740\n",
      "Epoch 12/200\n",
      "\u001b[1m80/80\u001b[0m \u001b[32m━━━━━━━━━━━━━━━━━━━━\u001b[0m\u001b[37m\u001b[0m \u001b[1m1s\u001b[0m 17ms/step - accuracy: 0.7868 - loss: 0.4754 - val_accuracy: 0.7846 - val_loss: 0.4636\n",
      "Epoch 13/200\n",
      "\u001b[1m80/80\u001b[0m \u001b[32m━━━━━━━━━━━━━━━━━━━━\u001b[0m\u001b[37m\u001b[0m \u001b[1m1s\u001b[0m 17ms/step - accuracy: 0.7858 - loss: 0.4562 - val_accuracy: 0.7846 - val_loss: 0.4610\n",
      "Epoch 14/200\n",
      "\u001b[1m80/80\u001b[0m \u001b[32m━━━━━━━━━━━━━━━━━━━━\u001b[0m\u001b[37m\u001b[0m \u001b[1m2s\u001b[0m 20ms/step - accuracy: 0.7956 - loss: 0.4408 - val_accuracy: 0.7752 - val_loss: 0.4710\n",
      "Epoch 15/200\n",
      "\u001b[1m80/80\u001b[0m \u001b[32m━━━━━━━━━━━━━━━━━━━━\u001b[0m\u001b[37m\u001b[0m \u001b[1m1s\u001b[0m 17ms/step - accuracy: 0.7958 - loss: 0.4474 - val_accuracy: 0.7783 - val_loss: 0.4676\n",
      "Epoch 16/200\n",
      "\u001b[1m80/80\u001b[0m \u001b[32m━━━━━━━━━━━━━━━━━━━━\u001b[0m\u001b[37m\u001b[0m \u001b[1m1s\u001b[0m 17ms/step - accuracy: 0.7947 - loss: 0.4414 - val_accuracy: 0.7752 - val_loss: 0.4705\n",
      "Epoch 17/200\n",
      "\u001b[1m80/80\u001b[0m \u001b[32m━━━━━━━━━━━━━━━━━━━━\u001b[0m\u001b[37m\u001b[0m \u001b[1m1s\u001b[0m 17ms/step - accuracy: 0.8028 - loss: 0.4450 - val_accuracy: 0.7862 - val_loss: 0.4616\n",
      "Epoch 18/200\n",
      "\u001b[1m80/80\u001b[0m \u001b[32m━━━━━━━━━━━━━━━━━━━━\u001b[0m\u001b[37m\u001b[0m \u001b[1m1s\u001b[0m 17ms/step - accuracy: 0.7996 - loss: 0.4425 - val_accuracy: 0.8019 - val_loss: 0.4491\n",
      "Epoch 19/200\n",
      "\u001b[1m80/80\u001b[0m \u001b[32m━━━━━━━━━━━━━━━━━━━━\u001b[0m\u001b[37m\u001b[0m \u001b[1m3s\u001b[0m 20ms/step - accuracy: 0.8074 - loss: 0.4413 - val_accuracy: 0.7956 - val_loss: 0.4487\n",
      "Epoch 20/200\n",
      "\u001b[1m80/80\u001b[0m \u001b[32m━━━━━━━━━━━━━━━━━━━━\u001b[0m\u001b[37m\u001b[0m \u001b[1m1s\u001b[0m 17ms/step - accuracy: 0.8201 - loss: 0.4098 - val_accuracy: 0.8066 - val_loss: 0.4404\n",
      "Epoch 21/200\n",
      "\u001b[1m80/80\u001b[0m \u001b[32m━━━━━━━━━━━━━━━━━━━━\u001b[0m\u001b[37m\u001b[0m \u001b[1m1s\u001b[0m 18ms/step - accuracy: 0.7961 - loss: 0.4447 - val_accuracy: 0.7987 - val_loss: 0.4375\n",
      "Epoch 22/200\n",
      "\u001b[1m80/80\u001b[0m \u001b[32m━━━━━━━━━━━━━━━━━━━━\u001b[0m\u001b[37m\u001b[0m \u001b[1m1s\u001b[0m 17ms/step - accuracy: 0.8106 - loss: 0.4266 - val_accuracy: 0.7736 - val_loss: 0.4655\n",
      "Epoch 23/200\n",
      "\u001b[1m80/80\u001b[0m \u001b[32m━━━━━━━━━━━━━━━━━━━━\u001b[0m\u001b[37m\u001b[0m \u001b[1m2s\u001b[0m 21ms/step - accuracy: 0.8084 - loss: 0.4243 - val_accuracy: 0.8003 - val_loss: 0.4442\n",
      "Epoch 24/200\n",
      "\u001b[1m80/80\u001b[0m \u001b[32m━━━━━━━━━━━━━━━━━━━━\u001b[0m\u001b[37m\u001b[0m \u001b[1m1s\u001b[0m 17ms/step - accuracy: 0.8044 - loss: 0.4189 - val_accuracy: 0.7799 - val_loss: 0.4606\n",
      "Epoch 25/200\n",
      "\u001b[1m80/80\u001b[0m \u001b[32m━━━━━━━━━━━━━━━━━━━━\u001b[0m\u001b[37m\u001b[0m \u001b[1m1s\u001b[0m 17ms/step - accuracy: 0.8202 - loss: 0.4167 - val_accuracy: 0.7862 - val_loss: 0.4571\n",
      "Epoch 26/200\n",
      "\u001b[1m80/80\u001b[0m \u001b[32m━━━━━━━━━━━━━━━━━━━━\u001b[0m\u001b[37m\u001b[0m \u001b[1m1s\u001b[0m 16ms/step - accuracy: 0.7974 - loss: 0.4306 - val_accuracy: 0.7940 - val_loss: 0.4402\n",
      "Epoch 27/200\n",
      "\u001b[1m80/80\u001b[0m \u001b[32m━━━━━━━━━━━━━━━━━━━━\u001b[0m\u001b[37m\u001b[0m \u001b[1m2s\u001b[0m 21ms/step - accuracy: 0.8217 - loss: 0.4090 - val_accuracy: 0.7673 - val_loss: 0.4800\n",
      "Epoch 28/200\n",
      "\u001b[1m80/80\u001b[0m \u001b[32m━━━━━━━━━━━━━━━━━━━━\u001b[0m\u001b[37m\u001b[0m \u001b[1m1s\u001b[0m 17ms/step - accuracy: 0.8042 - loss: 0.4308 - val_accuracy: 0.8035 - val_loss: 0.4363\n",
      "Epoch 29/200\n",
      "\u001b[1m80/80\u001b[0m \u001b[32m━━━━━━━━━━━━━━━━━━━━\u001b[0m\u001b[37m\u001b[0m \u001b[1m1s\u001b[0m 16ms/step - accuracy: 0.8107 - loss: 0.4055 - val_accuracy: 0.8003 - val_loss: 0.4495\n",
      "Epoch 30/200\n",
      "\u001b[1m80/80\u001b[0m \u001b[32m━━━━━━━━━━━━━━━━━━━━\u001b[0m\u001b[37m\u001b[0m \u001b[1m3s\u001b[0m 17ms/step - accuracy: 0.8042 - loss: 0.4166 - val_accuracy: 0.7893 - val_loss: 0.4491\n",
      "Epoch 31/200\n",
      "\u001b[1m80/80\u001b[0m \u001b[32m━━━━━━━━━━━━━━━━━━━━\u001b[0m\u001b[37m\u001b[0m \u001b[1m1s\u001b[0m 17ms/step - accuracy: 0.8147 - loss: 0.4052 - val_accuracy: 0.8129 - val_loss: 0.4283\n",
      "Epoch 32/200\n",
      "\u001b[1m80/80\u001b[0m \u001b[32m━━━━━━━━━━━━━━━━━━━━\u001b[0m\u001b[37m\u001b[0m \u001b[1m2s\u001b[0m 19ms/step - accuracy: 0.8088 - loss: 0.4168 - val_accuracy: 0.8145 - val_loss: 0.4328\n",
      "Epoch 33/200\n",
      "\u001b[1m80/80\u001b[0m \u001b[32m━━━━━━━━━━━━━━━━━━━━\u001b[0m\u001b[37m\u001b[0m \u001b[1m1s\u001b[0m 16ms/step - accuracy: 0.8122 - loss: 0.4186 - val_accuracy: 0.8035 - val_loss: 0.4248\n",
      "Epoch 34/200\n",
      "\u001b[1m80/80\u001b[0m \u001b[32m━━━━━━━━━━━━━━━━━━━━\u001b[0m\u001b[37m\u001b[0m \u001b[1m2s\u001b[0m 19ms/step - accuracy: 0.8138 - loss: 0.4076 - val_accuracy: 0.7956 - val_loss: 0.4272\n",
      "Epoch 35/200\n",
      "\u001b[1m80/80\u001b[0m \u001b[32m━━━━━━━━━━━━━━━━━━━━\u001b[0m\u001b[37m\u001b[0m \u001b[1m1s\u001b[0m 16ms/step - accuracy: 0.8048 - loss: 0.4181 - val_accuracy: 0.8160 - val_loss: 0.4311\n",
      "Epoch 36/200\n",
      "\u001b[1m80/80\u001b[0m \u001b[32m━━━━━━━━━━━━━━━━━━━━\u001b[0m\u001b[37m\u001b[0m \u001b[1m1s\u001b[0m 17ms/step - accuracy: 0.8053 - loss: 0.4325 - val_accuracy: 0.8035 - val_loss: 0.4211\n",
      "Epoch 37/200\n",
      "\u001b[1m80/80\u001b[0m \u001b[32m━━━━━━━━━━━━━━━━━━━━\u001b[0m\u001b[37m\u001b[0m \u001b[1m1s\u001b[0m 16ms/step - accuracy: 0.8196 - loss: 0.4047 - val_accuracy: 0.7972 - val_loss: 0.4332\n",
      "Epoch 38/200\n",
      "\u001b[1m80/80\u001b[0m \u001b[32m━━━━━━━━━━━━━━━━━━━━\u001b[0m\u001b[37m\u001b[0m \u001b[1m1s\u001b[0m 16ms/step - accuracy: 0.8266 - loss: 0.3919 - val_accuracy: 0.8050 - val_loss: 0.4177\n",
      "Epoch 39/200\n",
      "\u001b[1m80/80\u001b[0m \u001b[32m━━━━━━━━━━━━━━━━━━━━\u001b[0m\u001b[37m\u001b[0m \u001b[1m1s\u001b[0m 16ms/step - accuracy: 0.8064 - loss: 0.4151 - val_accuracy: 0.8223 - val_loss: 0.4185\n",
      "Epoch 40/200\n",
      "\u001b[1m80/80\u001b[0m \u001b[32m━━━━━━━━━━━━━━━━━━━━\u001b[0m\u001b[37m\u001b[0m \u001b[1m1s\u001b[0m 16ms/step - accuracy: 0.8245 - loss: 0.4027 - val_accuracy: 0.8035 - val_loss: 0.4190\n",
      "Epoch 41/200\n",
      "\u001b[1m80/80\u001b[0m \u001b[32m━━━━━━━━━━━━━━━━━━━━\u001b[0m\u001b[37m\u001b[0m \u001b[1m1s\u001b[0m 16ms/step - accuracy: 0.8139 - loss: 0.3988 - val_accuracy: 0.8097 - val_loss: 0.4203\n",
      "Epoch 42/200\n",
      "\u001b[1m80/80\u001b[0m \u001b[32m━━━━━━━━━━━━━━━━━━━━\u001b[0m\u001b[37m\u001b[0m \u001b[1m1s\u001b[0m 16ms/step - accuracy: 0.8107 - loss: 0.4138 - val_accuracy: 0.7814 - val_loss: 0.4472\n",
      "Epoch 43/200\n",
      "\u001b[1m80/80\u001b[0m \u001b[32m━━━━━━━━━━━━━━━━━━━━\u001b[0m\u001b[37m\u001b[0m \u001b[1m1s\u001b[0m 17ms/step - accuracy: 0.8344 - loss: 0.3787 - val_accuracy: 0.8035 - val_loss: 0.4160\n",
      "Epoch 44/200\n",
      "\u001b[1m80/80\u001b[0m \u001b[32m━━━━━━━━━━━━━━━━━━━━\u001b[0m\u001b[37m\u001b[0m \u001b[1m1s\u001b[0m 16ms/step - accuracy: 0.8168 - loss: 0.4052 - val_accuracy: 0.7940 - val_loss: 0.4266\n",
      "Epoch 45/200\n",
      "\u001b[1m80/80\u001b[0m \u001b[32m━━━━━━━━━━━━━━━━━━━━\u001b[0m\u001b[37m\u001b[0m \u001b[1m1s\u001b[0m 15ms/step - accuracy: 0.8076 - loss: 0.4037 - val_accuracy: 0.7925 - val_loss: 0.4195\n",
      "Epoch 46/200\n",
      "\u001b[1m80/80\u001b[0m \u001b[32m━━━━━━━━━━━━━━━━━━━━\u001b[0m\u001b[37m\u001b[0m \u001b[1m1s\u001b[0m 17ms/step - accuracy: 0.8212 - loss: 0.3968 - val_accuracy: 0.8050 - val_loss: 0.4405\n",
      "Epoch 47/200\n",
      "\u001b[1m80/80\u001b[0m \u001b[32m━━━━━━━━━━━━━━━━━━━━\u001b[0m\u001b[37m\u001b[0m \u001b[1m1s\u001b[0m 16ms/step - accuracy: 0.8183 - loss: 0.4132 - val_accuracy: 0.8239 - val_loss: 0.4133\n",
      "Epoch 48/200\n",
      "\u001b[1m80/80\u001b[0m \u001b[32m━━━━━━━━━━━━━━━━━━━━\u001b[0m\u001b[37m\u001b[0m \u001b[1m1s\u001b[0m 16ms/step - accuracy: 0.8207 - loss: 0.3859 - val_accuracy: 0.7972 - val_loss: 0.4227\n",
      "Epoch 49/200\n",
      "\u001b[1m80/80\u001b[0m \u001b[32m━━━━━━━━━━━━━━━━━━━━\u001b[0m\u001b[37m\u001b[0m \u001b[1m1s\u001b[0m 17ms/step - accuracy: 0.8117 - loss: 0.3879 - val_accuracy: 0.8050 - val_loss: 0.4192\n",
      "Epoch 50/200\n",
      "\u001b[1m80/80\u001b[0m \u001b[32m━━━━━━━━━━━━━━━━━━━━\u001b[0m\u001b[37m\u001b[0m \u001b[1m1s\u001b[0m 17ms/step - accuracy: 0.8225 - loss: 0.3810 - val_accuracy: 0.8066 - val_loss: 0.4250\n",
      "Epoch 51/200\n",
      "\u001b[1m80/80\u001b[0m \u001b[32m━━━━━━━━━━━━━━━━━━━━\u001b[0m\u001b[37m\u001b[0m \u001b[1m1s\u001b[0m 17ms/step - accuracy: 0.8214 - loss: 0.3951 - val_accuracy: 0.8003 - val_loss: 0.4219\n",
      "Epoch 52/200\n",
      "\u001b[1m80/80\u001b[0m \u001b[32m━━━━━━━━━━━━━━━━━━━━\u001b[0m\u001b[37m\u001b[0m \u001b[1m1s\u001b[0m 16ms/step - accuracy: 0.8298 - loss: 0.3919 - val_accuracy: 0.8050 - val_loss: 0.4089\n",
      "Epoch 53/200\n",
      "\u001b[1m80/80\u001b[0m \u001b[32m━━━━━━━━━━━━━━━━━━━━\u001b[0m\u001b[37m\u001b[0m \u001b[1m1s\u001b[0m 16ms/step - accuracy: 0.8284 - loss: 0.3816 - val_accuracy: 0.8192 - val_loss: 0.4138\n",
      "Epoch 54/200\n",
      "\u001b[1m80/80\u001b[0m \u001b[32m━━━━━━━━━━━━━━━━━━━━\u001b[0m\u001b[37m\u001b[0m \u001b[1m1s\u001b[0m 17ms/step - accuracy: 0.8196 - loss: 0.3937 - val_accuracy: 0.8113 - val_loss: 0.4141\n",
      "Epoch 55/200\n",
      "\u001b[1m80/80\u001b[0m \u001b[32m━━━━━━━━━━━━━━━━━━━━\u001b[0m\u001b[37m\u001b[0m \u001b[1m1s\u001b[0m 16ms/step - accuracy: 0.8385 - loss: 0.3811 - val_accuracy: 0.8097 - val_loss: 0.4093\n",
      "Epoch 56/200\n",
      "\u001b[1m80/80\u001b[0m \u001b[32m━━━━━━━━━━━━━━━━━━━━\u001b[0m\u001b[37m\u001b[0m \u001b[1m1s\u001b[0m 17ms/step - accuracy: 0.8502 - loss: 0.3560 - val_accuracy: 0.8208 - val_loss: 0.4037\n",
      "Epoch 57/200\n",
      "\u001b[1m80/80\u001b[0m \u001b[32m━━━━━━━━━━━━━━━━━━━━\u001b[0m\u001b[37m\u001b[0m \u001b[1m1s\u001b[0m 16ms/step - accuracy: 0.8269 - loss: 0.3815 - val_accuracy: 0.8097 - val_loss: 0.4173\n",
      "Epoch 58/200\n",
      "\u001b[1m80/80\u001b[0m \u001b[32m━━━━━━━━━━━━━━━━━━━━\u001b[0m\u001b[37m\u001b[0m \u001b[1m1s\u001b[0m 16ms/step - accuracy: 0.8251 - loss: 0.3763 - val_accuracy: 0.8113 - val_loss: 0.4098\n",
      "Epoch 59/200\n",
      "\u001b[1m80/80\u001b[0m \u001b[32m━━━━━━━━━━━━━━━━━━━━\u001b[0m\u001b[37m\u001b[0m \u001b[1m1s\u001b[0m 17ms/step - accuracy: 0.8276 - loss: 0.3781 - val_accuracy: 0.8035 - val_loss: 0.4191\n",
      "Epoch 60/200\n",
      "\u001b[1m80/80\u001b[0m \u001b[32m━━━━━━━━━━━━━━━━━━━━\u001b[0m\u001b[37m\u001b[0m \u001b[1m1s\u001b[0m 15ms/step - accuracy: 0.8236 - loss: 0.3888 - val_accuracy: 0.8066 - val_loss: 0.4173\n",
      "Epoch 61/200\n",
      "\u001b[1m80/80\u001b[0m \u001b[32m━━━━━━━━━━━━━━━━━━━━\u001b[0m\u001b[37m\u001b[0m \u001b[1m1s\u001b[0m 17ms/step - accuracy: 0.8293 - loss: 0.3756 - val_accuracy: 0.7940 - val_loss: 0.4365\n",
      "Epoch 62/200\n",
      "\u001b[1m80/80\u001b[0m \u001b[32m━━━━━━━━━━━━━━━━━━━━\u001b[0m\u001b[37m\u001b[0m \u001b[1m1s\u001b[0m 18ms/step - accuracy: 0.8332 - loss: 0.3697 - val_accuracy: 0.7909 - val_loss: 0.4251\n",
      "Epoch 63/200\n",
      "\u001b[1m80/80\u001b[0m \u001b[32m━━━━━━━━━━━━━━━━━━━━\u001b[0m\u001b[37m\u001b[0m \u001b[1m1s\u001b[0m 15ms/step - accuracy: 0.8232 - loss: 0.3866 - val_accuracy: 0.8176 - val_loss: 0.4018\n",
      "Epoch 64/200\n",
      "\u001b[1m80/80\u001b[0m \u001b[32m━━━━━━━━━━━━━━━━━━━━\u001b[0m\u001b[37m\u001b[0m \u001b[1m1s\u001b[0m 15ms/step - accuracy: 0.8370 - loss: 0.3739 - val_accuracy: 0.8129 - val_loss: 0.4182\n",
      "Epoch 65/200\n",
      "\u001b[1m80/80\u001b[0m \u001b[32m━━━━━━━━━━━━━━━━━━━━\u001b[0m\u001b[37m\u001b[0m \u001b[1m1s\u001b[0m 17ms/step - accuracy: 0.8412 - loss: 0.3690 - val_accuracy: 0.8082 - val_loss: 0.4185\n",
      "Epoch 66/200\n",
      "\u001b[1m80/80\u001b[0m \u001b[32m━━━━━━━━━━━━━━━━━━━━\u001b[0m\u001b[37m\u001b[0m \u001b[1m1s\u001b[0m 18ms/step - accuracy: 0.8209 - loss: 0.3830 - val_accuracy: 0.8097 - val_loss: 0.4047\n",
      "Epoch 67/200\n",
      "\u001b[1m80/80\u001b[0m \u001b[32m━━━━━━━━━━━━━━━━━━━━\u001b[0m\u001b[37m\u001b[0m \u001b[1m1s\u001b[0m 18ms/step - accuracy: 0.8329 - loss: 0.3831 - val_accuracy: 0.8160 - val_loss: 0.4035\n",
      "Epoch 68/200\n",
      "\u001b[1m80/80\u001b[0m \u001b[32m━━━━━━━━━━━━━━━━━━━━\u001b[0m\u001b[37m\u001b[0m \u001b[1m1s\u001b[0m 18ms/step - accuracy: 0.8362 - loss: 0.3769 - val_accuracy: 0.8066 - val_loss: 0.4223\n",
      "Epoch 69/200\n",
      "\u001b[1m80/80\u001b[0m \u001b[32m━━━━━━━━━━━━━━━━━━━━\u001b[0m\u001b[37m\u001b[0m \u001b[1m1s\u001b[0m 18ms/step - accuracy: 0.8389 - loss: 0.3697 - val_accuracy: 0.8113 - val_loss: 0.4127\n",
      "Epoch 70/200\n",
      "\u001b[1m80/80\u001b[0m \u001b[32m━━━━━━━━━━━━━━━━━━━━\u001b[0m\u001b[37m\u001b[0m \u001b[1m3s\u001b[0m 16ms/step - accuracy: 0.8352 - loss: 0.3549 - val_accuracy: 0.8050 - val_loss: 0.4076\n",
      "Epoch 71/200\n",
      "\u001b[1m80/80\u001b[0m \u001b[32m━━━━━━━━━━━━━━━━━━━━\u001b[0m\u001b[37m\u001b[0m \u001b[1m1s\u001b[0m 16ms/step - accuracy: 0.8362 - loss: 0.3606 - val_accuracy: 0.8145 - val_loss: 0.4038\n",
      "Epoch 72/200\n",
      "\u001b[1m80/80\u001b[0m \u001b[32m━━━━━━━━━━━━━━━━━━━━\u001b[0m\u001b[37m\u001b[0m \u001b[1m1s\u001b[0m 16ms/step - accuracy: 0.8446 - loss: 0.3624 - val_accuracy: 0.8145 - val_loss: 0.4073\n",
      "Epoch 73/200\n",
      "\u001b[1m80/80\u001b[0m \u001b[32m━━━━━━━━━━━━━━━━━━━━\u001b[0m\u001b[37m\u001b[0m \u001b[1m1s\u001b[0m 16ms/step - accuracy: 0.8411 - loss: 0.3518 - val_accuracy: 0.7956 - val_loss: 0.4093\n",
      "Epoch 74/200\n",
      "\u001b[1m80/80\u001b[0m \u001b[32m━━━━━━━━━━━━━━━━━━━━\u001b[0m\u001b[37m\u001b[0m \u001b[1m1s\u001b[0m 16ms/step - accuracy: 0.8346 - loss: 0.3705 - val_accuracy: 0.8066 - val_loss: 0.4118\n",
      "Epoch 75/200\n",
      "\u001b[1m80/80\u001b[0m \u001b[32m━━━━━━━━━━━━━━━━━━━━\u001b[0m\u001b[37m\u001b[0m \u001b[1m1s\u001b[0m 18ms/step - accuracy: 0.8342 - loss: 0.3619 - val_accuracy: 0.8113 - val_loss: 0.4099\n",
      "Epoch 76/200\n",
      "\u001b[1m80/80\u001b[0m \u001b[32m━━━━━━━━━━━━━━━━━━━━\u001b[0m\u001b[37m\u001b[0m \u001b[1m1s\u001b[0m 18ms/step - accuracy: 0.8464 - loss: 0.3544 - val_accuracy: 0.8050 - val_loss: 0.4101\n",
      "Epoch 77/200\n",
      "\u001b[1m80/80\u001b[0m \u001b[32m━━━━━━━━━━━━━━━━━━━━\u001b[0m\u001b[37m\u001b[0m \u001b[1m1s\u001b[0m 18ms/step - accuracy: 0.8564 - loss: 0.3306 - val_accuracy: 0.7972 - val_loss: 0.4219\n",
      "Epoch 78/200\n",
      "\u001b[1m80/80\u001b[0m \u001b[32m━━━━━━━━━━━━━━━━━━━━\u001b[0m\u001b[37m\u001b[0m \u001b[1m1s\u001b[0m 18ms/step - accuracy: 0.8402 - loss: 0.3640 - val_accuracy: 0.7909 - val_loss: 0.4337\n",
      "Epoch 79/200\n",
      "\u001b[1m80/80\u001b[0m \u001b[32m━━━━━━━━━━━━━━━━━━━━\u001b[0m\u001b[37m\u001b[0m \u001b[1m1s\u001b[0m 15ms/step - accuracy: 0.8263 - loss: 0.3804 - val_accuracy: 0.8192 - val_loss: 0.4154\n",
      "Epoch 80/200\n",
      "\u001b[1m80/80\u001b[0m \u001b[32m━━━━━━━━━━━━━━━━━━━━\u001b[0m\u001b[37m\u001b[0m \u001b[1m1s\u001b[0m 17ms/step - accuracy: 0.8524 - loss: 0.3476 - val_accuracy: 0.8050 - val_loss: 0.4073\n",
      "Epoch 81/200\n",
      "\u001b[1m80/80\u001b[0m \u001b[32m━━━━━━━━━━━━━━━━━━━━\u001b[0m\u001b[37m\u001b[0m \u001b[1m1s\u001b[0m 15ms/step - accuracy: 0.8453 - loss: 0.3352 - val_accuracy: 0.8129 - val_loss: 0.4237\n",
      "Epoch 82/200\n",
      "\u001b[1m80/80\u001b[0m \u001b[32m━━━━━━━━━━━━━━━━━━━━\u001b[0m\u001b[37m\u001b[0m \u001b[1m1s\u001b[0m 18ms/step - accuracy: 0.8470 - loss: 0.3582 - val_accuracy: 0.8129 - val_loss: 0.4097\n",
      "Epoch 83/200\n",
      "\u001b[1m80/80\u001b[0m \u001b[32m━━━━━━━━━━━━━━━━━━━━\u001b[0m\u001b[37m\u001b[0m \u001b[1m1s\u001b[0m 18ms/step - accuracy: 0.8222 - loss: 0.3724 - val_accuracy: 0.8019 - val_loss: 0.4039\n",
      "Epoch 84/200\n",
      "\u001b[1m80/80\u001b[0m \u001b[32m━━━━━━━━━━━━━━━━━━━━\u001b[0m\u001b[37m\u001b[0m \u001b[1m1s\u001b[0m 16ms/step - accuracy: 0.8531 - loss: 0.3465 - val_accuracy: 0.8160 - val_loss: 0.3947\n",
      "Epoch 85/200\n",
      "\u001b[1m80/80\u001b[0m \u001b[32m━━━━━━━━━━━━━━━━━━━━\u001b[0m\u001b[37m\u001b[0m \u001b[1m1s\u001b[0m 15ms/step - accuracy: 0.8465 - loss: 0.3404 - val_accuracy: 0.8050 - val_loss: 0.4023\n",
      "Epoch 86/200\n",
      "\u001b[1m80/80\u001b[0m \u001b[32m━━━━━━━━━━━━━━━━━━━━\u001b[0m\u001b[37m\u001b[0m \u001b[1m1s\u001b[0m 18ms/step - accuracy: 0.8472 - loss: 0.3437 - val_accuracy: 0.7940 - val_loss: 0.4127\n",
      "Epoch 87/200\n",
      "\u001b[1m80/80\u001b[0m \u001b[32m━━━━━━━━━━━━━━━━━━━━\u001b[0m\u001b[37m\u001b[0m \u001b[1m1s\u001b[0m 18ms/step - accuracy: 0.8425 - loss: 0.3417 - val_accuracy: 0.8082 - val_loss: 0.3983\n",
      "Epoch 88/200\n",
      "\u001b[1m80/80\u001b[0m \u001b[32m━━━━━━━━━━━━━━━━━━━━\u001b[0m\u001b[37m\u001b[0m \u001b[1m2s\u001b[0m 19ms/step - accuracy: 0.8374 - loss: 0.3507 - val_accuracy: 0.8019 - val_loss: 0.4045\n",
      "Epoch 89/200\n",
      "\u001b[1m80/80\u001b[0m \u001b[32m━━━━━━━━━━━━━━━━━━━━\u001b[0m\u001b[37m\u001b[0m \u001b[1m1s\u001b[0m 18ms/step - accuracy: 0.8442 - loss: 0.3428 - val_accuracy: 0.8035 - val_loss: 0.4055\n",
      "Epoch 90/200\n",
      "\u001b[1m80/80\u001b[0m \u001b[32m━━━━━━━━━━━━━━━━━━━━\u001b[0m\u001b[37m\u001b[0m \u001b[1m1s\u001b[0m 18ms/step - accuracy: 0.8340 - loss: 0.3577 - val_accuracy: 0.8097 - val_loss: 0.4053\n",
      "Epoch 91/200\n",
      "\u001b[1m80/80\u001b[0m \u001b[32m━━━━━━━━━━━━━━━━━━━━\u001b[0m\u001b[37m\u001b[0m \u001b[1m1s\u001b[0m 18ms/step - accuracy: 0.8458 - loss: 0.3452 - val_accuracy: 0.8097 - val_loss: 0.4035\n",
      "Epoch 92/200\n",
      "\u001b[1m80/80\u001b[0m \u001b[32m━━━━━━━━━━━━━━━━━━━━\u001b[0m\u001b[37m\u001b[0m \u001b[1m2s\u001b[0m 18ms/step - accuracy: 0.8396 - loss: 0.3472 - val_accuracy: 0.8097 - val_loss: 0.4079\n",
      "Epoch 93/200\n",
      "\u001b[1m80/80\u001b[0m \u001b[32m━━━━━━━━━━━━━━━━━━━━\u001b[0m\u001b[37m\u001b[0m \u001b[1m1s\u001b[0m 18ms/step - accuracy: 0.8439 - loss: 0.3332 - val_accuracy: 0.8160 - val_loss: 0.4023\n",
      "Epoch 94/200\n",
      "\u001b[1m80/80\u001b[0m \u001b[32m━━━━━━━━━━━━━━━━━━━━\u001b[0m\u001b[37m\u001b[0m \u001b[1m1s\u001b[0m 15ms/step - accuracy: 0.8481 - loss: 0.3407 - val_accuracy: 0.7987 - val_loss: 0.4138\n",
      "Epoch 95/200\n",
      "\u001b[1m80/80\u001b[0m \u001b[32m━━━━━━━━━━━━━━━━━━━━\u001b[0m\u001b[37m\u001b[0m \u001b[1m1s\u001b[0m 15ms/step - accuracy: 0.8469 - loss: 0.3367 - val_accuracy: 0.8129 - val_loss: 0.4206\n",
      "Epoch 96/200\n",
      "\u001b[1m80/80\u001b[0m \u001b[32m━━━━━━━━━━━━━━━━━━━━\u001b[0m\u001b[37m\u001b[0m \u001b[1m1s\u001b[0m 18ms/step - accuracy: 0.8552 - loss: 0.3397 - val_accuracy: 0.8113 - val_loss: 0.4171\n",
      "Epoch 97/200\n",
      "\u001b[1m80/80\u001b[0m \u001b[32m━━━━━━━━━━━━━━━━━━━━\u001b[0m\u001b[37m\u001b[0m \u001b[1m1s\u001b[0m 17ms/step - accuracy: 0.8594 - loss: 0.3284 - val_accuracy: 0.8066 - val_loss: 0.4127\n",
      "Epoch 98/200\n",
      "\u001b[1m80/80\u001b[0m \u001b[32m━━━━━━━━━━━━━━━━━━━━\u001b[0m\u001b[37m\u001b[0m \u001b[1m1s\u001b[0m 17ms/step - accuracy: 0.8338 - loss: 0.3515 - val_accuracy: 0.8113 - val_loss: 0.4139\n",
      "Epoch 99/200\n",
      "\u001b[1m80/80\u001b[0m \u001b[32m━━━━━━━━━━━━━━━━━━━━\u001b[0m\u001b[37m\u001b[0m \u001b[1m1s\u001b[0m 18ms/step - accuracy: 0.8431 - loss: 0.3368 - val_accuracy: 0.8097 - val_loss: 0.4157\n",
      "Epoch 100/200\n",
      "\u001b[1m80/80\u001b[0m \u001b[32m━━━━━━━━━━━━━━━━━━━━\u001b[0m\u001b[37m\u001b[0m \u001b[1m1s\u001b[0m 16ms/step - accuracy: 0.8488 - loss: 0.3425 - val_accuracy: 0.8035 - val_loss: 0.4302\n",
      "Epoch 101/200\n",
      "\u001b[1m80/80\u001b[0m \u001b[32m━━━━━━━━━━━━━━━━━━━━\u001b[0m\u001b[37m\u001b[0m \u001b[1m1s\u001b[0m 18ms/step - accuracy: 0.8512 - loss: 0.3427 - val_accuracy: 0.8035 - val_loss: 0.4100\n",
      "Epoch 102/200\n",
      "\u001b[1m80/80\u001b[0m \u001b[32m━━━━━━━━━━━━━━━━━━━━\u001b[0m\u001b[37m\u001b[0m \u001b[1m1s\u001b[0m 17ms/step - accuracy: 0.8585 - loss: 0.3324 - val_accuracy: 0.8035 - val_loss: 0.4037\n",
      "Epoch 103/200\n",
      "\u001b[1m80/80\u001b[0m \u001b[32m━━━━━━━━━━━━━━━━━━━━\u001b[0m\u001b[37m\u001b[0m \u001b[1m1s\u001b[0m 17ms/step - accuracy: 0.8490 - loss: 0.3277 - val_accuracy: 0.8113 - val_loss: 0.4120\n",
      "Epoch 104/200\n",
      "\u001b[1m80/80\u001b[0m \u001b[32m━━━━━━━━━━━━━━━━━━━━\u001b[0m\u001b[37m\u001b[0m \u001b[1m2s\u001b[0m 18ms/step - accuracy: 0.8489 - loss: 0.3270 - val_accuracy: 0.8050 - val_loss: 0.4149\n",
      "Epoch 105/200\n",
      "\u001b[1m80/80\u001b[0m \u001b[32m━━━━━━━━━━━━━━━━━━━━\u001b[0m\u001b[37m\u001b[0m \u001b[1m1s\u001b[0m 18ms/step - accuracy: 0.8343 - loss: 0.3449 - val_accuracy: 0.8066 - val_loss: 0.4091\n",
      "Epoch 106/200\n",
      "\u001b[1m80/80\u001b[0m \u001b[32m━━━━━━━━━━━━━━━━━━━━\u001b[0m\u001b[37m\u001b[0m \u001b[1m1s\u001b[0m 18ms/step - accuracy: 0.8440 - loss: 0.3373 - val_accuracy: 0.8113 - val_loss: 0.4247\n",
      "Epoch 107/200\n",
      "\u001b[1m80/80\u001b[0m \u001b[32m━━━━━━━━━━━━━━━━━━━━\u001b[0m\u001b[37m\u001b[0m \u001b[1m1s\u001b[0m 16ms/step - accuracy: 0.8512 - loss: 0.3435 - val_accuracy: 0.7987 - val_loss: 0.4280\n",
      "Epoch 108/200\n",
      "\u001b[1m80/80\u001b[0m \u001b[32m━━━━━━━━━━━━━━━━━━━━\u001b[0m\u001b[37m\u001b[0m \u001b[1m1s\u001b[0m 15ms/step - accuracy: 0.8374 - loss: 0.3524 - val_accuracy: 0.8082 - val_loss: 0.4193\n",
      "Epoch 109/200\n",
      "\u001b[1m80/80\u001b[0m \u001b[32m━━━━━━━━━━━━━━━━━━━━\u001b[0m\u001b[37m\u001b[0m \u001b[1m1s\u001b[0m 16ms/step - accuracy: 0.8319 - loss: 0.3536 - val_accuracy: 0.8019 - val_loss: 0.4135\n",
      "Epoch 110/200\n",
      "\u001b[1m80/80\u001b[0m \u001b[32m━━━━━━━━━━━━━━━━━━━━\u001b[0m\u001b[37m\u001b[0m \u001b[1m1s\u001b[0m 18ms/step - accuracy: 0.8497 - loss: 0.3256 - val_accuracy: 0.8066 - val_loss: 0.4143\n",
      "Epoch 111/200\n",
      "\u001b[1m80/80\u001b[0m \u001b[32m━━━━━━━━━━━━━━━━━━━━\u001b[0m\u001b[37m\u001b[0m \u001b[1m1s\u001b[0m 15ms/step - accuracy: 0.8568 - loss: 0.3324 - val_accuracy: 0.8097 - val_loss: 0.4043\n",
      "Epoch 112/200\n",
      "\u001b[1m80/80\u001b[0m \u001b[32m━━━━━━━━━━━━━━━━━━━━\u001b[0m\u001b[37m\u001b[0m \u001b[1m1s\u001b[0m 15ms/step - accuracy: 0.8414 - loss: 0.3372 - val_accuracy: 0.8129 - val_loss: 0.4200\n",
      "Epoch 113/200\n",
      "\u001b[1m80/80\u001b[0m \u001b[32m━━━━━━━━━━━━━━━━━━━━\u001b[0m\u001b[37m\u001b[0m \u001b[1m2s\u001b[0m 19ms/step - accuracy: 0.8614 - loss: 0.3166 - val_accuracy: 0.8003 - val_loss: 0.4182\n",
      "Epoch 114/200\n",
      "\u001b[1m80/80\u001b[0m \u001b[32m━━━━━━━━━━━━━━━━━━━━\u001b[0m\u001b[37m\u001b[0m \u001b[1m1s\u001b[0m 18ms/step - accuracy: 0.8524 - loss: 0.3273 - val_accuracy: 0.8050 - val_loss: 0.4179\n",
      "Epoch 115/200\n",
      "\u001b[1m80/80\u001b[0m \u001b[32m━━━━━━━━━━━━━━━━━━━━\u001b[0m\u001b[37m\u001b[0m \u001b[1m1s\u001b[0m 18ms/step - accuracy: 0.8389 - loss: 0.3430 - val_accuracy: 0.8082 - val_loss: 0.4074\n",
      "Epoch 116/200\n",
      "\u001b[1m80/80\u001b[0m \u001b[32m━━━━━━━━━━━━━━━━━━━━\u001b[0m\u001b[37m\u001b[0m \u001b[1m1s\u001b[0m 18ms/step - accuracy: 0.8480 - loss: 0.3293 - val_accuracy: 0.8035 - val_loss: 0.4165\n",
      "Epoch 117/200\n",
      "\u001b[1m80/80\u001b[0m \u001b[32m━━━━━━━━━━━━━━━━━━━━\u001b[0m\u001b[37m\u001b[0m \u001b[1m1s\u001b[0m 18ms/step - accuracy: 0.8479 - loss: 0.3353 - val_accuracy: 0.8050 - val_loss: 0.4137\n",
      "Epoch 118/200\n",
      "\u001b[1m80/80\u001b[0m \u001b[32m━━━━━━━━━━━━━━━━━━━━\u001b[0m\u001b[37m\u001b[0m \u001b[1m1s\u001b[0m 17ms/step - accuracy: 0.8484 - loss: 0.3312 - val_accuracy: 0.7972 - val_loss: 0.4178\n",
      "Epoch 119/200\n",
      "\u001b[1m80/80\u001b[0m \u001b[32m━━━━━━━━━━━━━━━━━━━━\u001b[0m\u001b[37m\u001b[0m \u001b[1m1s\u001b[0m 15ms/step - accuracy: 0.8420 - loss: 0.3336 - val_accuracy: 0.7987 - val_loss: 0.4254\n",
      "Epoch 120/200\n",
      "\u001b[1m80/80\u001b[0m \u001b[32m━━━━━━━━━━━━━━━━━━━━\u001b[0m\u001b[37m\u001b[0m \u001b[1m1s\u001b[0m 15ms/step - accuracy: 0.8555 - loss: 0.3080 - val_accuracy: 0.8019 - val_loss: 0.4071\n",
      "Epoch 121/200\n",
      "\u001b[1m80/80\u001b[0m \u001b[32m━━━━━━━━━━━━━━━━━━━━\u001b[0m\u001b[37m\u001b[0m \u001b[1m2s\u001b[0m 19ms/step - accuracy: 0.8437 - loss: 0.3353 - val_accuracy: 0.8082 - val_loss: 0.4087\n",
      "Epoch 122/200\n",
      "\u001b[1m80/80\u001b[0m \u001b[32m━━━━━━━━━━━━━━━━━━━━\u001b[0m\u001b[37m\u001b[0m \u001b[1m1s\u001b[0m 18ms/step - accuracy: 0.8677 - loss: 0.3049 - val_accuracy: 0.8066 - val_loss: 0.4159\n",
      "Epoch 123/200\n",
      "\u001b[1m80/80\u001b[0m \u001b[32m━━━━━━━━━━━━━━━━━━━━\u001b[0m\u001b[37m\u001b[0m \u001b[1m1s\u001b[0m 15ms/step - accuracy: 0.8547 - loss: 0.3208 - val_accuracy: 0.8019 - val_loss: 0.4110\n",
      "Epoch 124/200\n",
      "\u001b[1m80/80\u001b[0m \u001b[32m━━━━━━━━━━━━━━━━━━━━\u001b[0m\u001b[37m\u001b[0m \u001b[1m1s\u001b[0m 18ms/step - accuracy: 0.8609 - loss: 0.3077 - val_accuracy: 0.8066 - val_loss: 0.4290\n",
      "Epoch 125/200\n",
      "\u001b[1m80/80\u001b[0m \u001b[32m━━━━━━━━━━━━━━━━━━━━\u001b[0m\u001b[37m\u001b[0m \u001b[1m2s\u001b[0m 19ms/step - accuracy: 0.8612 - loss: 0.3109 - val_accuracy: 0.8097 - val_loss: 0.4134\n",
      "Epoch 126/200\n",
      "\u001b[1m80/80\u001b[0m \u001b[32m━━━━━━━━━━━━━━━━━━━━\u001b[0m\u001b[37m\u001b[0m \u001b[1m1s\u001b[0m 18ms/step - accuracy: 0.8670 - loss: 0.2932 - val_accuracy: 0.8019 - val_loss: 0.4213\n",
      "Epoch 127/200\n",
      "\u001b[1m80/80\u001b[0m \u001b[32m━━━━━━━━━━━━━━━━━━━━\u001b[0m\u001b[37m\u001b[0m \u001b[1m1s\u001b[0m 18ms/step - accuracy: 0.8484 - loss: 0.3220 - val_accuracy: 0.8035 - val_loss: 0.4220\n",
      "Epoch 127: early stopping\n",
      "Restoring model weights from the end of the best epoch: 47.\n"
     ]
    }
   ],
   "source": [
    "history = transformer1.fit(X_train_f, y_train_f, epochs=200, batch_size=32, validation_data=(X_val_f, y_val_f), callbacks=[early_stopping])"
   ]
  },
  {
   "cell_type": "code",
   "execution_count": 181,
   "metadata": {},
   "outputs": [
    {
     "data": {
      "image/png": "[encoded data removed]",
      "text/plain": [
       "<Figure size 1000x600 with 1 Axes>"
      ]
     },
     "metadata": {},
     "output_type": "display_data"
    }
   ],
   "source": [
    "plt.figure(figsize=(10, 6))\n",
    "plt.plot(history.history['val_accuracy'], label='Precisión de validación')\n",
    "plt.plot(history.history['val_loss'], label= 'Función de pérdida en validación')\n",
    "plt.axvline(x=np.argmax(history.history['val_accuracy']), color='r', linestyle='-', linewidth=1, label='Early Stopping Mejor modelo')\n",
    "plt.xlabel('Épocas')\n",
    "plt.ylabel('Precisión y Pérdida')\n",
    "plt.legend()\n",
    "plt.show()"
   ]
  },
  {
   "cell_type": "markdown",
   "metadata": {},
   "source": [
    "**Testeo del modelo mediante el conjunto de prueba:**"
   ]
  },
  {
   "cell_type": "code",
   "execution_count": 182,
   "metadata": {},
   "outputs": [
    {
     "name": "stdout",
     "output_type": "stream",
     "text": [
      "\u001b[1m25/25\u001b[0m \u001b[32m━━━━━━━━━━━━━━━━━━━━\u001b[0m\u001b[37m\u001b[0m \u001b[1m0s\u001b[0m 8ms/step - accuracy: 0.8148 - loss: 0.4191\n"
     ]
    },
    {
     "name": "stderr",
     "output_type": "stream",
     "text": [
      "WARNING:absl:You are saving your model as an HDF5 file via `model.save()` or `keras.saving.save_model(model)`. This file format is considered legacy. We recommend using instead the native Keras format, e.g. `model.save('my_model.keras')` or `keras.saving.save_model(model, 'my_model.keras')`. \n"
     ]
    },
    {
     "name": "stdout",
     "output_type": "stream",
     "text": [
      "Test Accuracy: 0.8138364553451538\n",
      "Test Loss: 0.422162801027298\n"
     ]
    }
   ],
   "source": [
    "test_loss, test_acc = transformer1.evaluate(X_test_padded, y_test)\n",
    "print(f\"Test Accuracy: {test_acc}\")\n",
    "print(f\"Test Loss: {test_loss}\")\n",
    "\n",
    "# Guardamos el modelo entrenado\n",
    "transformer1.save('../models/transformer1.h5')"
   ]
  },
  {
   "cell_type": "markdown",
   "metadata": {},
   "source": [
    "**E4:** Implementa la clase MyPositionEmbedding según el esquema descrito anteriormente.\n"
   ]
  },
  {
   "cell_type": "code",
   "execution_count": 203,
   "metadata": {},
   "outputs": [],
   "source": [
    "# Capa de Embedding Posicional + Contextual mediante una clase\n",
    "\n",
    "from keras.saving import register_keras_serializable\n",
    "\n",
    "@register_keras_serializable()\n",
    "class MyPositionalEmbedding(Layer):\n",
    "    def __init__(self, vocab_size, embed_dim, max_len, **kwargs):\n",
    "        super().__init__(**kwargs)                                                             # Matriz de embeddings para los tokens y posiciones\n",
    "        self.token_embedding = Embedding(input_dim=vocab_size, output_dim=embed_dim) # Embedding para los tokens: (27, 16) -> 27 aminoácidos/tokens distintos y 16 dimensiones\n",
    "        self.position_embedding = Embedding(input_dim=max_len, output_dim=embed_dim) # Embedding para las posiciones: (101, 16) -> 101 posiciones distintas y 16 dimensiones\n",
    "    \n",
    "    def call(self, inputs):\n",
    "        positions = tf.range(start=0, limit=tf.shape(inputs)[-1], delta=1)\n",
    "        positions = self.position_embedding(positions)\n",
    "        token_embeddings = self.token_embedding(inputs)\n",
    "        return token_embeddings + positions\n",
    "    \n",
    "    def get_config(self):\n",
    "        config = super().get_config()\n",
    "        config.update({\"vocab_size\": self.token_embedding.input_dim,\n",
    "                       \"embed_dim\": self.token_embedding.output_dim,\n",
    "                       \"max_len\": max_len})\n",
    "        return config\n",
    "\n",
    "    def compute_mask(self, inputs, mask=None):\n",
    "        return self.token_embedding.compute_mask(inputs, mask)"
   ]
  },
  {
   "cell_type": "markdown",
   "metadata": {},
   "source": [
    "**E5:** Construye un clasificador sustituyendo la capa de Embedding por la clase implementada en E4. Entrena y evalúa el nuevo modelo. ¿Qué nueva información se ha añadidio al clasificador? ¿ha mejorado los resultados? ¿por qué?\n",
    "\n",
    "**Se añade la información de la posición en la que se encuentran los distintos aminoácidos/tokens en la secuencia, esta información ya no es codificada por el cáracter secuencial de modelo debido a que este tipo de arquitectura se centra solo en el mecanismo de atención, por tanto, esta capa agrega información posicional para que el modelo distinga el orden de los aminoácidos.**\n",
    "\n",
    "**No parece que se produzca una mejora considerable en los resultados, creo que se debe a que, en este problema, no es tan importante la posición de la secuencia en la que se encuentran los aminoácidos, creo que se le da mucha más importancia a las relaciones entre aminoácidos y a los patrones que la red consigue captar gracias a los embeddings contextuales.**"
   ]
  },
  {
   "cell_type": "markdown",
   "metadata": {},
   "source": [
    "**Construcción del segundo modelo clasificador haciendo uso de las dos clases generadas: Capa de Embedding Posicional + Contextual y la capa de Transformer Encoder**"
   ]
  },
  {
   "cell_type": "code",
   "execution_count": 204,
   "metadata": {},
   "outputs": [],
   "source": [
    "vocab_size = len(vocab) # Número de aminoácidos/tokens únicos\n",
    "max_len = 101  # Longitud máxima de secuencia\n",
    "embed_dim = 16  # Tamaño del embedding\n",
    "num_heads = 4  # Número de cabezas de atención\n",
    "ff_dim = 32  # Dimensión de la proyección densa\n",
    "\n",
    "\n",
    "inputs = Input(shape=(max_len,))\n",
    "embedding_layer = MyPositionalEmbedding(vocab_size, embed_dim, max_len)(inputs)\n",
    "transformer_encoder = MyTransformerEncoder(embed_dim, num_heads, ff_dim)(embedding_layer)\n",
    "pooling = GlobalMaxPooling1D()(transformer_encoder)\n",
    "outputs = Dense(1, activation='sigmoid')(pooling)"
   ]
  },
  {
   "cell_type": "markdown",
   "metadata": {},
   "source": [
    "**Compilación y entrenamiento del Transformer:**"
   ]
  },
  {
   "cell_type": "code",
   "execution_count": 205,
   "metadata": {},
   "outputs": [
    {
     "data": {
      "text/html": [
       "<pre style=\"white-space:pre;overflow-x:auto;line-height:normal;font-family:Menlo,'DejaVu Sans Mono',consolas,'Courier New',monospace\"><span style=\"font-weight: bold\">Model: \"functional_28\"</span>\n",
       "</pre>\n"
      ],
      "text/plain": [
       "\u001b[1mModel: \"functional_28\"\u001b[0m\n"
      ]
     },
     "metadata": {},
     "output_type": "display_data"
    },
    {
     "data": {
      "text/html": [
       "<pre style=\"white-space:pre;overflow-x:auto;line-height:normal;font-family:Menlo,'DejaVu Sans Mono',consolas,'Courier New',monospace\">┏━━━━━━━━━━━━━━━━━━━━━━━━━━━━━━━━━┳━━━━━━━━━━━━━━━━━━━━━━━━┳━━━━━━━━━━━━━━━┓\n",
       "┃<span style=\"font-weight: bold\"> Layer (type)                    </span>┃<span style=\"font-weight: bold\"> Output Shape           </span>┃<span style=\"font-weight: bold\">       Param # </span>┃\n",
       "┡━━━━━━━━━━━━━━━━━━━━━━━━━━━━━━━━━╇━━━━━━━━━━━━━━━━━━━━━━━━╇━━━━━━━━━━━━━━━┩\n",
       "│ input_layer_28 (<span style=\"color: #0087ff; text-decoration-color: #0087ff\">InputLayer</span>)     │ (<span style=\"color: #00d7ff; text-decoration-color: #00d7ff\">None</span>, <span style=\"color: #00af00; text-decoration-color: #00af00\">101</span>)            │             <span style=\"color: #00af00; text-decoration-color: #00af00\">0</span> │\n",
       "├─────────────────────────────────┼────────────────────────┼───────────────┤\n",
       "│ my_positional_embedding_4       │ (<span style=\"color: #00d7ff; text-decoration-color: #00d7ff\">None</span>, <span style=\"color: #00af00; text-decoration-color: #00af00\">101</span>, <span style=\"color: #00af00; text-decoration-color: #00af00\">16</span>)        │         <span style=\"color: #00af00; text-decoration-color: #00af00\">2,048</span> │\n",
       "│ (<span style=\"color: #0087ff; text-decoration-color: #0087ff\">MyPositionalEmbedding</span>)         │                        │               │\n",
       "├─────────────────────────────────┼────────────────────────┼───────────────┤\n",
       "│ my_transformer_encoder_11       │ (<span style=\"color: #00d7ff; text-decoration-color: #00d7ff\">None</span>, <span style=\"color: #00af00; text-decoration-color: #00af00\">101</span>, <span style=\"color: #00af00; text-decoration-color: #00af00\">16</span>)        │         <span style=\"color: #00af00; text-decoration-color: #00af00\">5,440</span> │\n",
       "│ (<span style=\"color: #0087ff; text-decoration-color: #0087ff\">MyTransformerEncoder</span>)          │                        │               │\n",
       "├─────────────────────────────────┼────────────────────────┼───────────────┤\n",
       "│ global_max_pooling1d_9          │ (<span style=\"color: #00d7ff; text-decoration-color: #00d7ff\">None</span>, <span style=\"color: #00af00; text-decoration-color: #00af00\">16</span>)             │             <span style=\"color: #00af00; text-decoration-color: #00af00\">0</span> │\n",
       "│ (<span style=\"color: #0087ff; text-decoration-color: #0087ff\">GlobalMaxPooling1D</span>)            │                        │               │\n",
       "├─────────────────────────────────┼────────────────────────┼───────────────┤\n",
       "│ dense_51 (<span style=\"color: #0087ff; text-decoration-color: #0087ff\">Dense</span>)                │ (<span style=\"color: #00d7ff; text-decoration-color: #00d7ff\">None</span>, <span style=\"color: #00af00; text-decoration-color: #00af00\">1</span>)              │            <span style=\"color: #00af00; text-decoration-color: #00af00\">17</span> │\n",
       "└─────────────────────────────────┴────────────────────────┴───────────────┘\n",
       "</pre>\n"
      ],
      "text/plain": [
       "┏━━━━━━━━━━━━━━━━━━━━━━━━━━━━━━━━━┳━━━━━━━━━━━━━━━━━━━━━━━━┳━━━━━━━━━━━━━━━┓\n",
       "┃\u001b[1m \u001b[0m\u001b[1mLayer (type)                   \u001b[0m\u001b[1m \u001b[0m┃\u001b[1m \u001b[0m\u001b[1mOutput Shape          \u001b[0m\u001b[1m \u001b[0m┃\u001b[1m \u001b[0m\u001b[1m      Param #\u001b[0m\u001b[1m \u001b[0m┃\n",
       "┡━━━━━━━━━━━━━━━━━━━━━━━━━━━━━━━━━╇━━━━━━━━━━━━━━━━━━━━━━━━╇━━━━━━━━━━━━━━━┩\n",
       "│ input_layer_28 (\u001b[38;5;33mInputLayer\u001b[0m)     │ (\u001b[38;5;45mNone\u001b[0m, \u001b[38;5;34m101\u001b[0m)            │             \u001b[38;5;34m0\u001b[0m │\n",
       "├─────────────────────────────────┼────────────────────────┼───────────────┤\n",
       "│ my_positional_embedding_4       │ (\u001b[38;5;45mNone\u001b[0m, \u001b[38;5;34m101\u001b[0m, \u001b[38;5;34m16\u001b[0m)        │         \u001b[38;5;34m2,048\u001b[0m │\n",
       "│ (\u001b[38;5;33mMyPositionalEmbedding\u001b[0m)         │                        │               │\n",
       "├─────────────────────────────────┼────────────────────────┼───────────────┤\n",
       "│ my_transformer_encoder_11       │ (\u001b[38;5;45mNone\u001b[0m, \u001b[38;5;34m101\u001b[0m, \u001b[38;5;34m16\u001b[0m)        │         \u001b[38;5;34m5,440\u001b[0m │\n",
       "│ (\u001b[38;5;33mMyTransformerEncoder\u001b[0m)          │                        │               │\n",
       "├─────────────────────────────────┼────────────────────────┼───────────────┤\n",
       "│ global_max_pooling1d_9          │ (\u001b[38;5;45mNone\u001b[0m, \u001b[38;5;34m16\u001b[0m)             │             \u001b[38;5;34m0\u001b[0m │\n",
       "│ (\u001b[38;5;33mGlobalMaxPooling1D\u001b[0m)            │                        │               │\n",
       "├─────────────────────────────────┼────────────────────────┼───────────────┤\n",
       "│ dense_51 (\u001b[38;5;33mDense\u001b[0m)                │ (\u001b[38;5;45mNone\u001b[0m, \u001b[38;5;34m1\u001b[0m)              │            \u001b[38;5;34m17\u001b[0m │\n",
       "└─────────────────────────────────┴────────────────────────┴───────────────┘\n"
      ]
     },
     "metadata": {},
     "output_type": "display_data"
    },
    {
     "data": {
      "text/html": [
       "<pre style=\"white-space:pre;overflow-x:auto;line-height:normal;font-family:Menlo,'DejaVu Sans Mono',consolas,'Courier New',monospace\"><span style=\"font-weight: bold\"> Total params: </span><span style=\"color: #00af00; text-decoration-color: #00af00\">7,505</span> (29.32 KB)\n",
       "</pre>\n"
      ],
      "text/plain": [
       "\u001b[1m Total params: \u001b[0m\u001b[38;5;34m7,505\u001b[0m (29.32 KB)\n"
      ]
     },
     "metadata": {},
     "output_type": "display_data"
    },
    {
     "data": {
      "text/html": [
       "<pre style=\"white-space:pre;overflow-x:auto;line-height:normal;font-family:Menlo,'DejaVu Sans Mono',consolas,'Courier New',monospace\"><span style=\"font-weight: bold\"> Trainable params: </span><span style=\"color: #00af00; text-decoration-color: #00af00\">7,505</span> (29.32 KB)\n",
       "</pre>\n"
      ],
      "text/plain": [
       "\u001b[1m Trainable params: \u001b[0m\u001b[38;5;34m7,505\u001b[0m (29.32 KB)\n"
      ]
     },
     "metadata": {},
     "output_type": "display_data"
    },
    {
     "data": {
      "text/html": [
       "<pre style=\"white-space:pre;overflow-x:auto;line-height:normal;font-family:Menlo,'DejaVu Sans Mono',consolas,'Courier New',monospace\"><span style=\"font-weight: bold\"> Non-trainable params: </span><span style=\"color: #00af00; text-decoration-color: #00af00\">0</span> (0.00 B)\n",
       "</pre>\n"
      ],
      "text/plain": [
       "\u001b[1m Non-trainable params: \u001b[0m\u001b[38;5;34m0\u001b[0m (0.00 B)\n"
      ]
     },
     "metadata": {},
     "output_type": "display_data"
    }
   ],
   "source": [
    "transformer_ctx_pos_emb = Model(inputs, outputs)\n",
    "transformer_ctx_pos_emb.compile(optimizer=optimizers.Adam(learning_rate=0.001), loss=\"binary_crossentropy\", metrics=[\"accuracy\"])\n",
    "transformer_ctx_pos_emb.summary()\n"
   ]
  },
  {
   "cell_type": "code",
   "execution_count": 206,
   "metadata": {},
   "outputs": [
    {
     "name": "stdout",
     "output_type": "stream",
     "text": [
      "Epoch 1/200\n",
      "\u001b[1m80/80\u001b[0m \u001b[32m━━━━━━━━━━━━━━━━━━━━\u001b[0m\u001b[37m\u001b[0m \u001b[1m3s\u001b[0m 18ms/step - accuracy: 0.5588 - loss: 0.7016 - val_accuracy: 0.7154 - val_loss: 0.5698\n",
      "Epoch 2/200\n",
      "\u001b[1m80/80\u001b[0m \u001b[32m━━━━━━━━━━━━━━━━━━━━\u001b[0m\u001b[37m\u001b[0m \u001b[1m1s\u001b[0m 16ms/step - accuracy: 0.7628 - loss: 0.5348 - val_accuracy: 0.7642 - val_loss: 0.5025\n",
      "Epoch 3/200\n",
      "\u001b[1m80/80\u001b[0m \u001b[32m━━━━━━━━━━━━━━━━━━━━\u001b[0m\u001b[37m\u001b[0m \u001b[1m1s\u001b[0m 17ms/step - accuracy: 0.7844 - loss: 0.4862 - val_accuracy: 0.7720 - val_loss: 0.4708\n",
      "Epoch 4/200\n",
      "\u001b[1m80/80\u001b[0m \u001b[32m━━━━━━━━━━━━━━━━━━━━\u001b[0m\u001b[37m\u001b[0m \u001b[1m1s\u001b[0m 17ms/step - accuracy: 0.8027 - loss: 0.4445 - val_accuracy: 0.7830 - val_loss: 0.4548\n",
      "Epoch 5/200\n",
      "\u001b[1m80/80\u001b[0m \u001b[32m━━━━━━━━━━━━━━━━━━━━\u001b[0m\u001b[37m\u001b[0m \u001b[1m1s\u001b[0m 17ms/step - accuracy: 0.8321 - loss: 0.4089 - val_accuracy: 0.7972 - val_loss: 0.4555\n",
      "Epoch 6/200\n",
      "\u001b[1m80/80\u001b[0m \u001b[32m━━━━━━━━━━━━━━━━━━━━\u001b[0m\u001b[37m\u001b[0m \u001b[1m1s\u001b[0m 18ms/step - accuracy: 0.8232 - loss: 0.4034 - val_accuracy: 0.8050 - val_loss: 0.4387\n",
      "Epoch 7/200\n",
      "\u001b[1m80/80\u001b[0m \u001b[32m━━━━━━━━━━━━━━━━━━━━\u001b[0m\u001b[37m\u001b[0m \u001b[1m1s\u001b[0m 17ms/step - accuracy: 0.8340 - loss: 0.3857 - val_accuracy: 0.7987 - val_loss: 0.4309\n",
      "Epoch 8/200\n",
      "\u001b[1m80/80\u001b[0m \u001b[32m━━━━━━━━━━━━━━━━━━━━\u001b[0m\u001b[37m\u001b[0m \u001b[1m1s\u001b[0m 18ms/step - accuracy: 0.8426 - loss: 0.3767 - val_accuracy: 0.7956 - val_loss: 0.4261\n",
      "Epoch 9/200\n",
      "\u001b[1m80/80\u001b[0m \u001b[32m━━━━━━━━━━━━━━━━━━━━\u001b[0m\u001b[37m\u001b[0m \u001b[1m1s\u001b[0m 16ms/step - accuracy: 0.8385 - loss: 0.3610 - val_accuracy: 0.8019 - val_loss: 0.4197\n",
      "Epoch 10/200\n",
      "\u001b[1m80/80\u001b[0m \u001b[32m━━━━━━━━━━━━━━━━━━━━\u001b[0m\u001b[37m\u001b[0m \u001b[1m1s\u001b[0m 16ms/step - accuracy: 0.8531 - loss: 0.3544 - val_accuracy: 0.8066 - val_loss: 0.4192\n",
      "Epoch 11/200\n",
      "\u001b[1m80/80\u001b[0m \u001b[32m━━━━━━━━━━━━━━━━━━━━\u001b[0m\u001b[37m\u001b[0m \u001b[1m1s\u001b[0m 16ms/step - accuracy: 0.8464 - loss: 0.3556 - val_accuracy: 0.8176 - val_loss: 0.4121\n",
      "Epoch 12/200\n",
      "\u001b[1m80/80\u001b[0m \u001b[32m━━━━━━━━━━━━━━━━━━━━\u001b[0m\u001b[37m\u001b[0m \u001b[1m1s\u001b[0m 17ms/step - accuracy: 0.8651 - loss: 0.3301 - val_accuracy: 0.8129 - val_loss: 0.4104\n",
      "Epoch 13/200\n",
      "\u001b[1m80/80\u001b[0m \u001b[32m━━━━━━━━━━━━━━━━━━━━\u001b[0m\u001b[37m\u001b[0m \u001b[1m1s\u001b[0m 16ms/step - accuracy: 0.8593 - loss: 0.3340 - val_accuracy: 0.8113 - val_loss: 0.4192\n",
      "Epoch 14/200\n",
      "\u001b[1m80/80\u001b[0m \u001b[32m━━━━━━━━━━━━━━━━━━━━\u001b[0m\u001b[37m\u001b[0m \u001b[1m1s\u001b[0m 16ms/step - accuracy: 0.8589 - loss: 0.3270 - val_accuracy: 0.8082 - val_loss: 0.4135\n",
      "Epoch 15/200\n",
      "\u001b[1m80/80\u001b[0m \u001b[32m━━━━━━━━━━━━━━━━━━━━\u001b[0m\u001b[37m\u001b[0m \u001b[1m1s\u001b[0m 16ms/step - accuracy: 0.8595 - loss: 0.3307 - val_accuracy: 0.8160 - val_loss: 0.4069\n",
      "Epoch 16/200\n",
      "\u001b[1m80/80\u001b[0m \u001b[32m━━━━━━━━━━━━━━━━━━━━\u001b[0m\u001b[37m\u001b[0m \u001b[1m1s\u001b[0m 15ms/step - accuracy: 0.8710 - loss: 0.3117 - val_accuracy: 0.8145 - val_loss: 0.4033\n",
      "Epoch 17/200\n",
      "\u001b[1m80/80\u001b[0m \u001b[32m━━━━━━━━━━━━━━━━━━━━\u001b[0m\u001b[37m\u001b[0m \u001b[1m1s\u001b[0m 17ms/step - accuracy: 0.8748 - loss: 0.3055 - val_accuracy: 0.7925 - val_loss: 0.4151\n",
      "Epoch 18/200\n",
      "\u001b[1m80/80\u001b[0m \u001b[32m━━━━━━━━━━━━━━━━━━━━\u001b[0m\u001b[37m\u001b[0m \u001b[1m1s\u001b[0m 16ms/step - accuracy: 0.8690 - loss: 0.2999 - val_accuracy: 0.8003 - val_loss: 0.4133\n",
      "Epoch 19/200\n",
      "\u001b[1m80/80\u001b[0m \u001b[32m━━━━━━━━━━━━━━━━━━━━\u001b[0m\u001b[37m\u001b[0m \u001b[1m1s\u001b[0m 16ms/step - accuracy: 0.8680 - loss: 0.3042 - val_accuracy: 0.8223 - val_loss: 0.4134\n",
      "Epoch 20/200\n",
      "\u001b[1m80/80\u001b[0m \u001b[32m━━━━━━━━━━━━━━━━━━━━\u001b[0m\u001b[37m\u001b[0m \u001b[1m1s\u001b[0m 16ms/step - accuracy: 0.8782 - loss: 0.2895 - val_accuracy: 0.8035 - val_loss: 0.4075\n",
      "Epoch 21/200\n",
      "\u001b[1m80/80\u001b[0m \u001b[32m━━━━━━━━━━━━━━━━━━━━\u001b[0m\u001b[37m\u001b[0m \u001b[1m1s\u001b[0m 15ms/step - accuracy: 0.8793 - loss: 0.2976 - val_accuracy: 0.8129 - val_loss: 0.4064\n",
      "Epoch 22/200\n",
      "\u001b[1m80/80\u001b[0m \u001b[32m━━━━━━━━━━━━━━━━━━━━\u001b[0m\u001b[37m\u001b[0m \u001b[1m1s\u001b[0m 16ms/step - accuracy: 0.8924 - loss: 0.2728 - val_accuracy: 0.7987 - val_loss: 0.4104\n",
      "Epoch 23/200\n",
      "\u001b[1m80/80\u001b[0m \u001b[32m━━━━━━━━━━━━━━━━━━━━\u001b[0m\u001b[37m\u001b[0m \u001b[1m1s\u001b[0m 16ms/step - accuracy: 0.8725 - loss: 0.2942 - val_accuracy: 0.8160 - val_loss: 0.4179\n",
      "Epoch 24/200\n",
      "\u001b[1m80/80\u001b[0m \u001b[32m━━━━━━━━━━━━━━━━━━━━\u001b[0m\u001b[37m\u001b[0m \u001b[1m1s\u001b[0m 16ms/step - accuracy: 0.8855 - loss: 0.2709 - val_accuracy: 0.8035 - val_loss: 0.4124\n",
      "Epoch 25/200\n",
      "\u001b[1m80/80\u001b[0m \u001b[32m━━━━━━━━━━━━━━━━━━━━\u001b[0m\u001b[37m\u001b[0m \u001b[1m1s\u001b[0m 15ms/step - accuracy: 0.8890 - loss: 0.2758 - val_accuracy: 0.8035 - val_loss: 0.4075\n",
      "Epoch 26/200\n",
      "\u001b[1m80/80\u001b[0m \u001b[32m━━━━━━━━━━━━━━━━━━━━\u001b[0m\u001b[37m\u001b[0m \u001b[1m1s\u001b[0m 16ms/step - accuracy: 0.9003 - loss: 0.2588 - val_accuracy: 0.8286 - val_loss: 0.4068\n",
      "Epoch 27/200\n",
      "\u001b[1m80/80\u001b[0m \u001b[32m━━━━━━━━━━━━━━━━━━━━\u001b[0m\u001b[37m\u001b[0m \u001b[1m1s\u001b[0m 15ms/step - accuracy: 0.8922 - loss: 0.2585 - val_accuracy: 0.8050 - val_loss: 0.4004\n",
      "Epoch 28/200\n",
      "\u001b[1m80/80\u001b[0m \u001b[32m━━━━━━━━━━━━━━━━━━━━\u001b[0m\u001b[37m\u001b[0m \u001b[1m1s\u001b[0m 17ms/step - accuracy: 0.8949 - loss: 0.2502 - val_accuracy: 0.8097 - val_loss: 0.4131\n",
      "Epoch 29/200\n",
      "\u001b[1m80/80\u001b[0m \u001b[32m━━━━━━━━━━━━━━━━━━━━\u001b[0m\u001b[37m\u001b[0m \u001b[1m1s\u001b[0m 15ms/step - accuracy: 0.8880 - loss: 0.2696 - val_accuracy: 0.8097 - val_loss: 0.4114\n",
      "Epoch 30/200\n",
      "\u001b[1m80/80\u001b[0m \u001b[32m━━━━━━━━━━━━━━━━━━━━\u001b[0m\u001b[37m\u001b[0m \u001b[1m1s\u001b[0m 17ms/step - accuracy: 0.9042 - loss: 0.2447 - val_accuracy: 0.8145 - val_loss: 0.4057\n",
      "Epoch 31/200\n",
      "\u001b[1m80/80\u001b[0m \u001b[32m━━━━━━━━━━━━━━━━━━━━\u001b[0m\u001b[37m\u001b[0m \u001b[1m1s\u001b[0m 15ms/step - accuracy: 0.8940 - loss: 0.2572 - val_accuracy: 0.8082 - val_loss: 0.4186\n",
      "Epoch 32/200\n",
      "\u001b[1m80/80\u001b[0m \u001b[32m━━━━━━━━━━━━━━━━━━━━\u001b[0m\u001b[37m\u001b[0m \u001b[1m1s\u001b[0m 16ms/step - accuracy: 0.9033 - loss: 0.2444 - val_accuracy: 0.8050 - val_loss: 0.4130\n",
      "Epoch 33/200\n",
      "\u001b[1m80/80\u001b[0m \u001b[32m━━━━━━━━━━━━━━━━━━━━\u001b[0m\u001b[37m\u001b[0m \u001b[1m1s\u001b[0m 17ms/step - accuracy: 0.9054 - loss: 0.2382 - val_accuracy: 0.8113 - val_loss: 0.4205\n",
      "Epoch 34/200\n",
      "\u001b[1m80/80\u001b[0m \u001b[32m━━━━━━━━━━━━━━━━━━━━\u001b[0m\u001b[37m\u001b[0m \u001b[1m1s\u001b[0m 16ms/step - accuracy: 0.9095 - loss: 0.2421 - val_accuracy: 0.7909 - val_loss: 0.4181\n",
      "Epoch 35/200\n",
      "\u001b[1m80/80\u001b[0m \u001b[32m━━━━━━━━━━━━━━━━━━━━\u001b[0m\u001b[37m\u001b[0m \u001b[1m1s\u001b[0m 16ms/step - accuracy: 0.9075 - loss: 0.2337 - val_accuracy: 0.8035 - val_loss: 0.4170\n",
      "Epoch 36/200\n",
      "\u001b[1m80/80\u001b[0m \u001b[32m━━━━━━━━━━━━━━━━━━━━\u001b[0m\u001b[37m\u001b[0m \u001b[1m1s\u001b[0m 17ms/step - accuracy: 0.9079 - loss: 0.2357 - val_accuracy: 0.8050 - val_loss: 0.4255\n",
      "Epoch 37/200\n",
      "\u001b[1m80/80\u001b[0m \u001b[32m━━━━━━━━━━━━━━━━━━━━\u001b[0m\u001b[37m\u001b[0m \u001b[1m1s\u001b[0m 16ms/step - accuracy: 0.9112 - loss: 0.2332 - val_accuracy: 0.8050 - val_loss: 0.4214\n",
      "Epoch 38/200\n",
      "\u001b[1m80/80\u001b[0m \u001b[32m━━━━━━━━━━━━━━━━━━━━\u001b[0m\u001b[37m\u001b[0m \u001b[1m1s\u001b[0m 16ms/step - accuracy: 0.9185 - loss: 0.2241 - val_accuracy: 0.8003 - val_loss: 0.4254\n",
      "Epoch 39/200\n",
      "\u001b[1m80/80\u001b[0m \u001b[32m━━━━━━━━━━━━━━━━━━━━\u001b[0m\u001b[37m\u001b[0m \u001b[1m1s\u001b[0m 16ms/step - accuracy: 0.9257 - loss: 0.2136 - val_accuracy: 0.7987 - val_loss: 0.4399\n",
      "Epoch 40/200\n",
      "\u001b[1m80/80\u001b[0m \u001b[32m━━━━━━━━━━━━━━━━━━━━\u001b[0m\u001b[37m\u001b[0m \u001b[1m1s\u001b[0m 16ms/step - accuracy: 0.9118 - loss: 0.2292 - val_accuracy: 0.8019 - val_loss: 0.4406\n",
      "Epoch 41/200\n",
      "\u001b[1m80/80\u001b[0m \u001b[32m━━━━━━━━━━━━━━━━━━━━\u001b[0m\u001b[37m\u001b[0m \u001b[1m1s\u001b[0m 16ms/step - accuracy: 0.9152 - loss: 0.2157 - val_accuracy: 0.7909 - val_loss: 0.4313\n",
      "Epoch 42/200\n",
      "\u001b[1m80/80\u001b[0m \u001b[32m━━━━━━━━━━━━━━━━━━━━\u001b[0m\u001b[37m\u001b[0m \u001b[1m1s\u001b[0m 16ms/step - accuracy: 0.9059 - loss: 0.2202 - val_accuracy: 0.7987 - val_loss: 0.4306\n",
      "Epoch 43/200\n",
      "\u001b[1m80/80\u001b[0m \u001b[32m━━━━━━━━━━━━━━━━━━━━\u001b[0m\u001b[37m\u001b[0m \u001b[1m1s\u001b[0m 16ms/step - accuracy: 0.9209 - loss: 0.1991 - val_accuracy: 0.7925 - val_loss: 0.4450\n",
      "Epoch 44/200\n",
      "\u001b[1m80/80\u001b[0m \u001b[32m━━━━━━━━━━━━━━━━━━━━\u001b[0m\u001b[37m\u001b[0m \u001b[1m1s\u001b[0m 15ms/step - accuracy: 0.9245 - loss: 0.2045 - val_accuracy: 0.7956 - val_loss: 0.4295\n",
      "Epoch 45/200\n",
      "\u001b[1m80/80\u001b[0m \u001b[32m━━━━━━━━━━━━━━━━━━━━\u001b[0m\u001b[37m\u001b[0m \u001b[1m1s\u001b[0m 16ms/step - accuracy: 0.9144 - loss: 0.2123 - val_accuracy: 0.8019 - val_loss: 0.4500\n",
      "Epoch 46/200\n",
      "\u001b[1m80/80\u001b[0m \u001b[32m━━━━━━━━━━━━━━━━━━━━\u001b[0m\u001b[37m\u001b[0m \u001b[1m1s\u001b[0m 15ms/step - accuracy: 0.9213 - loss: 0.1977 - val_accuracy: 0.7956 - val_loss: 0.4536\n",
      "Epoch 47/200\n",
      "\u001b[1m80/80\u001b[0m \u001b[32m━━━━━━━━━━━━━━━━━━━━\u001b[0m\u001b[37m\u001b[0m \u001b[1m1s\u001b[0m 16ms/step - accuracy: 0.9223 - loss: 0.1987 - val_accuracy: 0.7893 - val_loss: 0.4397\n",
      "Epoch 48/200\n",
      "\u001b[1m80/80\u001b[0m \u001b[32m━━━━━━━━━━━━━━━━━━━━\u001b[0m\u001b[37m\u001b[0m \u001b[1m1s\u001b[0m 16ms/step - accuracy: 0.9262 - loss: 0.1979 - val_accuracy: 0.8019 - val_loss: 0.4513\n",
      "Epoch 49/200\n",
      "\u001b[1m80/80\u001b[0m \u001b[32m━━━━━━━━━━━━━━━━━━━━\u001b[0m\u001b[37m\u001b[0m \u001b[1m1s\u001b[0m 16ms/step - accuracy: 0.9268 - loss: 0.1974 - val_accuracy: 0.7940 - val_loss: 0.4598\n",
      "Epoch 50/200\n",
      "\u001b[1m80/80\u001b[0m \u001b[32m━━━━━━━━━━━━━━━━━━━━\u001b[0m\u001b[37m\u001b[0m \u001b[1m1s\u001b[0m 16ms/step - accuracy: 0.9208 - loss: 0.2036 - val_accuracy: 0.7877 - val_loss: 0.4602\n",
      "Epoch 51/200\n",
      "\u001b[1m80/80\u001b[0m \u001b[32m━━━━━━━━━━━━━━━━━━━━\u001b[0m\u001b[37m\u001b[0m \u001b[1m1s\u001b[0m 17ms/step - accuracy: 0.9274 - loss: 0.1989 - val_accuracy: 0.7956 - val_loss: 0.4624\n",
      "Epoch 52/200\n",
      "\u001b[1m80/80\u001b[0m \u001b[32m━━━━━━━━━━━━━━━━━━━━\u001b[0m\u001b[37m\u001b[0m \u001b[1m1s\u001b[0m 17ms/step - accuracy: 0.9186 - loss: 0.2024 - val_accuracy: 0.7893 - val_loss: 0.4537\n",
      "Epoch 53/200\n",
      "\u001b[1m80/80\u001b[0m \u001b[32m━━━━━━━━━━━━━━━━━━━━\u001b[0m\u001b[37m\u001b[0m \u001b[1m1s\u001b[0m 16ms/step - accuracy: 0.9312 - loss: 0.1815 - val_accuracy: 0.8035 - val_loss: 0.4550\n",
      "Epoch 54/200\n",
      "\u001b[1m80/80\u001b[0m \u001b[32m━━━━━━━━━━━━━━━━━━━━\u001b[0m\u001b[37m\u001b[0m \u001b[1m1s\u001b[0m 16ms/step - accuracy: 0.9391 - loss: 0.1785 - val_accuracy: 0.7846 - val_loss: 0.4634\n",
      "Epoch 55/200\n",
      "\u001b[1m80/80\u001b[0m \u001b[32m━━━━━━━━━━━━━━━━━━━━\u001b[0m\u001b[37m\u001b[0m \u001b[1m1s\u001b[0m 16ms/step - accuracy: 0.9262 - loss: 0.1986 - val_accuracy: 0.7893 - val_loss: 0.4570\n",
      "Epoch 56/200\n",
      "\u001b[1m80/80\u001b[0m \u001b[32m━━━━━━━━━━━━━━━━━━━━\u001b[0m\u001b[37m\u001b[0m \u001b[1m1s\u001b[0m 16ms/step - accuracy: 0.9276 - loss: 0.1844 - val_accuracy: 0.7814 - val_loss: 0.4525\n",
      "Epoch 57/200\n",
      "\u001b[1m80/80\u001b[0m \u001b[32m━━━━━━━━━━━━━━━━━━━━\u001b[0m\u001b[37m\u001b[0m \u001b[1m1s\u001b[0m 16ms/step - accuracy: 0.9229 - loss: 0.1993 - val_accuracy: 0.7877 - val_loss: 0.4754\n",
      "Epoch 58/200\n",
      "\u001b[1m80/80\u001b[0m \u001b[32m━━━━━━━━━━━━━━━━━━━━\u001b[0m\u001b[37m\u001b[0m \u001b[1m1s\u001b[0m 15ms/step - accuracy: 0.9300 - loss: 0.1838 - val_accuracy: 0.7893 - val_loss: 0.4823\n",
      "Epoch 59/200\n",
      "\u001b[1m80/80\u001b[0m \u001b[32m━━━━━━━━━━━━━━━━━━━━\u001b[0m\u001b[37m\u001b[0m \u001b[1m1s\u001b[0m 16ms/step - accuracy: 0.9365 - loss: 0.1826 - val_accuracy: 0.7940 - val_loss: 0.4710\n",
      "Epoch 60/200\n",
      "\u001b[1m80/80\u001b[0m \u001b[32m━━━━━━━━━━━━━━━━━━━━\u001b[0m\u001b[37m\u001b[0m \u001b[1m1s\u001b[0m 17ms/step - accuracy: 0.9382 - loss: 0.1743 - val_accuracy: 0.7909 - val_loss: 0.4849\n",
      "Epoch 61/200\n",
      "\u001b[1m80/80\u001b[0m \u001b[32m━━━━━━━━━━━━━━━━━━━━\u001b[0m\u001b[37m\u001b[0m \u001b[1m1s\u001b[0m 15ms/step - accuracy: 0.9322 - loss: 0.1710 - val_accuracy: 0.7814 - val_loss: 0.4873\n",
      "Epoch 62/200\n",
      "\u001b[1m80/80\u001b[0m \u001b[32m━━━━━━━━━━━━━━━━━━━━\u001b[0m\u001b[37m\u001b[0m \u001b[1m1s\u001b[0m 16ms/step - accuracy: 0.9319 - loss: 0.1755 - val_accuracy: 0.7862 - val_loss: 0.4767\n",
      "Epoch 63/200\n",
      "\u001b[1m80/80\u001b[0m \u001b[32m━━━━━━━━━━━━━━━━━━━━\u001b[0m\u001b[37m\u001b[0m \u001b[1m1s\u001b[0m 15ms/step - accuracy: 0.9310 - loss: 0.1768 - val_accuracy: 0.7909 - val_loss: 0.4906\n",
      "Epoch 64/200\n",
      "\u001b[1m80/80\u001b[0m \u001b[32m━━━━━━━━━━━━━━━━━━━━\u001b[0m\u001b[37m\u001b[0m \u001b[1m1s\u001b[0m 15ms/step - accuracy: 0.9332 - loss: 0.1732 - val_accuracy: 0.7814 - val_loss: 0.4957\n",
      "Epoch 65/200\n",
      "\u001b[1m80/80\u001b[0m \u001b[32m━━━━━━━━━━━━━━━━━━━━\u001b[0m\u001b[37m\u001b[0m \u001b[1m1s\u001b[0m 17ms/step - accuracy: 0.9405 - loss: 0.1610 - val_accuracy: 0.7956 - val_loss: 0.4783\n",
      "Epoch 66/200\n",
      "\u001b[1m80/80\u001b[0m \u001b[32m━━━━━━━━━━━━━━━━━━━━\u001b[0m\u001b[37m\u001b[0m \u001b[1m1s\u001b[0m 16ms/step - accuracy: 0.9450 - loss: 0.1604 - val_accuracy: 0.7767 - val_loss: 0.4702\n",
      "Epoch 67/200\n",
      "\u001b[1m80/80\u001b[0m \u001b[32m━━━━━━━━━━━━━━━━━━━━\u001b[0m\u001b[37m\u001b[0m \u001b[1m1s\u001b[0m 15ms/step - accuracy: 0.9435 - loss: 0.1669 - val_accuracy: 0.7799 - val_loss: 0.5025\n",
      "Epoch 68/200\n",
      "\u001b[1m80/80\u001b[0m \u001b[32m━━━━━━━━━━━━━━━━━━━━\u001b[0m\u001b[37m\u001b[0m \u001b[1m1s\u001b[0m 15ms/step - accuracy: 0.9416 - loss: 0.1547 - val_accuracy: 0.7877 - val_loss: 0.4995\n",
      "Epoch 69/200\n",
      "\u001b[1m80/80\u001b[0m \u001b[32m━━━━━━━━━━━━━━━━━━━━\u001b[0m\u001b[37m\u001b[0m \u001b[1m1s\u001b[0m 16ms/step - accuracy: 0.9333 - loss: 0.1657 - val_accuracy: 0.7925 - val_loss: 0.5082\n",
      "Epoch 70/200\n",
      "\u001b[1m80/80\u001b[0m \u001b[32m━━━━━━━━━━━━━━━━━━━━\u001b[0m\u001b[37m\u001b[0m \u001b[1m1s\u001b[0m 16ms/step - accuracy: 0.9405 - loss: 0.1535 - val_accuracy: 0.7783 - val_loss: 0.5126\n",
      "Epoch 71/200\n",
      "\u001b[1m80/80\u001b[0m \u001b[32m━━━━━━━━━━━━━━━━━━━━\u001b[0m\u001b[37m\u001b[0m \u001b[1m1s\u001b[0m 16ms/step - accuracy: 0.9462 - loss: 0.1420 - val_accuracy: 0.7862 - val_loss: 0.4993\n",
      "Epoch 72/200\n",
      "\u001b[1m80/80\u001b[0m \u001b[32m━━━━━━━━━━━━━━━━━━━━\u001b[0m\u001b[37m\u001b[0m \u001b[1m1s\u001b[0m 16ms/step - accuracy: 0.9501 - loss: 0.1459 - val_accuracy: 0.7877 - val_loss: 0.5005\n",
      "Epoch 73/200\n",
      "\u001b[1m80/80\u001b[0m \u001b[32m━━━━━━━━━━━━━━━━━━━━\u001b[0m\u001b[37m\u001b[0m \u001b[1m1s\u001b[0m 16ms/step - accuracy: 0.9495 - loss: 0.1404 - val_accuracy: 0.7799 - val_loss: 0.4995\n",
      "Epoch 74/200\n",
      "\u001b[1m80/80\u001b[0m \u001b[32m━━━━━━━━━━━━━━━━━━━━\u001b[0m\u001b[37m\u001b[0m \u001b[1m1s\u001b[0m 18ms/step - accuracy: 0.9485 - loss: 0.1387 - val_accuracy: 0.7925 - val_loss: 0.5211\n",
      "Epoch 75/200\n",
      "\u001b[1m80/80\u001b[0m \u001b[32m━━━━━━━━━━━━━━━━━━━━\u001b[0m\u001b[37m\u001b[0m \u001b[1m1s\u001b[0m 18ms/step - accuracy: 0.9359 - loss: 0.1586 - val_accuracy: 0.7846 - val_loss: 0.5416\n",
      "Epoch 76/200\n",
      "\u001b[1m80/80\u001b[0m \u001b[32m━━━━━━━━━━━━━━━━━━━━\u001b[0m\u001b[37m\u001b[0m \u001b[1m1s\u001b[0m 17ms/step - accuracy: 0.9480 - loss: 0.1409 - val_accuracy: 0.7862 - val_loss: 0.4998\n",
      "Epoch 77/200\n",
      "\u001b[1m80/80\u001b[0m \u001b[32m━━━━━━━━━━━━━━━━━━━━\u001b[0m\u001b[37m\u001b[0m \u001b[1m1s\u001b[0m 17ms/step - accuracy: 0.9439 - loss: 0.1404 - val_accuracy: 0.7877 - val_loss: 0.4906\n",
      "Epoch 78/200\n",
      "\u001b[1m80/80\u001b[0m \u001b[32m━━━━━━━━━━━━━━━━━━━━\u001b[0m\u001b[37m\u001b[0m \u001b[1m1s\u001b[0m 16ms/step - accuracy: 0.9410 - loss: 0.1589 - val_accuracy: 0.7940 - val_loss: 0.5131\n",
      "Epoch 79/200\n",
      "\u001b[1m80/80\u001b[0m \u001b[32m━━━━━━━━━━━━━━━━━━━━\u001b[0m\u001b[37m\u001b[0m \u001b[1m1s\u001b[0m 16ms/step - accuracy: 0.9439 - loss: 0.1478 - val_accuracy: 0.7956 - val_loss: 0.4967\n",
      "Epoch 80/200\n",
      "\u001b[1m80/80\u001b[0m \u001b[32m━━━━━━━━━━━━━━━━━━━━\u001b[0m\u001b[37m\u001b[0m \u001b[1m1s\u001b[0m 17ms/step - accuracy: 0.9522 - loss: 0.1400 - val_accuracy: 0.8035 - val_loss: 0.5033\n",
      "Epoch 81/200\n",
      "\u001b[1m80/80\u001b[0m \u001b[32m━━━━━━━━━━━━━━━━━━━━\u001b[0m\u001b[37m\u001b[0m \u001b[1m1s\u001b[0m 16ms/step - accuracy: 0.9442 - loss: 0.1417 - val_accuracy: 0.7972 - val_loss: 0.5045\n",
      "Epoch 82/200\n",
      "\u001b[1m80/80\u001b[0m \u001b[32m━━━━━━━━━━━━━━━━━━━━\u001b[0m\u001b[37m\u001b[0m \u001b[1m1s\u001b[0m 16ms/step - accuracy: 0.9558 - loss: 0.1285 - val_accuracy: 0.8035 - val_loss: 0.4947\n",
      "Epoch 83/200\n",
      "\u001b[1m80/80\u001b[0m \u001b[32m━━━━━━━━━━━━━━━━━━━━\u001b[0m\u001b[37m\u001b[0m \u001b[1m1s\u001b[0m 17ms/step - accuracy: 0.9492 - loss: 0.1400 - val_accuracy: 0.7972 - val_loss: 0.5458\n",
      "Epoch 84/200\n",
      "\u001b[1m80/80\u001b[0m \u001b[32m━━━━━━━━━━━━━━━━━━━━\u001b[0m\u001b[37m\u001b[0m \u001b[1m1s\u001b[0m 17ms/step - accuracy: 0.9441 - loss: 0.1463 - val_accuracy: 0.7987 - val_loss: 0.4970\n",
      "Epoch 85/200\n",
      "\u001b[1m80/80\u001b[0m \u001b[32m━━━━━━━━━━━━━━━━━━━━\u001b[0m\u001b[37m\u001b[0m \u001b[1m1s\u001b[0m 17ms/step - accuracy: 0.9576 - loss: 0.1276 - val_accuracy: 0.8082 - val_loss: 0.5067\n",
      "Epoch 86/200\n",
      "\u001b[1m80/80\u001b[0m \u001b[32m━━━━━━━━━━━━━━━━━━━━\u001b[0m\u001b[37m\u001b[0m \u001b[1m1s\u001b[0m 17ms/step - accuracy: 0.9492 - loss: 0.1338 - val_accuracy: 0.7925 - val_loss: 0.5060\n",
      "Epoch 87/200\n",
      "\u001b[1m80/80\u001b[0m \u001b[32m━━━━━━━━━━━━━━━━━━━━\u001b[0m\u001b[37m\u001b[0m \u001b[1m1s\u001b[0m 16ms/step - accuracy: 0.9520 - loss: 0.1354 - val_accuracy: 0.7956 - val_loss: 0.5162\n",
      "Epoch 88/200\n",
      "\u001b[1m80/80\u001b[0m \u001b[32m━━━━━━━━━━━━━━━━━━━━\u001b[0m\u001b[37m\u001b[0m \u001b[1m1s\u001b[0m 17ms/step - accuracy: 0.9619 - loss: 0.1216 - val_accuracy: 0.7956 - val_loss: 0.5117\n",
      "Epoch 89/200\n",
      "\u001b[1m80/80\u001b[0m \u001b[32m━━━━━━━━━━━━━━━━━━━━\u001b[0m\u001b[37m\u001b[0m \u001b[1m1s\u001b[0m 16ms/step - accuracy: 0.9568 - loss: 0.1202 - val_accuracy: 0.7830 - val_loss: 0.5156\n",
      "Epoch 90/200\n",
      "\u001b[1m80/80\u001b[0m \u001b[32m━━━━━━━━━━━━━━━━━━━━\u001b[0m\u001b[37m\u001b[0m \u001b[1m1s\u001b[0m 15ms/step - accuracy: 0.9474 - loss: 0.1289 - val_accuracy: 0.7940 - val_loss: 0.5317\n",
      "Epoch 91/200\n",
      "\u001b[1m80/80\u001b[0m \u001b[32m━━━━━━━━━━━━━━━━━━━━\u001b[0m\u001b[37m\u001b[0m \u001b[1m1s\u001b[0m 17ms/step - accuracy: 0.9501 - loss: 0.1310 - val_accuracy: 0.7877 - val_loss: 0.5180\n",
      "Epoch 92/200\n",
      "\u001b[1m80/80\u001b[0m \u001b[32m━━━━━━━━━━━━━━━━━━━━\u001b[0m\u001b[37m\u001b[0m \u001b[1m1s\u001b[0m 16ms/step - accuracy: 0.9547 - loss: 0.1285 - val_accuracy: 0.7987 - val_loss: 0.5180\n",
      "Epoch 93/200\n",
      "\u001b[1m80/80\u001b[0m \u001b[32m━━━━━━━━━━━━━━━━━━━━\u001b[0m\u001b[37m\u001b[0m \u001b[1m1s\u001b[0m 17ms/step - accuracy: 0.9561 - loss: 0.1205 - val_accuracy: 0.7956 - val_loss: 0.5436\n",
      "Epoch 94/200\n",
      "\u001b[1m80/80\u001b[0m \u001b[32m━━━━━━━━━━━━━━━━━━━━\u001b[0m\u001b[37m\u001b[0m \u001b[1m1s\u001b[0m 16ms/step - accuracy: 0.9606 - loss: 0.1152 - val_accuracy: 0.7830 - val_loss: 0.5465\n",
      "Epoch 95/200\n",
      "\u001b[1m80/80\u001b[0m \u001b[32m━━━━━━━━━━━━━━━━━━━━\u001b[0m\u001b[37m\u001b[0m \u001b[1m1s\u001b[0m 17ms/step - accuracy: 0.9556 - loss: 0.1229 - val_accuracy: 0.7987 - val_loss: 0.5366\n",
      "Epoch 96/200\n",
      "\u001b[1m80/80\u001b[0m \u001b[32m━━━━━━━━━━━━━━━━━━━━\u001b[0m\u001b[37m\u001b[0m \u001b[1m1s\u001b[0m 17ms/step - accuracy: 0.9610 - loss: 0.1110 - val_accuracy: 0.7925 - val_loss: 0.5312\n",
      "Epoch 97/200\n",
      "\u001b[1m80/80\u001b[0m \u001b[32m━━━━━━━━━━━━━━━━━━━━\u001b[0m\u001b[37m\u001b[0m \u001b[1m1s\u001b[0m 15ms/step - accuracy: 0.9717 - loss: 0.1034 - val_accuracy: 0.7987 - val_loss: 0.5558\n",
      "Epoch 98/200\n",
      "\u001b[1m80/80\u001b[0m \u001b[32m━━━━━━━━━━━━━━━━━━━━\u001b[0m\u001b[37m\u001b[0m \u001b[1m1s\u001b[0m 17ms/step - accuracy: 0.9615 - loss: 0.1110 - val_accuracy: 0.7940 - val_loss: 0.5391\n",
      "Epoch 99/200\n",
      "\u001b[1m80/80\u001b[0m \u001b[32m━━━━━━━━━━━━━━━━━━━━\u001b[0m\u001b[37m\u001b[0m \u001b[1m1s\u001b[0m 17ms/step - accuracy: 0.9507 - loss: 0.1256 - val_accuracy: 0.7925 - val_loss: 0.5600\n",
      "Epoch 100/200\n",
      "\u001b[1m80/80\u001b[0m \u001b[32m━━━━━━━━━━━━━━━━━━━━\u001b[0m\u001b[37m\u001b[0m \u001b[1m1s\u001b[0m 15ms/step - accuracy: 0.9552 - loss: 0.1227 - val_accuracy: 0.7893 - val_loss: 0.5468\n",
      "Epoch 101/200\n",
      "\u001b[1m80/80\u001b[0m \u001b[32m━━━━━━━━━━━━━━━━━━━━\u001b[0m\u001b[37m\u001b[0m \u001b[1m1s\u001b[0m 16ms/step - accuracy: 0.9621 - loss: 0.1095 - val_accuracy: 0.7972 - val_loss: 0.5686\n",
      "Epoch 102/200\n",
      "\u001b[1m80/80\u001b[0m \u001b[32m━━━━━━━━━━━━━━━━━━━━\u001b[0m\u001b[37m\u001b[0m \u001b[1m1s\u001b[0m 16ms/step - accuracy: 0.9682 - loss: 0.1046 - val_accuracy: 0.7893 - val_loss: 0.5640\n",
      "Epoch 103/200\n",
      "\u001b[1m80/80\u001b[0m \u001b[32m━━━━━━━━━━━━━━━━━━━━\u001b[0m\u001b[37m\u001b[0m \u001b[1m1s\u001b[0m 17ms/step - accuracy: 0.9653 - loss: 0.1067 - val_accuracy: 0.7925 - val_loss: 0.5713\n",
      "Epoch 104/200\n",
      "\u001b[1m80/80\u001b[0m \u001b[32m━━━━━━━━━━━━━━━━━━━━\u001b[0m\u001b[37m\u001b[0m \u001b[1m1s\u001b[0m 16ms/step - accuracy: 0.9656 - loss: 0.1035 - val_accuracy: 0.7893 - val_loss: 0.5603\n",
      "Epoch 105/200\n",
      "\u001b[1m80/80\u001b[0m \u001b[32m━━━━━━━━━━━━━━━━━━━━\u001b[0m\u001b[37m\u001b[0m \u001b[1m1s\u001b[0m 17ms/step - accuracy: 0.9676 - loss: 0.1068 - val_accuracy: 0.7846 - val_loss: 0.5660\n",
      "Epoch 106/200\n",
      "\u001b[1m80/80\u001b[0m \u001b[32m━━━━━━━━━━━━━━━━━━━━\u001b[0m\u001b[37m\u001b[0m \u001b[1m1s\u001b[0m 16ms/step - accuracy: 0.9688 - loss: 0.1037 - val_accuracy: 0.7972 - val_loss: 0.5505\n",
      "Epoch 106: early stopping\n",
      "Restoring model weights from the end of the best epoch: 26.\n"
     ]
    }
   ],
   "source": [
    "history = transformer_ctx_pos_emb.fit(X_train_f, y_train_f, epochs=200, batch_size=32, validation_data=(X_val_f, y_val_f), callbacks=[early_stopping])"
   ]
  },
  {
   "cell_type": "code",
   "execution_count": 207,
   "metadata": {},
   "outputs": [
    {
     "data": {
      "image/png": "[encoded data removed]",
      "text/plain": [
       "<Figure size 1000x600 with 1 Axes>"
      ]
     },
     "metadata": {},
     "output_type": "display_data"
    }
   ],
   "source": [
    "plt.figure(figsize=(10, 6))\n",
    "plt.plot(history.history['val_accuracy'], label='Precisión de validación')\n",
    "plt.plot(history.history['val_loss'], label= 'Función de pérdida en validación')\n",
    "plt.axvline(x=np.argmax(history.history['val_accuracy']), color='r', linestyle='-', linewidth=1, label='Early Stopping Mejor modelo')\n",
    "plt.xlabel('Épocas')\n",
    "plt.ylabel('Precisión y Pérdida')\n",
    "plt.legend()\n",
    "plt.show()"
   ]
  },
  {
   "cell_type": "code",
   "execution_count": 208,
   "metadata": {},
   "outputs": [
    {
     "name": "stdout",
     "output_type": "stream",
     "text": [
      "\u001b[1m25/25\u001b[0m \u001b[32m━━━━━━━━━━━━━━━━━━━━\u001b[0m\u001b[37m\u001b[0m \u001b[1m0s\u001b[0m 7ms/step - accuracy: 0.8237 - loss: 0.3733\n"
     ]
    },
    {
     "name": "stderr",
     "output_type": "stream",
     "text": [
      "WARNING:absl:You are saving your model as an HDF5 file via `model.save()` or `keras.saving.save_model(model)`. This file format is considered legacy. We recommend using instead the native Keras format, e.g. `model.save('my_model.keras')` or `keras.saving.save_model(model, 'my_model.keras')`. \n"
     ]
    },
    {
     "name": "stdout",
     "output_type": "stream",
     "text": [
      "Test Accuracy: 0.8138364553451538\n",
      "Test Loss: 0.4019136130809784\n"
     ]
    }
   ],
   "source": [
    "test_loss, test_acc = transformer_ctx_pos_emb.evaluate(X_test_padded, y_test)\n",
    "print(f\"Test Accuracy: {test_acc}\")\n",
    "print(f\"Test Loss: {test_loss}\")\n",
    "\n",
    "# Guardamos el modelo entrenado\n",
    "transformer_ctx_pos_emb.save('../models/transformer_embed_contextuales_y_pos.h5')"
   ]
  },
  {
   "cell_type": "markdown",
   "metadata": {},
   "source": [
    "**E6:** ¿Por qué parece que la mejora de utilizar la información posicional no es muy significativa? ¿a qué se podría deber?\n",
    "\n",
    "**Como he contestado con anterioridad, creo que se debe al propio problema en sí ya que, no es tan importante la posición en la que se encuentran los aminoácidos sino las relaciones que establecen entre ellos.**\n",
    "\n",
    "**Hay que tener en cuenta que algunas propiedades de los péptidos dependen más de la composición de los aminoácidos o de interacciones específicas entre ciertos residuos que de su posición en la secuencia.**\n",
    "\n",
    "\n",
    "**E7:** Ajusta los hiperparámetros del modelo en E5 y el LSTM bidireccional del E4 de la Sesión 2 hasta obtener una configuración óptima para cada modelo. ¿Qué modelo consigue un mejor funcionamiento? ¿qué puedes decir sobre el entrenamiento de ambos modelos? \n",
    "\n",
    "**Parece que la LSTM bidireccional consigue obtener un mejor funcionamiento a la hora de resolver la tarea, obtiene un accuracy de validación del 86% mientras que el Transformer consigue un 83.33%.**\n",
    "\n",
    "**Sobre el entrenamiento podemos decir que el Transformer se entrena mucho más rápido debido a que puede paralelizar el entrenamiento al poder procesar las secuencias de tokens completas mientras que la LSTM tiene que procesar los tokens de manera secuencial.**"
   ]
  },
  {
   "cell_type": "markdown",
   "metadata": {},
   "source": [
    "**Ajuste de hiperparámetros del Transformer:**"
   ]
  },
  {
   "cell_type": "code",
   "execution_count": 216,
   "metadata": {},
   "outputs": [],
   "source": [
    "from tensorflow.keras.layers import GlobalMaxPooling1D\n",
    "from tensorflow.keras.optimizers import Adam\n",
    "import keras_tuner as kt"
   ]
  },
  {
   "cell_type": "code",
   "execution_count": 211,
   "metadata": {},
   "outputs": [
    {
     "name": "stdout",
     "output_type": "stream",
     "text": [
      "Trial 52 Complete [00h 00m 23s]\n",
      "val_accuracy: 0.8317610025405884\n",
      "\n",
      "Best val_accuracy So Far: 0.8333333134651184\n",
      "Total elapsed time: 00h 05m 03s\n",
      "Mejores hiperparámetros Transformer: {'embed_dim': 32, 'num_heads': 6, 'ff_dim': 64, 'learning_rate': 0.001, 'tuner/epochs': 17, 'tuner/initial_epoch': 6, 'tuner/bracket': 3, 'tuner/round': 2, 'tuner/trial_id': '0035'}\n"
     ]
    }
   ],
   "source": [
    "# Definimos el modelo Transformer con hiperparámetros ajustables\n",
    "def build_transformer_model(hp):\n",
    "    inputs = Input(shape=(max_len,))\n",
    "    embedding_layer = MyPositionalEmbedding(\n",
    "        vocab_size, \n",
    "        hp.Choice('embed_dim', values=[16, 32]), \n",
    "        max_len\n",
    "    )(inputs)\n",
    "    \n",
    "    transformer_encoder = MyTransformerEncoder(\n",
    "        embed_dim=hp.Choice('embed_dim', values=[16, 32]),  \n",
    "        num_heads=hp.Choice('num_heads', values=[2, 4, 6]), \n",
    "        ff_dim=hp.Int('ff_dim', min_value=32, max_value=64, step=32)\n",
    "    )(embedding_layer)\n",
    "\n",
    "    pooling = GlobalMaxPooling1D()(transformer_encoder)\n",
    "    outputs = Dense(1, activation='sigmoid')(pooling)\n",
    "\n",
    "    model = Model(inputs, outputs)\n",
    "    model.compile(\n",
    "        optimizer=Adam(hp.Choice('learning_rate', values=[1e-3, 5e-4, 1e-4])),\n",
    "        loss=\"binary_crossentropy\",\n",
    "        metrics=[\"accuracy\"]\n",
    "    )\n",
    "    \n",
    "    return model\n",
    "\n",
    "# Configuramos el tuner\n",
    "tuner_transformer = kt.Hyperband(\n",
    "    build_transformer_model,\n",
    "    objective='val_accuracy',\n",
    "    max_epochs=50,\n",
    "    factor=3,\n",
    "    directory='tuner_results',\n",
    "    project_name='transformer_tuning'\n",
    ")\n",
    "\n",
    "\n",
    "# Ejecutar búsqueda de hiperparámetros\n",
    "tuner_transformer.search(X_train_f, y_train_f, epochs=50, validation_data=(X_val_f, y_val_f), callbacks=[keras.callbacks.EarlyStopping(monitor='val_accuracy', patience=10)])\n",
    "\n",
    "# Obtener mejores hiperparámetros\n",
    "best_hps_transformer = tuner_transformer.get_best_hyperparameters()[0]\n",
    "print(\"Mejores hiperparámetros Transformer:\", best_hps_transformer.values)\n"
   ]
  },
  {
   "cell_type": "markdown",
   "metadata": {},
   "source": [
    "**Ajuste de hiperparámetros del modelo LSTM bidireccional:**"
   ]
  },
  {
   "cell_type": "code",
   "execution_count": 212,
   "metadata": {},
   "outputs": [
    {
     "name": "stdout",
     "output_type": "stream",
     "text": [
      "Trial 89 Complete [00h 04m 21s]\n",
      "val_accuracy: 0.8537735939025879\n",
      "\n",
      "Best val_accuracy So Far: 0.8600628972053528\n",
      "Total elapsed time: 05h 50m 16s\n",
      "Mejores hiperparámetros LSTM: {'embed_dim': 64, 'lstm_units': 128, 'dense_units': 64, 'learning_rate': 0.001, 'tuner/epochs': 50, 'tuner/initial_epoch': 17, 'tuner/bracket': 3, 'tuner/round': 3, 'tuner/trial_id': '0048'}\n"
     ]
    }
   ],
   "source": [
    "# Definimos el modelo LSTM con hiperparámetros ajustables\n",
    "def build_lstm_model(hp):\n",
    "    model = Sequential([\n",
    "        Embedding(\n",
    "            input_dim=vocab_size, \n",
    "            output_dim=hp.Choice('embed_dim', values=[16, 32, 64]), \n",
    "            mask_zero=True\n",
    "        ),\n",
    "        Bidirectional(LSTM(\n",
    "            units=hp.Int('lstm_units', min_value=32, max_value=128, step=32), \n",
    "            return_sequences=False\n",
    "        )),\n",
    "        Dense(hp.Int('dense_units', min_value=32, max_value=64, step=32), activation='relu'),\n",
    "        Dense(1, activation='sigmoid')\n",
    "    ])\n",
    "\n",
    "    model.compile(\n",
    "        optimizer=Adam(hp.Choice('learning_rate', values=[1e-3, 5e-4, 1e-4])),\n",
    "        loss='binary_crossentropy',\n",
    "        metrics=['accuracy']\n",
    "    )\n",
    "    return model\n",
    "\n",
    "\n",
    "\n",
    "# Configuramos el tuner\n",
    "tuner_lstm = kt.Hyperband(\n",
    "    build_lstm_model,\n",
    "    objective='val_accuracy',\n",
    "    max_epochs=50,\n",
    "    factor=3,\n",
    "    directory='tuner_results',\n",
    "    project_name='lstm_tuning'\n",
    ")\n",
    "\n",
    "# Ejecutar búsqueda de hiperparámetros\n",
    "tuner_lstm.search(X_train_f, y_train_f, epochs=50, validation_data=(X_val_f, y_val_f), callbacks=[keras.callbacks.EarlyStopping(monitor='val_accuracy', patience=10)])\n",
    "\n",
    "# Obtener mejores hiperparámetros\n",
    "best_hps_lstm = tuner_lstm.get_best_hyperparameters()[0]\n",
    "print(\"Mejores hiperparámetros LSTM:\", best_hps_lstm.values)"
   ]
  }
 ],
 "metadata": {
  "kernelspec": {
   "display_name": "dl_env",
   "language": "python",
   "name": "python3"
  },
  "language_info": {
   "codemirror_mode": {
    "name": "ipython",
    "version": 3
   },
   "file_extension": ".py",
   "mimetype": "text/x-python",
   "name": "python",
   "nbconvert_exporter": "python",
   "pygments_lexer": "ipython3",
   "version": "3.9.21"
  }
 },
 "nbformat": 4,
 "nbformat_minor": 2
}
