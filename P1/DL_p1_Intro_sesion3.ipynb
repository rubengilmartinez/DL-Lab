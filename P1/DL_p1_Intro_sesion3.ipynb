{
 "cells": [
  {
   "cell_type": "markdown",
   "id": "fb7193a0",
   "metadata": {
    "papermill": {
     "duration": 0.034817,
     "end_time": "2024-09-10T18:50:25.913835",
     "exception": false,
     "start_time": "2024-09-10T18:50:25.879018",
     "status": "completed"
    },
    "tags": []
   },
   "source": [
    "<style>\n",
    "    pre {\n",
    "        white-space: pre-wrap;\n",
    "        word-wrap: break-word;\n",
    "    }\n",
    "</style>\n",
    "\n",
    "<div style=\"display:flex; justify-content:space-around; align-items:center; background-color:#cccccc; padding:5px; border:2px solid #333333;\">\n",
    "    <a href=\"https://estudios.upct.es/grado/5251/inicio\" target=\"_blank\">\n",
    "    <img src=\"https://www.upct.es/contenido/universidad/galeria/identidad-2021/logos/logos-upct/marca-upct/marca-principal/horizontal/azul.png\" alt=\"UPCT\" style=\"height:145px; width:auto;\">\n",
    "    <a href=\"https://www.um.es/web/estudios/grados/ciencia-ingenieria-datos/\" target=\"_blank\">\n",
    "    <img src=\"https://www.um.es/documents/1073494/42130150/LogosimboloUMU-positivo.png\" alt=\"UMU\" style=\"height:200px; width:auto;\">\n",
    "</div>"
   ]
  },
  {
   "cell_type": "markdown",
   "id": "eb30c905",
   "metadata": {
    "papermill": {
     "duration": 0.006835,
     "end_time": "2024-09-10T18:50:25.928004",
     "exception": false,
     "start_time": "2024-09-10T18:50:25.921169",
     "status": "completed"
    },
    "tags": []
   },
   "source": [
    "# Asignatura: **Deep Learning**\n",
    "\n",
    "## Titulación: **Grado en Ciencia e Ingeniería de Datos**\n",
    "\n",
    "## Práctica 1: Introducción al Deep Learning\n",
    "### **Sesión 3/3: Redes neuronales preentrenadas**\n",
    "\n",
    "**Autores**: Juan Morales Sánchez, Antonio Martínez Sánchez, José Luís Sancho Gómez y Juan Antonio Botía Blaya\n",
    "\n",
    "___\n",
    "\n",
    "### Objetivos\n",
    "\n",
    "   - Familiarizarse con el *Transfer Learning*\n",
    "   - Emplear redes neuronales preentrenadas en la práctica\n",
    "   - Comparar distintos enfoques de reentrenamiento\n",
    "   - Evaluar la eficacia y el coste computacional de las diferentes estrategias\n",
    "\n",
    "### Contenidos\n",
    "- [Aprendizaje por transferencia](#transferencia)\n",
    "- [Red preentrenada como extractor de características](#extractor)\n",
    "- [Ajuste fino de una red preentrenada (*Fine-Tuning*)](#fino)\n",
    "- [Entrenamiento desde cero de un modelo profundo](#cero)\n",
    "- [Ejercicios](#ejercicios)\n",
    "\n",
    "### Bibliografía\n",
    "- [Deep Learning with Python (segunda edición)](https://www.manning.com/books/deep-learning-with-python-second-edition)\n",
    "- [Dive into Deep Learning](https://d2l.ai/)\n",
    "\n",
    "### Requisitos\n",
    "<a class='anchor' id='requisitos'></a>\n",
    "\n",
    "Se trabajará con notebooks de [Jupyter](https://jupyter.org/install) con código Python empleando como intérprete la última versión de [Miniconda](https://docs.anaconda.com/miniconda/). Se requiere la preinstalación (se recomienda utilizar [pip](https://pypi.org/project/pip/)) de los siguientes paquetes de Python:\n",
    "\n",
    "- [Numpy](https://pypi.org/project/numpy/) (computación numérica)\n",
    "- [Scipy](https://pypi.org/project/scipy/) (computación científica)\n",
    "- [Scikit-learn](https://pypi.org/project/scikit-learn/) (*Machine Learning*)\n",
    "- [Scikit-image](https://pypi.org/project/scikit-image/) (*Image Processing*)\n",
    "- [Matplotlib](https://pypi.org/project/matplotlib/) y [Seaborn](https://pypi.org/project/seaborn/) (visualización de datos)\n",
    "- [Tensorflow](https://www.tensorflow.org/) 2.x que incluye a [Keras](https://www.tensorflow.org/guide/keras) 2.x (*Deep Learning*)"
   ]
  },
  {
   "cell_type": "markdown",
   "id": "0a902005",
   "metadata": {},
   "source": [
    "<div style=\"page-break-before: always;\"></div>\n",
    "\n",
    "<a class='anchor' id='transferencia'></a>\n",
    "\n",
    "## Aprendizaje por transferencia\n",
    "\n",
    "El aprendizaje por transferencia (*Transfer Learning*) es una técnica en el aprendizaje automático que reutiliza un modelo previamente entrenado en un conjunto de datos grande para resolver un problema relacionado pero diferente. Esta técnica es especialmente útil cuando no se dispone de suficientes datos o recursos para entrenar un modelo desde cero.\n",
    "\n",
    "En el aprendizaje por transferencia, el conocimiento adquirido por un modelo al resolver una tarea (por ejemplo, clasificar imágenes en el conjunto ImageNet) se transfiere para abordar un nuevo problema. Esto se logra reutilizando las características aprendidas por las capas del modelo preentrenado y ajustando algunas partes (o todas) del modelo para adaptarse a la nueva tarea.\n",
    "\n",
    "Utilizar una red preentrenada permite ahorrar tiempo y recursos computacionales al aprovechar el conocimiento previamente adquirido por estos modelos, que ya han sido entrenados en grandes conjuntos de datos (como ImageNet para visión por computador o modelos de lenguaje como GPT).\n",
    "\n",
    "Existen 3 formas básicas de implementar el aprendizaje por transferencia para aprovechar una red preentrenada:\n",
    "\n",
    "- Uso directo (sin modificaciones): La red preentrenada se usa \"tal cual\" para resolver tareas similares al conjunto de datos original sin necesidad de reentrenar. Se utiliza el modelo completo con su capa de salida original. Solo se hacen predicciones directamente con nuevos datos. Se trata de una situación poco habitual, que ocurre cuando el conjunto de datos de test es similar al conjunto de datos de entrenamiento del modelo original.\n",
    "\n",
    "- Extracción de características: En este enfoque, la red preentrenada actúa como un extractor de características. Se utiliza la red preentrenada para procesar datos de entrada y obtener representaciones abstractas, que luego se utilizan como entrada para otro modelo más sencillo que concluye con la tarea objetivo.\n",
    "\n",
    "- Ajuste fino (*Fine-Tuning*): Este enfoque consiste en reutilizar una red preentrenada y ajustar los pesos de algunas o todas las capas mediante un nuevo proceso de entrenamiento para sesgar el aprendizaje hacia nuestro conjunto de datos.\n",
    "\n",
    "Veamos a continuación de forma práctica cómo aprovechar el *Transfer Learning* y los modelos preentrenados para mejorar la eficiencia del entrenamiento y la generalización del modelo. Para ello en primer lugar cargaremos el conjunto de datos [piedra-papel-tijeras](https://www.tensorflow.org/datasets/catalog/rock_paper_scissors), que se utiliza para probar clasificadores:"
   ]
  },
  {
   "cell_type": "code",
   "execution_count": null,
   "id": "ec619720",
   "metadata": {},
   "outputs": [
    {
     "name": "stdout",
     "output_type": "stream",
     "text": [
      "Imágenes cargadas: (2520, 96, 96, 3), Etiquetas: (2520,)\n"
     ]
    }
   ],
   "source": [
    "import os\n",
    "import numpy as np\n",
    "import matplotlib.pyplot as plt\n",
    "from tensorflow.keras.preprocessing.image import load_img, img_to_array\n",
    "\n",
    "# Descargar el conjunto de entrenamiento del dataset rock-paper-scissors\n",
    "\n",
    "# Ruta base donde están las imágenes\n",
    "base_dir = \"../data/rps\"\n",
    "\n",
    "# Definir clases (nombres de carpetas)\n",
    "class_names = ['rock', 'paper', 'scissors']\n",
    "\n",
    "# Inicializar listas para imágenes y etiquetas\n",
    "images = []\n",
    "labels = []\n",
    "\n",
    "# Cargar imágenes desde cada carpeta de clase\n",
    "for label, class_name in enumerate(class_names):\n",
    "    class_dir = os.path.join(base_dir, class_name)  # Ruta de la clase\n",
    "    for img_file in os.listdir(class_dir):  # Iterar sobre las imágenes de la clase\n",
    "        img_path = os.path.join(class_dir, img_file)\n",
    "        img = load_img(img_path, target_size=(96, 96))   # Redimensionar imágenes\n",
    "        img_array = img_to_array(img) / 127.5 - 1.0      # Normalizar a [-1, 1]\n",
    "        \n",
    "        images.append(img_array)\n",
    "        labels.append(label)\n",
    "\n",
    "# Convertir listas a NumPy arrays\n",
    "images = np.array(images)\n",
    "labels = np.array(labels)\n",
    "\n",
    "# Verificar dimensiones de datos cargados\n",
    "print(f\"Imágenes cargadas: {images.shape}, Etiquetas: {labels.shape}\")\n",
    "\n",
    "x_train, y_train = images, labels\n"
   ]
  },
  {
   "cell_type": "code",
   "execution_count": 13,
   "id": "bb48da32",
   "metadata": {},
   "outputs": [
    {
     "name": "stdout",
     "output_type": "stream",
     "text": [
      "Imágenes cargadas: (372, 96, 96, 3), Etiquetas: (372,)\n"
     ]
    }
   ],
   "source": [
    "# Descargar el conjunto de test del dataset rock-paper-scissors\n",
    "# Ruta base donde están las imágenes\n",
    "base_dir = \"../data/rps-test-set\"\n",
    "\n",
    "# Definir clases (nombres de carpetas)\n",
    "class_names = ['rock', 'paper', 'scissors']\n",
    "\n",
    "# Inicializar listas para imágenes y etiquetas\n",
    "images = []\n",
    "labels = []\n",
    "\n",
    "# Cargar imágenes desde cada carpeta de clase\n",
    "for label, class_name in enumerate(class_names):\n",
    "    class_dir = os.path.join(base_dir, class_name)  # Ruta de la clase\n",
    "    for img_file in os.listdir(class_dir):  # Iterar sobre las imágenes de la clase\n",
    "        img_path = os.path.join(class_dir, img_file)\n",
    "        img = load_img(img_path, target_size=(96, 96))   # Redimensionar imágenes\n",
    "        img_array = img_to_array(img) / 127.5 - 1.0      # Normalizar a [-1, 1]\n",
    "        \n",
    "        images.append(img_array)\n",
    "        labels.append(label)\n",
    "\n",
    "# Convertir listas a NumPy arrays\n",
    "images = np.array(images)\n",
    "labels = np.array(labels)\n",
    "\n",
    "# Verificar dimensiones de datos cargados\n",
    "print(f\"Imágenes cargadas: {images.shape}, Etiquetas: {labels.shape}\")\n",
    "\n",
    "x_test, y_test = images, labels\n"
   ]
  },
  {
   "cell_type": "markdown",
   "id": "0e1ad2a2",
   "metadata": {},
   "source": [
    "<a class='anchor' id='extractor'></a>\n",
    "\n",
    "## Red preentrenada como extractor de características\n",
    "\n",
    "Este enfoque resulta útil cuando el **conjunto de datos disponible es pequeño o diferente** del conjunto de datos original de entrenamiento. Para aplicarlo se eliminan las capas finales del modelo (por ejemplo, la capa original de clasificación), y se conservan congeladas las capas restantes, generarán características representativas de los datos de entrada. Estas características alimentan la entrada de un nuevo clasificador/regresor final, cuyo entrenamiento se encarga de concluir la tarea.\n",
    "\n",
    "En este ejemplo emplearemos la red [MobileNetV3Small](https://www.tensorflow.org/api_docs/python/tf/keras/applications/MobileNetV3Small) (versión minimalista), que ha sido preentenada con el conjunto de datos [ImageNet](https://image-net.org/download.php).\n",
    "\n",
    "Habitualmente se emplean capas (de menor a mayor complejidad) ``GlobalAveragePooling2D``, ``Flatten`` o ``Dense`` como conexión entre ambos modelos, dependiendo de la cantidad de datos disponibles y de la complejidad del modelo deseado.\n",
    "\n",
    "Observe que en este ejemplo de clasificación sobre un conjunto de datos sencillo como el [piedra-papel-tijeras](https://www.tensorflow.org/datasets/catalog/rock_paper_scissors) se alcanza fácilmente una buena clasificación."
   ]
  },
  {
   "cell_type": "code",
   "execution_count": null,
   "id": "2d02521d",
   "metadata": {},
   "outputs": [
    {
     "name": "stderr",
     "output_type": "stream",
     "text": [
      "c:\\Users\\ruben\\miniconda3\\envs\\dl_env\\lib\\site-packages\\keras\\src\\applications\\mobilenet_v3.py:452: UserWarning: `input_shape` is undefined or non-square, or `rows` is not 224. Weights for input shape (224, 224) will be loaded as the default.\n",
      "  return MobileNetV3(\n"
     ]
    },
    {
     "name": "stdout",
     "output_type": "stream",
     "text": [
      "Downloading data from https://storage.googleapis.com/tensorflow/keras-applications/mobilenet_v3/weights_mobilenet_v3_small_minimalistic_224_1.0_float_no_top_v2.h5\n",
      "\u001b[1m2128592/2128592\u001b[0m \u001b[32m━━━━━━━━━━━━━━━━━━━━\u001b[0m\u001b[37m\u001b[0m \u001b[1m1s\u001b[0m 0us/step\n"
     ]
    },
    {
     "data": {
      "text/html": [
       "<pre style=\"white-space:pre;overflow-x:auto;line-height:normal;font-family:Menlo,'DejaVu Sans Mono',consolas,'Courier New',monospace\"><span style=\"font-weight: bold\">Model: \"sequential\"</span>\n",
       "</pre>\n"
      ],
      "text/plain": [
       "\u001b[1mModel: \"sequential\"\u001b[0m\n"
      ]
     },
     "metadata": {},
     "output_type": "display_data"
    },
    {
     "data": {
      "text/html": [
       "<pre style=\"white-space:pre;overflow-x:auto;line-height:normal;font-family:Menlo,'DejaVu Sans Mono',consolas,'Courier New',monospace\">┏━━━━━━━━━━━━━━━━━━━━━━━━━━━━━━━━━┳━━━━━━━━━━━━━━━━━━━━━━━━┳━━━━━━━━━━━━━━━┓\n",
       "┃<span style=\"font-weight: bold\"> Layer (type)                    </span>┃<span style=\"font-weight: bold\"> Output Shape           </span>┃<span style=\"font-weight: bold\">       Param # </span>┃\n",
       "┡━━━━━━━━━━━━━━━━━━━━━━━━━━━━━━━━━╇━━━━━━━━━━━━━━━━━━━━━━━━╇━━━━━━━━━━━━━━━┩\n",
       "│ MobileNetV3Small (<span style=\"color: #0087ff; text-decoration-color: #0087ff\">Functional</span>)   │ (<span style=\"color: #00d7ff; text-decoration-color: #00d7ff\">None</span>, <span style=\"color: #00af00; text-decoration-color: #00af00\">3</span>, <span style=\"color: #00af00; text-decoration-color: #00af00\">3</span>, <span style=\"color: #00af00; text-decoration-color: #00af00\">576</span>)      │       <span style=\"color: #00af00; text-decoration-color: #00af00\">441,000</span> │\n",
       "├─────────────────────────────────┼────────────────────────┼───────────────┤\n",
       "│ global_average_pooling2d        │ (<span style=\"color: #00d7ff; text-decoration-color: #00d7ff\">None</span>, <span style=\"color: #00af00; text-decoration-color: #00af00\">576</span>)            │             <span style=\"color: #00af00; text-decoration-color: #00af00\">0</span> │\n",
       "│ (<span style=\"color: #0087ff; text-decoration-color: #0087ff\">GlobalAveragePooling2D</span>)        │                        │               │\n",
       "├─────────────────────────────────┼────────────────────────┼───────────────┤\n",
       "│ dense (<span style=\"color: #0087ff; text-decoration-color: #0087ff\">Dense</span>)                   │ (<span style=\"color: #00d7ff; text-decoration-color: #00d7ff\">None</span>, <span style=\"color: #00af00; text-decoration-color: #00af00\">128</span>)            │        <span style=\"color: #00af00; text-decoration-color: #00af00\">73,856</span> │\n",
       "├─────────────────────────────────┼────────────────────────┼───────────────┤\n",
       "│ dense_1 (<span style=\"color: #0087ff; text-decoration-color: #0087ff\">Dense</span>)                 │ (<span style=\"color: #00d7ff; text-decoration-color: #00d7ff\">None</span>, <span style=\"color: #00af00; text-decoration-color: #00af00\">3</span>)              │           <span style=\"color: #00af00; text-decoration-color: #00af00\">387</span> │\n",
       "└─────────────────────────────────┴────────────────────────┴───────────────┘\n",
       "</pre>\n"
      ],
      "text/plain": [
       "┏━━━━━━━━━━━━━━━━━━━━━━━━━━━━━━━━━┳━━━━━━━━━━━━━━━━━━━━━━━━┳━━━━━━━━━━━━━━━┓\n",
       "┃\u001b[1m \u001b[0m\u001b[1mLayer (type)                   \u001b[0m\u001b[1m \u001b[0m┃\u001b[1m \u001b[0m\u001b[1mOutput Shape          \u001b[0m\u001b[1m \u001b[0m┃\u001b[1m \u001b[0m\u001b[1m      Param #\u001b[0m\u001b[1m \u001b[0m┃\n",
       "┡━━━━━━━━━━━━━━━━━━━━━━━━━━━━━━━━━╇━━━━━━━━━━━━━━━━━━━━━━━━╇━━━━━━━━━━━━━━━┩\n",
       "│ MobileNetV3Small (\u001b[38;5;33mFunctional\u001b[0m)   │ (\u001b[38;5;45mNone\u001b[0m, \u001b[38;5;34m3\u001b[0m, \u001b[38;5;34m3\u001b[0m, \u001b[38;5;34m576\u001b[0m)      │       \u001b[38;5;34m441,000\u001b[0m │\n",
       "├─────────────────────────────────┼────────────────────────┼───────────────┤\n",
       "│ global_average_pooling2d        │ (\u001b[38;5;45mNone\u001b[0m, \u001b[38;5;34m576\u001b[0m)            │             \u001b[38;5;34m0\u001b[0m │\n",
       "│ (\u001b[38;5;33mGlobalAveragePooling2D\u001b[0m)        │                        │               │\n",
       "├─────────────────────────────────┼────────────────────────┼───────────────┤\n",
       "│ dense (\u001b[38;5;33mDense\u001b[0m)                   │ (\u001b[38;5;45mNone\u001b[0m, \u001b[38;5;34m128\u001b[0m)            │        \u001b[38;5;34m73,856\u001b[0m │\n",
       "├─────────────────────────────────┼────────────────────────┼───────────────┤\n",
       "│ dense_1 (\u001b[38;5;33mDense\u001b[0m)                 │ (\u001b[38;5;45mNone\u001b[0m, \u001b[38;5;34m3\u001b[0m)              │           \u001b[38;5;34m387\u001b[0m │\n",
       "└─────────────────────────────────┴────────────────────────┴───────────────┘\n"
      ]
     },
     "metadata": {},
     "output_type": "display_data"
    },
    {
     "data": {
      "text/html": [
       "<pre style=\"white-space:pre;overflow-x:auto;line-height:normal;font-family:Menlo,'DejaVu Sans Mono',consolas,'Courier New',monospace\"><span style=\"font-weight: bold\"> Total params: </span><span style=\"color: #00af00; text-decoration-color: #00af00\">515,243</span> (1.97 MB)\n",
       "</pre>\n"
      ],
      "text/plain": [
       "\u001b[1m Total params: \u001b[0m\u001b[38;5;34m515,243\u001b[0m (1.97 MB)\n"
      ]
     },
     "metadata": {},
     "output_type": "display_data"
    },
    {
     "data": {
      "text/html": [
       "<pre style=\"white-space:pre;overflow-x:auto;line-height:normal;font-family:Menlo,'DejaVu Sans Mono',consolas,'Courier New',monospace\"><span style=\"font-weight: bold\"> Trainable params: </span><span style=\"color: #00af00; text-decoration-color: #00af00\">74,243</span> (290.01 KB)\n",
       "</pre>\n"
      ],
      "text/plain": [
       "\u001b[1m Trainable params: \u001b[0m\u001b[38;5;34m74,243\u001b[0m (290.01 KB)\n"
      ]
     },
     "metadata": {},
     "output_type": "display_data"
    },
    {
     "data": {
      "text/html": [
       "<pre style=\"white-space:pre;overflow-x:auto;line-height:normal;font-family:Menlo,'DejaVu Sans Mono',consolas,'Courier New',monospace\"><span style=\"font-weight: bold\"> Non-trainable params: </span><span style=\"color: #00af00; text-decoration-color: #00af00\">441,000</span> (1.68 MB)\n",
       "</pre>\n"
      ],
      "text/plain": [
       "\u001b[1m Non-trainable params: \u001b[0m\u001b[38;5;34m441,000\u001b[0m (1.68 MB)\n"
      ]
     },
     "metadata": {},
     "output_type": "display_data"
    },
    {
     "name": "stdout",
     "output_type": "stream",
     "text": [
      "Epoch 1/5\n",
      "\u001b[1m71/71\u001b[0m \u001b[32m━━━━━━━━━━━━━━━━━━━━\u001b[0m\u001b[37m\u001b[0m \u001b[1m7s\u001b[0m 47ms/step - accuracy: 0.8046 - loss: 0.6499 - val_accuracy: 0.9841 - val_loss: 0.1344\n",
      "Epoch 2/5\n",
      "\u001b[1m71/71\u001b[0m \u001b[32m━━━━━━━━━━━━━━━━━━━━\u001b[0m\u001b[37m\u001b[0m \u001b[1m2s\u001b[0m 28ms/step - accuracy: 0.9989 - loss: 0.0098 - val_accuracy: 0.9524 - val_loss: 0.1685\n",
      "Epoch 3/5\n",
      "\u001b[1m71/71\u001b[0m \u001b[32m━━━━━━━━━━━━━━━━━━━━\u001b[0m\u001b[37m\u001b[0m \u001b[1m2s\u001b[0m 26ms/step - accuracy: 1.0000 - loss: 0.0041 - val_accuracy: 0.9683 - val_loss: 0.1085\n",
      "Epoch 4/5\n",
      "\u001b[1m71/71\u001b[0m \u001b[32m━━━━━━━━━━━━━━━━━━━━\u001b[0m\u001b[37m\u001b[0m \u001b[1m2s\u001b[0m 25ms/step - accuracy: 1.0000 - loss: 0.0021 - val_accuracy: 0.9643 - val_loss: 0.1106\n",
      "Epoch 5/5\n",
      "\u001b[1m71/71\u001b[0m \u001b[32m━━━━━━━━━━━━━━━━━━━━\u001b[0m\u001b[37m\u001b[0m \u001b[1m2s\u001b[0m 26ms/step - accuracy: 1.0000 - loss: 0.0014 - val_accuracy: 0.9603 - val_loss: 0.1076\n",
      "\u001b[1m12/12\u001b[0m \u001b[32m━━━━━━━━━━━━━━━━━━━━\u001b[0m\u001b[37m\u001b[0m \u001b[1m0s\u001b[0m 27ms/step - accuracy: 0.8808 - loss: 0.4818\n",
      "Precisión en datos de validación: 0.81\n",
      "\u001b[1m12/12\u001b[0m \u001b[32m━━━━━━━━━━━━━━━━━━━━\u001b[0m\u001b[37m\u001b[0m \u001b[1m0s\u001b[0m 27ms/step - accuracy: 0.8808 - loss: 0.4818\n",
      "Pérdida: 0.7340483069419861, Exactitud: 0.8091397881507874\n",
      "\u001b[1m12/12\u001b[0m \u001b[32m━━━━━━━━━━━━━━━━━━━━\u001b[0m\u001b[37m\u001b[0m \u001b[1m2s\u001b[0m 101ms/step\n",
      "\u001b[1m12/12\u001b[0m \u001b[32m━━━━━━━━━━━━━━━━━━━━\u001b[0m\u001b[37m\u001b[0m \u001b[1m0s\u001b[0m 25ms/step\n"
     ]
    },
    {
     "data": {
      "image/png": "[encoded data removed]",
      "text/plain": [
       "<Figure size 500x400 with 2 Axes>"
      ]
     },
     "metadata": {},
     "output_type": "display_data"
    },
    {
     "name": "stdout",
     "output_type": "stream",
     "text": [
      "              precision    recall  f1-score   support\n",
      "\n",
      "        rock       0.65      1.00      0.78       124\n",
      "       paper       1.00      0.52      0.68       124\n",
      "    scissors       0.97      0.91      0.94       124\n",
      "\n",
      "    accuracy                           0.81       372\n",
      "   macro avg       0.87      0.81      0.80       372\n",
      "weighted avg       0.87      0.81      0.80       372\n",
      "\n"
     ]
    }
   ],
   "source": [
    "# Ejemplo de uso de red preentrenada como extractor de características para construir un clasificador\n",
    "\n",
    "from tensorflow.keras import Sequential\n",
    "from tensorflow.keras.applications import MobileNetV3Small\n",
    "from tensorflow.keras.layers import Dense, GlobalAveragePooling2D\n",
    "import tensorflow as tf\n",
    "tf.keras.utils.set_random_seed(2025)  # experimentos reproducibles: fija semilla para python base, numpy and tf\n",
    "\n",
    "# Cargar el modelo preentrenado sin la capa superior\n",
    "base_model = MobileNetV3Small(weights='imagenet', include_top=False, input_shape=(96, 96, 3), include_preprocessing=False, minimalistic=True)\n",
    "\n",
    "# Congelar las capas del modelo base, solo se entrenarán las capas superiores que añadamos\n",
    "base_model.trainable = False\n",
    "\n",
    "# Añadir capas superiores personalizadas\n",
    "model = Sequential([\n",
    "    base_model, # Modelo base preentrenado de MobileNetV3Small\n",
    "    GlobalAveragePooling2D(),       # Capa de pooling global de media para reducir dimensiones\n",
    "    Dense(128, activation='relu'),  # Capa Fully Connected de 128 neuronas\n",
    "    Dense(3, activation='softmax')  # 3 clases: Rock, Paper, Scissors -> Capa de salida con activación Softmax para clasificación multiclase\n",
    "])\n",
    "\n",
    "# Compilar el modelo\n",
    "model.compile(optimizer='adam', loss='sparse_categorical_crossentropy', metrics=['accuracy'])\n",
    "model.summary()\n",
    "\n",
    "history = model.fit(\n",
    "    x_train, y_train,\n",
    "    validation_split=0.1,\n",
    "    # validation_data=(x_test, y_test),\n",
    "    batch_size=32,\n",
    "    epochs=5\n",
    ")\n",
    "\n",
    "# Evaluar el modelo en el conjunto de validación\n",
    "loss, accuracy = model.evaluate(x_test, y_test)\n",
    "print(f\"Precisión en datos de validación: {accuracy:.2f}\")\n",
    "\n",
    "# Evaluar el modelo en el conjunto de prueba\n",
    "loss, accuracy = model.evaluate(x_test, y_test)\n",
    "print(f\"Pérdida: {loss}, Exactitud: {accuracy}\")\n",
    "\n",
    "from sklearn.metrics import confusion_matrix, classification_report\n",
    "import seaborn as sns\n",
    "\n",
    "# Predicciones\n",
    "y_pred = np.argmax(model.predict(x_test), axis=-1)\n",
    "q =model.predict(x_test)\n",
    "\n",
    "# Matriz de confusión\n",
    "cm = confusion_matrix(y_test, y_pred)\n",
    "plt.figure(figsize=(5, 4))\n",
    "sns.heatmap(cm, annot=True, fmt='d', cmap='Blues', xticklabels=class_names, yticklabels=class_names)\n",
    "plt.title('Matriz de Confusión')\n",
    "plt.xlabel('Predicción')\n",
    "plt.ylabel('Etiqueta Verdadera')\n",
    "plt.show()\n",
    "\n",
    "# Reporte de métricas\n",
    "print(classification_report(y_test, y_pred, target_names=class_names))"
   ]
  },
  {
   "cell_type": "code",
   "execution_count": 20,
   "id": "f8b88c0b",
   "metadata": {},
   "outputs": [
    {
     "name": "stdout",
     "output_type": "stream",
     "text": [
      "102\n"
     ]
    }
   ],
   "source": [
    "print(len(base_model.layers))"
   ]
  },
  {
   "cell_type": "markdown",
   "id": "aa752dcc",
   "metadata": {},
   "source": [
    "<a class='anchor' id='fino'></a>\n",
    "\n",
    "## Ajuste fino de una red preentrenada (*Fine-Tuning*)\n",
    "\n",
    "Se suele optar por esta configuración cuando el **conjunto de datos disponible es moderado o tiene similitudes con el conjunto original** de entrenamiento. En este caso las primeras capas (que aprendieron características genéricas como bordes o texturas) se mantienen congeladas (o con una tasa de aprendizaje muy baja). Las capas superiores (que aprenderán características específicas del nuevo conjunto de datos) se descongelan y se reentrenan con los nuevos datos.\n",
    "\n",
    "Se puede usar de nuevo la red [MobileNetV3Small](https://www.tensorflow.org/api_docs/python/tf/keras/applications/MobileNetV3Small), preentenada con el conjunto de datos [ImageNet](https://image-net.org/download.php), para implementar el ajuste fino. A pesar de la diferencia conceptual respecto al apartado anterior, la implementación es muy similar."
   ]
  },
  {
   "cell_type": "markdown",
   "id": "1a539333",
   "metadata": {},
   "source": [
    "<a class='anchor' id='cero'></a>\n",
    "\n",
    "## Entrenamiento desde cero de un modelo profundo\n",
    "\n",
    "Para comparar las prestaciones, el coste computacional y el tiempo necesario para el entrenamiento, también es posible entrenar desde cero la red [MobileNetV3Small](https://www.tensorflow.org/api_docs/python/tf/keras/applications/MobileNetV3Small), que en este caso se encontrará completamente desentrenada. En este caso el entrenamiento exige aproximadamente 200 épocas como mínimo."
   ]
  },
  {
   "cell_type": "markdown",
   "id": "cd4a026e",
   "metadata": {},
   "source": [
    "<a class='anchor' id='ejercicios'></a>\n",
    "\n",
    "## Ejercicios\n",
    "\n",
    "**E1:** Partiendo del código proporcionado en el apartado previo referido al uso de redes preentrenadas como [extractores de características](#extractor), implemente el [ajuste fino de una red preentrenada](#fino), congelar las primeras 10 capas del modelo [MobileNetV3Small](https://www.tensorflow.org/api_docs/python/tf/keras/applications/MobileNetV3Small) preentrenado con [ImageNet](https://image-net.org/download.php), y permitiendo el reentrenamiento del resto de capas.\n",
    "\n",
    "1. Cambie el número de capas descongeladas en un rango razonable,y analice su influencia en tiempo y prestaciones. \n",
    "2. Repita los experimentos con un modelo un poco más complejo (``minimalistic=False``), y analice su influencia en tiempo y prestaciones.\n",
    "3. Añada [aumentación de datos](https://www.tensorflow.org/tutorials/images/data_augmentation) en las capas inferiores del modelo, al menos volteado horizontal y rotación aleatoria, y analice su influencia en tiempo y prestaciones.\n",
    "\n",
    "**E2:** Modifique nuevamente el código de partida con el modelo [MobileNetV3Small](https://www.tensorflow.org/api_docs/python/tf/keras/applications/MobileNetV3Small) para evaluar el [entrenamiento desde cero de un modelo profundo](#cero).\n",
    "\n",
    "1. Introduzca en los entrenamientos la [parada anticipada](https://www.tensorflow.org/api_docs/python/tf/keras/callbacks/EarlyStopping), para aliviar el tiempo de cómputo necesario.\n",
    "2. Elabore una tabla que compare cada una de las 3 soluciones (extractor de características, ajuste fino y entrenamiento desde cero), recogiendo el número de parámetros, número de épocas necesarias para el entrenamiento, tiempo de entrenamiento y las prestaciones generales en test.\n",
    "\n",
    "\n",
    "<!---\n",
    "**E4:** Partiendo del código proporcionado en el apartado previo referido al modelo [MobileNetV3Small](https://www.tensorflow.org/api_docs/python/tf/keras/applications/MobileNetV3Small) preentrenado con [ImageNet](https://image-net.org/download.php) como [extractores de características](#extractor), añada un análisis de validación cruzada [K-fold](https://scikit-learn.org/stable/modules/generated/sklearn.model_selection.KFold.html), así como la [parada anticipada](https://www.tensorflow.org/api_docs/python/tf/keras/callbacks/EarlyStopping) durante el entrenamiento de cada uno de los K modelos, para evitar el sobreentrenamiento. Realice experimentos con K = 5, y compare los resultados entre *folds*.\n",
    "-->\n"
   ]
  },
  {
   "cell_type": "code",
   "execution_count": null,
   "id": "e464d0cb",
   "metadata": {},
   "outputs": [],
   "source": []
  }
 ],
 "metadata": {
  "kernelspec": {
   "display_name": "dl_env",
   "language": "python",
   "name": "python3"
  },
  "language_info": {
   "codemirror_mode": {
    "name": "ipython",
    "version": 3
   },
   "file_extension": ".py",
   "mimetype": "text/x-python",
   "name": "python",
   "nbconvert_exporter": "python",
   "pygments_lexer": "ipython3",
   "version": "3.9.21"
  },
  "papermill": {
   "default_parameters": {},
   "duration": 14.503705,
   "end_time": "2024-09-10T18:50:39.408748",
   "environment_variables": {},
   "exception": null,
   "input_path": "./s02.ipynb",
   "output_path": "/home/rufernan/local/DOCENCIA/_2024_2025/C1_PI/PRACTICAS/s02/s02.ipynb",
   "parameters": {},
   "start_time": "2024-09-10T18:50:24.905043",
   "version": "2.6.0"
  }
 },
 "nbformat": 4,
 "nbformat_minor": 5
}
